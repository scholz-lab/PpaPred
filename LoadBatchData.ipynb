{
 "cells": [
  {
   "cell_type": "markdown",
   "id": "502a2406-35a7-4010-b898-9922addaeb70",
   "metadata": {},
   "source": [
    "#### Get data from batch.json files"
   ]
  },
  {
   "cell_type": "code",
   "execution_count": 11,
   "id": "63457829-ead7-4600-9c52-4dd897e9de6e",
   "metadata": {},
   "outputs": [],
   "source": [
    "import json\n",
    "import pandas as pd"
   ]
  },
  {
   "cell_type": "code",
   "execution_count": 4,
   "id": "9bcded3b-f82b-4545-9275-a401ffb59b24",
   "metadata": {},
   "outputs": [],
   "source": [
    "def load_data_from_keys(json_file, key):\n",
    "    def traverse_dict(d, key):\n",
    "        if isinstance(d, dict):\n",
    "            if key in d.keys():\n",
    "                return {key: d[key]}\n",
    "            else:\n",
    "                return {k: traverse_dict(v, key) for k, v in d.items()}\n",
    "        elif isinstance(d, list):\n",
    "            return [traverse_dict(x, key) for x in d]\n",
    "        else:\n",
    "            return d\n",
    "\n",
    "    with open(json_file, 'r') as f:\n",
    "        data = json.load(f)\n",
    "    nested_dict = traverse_dict(data, key)\n",
    "    return {(innerKey, outerKey): values for outerKey, innerDict in nested_dict.items() for innerKey, values in innerDict.items()} "
   ]
  },
  {
   "cell_type": "code",
   "execution_count": 6,
   "id": "4087826e-57e7-424a-ba25-c89efb358c2d",
   "metadata": {},
   "outputs": [],
   "source": [
    "ethos = load_data_from_keys('Exp1_WT_larvae_batch.json', 'ethogram')"
   ]
  },
  {
   "cell_type": "code",
   "execution_count": 20,
   "id": "99564d12-bd3e-4089-9fea-d73de8d83fa0",
   "metadata": {},
   "outputs": [],
   "source": [
    "yhat = pd.concat([pd.Series(d) for d in ethos.values()], axis=0)"
   ]
  },
  {
   "cell_type": "code",
   "execution_count": 25,
   "id": "14e28afe-19e8-4cf4-a638-0b3481f388d6",
   "metadata": {},
   "outputs": [],
   "source": [
    "transitions = pd.DataFrame(load_data_from_keys('Exp1_WT_larvae_batch.json', 'mean transitions')).droplevel(0, axis=1)"
   ]
  },
  {
   "cell_type": "code",
   "execution_count": null,
   "id": "74090956-52c8-4314-bb4a-4d2ad10234b2",
   "metadata": {},
   "outputs": [],
   "source": []
  }
 ],
 "metadata": {
  "kernelspec": {
   "display_name": "sklearn-env2",
   "language": "python",
   "name": "sklearn-env2"
  },
  "language_info": {
   "codemirror_mode": {
    "name": "ipython",
    "version": 3
   },
   "file_extension": ".py",
   "mimetype": "text/x-python",
   "name": "python",
   "nbconvert_exporter": "python",
   "pygments_lexer": "ipython3",
   "version": "3.8.15"
  }
 },
 "nbformat": 4,
 "nbformat_minor": 5
}
