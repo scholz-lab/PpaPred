{
 "cells": [
  {
   "cell_type": "code",
   "execution_count": 38,
   "id": "56d9a13f-3e7c-4b2a-9bde-aae043be2c00",
   "metadata": {},
   "outputs": [],
   "source": [
    "# lib imports\n",
    "import os\n",
    "import time\n",
    "import tqdm\n",
    "import sys\n",
    "import numpy as np\n",
    "import pandas as pd\n",
    "import matplotlib.pyplot as plt\n",
    "import yaml\n",
    "import json\n",
    "import joblib\n",
    "import sklearn\n",
    "from sklearn.impute import SimpleImputer\n",
    "from scipy.stats.contingency import crosstab\n",
    "import argparse\n",
    "from sklearn import preprocessing\n",
    "\n",
    "# custom imports\n",
    "sys.path.append(os.path.expanduser('~'))\n",
    "sys.path.append(os.getcwd())\n",
    "from functions.load_model import load_tolist\n",
    "import functions.process as proc\n",
    "from functions.io import setup_logger, makedir\n",
    "from functions.read_write import NpIntEncoder\n",
    "from functions import FeatureEngine\n",
    "from functions.plots_prediction import ethogram_plotter, CLtrajectory_plotter, transition_plotter\n",
    "import functions.algebra as al"
   ]
  },
  {
   "cell_type": "code",
   "execution_count": 75,
   "id": "b83f74c3-7943-4290-bb61-e45293516d88",
   "metadata": {
    "scrolled": true
   },
   "outputs": [
    {
     "name": "stderr",
     "output_type": "stream",
     "text": [
      "  0%|          | 0/136 [00:00<?, ?it/s]"
     ]
    },
    {
     "name": "stdout",
     "output_type": "stream",
     "text": [
      "feature calculation for L147_240523_L147_results_1.json_labeldata.csv\n",
      "Area larger than threshold, collision assumed in [range(7972, 7991), range(7992, 7996)].\n",
      "Calculation of features will be done in splits, ignoring those and adjacent* ranges. *That are less than 1 sec long.\n",
      "split 0, range: (0, 7972)\n",
      "Following frames seem to be tracked upside down\n",
      "We are going to flip those back:\n",
      "(array([6569, 6606, 6607, 6609]),)\n",
      "Ffill-Interpolation of nan frames\n"
     ]
    },
    {
     "name": "stderr",
     "output_type": "stream",
     "text": [
      "  1%|          | 1/136 [00:03<07:35,  3.37s/it]"
     ]
    },
    {
     "name": "stdout",
     "output_type": "stream",
     "text": [
      "\n",
      "\n",
      "feature calculation for L147_240523_L147_results_75.json_labeldata.csv\n",
      "Area larger than threshold, collision assumed in [range(2483, 2484), range(2485, 2487), range(2496, 2497), range(2500, 2501)].\n",
      "Calculation of features will be done in splits, ignoring those and adjacent* ranges. *That are less than 1 sec long.\n",
      "split 0, range: (0, 284)\n",
      "split 1, range: (317, 351)\n",
      "split 2, range: (363, 491)\n"
     ]
    },
    {
     "name": "stderr",
     "output_type": "stream",
     "text": [
      "/gpfs/soma_fs/home/boeger/PpaPred/functions/waveletTransform.py:84: RuntimeWarning: All-NaN slice encountered\n",
      "  thresh = thresh*np.nanmax(signal)\n",
      "/gpfs/soma_fs/home/boeger/PpaPred/functions/waveletTransform.py:84: RuntimeWarning: All-NaN slice encountered\n",
      "  thresh = thresh*np.nanmax(signal)\n",
      "/gpfs/soma_fs/home/boeger/PpaPred/functions/waveletTransform.py:84: RuntimeWarning: All-NaN slice encountered\n",
      "  thresh = thresh*np.nanmax(signal)\n",
      "/gpfs/soma_fs/home/boeger/PpaPred/functions/waveletTransform.py:84: RuntimeWarning: All-NaN slice encountered\n",
      "  thresh = thresh*np.nanmax(signal)\n",
      "/gpfs/soma_fs/home/boeger/PpaPred/functions/waveletTransform.py:84: RuntimeWarning: All-NaN slice encountered\n",
      "  thresh = thresh*np.nanmax(signal)\n"
     ]
    },
    {
     "name": "stdout",
     "output_type": "stream",
     "text": [
      "split 3, range: (495, 853)\n",
      "split 4, range: (854, 1931)\n",
      "Following frames seem to be tracked upside down\n",
      "We are going to flip those back:\n",
      "(array([777, 778]),)\n",
      "split 5, range: (1943, 2304)\n",
      "Worm seems to travel backwards the majority of time, flipped all centerlines to agree with forward travelling assumption\n",
      "split 6, range: (2308, 2477)\n",
      "Ffill-Interpolation of nan frames\n",
      "Exempted from interpolation: range(284, 317) (over 1 sec long)\n"
     ]
    },
    {
     "name": "stderr",
     "output_type": "stream",
     "text": [
      "  1%|▏         | 2/136 [00:05<05:26,  2.44s/it]"
     ]
    },
    {
     "name": "stdout",
     "output_type": "stream",
     "text": [
      "\n",
      "\n",
      "feature calculation for L147_240523_L147bis_results_151.json_labeldata.csv\n",
      "Area larger than threshold, collision assumed in [range(4216, 4217), range(4222, 4223)].\n",
      "Calculation of features will be done in splits, ignoring those and adjacent* ranges. *That are less than 1 sec long.\n",
      "split 0, range: (18, 49)\n",
      "Worm seems to travel backwards the majority of time, flipped all centerlines to agree with forward travelling assumption\n",
      "split 1, range: (54, 324)\n",
      "Worm seems to travel backwards the majority of time, flipped all centerlines to agree with forward travelling assumption\n",
      "split 2, range: (356, 496)\n",
      "Worm seems to travel backwards the majority of time, flipped all centerlines to agree with forward travelling assumption\n"
     ]
    },
    {
     "name": "stderr",
     "output_type": "stream",
     "text": [
      "/gpfs/soma_fs/home/boeger/PpaPred/functions/waveletTransform.py:84: RuntimeWarning: All-NaN slice encountered\n",
      "  thresh = thresh*np.nanmax(signal)\n",
      "/gpfs/soma_fs/home/boeger/PpaPred/functions/waveletTransform.py:84: RuntimeWarning: All-NaN slice encountered\n",
      "  thresh = thresh*np.nanmax(signal)\n",
      "/gpfs/soma_fs/home/boeger/PpaPred/functions/waveletTransform.py:84: RuntimeWarning: All-NaN slice encountered\n",
      "  thresh = thresh*np.nanmax(signal)\n",
      "/gpfs/soma_fs/home/boeger/PpaPred/functions/waveletTransform.py:84: RuntimeWarning: All-NaN slice encountered\n",
      "  thresh = thresh*np.nanmax(signal)\n",
      "/gpfs/soma_fs/home/boeger/PpaPred/functions/waveletTransform.py:84: RuntimeWarning: All-NaN slice encountered\n",
      "  thresh = thresh*np.nanmax(signal)\n"
     ]
    },
    {
     "name": "stdout",
     "output_type": "stream",
     "text": [
      "split 3, range: (509, 4216)\n",
      "Following frames seem to be tracked upside down\n",
      "We are going to flip those back:\n",
      "(array([3403, 3404, 3693, 3694]),)\n",
      "split 4, range: (4223, 8076)\n",
      "Following frames seem to be tracked upside down\n",
      "We are going to flip those back:\n",
      "(array([1705, 1707, 1710, 1873, 1909, 1919, 1920, 1927, 1929, 1931, 1983,\n",
      "       1984, 1985, 1986, 1987, 1988, 1989, 1991, 1994, 1995, 2159, 2411,\n",
      "       2412, 2413, 2414, 2415, 2416, 2419, 2420, 2447, 2479, 2491, 2492,\n",
      "       2493, 2494, 2495, 2496]),)\n",
      "Ffill-Interpolation of nan frames\n",
      "Exempted from interpolation: range(324, 356) (over 1 sec long)\n"
     ]
    },
    {
     "name": "stderr",
     "output_type": "stream",
     "text": [
      "  2%|▏         | 3/136 [00:08<06:47,  3.07s/it]"
     ]
    },
    {
     "name": "stdout",
     "output_type": "stream",
     "text": [
      "\n",
      "\n",
      "feature calculation for L147_240523_L147_results_49.json_labeldata.csv\n",
      "Area larger than threshold, collision assumed in [].\n",
      "Calculation of features will be done in splits, ignoring those and adjacent* ranges. *That are less than 1 sec long.\n",
      "split 0, range: (0, 1869)\n",
      "Ffill-Interpolation of nan frames\n",
      "Exempted from interpolation: range(1869, 1938) (over 1 sec long)\n"
     ]
    },
    {
     "name": "stderr",
     "output_type": "stream",
     "text": [
      "  3%|▎         | 4/136 [00:09<04:58,  2.26s/it]"
     ]
    },
    {
     "name": "stdout",
     "output_type": "stream",
     "text": [
      "\n",
      "\n",
      "feature calculation for L147_240523_L147_results_29.json_labeldata.csv\n",
      "Area larger than threshold, collision assumed in [range(142, 143), range(217, 238), range(531, 541), range(1981, 2003)].\n",
      "Calculation of features will be done in splits, ignoring those and adjacent* ranges. *That are less than 1 sec long.\n",
      "split 0, range: (45, 142)\n",
      "Worm seems to travel backwards the majority of time, flipped all centerlines to agree with forward travelling assumption\n",
      "split 1, range: (154, 192)\n",
      "Following frames seem to be tracked upside down\n",
      "We are going to flip those back:\n",
      "(array([15, 17, 20, 21, 22, 23, 24, 25, 26, 27, 28, 29, 30, 31, 32, 33, 34,\n",
      "       35, 36, 37]),)\n",
      "split 2, range: (238, 407)\n"
     ]
    },
    {
     "name": "stderr",
     "output_type": "stream",
     "text": [
      "/gpfs/soma_fs/home/boeger/PpaPred/functions/waveletTransform.py:84: RuntimeWarning: All-NaN slice encountered\n",
      "  thresh = thresh*np.nanmax(signal)\n",
      "/gpfs/soma_fs/home/boeger/PpaPred/functions/waveletTransform.py:84: RuntimeWarning: All-NaN slice encountered\n",
      "  thresh = thresh*np.nanmax(signal)\n",
      "/gpfs/soma_fs/home/boeger/PpaPred/functions/waveletTransform.py:84: RuntimeWarning: All-NaN slice encountered\n",
      "  thresh = thresh*np.nanmax(signal)\n"
     ]
    },
    {
     "name": "stdout",
     "output_type": "stream",
     "text": [
      "split 3, range: (452, 497)\n",
      "Following frames seem to be tracked upside down\n",
      "We are going to flip those back:\n",
      "(array([38]),)\n",
      "Worm seems to travel backwards the majority of time, flipped all centerlines to agree with forward travelling assumption\n",
      "split 4, range: (544, 730)\n",
      "Worm seems to travel backwards the majority of time, flipped all centerlines to agree with forward travelling assumption\n",
      "split 5, range: (754, 854)\n"
     ]
    },
    {
     "name": "stderr",
     "output_type": "stream",
     "text": [
      "/gpfs/soma_fs/home/boeger/PpaPred/functions/waveletTransform.py:84: RuntimeWarning: All-NaN slice encountered\n",
      "  thresh = thresh*np.nanmax(signal)\n",
      "/gpfs/soma_fs/home/boeger/PpaPred/functions/waveletTransform.py:84: RuntimeWarning: All-NaN slice encountered\n",
      "  thresh = thresh*np.nanmax(signal)\n",
      "/gpfs/soma_fs/home/boeger/PpaPred/functions/waveletTransform.py:84: RuntimeWarning: All-NaN slice encountered\n",
      "  thresh = thresh*np.nanmax(signal)\n",
      "/gpfs/soma_fs/home/boeger/PpaPred/functions/waveletTransform.py:84: RuntimeWarning: All-NaN slice encountered\n",
      "  thresh = thresh*np.nanmax(signal)\n",
      "/gpfs/soma_fs/home/boeger/PpaPred/functions/waveletTransform.py:84: RuntimeWarning: All-NaN slice encountered\n",
      "  thresh = thresh*np.nanmax(signal)\n"
     ]
    },
    {
     "name": "stdout",
     "output_type": "stream",
     "text": [
      "split 6, range: (880, 1726)\n",
      "split 7, range: (1733, 1962)\n",
      "split 8, range: (2037, 2151)\n",
      "Worm seems to travel backwards the majority of time, flipped all centerlines to agree with forward travelling assumption\n"
     ]
    },
    {
     "name": "stderr",
     "output_type": "stream",
     "text": [
      "/gpfs/soma_fs/home/boeger/PpaPred/functions/waveletTransform.py:84: RuntimeWarning: All-NaN slice encountered\n",
      "  thresh = thresh*np.nanmax(signal)\n",
      "  4%|▎         | 5/136 [00:11<04:24,  2.02s/it]"
     ]
    },
    {
     "name": "stdout",
     "output_type": "stream",
     "text": [
      "Ffill-Interpolation of nan frames\n",
      "Exempted from interpolation: range(0, 45) (over 1 sec long)\n",
      "Exempted from interpolation: range(192, 238) (over 1 sec long)\n",
      "Exempted from interpolation: range(407, 452) (over 1 sec long)\n",
      "Exempted from interpolation: range(497, 544) (over 1 sec long)\n",
      "Exempted from interpolation: range(1962, 2037) (over 1 sec long)\n",
      "\n",
      "\n",
      "feature calculation for L147_240523_L147_results_41.json_labeldata.csv\n",
      "Area larger than threshold, collision assumed in [range(56, 92), range(633, 635), range(648, 649), range(655, 674), range(3394, 3481), range(3490, 3492)].\n",
      "Calculation of features will be done in splits, ignoring those and adjacent* ranges. *That are less than 1 sec long.\n",
      "split 0, range: (92, 181)\n",
      "split 1, range: (184, 226)\n",
      "Worm seems to travel backwards the majority of time, flipped all centerlines to agree with forward travelling assumption\n",
      "split 2, range: (257, 633)\n",
      "Following frames seem to be tracked upside down\n",
      "We are going to flip those back:\n",
      "(array([370, 374]),)\n"
     ]
    },
    {
     "name": "stderr",
     "output_type": "stream",
     "text": [
      "/gpfs/soma_fs/home/boeger/PpaPred/functions/waveletTransform.py:84: RuntimeWarning: All-NaN slice encountered\n",
      "  thresh = thresh*np.nanmax(signal)\n",
      "/gpfs/soma_fs/home/boeger/PpaPred/functions/waveletTransform.py:84: RuntimeWarning: All-NaN slice encountered\n",
      "  thresh = thresh*np.nanmax(signal)\n",
      "/gpfs/soma_fs/home/boeger/PpaPred/functions/waveletTransform.py:84: RuntimeWarning: All-NaN slice encountered\n",
      "  thresh = thresh*np.nanmax(signal)\n"
     ]
    },
    {
     "name": "stdout",
     "output_type": "stream",
     "text": [
      "split 3, range: (693, 1103)\n",
      "split 4, range: (1123, 3029)\n",
      "Following frames seem to be tracked upside down\n",
      "We are going to flip those back:\n",
      "(array([ 161,  164,  165,  166,  167, 1056, 1094, 1095, 1096, 1097, 1098]),)\n",
      "split 5, range: (3100, 3133)\n",
      "Following frames seem to be tracked upside down\n",
      "We are going to flip those back:\n",
      "(array([32]),)\n",
      "Worm seems to travel backwards the majority of time, flipped all centerlines to agree with forward travelling assumption\n",
      "split 6, range: (3141, 3394)\n"
     ]
    },
    {
     "name": "stderr",
     "output_type": "stream",
     "text": [
      "/gpfs/soma_fs/home/boeger/PpaPred/functions/waveletTransform.py:84: RuntimeWarning: All-NaN slice encountered\n",
      "  thresh = thresh*np.nanmax(signal)\n",
      "/gpfs/soma_fs/home/boeger/PpaPred/functions/waveletTransform.py:84: RuntimeWarning: All-NaN slice encountered\n",
      "  thresh = thresh*np.nanmax(signal)\n"
     ]
    },
    {
     "name": "stdout",
     "output_type": "stream",
     "text": [
      "Ffill-Interpolation of nan frames\n",
      "Exempted from interpolation: range(0, 92) (over 1 sec long)\n",
      "Exempted from interpolation: range(226, 257) (over 1 sec long)\n",
      "Exempted from interpolation: range(633, 693) (over 1 sec long)\n",
      "Exempted from interpolation: range(3029, 3100) (over 1 sec long)\n",
      "Exempted from interpolation: range(3394, 3492) (over 1 sec long)\n"
     ]
    },
    {
     "name": "stderr",
     "output_type": "stream",
     "text": [
      "  4%|▍         | 6/136 [00:13<04:21,  2.01s/it]"
     ]
    },
    {
     "name": "stdout",
     "output_type": "stream",
     "text": [
      "\n",
      "\n",
      "feature calculation for L147_240523_L147_results_5.json_labeldata.csv\n",
      "Area larger than threshold, collision assumed in [].\n",
      "Calculation of features will be done in splits, ignoring those and adjacent* ranges. *That are less than 1 sec long.\n",
      "split 0, range: (0, 17999)\n",
      "Following frames seem to be tracked upside down\n",
      "We are going to flip those back:\n",
      "(array([   75,   105, 11419, 11422, 11423, 11424, 11425, 11429, 11430,\n",
      "       11441, 11444, 11445, 11446, 11447]),)\n",
      "Ffill-Interpolation of nan frames\n"
     ]
    },
    {
     "name": "stderr",
     "output_type": "stream",
     "text": [
      "  5%|▌         | 7/136 [00:21<08:15,  3.84s/it]"
     ]
    },
    {
     "name": "stdout",
     "output_type": "stream",
     "text": [
      "\n",
      "\n",
      "feature calculation for L147_240523_L147_results_2.json_labeldata.csv\n",
      "Area larger than threshold, collision assumed in [range(9035, 9040), range(9041, 9042), range(9061, 9066), range(14853, 14860), range(14863, 14864), range(14895, 14899), range(14954, 14970)].\n",
      "Calculation of features will be done in splits, ignoring those and adjacent* ranges. *That are less than 1 sec long.\n",
      "split 0, range: (0, 8038)\n",
      "split 1, range: (8039, 8662)\n",
      "Following frames seem to be tracked upside down\n",
      "We are going to flip those back:\n",
      "(array([620, 621, 622]),)\n",
      "split 2, range: (8663, 9035)\n",
      "Worm seems to travel backwards the majority of time, flipped all centerlines to agree with forward travelling assumption\n",
      "split 3, range: (9066, 14853)\n",
      "Following frames seem to be tracked upside down\n",
      "We are going to flip those back:\n",
      "(array([2906, 2907, 2908, 2909, 2910, 2911, 2989, 3037, 3038, 3039, 3480,\n",
      "       3481, 3482, 3483, 3484, 3485, 3486, 3487, 3490, 3497, 3854, 3866,\n",
      "       3867, 3868, 3871, 3872, 3877, 5062, 5063, 5064, 5065, 5078, 5782,\n",
      "       5783]),)\n",
      "split 4, range: (14864, 14895)\n",
      "Following frames seem to be tracked upside down\n",
      "We are going to flip those back:\n",
      "(array([ 1,  2,  3,  4,  5,  6, 16, 17, 18, 19, 26, 27, 28, 29, 30]),)\n",
      "Worm seems to travel backwards the majority of time, flipped all centerlines to agree with forward travelling assumption\n",
      "split 5, range: (14899, 14954)\n",
      "Following frames seem to be tracked upside down\n",
      "We are going to flip those back:\n",
      "(array([2, 3]),)\n",
      "Worm seems to travel backwards the majority of time, flipped all centerlines to agree with forward travelling assumption\n",
      "split 6, range: (14970, 17999)\n",
      "Following frames seem to be tracked upside down\n",
      "We are going to flip those back:\n",
      "(array([  11,   18,   19, ..., 3026, 3027, 3028]),)\n",
      "Worm seems to travel backwards the majority of time, flipped all centerlines to agree with forward travelling assumption\n"
     ]
    },
    {
     "name": "stderr",
     "output_type": "stream",
     "text": [
      "/gpfs/soma_fs/home/boeger/PpaPred/functions/waveletTransform.py:84: RuntimeWarning: All-NaN slice encountered\n",
      "  thresh = thresh*np.nanmax(signal)\n",
      "/gpfs/soma_fs/home/boeger/PpaPred/functions/waveletTransform.py:84: RuntimeWarning: All-NaN slice encountered\n",
      "  thresh = thresh*np.nanmax(signal)\n",
      "/gpfs/soma_fs/home/boeger/PpaPred/functions/waveletTransform.py:84: RuntimeWarning: All-NaN slice encountered\n",
      "  thresh = thresh*np.nanmax(signal)\n",
      "/gpfs/soma_fs/home/boeger/PpaPred/functions/waveletTransform.py:84: RuntimeWarning: All-NaN slice encountered\n",
      "  thresh = thresh*np.nanmax(signal)\n",
      "/gpfs/soma_fs/home/boeger/PpaPred/functions/waveletTransform.py:84: RuntimeWarning: All-NaN slice encountered\n",
      "  thresh = thresh*np.nanmax(signal)\n",
      "/gpfs/soma_fs/home/boeger/PpaPred/functions/waveletTransform.py:84: RuntimeWarning: All-NaN slice encountered\n",
      "  thresh = thresh*np.nanmax(signal)\n"
     ]
    },
    {
     "name": "stdout",
     "output_type": "stream",
     "text": [
      "Ffill-Interpolation of nan frames\n",
      "Exempted from interpolation: range(9035, 9066) (over 1 sec long)\n"
     ]
    },
    {
     "name": "stderr",
     "output_type": "stream",
     "text": [
      "  6%|▌         | 8/136 [00:29<11:01,  5.17s/it]"
     ]
    },
    {
     "name": "stdout",
     "output_type": "stream",
     "text": [
      "\n",
      "\n",
      "feature calculation for L147_240523_L147_results_3.json_labeldata.csv\n",
      "Area larger than threshold, collision assumed in [].\n",
      "Calculation of features will be done in splits, ignoring those and adjacent* ranges. *That are less than 1 sec long.\n",
      "split 0, range: (0, 17999)\n",
      "Following frames seem to be tracked upside down\n",
      "We are going to flip those back:\n",
      "(array([ 7046,  7047,  7048, ..., 17996, 17997, 17998]),)\n",
      "Worm seems to travel backwards the majority of time, flipped all centerlines to agree with forward travelling assumption\n",
      "Ffill-Interpolation of nan frames\n"
     ]
    },
    {
     "name": "stderr",
     "output_type": "stream",
     "text": [
      "  7%|▋         | 9/136 [00:36<12:36,  5.96s/it]"
     ]
    },
    {
     "name": "stdout",
     "output_type": "stream",
     "text": [
      "\n",
      "\n",
      "feature calculation for L147_240523_L147_results_37.json_labeldata.csv\n",
      "Area larger than threshold, collision assumed in [].\n",
      "Calculation of features will be done in splits, ignoring those and adjacent* ranges. *That are less than 1 sec long.\n",
      "split 0, range: (0, 1805)\n",
      "Following frames seem to be tracked upside down\n",
      "We are going to flip those back:\n",
      "(array([1246, 1247, 1261, 1263, 1264, 1265, 1266, 1267, 1268, 1269, 1278,\n",
      "       1280]),)\n"
     ]
    },
    {
     "name": "stderr",
     "output_type": "stream",
     "text": [
      "  7%|▋         | 10/136 [00:37<09:14,  4.40s/it]"
     ]
    },
    {
     "name": "stdout",
     "output_type": "stream",
     "text": [
      "Ffill-Interpolation of nan frames\n",
      "\n",
      "\n",
      "feature calculation for L147_240523_L147bis_results_166.json_labeldata.csv\n",
      "Area larger than threshold, collision assumed in [].\n",
      "Calculation of features will be done in splits, ignoring those and adjacent* ranges. *That are less than 1 sec long.\n",
      "split 0, range: (0, 6517)\n",
      "Following frames seem to be tracked upside down\n",
      "We are going to flip those back:\n",
      "(array([ 372,  373,  374, ..., 6514, 6515, 6516]),)\n",
      "Worm seems to travel backwards the majority of time, flipped all centerlines to agree with forward travelling assumption\n",
      "Ffill-Interpolation of nan frames\n"
     ]
    },
    {
     "name": "stderr",
     "output_type": "stream",
     "text": [
      "  8%|▊         | 11/136 [00:40<08:06,  3.89s/it]"
     ]
    },
    {
     "name": "stdout",
     "output_type": "stream",
     "text": [
      "\n",
      "\n",
      "feature calculation for L147_240523_L147_results_9.json_labeldata.csv\n",
      "Area larger than threshold, collision assumed in [].\n",
      "Calculation of features will be done in splits, ignoring those and adjacent* ranges. *That are less than 1 sec long.\n",
      "split 0, range: (0, 3889)\n",
      "Following frames seem to be tracked upside down\n",
      "We are going to flip those back:\n",
      "(array([ 306,  312,  313,  317, 2758, 2759]),)\n",
      "Ffill-Interpolation of nan frames\n"
     ]
    },
    {
     "name": "stderr",
     "output_type": "stream",
     "text": [
      "  9%|▉         | 12/136 [00:42<06:41,  3.24s/it]"
     ]
    },
    {
     "name": "stdout",
     "output_type": "stream",
     "text": [
      "\n",
      "\n",
      "feature calculation for L147_240523_L147_results_4.json_labeldata.csv\n",
      "Area larger than threshold, collision assumed in [].\n",
      "Calculation of features will be done in splits, ignoring those and adjacent* ranges. *That are less than 1 sec long.\n",
      "split 0, range: (0, 4383)\n",
      "Following frames seem to be tracked upside down\n",
      "We are going to flip those back:\n",
      "(array([ 164, 1584, 1800]),)\n",
      "Ffill-Interpolation of nan frames\n"
     ]
    },
    {
     "name": "stderr",
     "output_type": "stream",
     "text": [
      " 10%|▉         | 13/136 [00:44<05:49,  2.84s/it]"
     ]
    },
    {
     "name": "stdout",
     "output_type": "stream",
     "text": [
      "\n",
      "\n",
      "feature calculation for L147_240523_L147_results_67.json_labeldata.csv\n",
      "Area larger than threshold, collision assumed in [range(63, 64), range(65, 66), range(76, 77), range(304, 306), range(325, 334), range(646, 647), range(890, 894), range(1234, 1246), range(1251, 1283), range(1374, 1376), range(1377, 1378), range(1379, 1394), range(1397, 1398), range(1405, 1413), range(1414, 1415), range(1422, 1434)].\n",
      "Calculation of features will be done in splits, ignoring those and adjacent* ranges. *That are less than 1 sec long.\n",
      "split 0, range: (0, 63)\n",
      "split 1, range: (77, 304)\n",
      "split 2, range: (334, 646)\n"
     ]
    },
    {
     "name": "stderr",
     "output_type": "stream",
     "text": [
      "/gpfs/soma_fs/home/boeger/PpaPred/functions/waveletTransform.py:84: RuntimeWarning: All-NaN slice encountered\n",
      "  thresh = thresh*np.nanmax(signal)\n",
      "/gpfs/soma_fs/home/boeger/PpaPred/functions/waveletTransform.py:84: RuntimeWarning: All-NaN slice encountered\n",
      "  thresh = thresh*np.nanmax(signal)\n",
      "/gpfs/soma_fs/home/boeger/PpaPred/functions/waveletTransform.py:84: RuntimeWarning: All-NaN slice encountered\n",
      "  thresh = thresh*np.nanmax(signal)\n"
     ]
    },
    {
     "name": "stdout",
     "output_type": "stream",
     "text": [
      "split 3, range: (647, 890)\n",
      "split 4, range: (894, 967)\n"
     ]
    },
    {
     "name": "stderr",
     "output_type": "stream",
     "text": [
      "/gpfs/soma_fs/home/boeger/PpaPred/functions/waveletTransform.py:84: RuntimeWarning: All-NaN slice encountered\n",
      "  thresh = thresh*np.nanmax(signal)\n",
      "/gpfs/soma_fs/home/boeger/PpaPred/functions/waveletTransform.py:84: RuntimeWarning: All-NaN slice encountered\n",
      "  thresh = thresh*np.nanmax(signal)\n",
      "/gpfs/soma_fs/home/boeger/PpaPred/functions/waveletTransform.py:84: RuntimeWarning: All-NaN slice encountered\n",
      "  thresh = thresh*np.nanmax(signal)\n",
      "/gpfs/soma_fs/home/boeger/PpaPred/functions/waveletTransform.py:84: RuntimeWarning: All-NaN slice encountered\n",
      "  thresh = thresh*np.nanmax(signal)\n",
      "/gpfs/soma_fs/home/boeger/PpaPred/functions/waveletTransform.py:84: RuntimeWarning: All-NaN slice encountered\n",
      "  thresh = thresh*np.nanmax(signal)\n",
      "/gpfs/soma_fs/home/boeger/PpaPred/functions/waveletTransform.py:84: RuntimeWarning: All-NaN slice encountered\n",
      "  thresh = thresh*np.nanmax(signal)\n",
      "/gpfs/soma_fs/home/boeger/PpaPred/functions/waveletTransform.py:84: RuntimeWarning: All-NaN slice encountered\n",
      "  thresh = thresh*np.nanmax(signal)\n"
     ]
    },
    {
     "name": "stdout",
     "output_type": "stream",
     "text": [
      "split 5, range: (1021, 1099)\n",
      "Worm seems to travel backwards the majority of time, flipped all centerlines to agree with forward travelling assumption\n",
      "split 6, range: (1100, 1167)\n",
      "split 7, range: (1168, 1234)\n"
     ]
    },
    {
     "name": "stderr",
     "output_type": "stream",
     "text": [
      "/gpfs/soma_fs/home/boeger/PpaPred/functions/waveletTransform.py:84: RuntimeWarning: All-NaN slice encountered\n",
      "  thresh = thresh*np.nanmax(signal)\n",
      "/gpfs/soma_fs/home/boeger/PpaPred/functions/waveletTransform.py:84: RuntimeWarning: All-NaN slice encountered\n",
      "  thresh = thresh*np.nanmax(signal)\n",
      "/gpfs/soma_fs/home/boeger/PpaPred/functions/waveletTransform.py:84: RuntimeWarning: All-NaN slice encountered\n",
      "  thresh = thresh*np.nanmax(signal)\n",
      "/gpfs/soma_fs/home/boeger/PpaPred/functions/waveletTransform.py:84: RuntimeWarning: All-NaN slice encountered\n",
      "  thresh = thresh*np.nanmax(signal)\n",
      "/gpfs/soma_fs/home/boeger/PpaPred/functions/waveletTransform.py:84: RuntimeWarning: All-NaN slice encountered\n",
      "  thresh = thresh*np.nanmax(signal)\n",
      "/gpfs/soma_fs/home/boeger/PpaPred/functions/waveletTransform.py:84: RuntimeWarning: All-NaN slice encountered\n",
      "  thresh = thresh*np.nanmax(signal)\n"
     ]
    },
    {
     "name": "stdout",
     "output_type": "stream",
     "text": [
      "split 8, range: (1287, 1374)\n",
      "Worm seems to travel backwards the majority of time, flipped all centerlines to agree with forward travelling assumption\n",
      "split 9, range: (1474, 1544)\n",
      "Worm seems to travel backwards the majority of time, flipped all centerlines to agree with forward travelling assumption\n",
      "split 10, range: (1545, 1620)\n"
     ]
    },
    {
     "name": "stderr",
     "output_type": "stream",
     "text": [
      "/gpfs/soma_fs/home/boeger/PpaPred/functions/waveletTransform.py:84: RuntimeWarning: All-NaN slice encountered\n",
      "  thresh = thresh*np.nanmax(signal)\n",
      "/gpfs/soma_fs/home/boeger/PpaPred/functions/waveletTransform.py:84: RuntimeWarning: All-NaN slice encountered\n",
      "  thresh = thresh*np.nanmax(signal)\n",
      "/gpfs/soma_fs/home/boeger/PpaPred/functions/waveletTransform.py:84: RuntimeWarning: All-NaN slice encountered\n",
      "  thresh = thresh*np.nanmax(signal)\n",
      "/gpfs/soma_fs/home/boeger/PpaPred/functions/waveletTransform.py:84: RuntimeWarning: All-NaN slice encountered\n",
      "  thresh = thresh*np.nanmax(signal)\n"
     ]
    },
    {
     "name": "stdout",
     "output_type": "stream",
     "text": [
      "split 11, range: (1629, 2169)\n",
      "Ffill-Interpolation of nan frames\n",
      "Exempted from interpolation: range(967, 1021) (over 1 sec long)\n",
      "Exempted from interpolation: range(1234, 1287) (over 1 sec long)\n",
      "Exempted from interpolation: range(1374, 1474) (over 1 sec long)\n"
     ]
    },
    {
     "name": "stderr",
     "output_type": "stream",
     "text": [
      " 10%|█         | 14/136 [00:46<05:11,  2.55s/it]"
     ]
    },
    {
     "name": "stdout",
     "output_type": "stream",
     "text": [
      "\n",
      "\n",
      "feature calculation for L147_240523_L147_results_57.json_labeldata.csv\n",
      "Area larger than threshold, collision assumed in [].\n",
      "Calculation of features will be done in splits, ignoring those and adjacent* ranges. *That are less than 1 sec long.\n",
      "split 0, range: (0, 8343)\n",
      "Following frames seem to be tracked upside down\n",
      "We are going to flip those back:\n",
      "(array([2778, 2780, 2784, 2818, 5009, 5044]),)\n",
      "Ffill-Interpolation of nan frames\n"
     ]
    },
    {
     "name": "stderr",
     "output_type": "stream",
     "text": [
      " 11%|█         | 15/136 [00:49<05:49,  2.89s/it]"
     ]
    },
    {
     "name": "stdout",
     "output_type": "stream",
     "text": [
      "\n",
      "\n",
      "feature calculation for L147_240523_L147_results_42.json_labeldata.csv\n",
      "Area larger than threshold, collision assumed in [range(1352, 1353)].\n",
      "Calculation of features will be done in splits, ignoring those and adjacent* ranges. *That are less than 1 sec long.\n",
      "split 0, range: (0, 1087)\n"
     ]
    },
    {
     "name": "stderr",
     "output_type": "stream",
     "text": [
      "/gpfs/soma_fs/home/boeger/PpaPred/functions/waveletTransform.py:84: RuntimeWarning: All-NaN slice encountered\n",
      "  thresh = thresh*np.nanmax(signal)\n",
      "/gpfs/soma_fs/home/boeger/PpaPred/functions/waveletTransform.py:84: RuntimeWarning: All-NaN slice encountered\n",
      "  thresh = thresh*np.nanmax(signal)\n"
     ]
    },
    {
     "name": "stdout",
     "output_type": "stream",
     "text": [
      "split 1, range: (1125, 1352)\n",
      "split 2, range: (1353, 2349)\n",
      "Ffill-Interpolation of nan frames\n",
      "Exempted from interpolation: range(1087, 1125) (over 1 sec long)\n"
     ]
    },
    {
     "name": "stderr",
     "output_type": "stream",
     "text": [
      " 12%|█▏        | 16/136 [00:51<04:49,  2.41s/it]"
     ]
    },
    {
     "name": "stdout",
     "output_type": "stream",
     "text": [
      "\n",
      "\n",
      "feature calculation for L147_240523_L147bis_results_153.json_labeldata.csv\n",
      "Area larger than threshold, collision assumed in [].\n",
      "Calculation of features will be done in splits, ignoring those and adjacent* ranges. *That are less than 1 sec long.\n",
      "split 0, range: (0, 1641)\n",
      "split 1, range: (1665, 2898)\n",
      "Ffill-Interpolation of nan frames\n"
     ]
    },
    {
     "name": "stderr",
     "output_type": "stream",
     "text": [
      " 12%|█▎        | 17/136 [00:52<04:12,  2.13s/it]"
     ]
    },
    {
     "name": "stdout",
     "output_type": "stream",
     "text": [
      "\n",
      "\n",
      "feature calculation for L147_240523_L147_results_8.json_labeldata.csv\n",
      "Area larger than threshold, collision assumed in [].\n",
      "Calculation of features will be done in splits, ignoring those and adjacent* ranges. *That are less than 1 sec long.\n",
      "split 0, range: (0, 15221)\n",
      "Following frames seem to be tracked upside down\n",
      "We are going to flip those back:\n",
      "(array([ 3788,  3789,  3792, ..., 15218, 15219, 15220]),)\n",
      "Worm seems to travel backwards the majority of time, flipped all centerlines to agree with forward travelling assumption\n",
      "Ffill-Interpolation of nan frames\n"
     ]
    },
    {
     "name": "stderr",
     "output_type": "stream",
     "text": [
      " 13%|█▎        | 18/136 [00:58<06:43,  3.42s/it]"
     ]
    },
    {
     "name": "stdout",
     "output_type": "stream",
     "text": [
      "\n",
      "\n",
      "feature calculation for L147_240523_L147_results_51.json_labeldata.csv\n",
      "Area larger than threshold, collision assumed in [].\n",
      "Calculation of features will be done in splits, ignoring those and adjacent* ranges. *That are less than 1 sec long.\n",
      "split 0, range: (2, 10002)\n",
      "Following frames seem to be tracked upside down\n",
      "We are going to flip those back:\n",
      "(array([650, 997]),)\n",
      "Ffill-Interpolation of nan frames\n"
     ]
    },
    {
     "name": "stderr",
     "output_type": "stream",
     "text": [
      " 14%|█▍        | 19/136 [01:03<07:09,  3.67s/it]"
     ]
    },
    {
     "name": "stdout",
     "output_type": "stream",
     "text": [
      "\n",
      "\n",
      "feature calculation for L147_240417_L147_results_43.json_labeldata.csv\n",
      "Area larger than threshold, collision assumed in [].\n",
      "Calculation of features will be done in splits, ignoring those and adjacent* ranges. *That are less than 1 sec long.\n",
      "split 0, range: (0, 3150)\n",
      "split 1, range: (3159, 3208)\n",
      "Ffill-Interpolation of nan frames\n"
     ]
    },
    {
     "name": "stderr",
     "output_type": "stream",
     "text": [
      "/gpfs/soma_fs/home/boeger/PpaPred/functions/waveletTransform.py:84: RuntimeWarning: All-NaN slice encountered\n",
      "  thresh = thresh*np.nanmax(signal)\n",
      "/gpfs/soma_fs/home/boeger/PpaPred/functions/waveletTransform.py:84: RuntimeWarning: All-NaN slice encountered\n",
      "  thresh = thresh*np.nanmax(signal)\n",
      "/gpfs/soma_fs/home/boeger/PpaPred/functions/waveletTransform.py:84: RuntimeWarning: All-NaN slice encountered\n",
      "  thresh = thresh*np.nanmax(signal)\n",
      "/gpfs/soma_fs/home/boeger/PpaPred/functions/waveletTransform.py:84: RuntimeWarning: All-NaN slice encountered\n",
      "  thresh = thresh*np.nanmax(signal)\n",
      " 15%|█▍        | 20/136 [01:04<05:54,  3.05s/it]"
     ]
    },
    {
     "name": "stdout",
     "output_type": "stream",
     "text": [
      "\n",
      "\n",
      "feature calculation for L147_240417_L147_results_1.json_labeldata.csv\n",
      "Area larger than threshold, collision assumed in [].\n",
      "Calculation of features will be done in splits, ignoring those and adjacent* ranges. *That are less than 1 sec long.\n",
      "split 0, range: (0, 17999)\n",
      "Following frames seem to be tracked upside down\n",
      "We are going to flip those back:\n",
      "(array([  164,  2141,  2142,  3512,  3553, 16576]),)\n",
      "Ffill-Interpolation of nan frames\n"
     ]
    },
    {
     "name": "stderr",
     "output_type": "stream",
     "text": [
      " 15%|█▌        | 21/136 [01:12<08:24,  4.39s/it]"
     ]
    },
    {
     "name": "stdout",
     "output_type": "stream",
     "text": [
      "\n",
      "\n",
      "feature calculation for L147_240417_L147_results_5.json_labeldata.csv\n",
      "Area larger than threshold, collision assumed in [].\n",
      "Calculation of features will be done in splits, ignoring those and adjacent* ranges. *That are less than 1 sec long.\n",
      "split 0, range: (0, 17999)\n",
      "Ffill-Interpolation of nan frames\n"
     ]
    },
    {
     "name": "stderr",
     "output_type": "stream",
     "text": [
      " 16%|█▌        | 22/136 [01:19<10:09,  5.35s/it]"
     ]
    },
    {
     "name": "stdout",
     "output_type": "stream",
     "text": [
      "\n",
      "\n",
      "feature calculation for L147_240417_L147_results_3.json_labeldata.csv\n",
      "Area larger than threshold, collision assumed in [].\n",
      "Calculation of features will be done in splits, ignoring those and adjacent* ranges. *That are less than 1 sec long.\n",
      "split 0, range: (0, 61)\n",
      "split 1, range: (119, 895)\n",
      "Following frames seem to be tracked upside down\n",
      "We are going to flip those back:\n",
      "(array([335, 336, 337, 341, 342, 343]),)\n"
     ]
    },
    {
     "name": "stderr",
     "output_type": "stream",
     "text": [
      "/gpfs/soma_fs/home/boeger/PpaPred/functions/waveletTransform.py:84: RuntimeWarning: All-NaN slice encountered\n",
      "  thresh = thresh*np.nanmax(signal)\n",
      "/gpfs/soma_fs/home/boeger/PpaPred/functions/waveletTransform.py:84: RuntimeWarning: All-NaN slice encountered\n",
      "  thresh = thresh*np.nanmax(signal)\n",
      "/gpfs/soma_fs/home/boeger/PpaPred/functions/waveletTransform.py:84: RuntimeWarning: All-NaN slice encountered\n",
      "  thresh = thresh*np.nanmax(signal)\n"
     ]
    },
    {
     "name": "stdout",
     "output_type": "stream",
     "text": [
      "split 2, range: (941, 1776)\n",
      "split 3, range: (1791, 1879)\n",
      "Following frames seem to be tracked upside down\n",
      "We are going to flip those back:\n",
      "(array([82, 83]),)\n",
      "split 4, range: (1887, 7707)\n"
     ]
    },
    {
     "name": "stderr",
     "output_type": "stream",
     "text": [
      "/gpfs/soma_fs/home/boeger/PpaPred/functions/waveletTransform.py:84: RuntimeWarning: All-NaN slice encountered\n",
      "  thresh = thresh*np.nanmax(signal)\n",
      "/gpfs/soma_fs/home/boeger/PpaPred/functions/waveletTransform.py:84: RuntimeWarning: All-NaN slice encountered\n",
      "  thresh = thresh*np.nanmax(signal)\n",
      "/gpfs/soma_fs/home/boeger/PpaPred/functions/waveletTransform.py:84: RuntimeWarning: All-NaN slice encountered\n",
      "  thresh = thresh*np.nanmax(signal)\n"
     ]
    },
    {
     "name": "stdout",
     "output_type": "stream",
     "text": [
      "Ffill-Interpolation of nan frames\n",
      "Exempted from interpolation: range(61, 119) (over 1 sec long)\n",
      "Exempted from interpolation: range(895, 941) (over 1 sec long)\n"
     ]
    },
    {
     "name": "stderr",
     "output_type": "stream",
     "text": [
      " 17%|█▋        | 23/136 [01:23<09:07,  4.85s/it]"
     ]
    },
    {
     "name": "stdout",
     "output_type": "stream",
     "text": [
      "\n",
      "\n",
      "feature calculation for L147_240417_L147_results_17.json_labeldata.csv\n",
      "Area larger than threshold, collision assumed in [].\n",
      "Calculation of features will be done in splits, ignoring those and adjacent* ranges. *That are less than 1 sec long.\n",
      "split 0, range: (0, 1882)\n",
      "Following frames seem to be tracked upside down\n",
      "We are going to flip those back:\n",
      "(array([1436, 1439]),)\n"
     ]
    },
    {
     "name": "stderr",
     "output_type": "stream",
     "text": [
      " 18%|█▊        | 24/136 [01:24<06:50,  3.67s/it]"
     ]
    },
    {
     "name": "stdout",
     "output_type": "stream",
     "text": [
      "Ffill-Interpolation of nan frames\n",
      "\n",
      "\n",
      "feature calculation for L147_240417_L147_results_58.json_labeldata.csv\n",
      "Area larger than threshold, collision assumed in [].\n",
      "Calculation of features will be done in splits, ignoring those and adjacent* ranges. *That are less than 1 sec long.\n",
      "split 0, range: (0, 2613)\n",
      "Following frames seem to be tracked upside down\n",
      "We are going to flip those back:\n",
      "(array([ 722,  723,  724, ..., 2610, 2611, 2612]),)\n",
      "Ffill-Interpolation of nan frames\n"
     ]
    },
    {
     "name": "stderr",
     "output_type": "stream",
     "text": [
      " 18%|█▊        | 25/136 [01:25<05:26,  2.94s/it]"
     ]
    },
    {
     "name": "stdout",
     "output_type": "stream",
     "text": [
      "\n",
      "\n",
      "feature calculation for L147_240510_L147_results_3.json_labeldata.csv\n",
      "Area larger than threshold, collision assumed in [].\n",
      "Calculation of features will be done in splits, ignoring those and adjacent* ranges. *That are less than 1 sec long.\n",
      "split 0, range: (0, 1106)\n",
      "split 1, range: (1131, 3180)\n",
      "Following frames seem to be tracked upside down\n",
      "We are going to flip those back:\n",
      "(array([2035, 2041, 2045, 2046]),)\n",
      "split 2, range: (3182, 3276)\n",
      "Following frames seem to be tracked upside down\n",
      "We are going to flip those back:\n",
      "(array([10, 22, 28, 29, 30, 31, 58, 59, 60, 61, 62, 63, 64, 65, 66]),)\n",
      "split 3, range: (3277, 17984)\n",
      "Following frames seem to be tracked upside down\n",
      "We are going to flip those back:\n",
      "(array([   19,   176,   177,   178,   179,   180,   181,   182,   183,\n",
      "         184,   185,   186,   187,   188,   189,   190,   191,   369,\n",
      "         370,   371,   372,   373,   380,   381,   382,   383,   391,\n",
      "         392,   393,   394,   395,   396,  3895,  6226,  6227,  6228,\n",
      "        6229,  6230,  6231,  6232,  6234,  6235,  6237,  6238,  6239,\n",
      "        6240,  6241,  6242,  6243,  6244,  9080,  9081,  9479,  9480,\n",
      "        9481,  9482,  9483,  9484, 10908]),)\n"
     ]
    },
    {
     "name": "stderr",
     "output_type": "stream",
     "text": [
      "/gpfs/soma_fs/home/boeger/PpaPred/functions/waveletTransform.py:84: RuntimeWarning: All-NaN slice encountered\n",
      "  thresh = thresh*np.nanmax(signal)\n",
      "/gpfs/soma_fs/home/boeger/PpaPred/functions/waveletTransform.py:84: RuntimeWarning: All-NaN slice encountered\n",
      "  thresh = thresh*np.nanmax(signal)\n",
      "/gpfs/soma_fs/home/boeger/PpaPred/functions/waveletTransform.py:84: RuntimeWarning: All-NaN slice encountered\n",
      "  thresh = thresh*np.nanmax(signal)\n"
     ]
    },
    {
     "name": "stdout",
     "output_type": "stream",
     "text": [
      "Ffill-Interpolation of nan frames\n"
     ]
    },
    {
     "name": "stderr",
     "output_type": "stream",
     "text": [
      " 19%|█▉        | 26/136 [01:33<08:02,  4.39s/it]"
     ]
    },
    {
     "name": "stdout",
     "output_type": "stream",
     "text": [
      "\n",
      "\n",
      "feature calculation for L147_240510_L147_results_13.json_labeldata.csv\n",
      "Area larger than threshold, collision assumed in [].\n",
      "Calculation of features will be done in splits, ignoring those and adjacent* ranges. *That are less than 1 sec long.\n",
      "split 0, range: (0, 1777)\n",
      "split 1, range: (1794, 3477)\n",
      "split 2, range: (3488, 5081)\n",
      "split 3, range: (5083, 5514)\n",
      "Following frames seem to be tracked upside down\n",
      "We are going to flip those back:\n",
      "(array([344, 386, 387, 388, 389]),)\n",
      "Ffill-Interpolation of nan frames\n"
     ]
    },
    {
     "name": "stderr",
     "output_type": "stream",
     "text": [
      " 20%|█▉        | 27/136 [01:36<07:05,  3.90s/it]"
     ]
    },
    {
     "name": "stdout",
     "output_type": "stream",
     "text": [
      "\n",
      "\n",
      "feature calculation for L147_240510_L147_results_6.json_labeldata.csv\n",
      "Area larger than threshold, collision assumed in [].\n",
      "Calculation of features will be done in splits, ignoring those and adjacent* ranges. *That are less than 1 sec long.\n",
      "split 0, range: (0, 3594)\n",
      "Following frames seem to be tracked upside down\n",
      "We are going to flip those back:\n",
      "(array([1858, 1859, 1860, ..., 3591, 3592, 3593]),)\n",
      "Ffill-Interpolation of nan frames\n"
     ]
    },
    {
     "name": "stderr",
     "output_type": "stream",
     "text": [
      " 21%|██        | 28/136 [01:37<05:49,  3.23s/it]"
     ]
    },
    {
     "name": "stdout",
     "output_type": "stream",
     "text": [
      "\n",
      "\n",
      "feature calculation for L147_240510_L147_results_7.json_labeldata.csv\n",
      "Area larger than threshold, collision assumed in [].\n",
      "Calculation of features will be done in splits, ignoring those and adjacent* ranges. *That are less than 1 sec long.\n",
      "split 0, range: (0, 7423)\n",
      "Following frames seem to be tracked upside down\n",
      "We are going to flip those back:\n",
      "(array([3251, 3252, 3253, 3254, 3256, 3257, 3261, 3263, 3265]),)\n",
      "Ffill-Interpolation of nan frames\n"
     ]
    },
    {
     "name": "stderr",
     "output_type": "stream",
     "text": [
      " 21%|██▏       | 29/136 [01:41<05:44,  3.22s/it]"
     ]
    },
    {
     "name": "stdout",
     "output_type": "stream",
     "text": [
      "\n",
      "\n",
      "feature calculation for L147_240510_L147_results_35.json_labeldata.csv\n",
      "Area larger than threshold, collision assumed in [].\n",
      "Calculation of features will be done in splits, ignoring those and adjacent* ranges. *That are less than 1 sec long.\n",
      "split 0, range: (0, 5830)\n",
      "Following frames seem to be tracked upside down\n",
      "We are going to flip those back:\n",
      "(array([5496, 5497, 5498, 5499, 5500, 5501, 5502, 5503, 5504, 5505, 5506,\n",
      "       5507, 5508, 5509, 5510, 5511, 5512, 5513, 5514, 5515, 5516, 5517,\n",
      "       5518, 5519, 5520, 5521, 5522, 5523, 5524, 5525, 5526, 5527, 5528,\n",
      "       5529, 5530, 5531, 5532, 5533, 5534, 5535, 5536, 5537, 5538, 5539,\n",
      "       5540, 5541, 5542, 5543, 5544, 5545, 5546, 5547, 5548, 5549, 5550,\n",
      "       5551, 5552, 5553, 5554, 5555, 5556, 5557, 5558, 5559, 5560, 5561,\n",
      "       5562, 5563, 5564, 5565, 5566, 5567, 5568, 5569, 5570, 5571, 5572,\n",
      "       5573, 5574, 5575, 5576, 5577, 5578, 5579, 5580, 5581, 5582, 5583,\n",
      "       5584, 5585, 5586, 5587, 5588, 5589, 5590, 5591, 5592, 5593, 5594,\n",
      "       5595, 5596, 5597, 5598, 5599, 5600, 5601, 5602, 5603, 5604, 5605,\n",
      "       5606, 5607, 5608, 5609, 5610, 5611, 5612, 5613, 5614, 5615, 5616,\n",
      "       5617, 5618, 5619, 5620, 5621, 5622, 5623, 5624, 5625, 5626, 5627,\n",
      "       5628, 5629, 5630, 5631, 5632, 5633, 5634, 5635, 5636, 5637, 5638,\n",
      "       5639, 5640, 5641, 5642, 5643, 5644, 5645, 5646, 5647, 5648, 5649,\n",
      "       5650, 5651, 5652, 5653, 5654, 5655, 5656, 5657, 5658, 5659, 5660,\n",
      "       5661, 5662, 5663, 5664, 5665, 5666, 5667, 5668, 5669, 5670, 5671,\n",
      "       5672, 5673, 5674, 5675, 5676, 5677, 5678, 5679, 5680, 5681, 5682,\n",
      "       5683, 5684, 5685, 5686, 5687, 5688, 5689, 5690, 5691, 5692, 5693,\n",
      "       5694, 5695, 5696, 5697, 5698, 5699, 5700, 5701, 5702, 5703, 5704,\n",
      "       5705, 5706, 5707, 5708, 5709, 5710, 5711, 5712, 5713, 5714, 5715,\n",
      "       5716, 5717, 5718, 5719, 5720, 5721, 5722, 5723, 5724, 5725, 5726,\n",
      "       5727, 5728, 5729, 5730, 5731, 5732, 5733, 5734, 5735, 5736, 5737,\n",
      "       5738, 5739, 5740, 5741, 5742, 5743, 5744, 5745, 5746, 5747, 5748,\n",
      "       5749, 5750, 5751, 5752, 5753, 5754, 5755, 5756, 5757, 5758, 5759,\n",
      "       5760, 5761, 5762, 5763, 5764, 5765, 5766, 5767, 5768, 5769, 5770,\n",
      "       5771, 5772, 5773, 5774, 5775, 5776, 5777, 5778, 5779, 5780, 5781,\n",
      "       5782, 5783, 5784, 5785, 5786, 5787, 5788, 5789, 5790, 5791, 5792,\n",
      "       5793, 5794, 5795, 5796, 5797, 5798, 5799, 5800, 5801, 5802, 5803,\n",
      "       5804, 5805, 5806, 5807, 5808, 5809, 5810, 5811, 5812, 5813, 5814,\n",
      "       5815, 5816, 5817, 5818, 5819, 5820, 5821, 5822, 5823, 5824, 5825,\n",
      "       5826, 5827, 5828, 5829]),)\n",
      "Ffill-Interpolation of nan frames\n"
     ]
    },
    {
     "name": "stderr",
     "output_type": "stream",
     "text": [
      " 22%|██▏       | 30/136 [01:43<05:22,  3.04s/it]"
     ]
    },
    {
     "name": "stdout",
     "output_type": "stream",
     "text": [
      "\n",
      "\n",
      "feature calculation for L147_240510_L147_results_25.json_labeldata.csv\n",
      "Area larger than threshold, collision assumed in [].\n",
      "Calculation of features will be done in splits, ignoring those and adjacent* ranges. *That are less than 1 sec long.\n",
      "split 0, range: (0, 6924)\n",
      "Following frames seem to be tracked upside down\n",
      "We are going to flip those back:\n",
      "(array([4938]),)\n",
      "Ffill-Interpolation of nan frames\n"
     ]
    },
    {
     "name": "stderr",
     "output_type": "stream",
     "text": [
      " 23%|██▎       | 31/136 [01:47<05:27,  3.12s/it]"
     ]
    },
    {
     "name": "stdout",
     "output_type": "stream",
     "text": [
      "\n",
      "\n",
      "feature calculation for L147_240510_L147_results_31.json_labeldata.csv\n",
      "Area larger than threshold, collision assumed in [].\n",
      "Calculation of features will be done in splits, ignoring those and adjacent* ranges. *That are less than 1 sec long.\n",
      "split 0, range: (14, 3117)\n",
      "Ffill-Interpolation of nan frames\n"
     ]
    },
    {
     "name": "stderr",
     "output_type": "stream",
     "text": [
      " 24%|██▎       | 32/136 [01:48<04:30,  2.61s/it]"
     ]
    },
    {
     "name": "stdout",
     "output_type": "stream",
     "text": [
      "\n",
      "\n",
      "feature calculation for L147_240506_L147_results_283.json_labeldata.csv\n",
      "Area larger than threshold, collision assumed in [].\n",
      "Calculation of features will be done in splits, ignoring those and adjacent* ranges. *That are less than 1 sec long.\n",
      "split 0, range: (0, 2947)\n",
      "Ffill-Interpolation of nan frames\n"
     ]
    },
    {
     "name": "stderr",
     "output_type": "stream",
     "text": [
      " 24%|██▍       | 33/136 [01:49<03:52,  2.26s/it]"
     ]
    },
    {
     "name": "stdout",
     "output_type": "stream",
     "text": [
      "\n",
      "\n",
      "feature calculation for L147_240506_L147_results_281.json_labeldata.csv\n",
      "Area larger than threshold, collision assumed in [range(25, 26)].\n",
      "Calculation of features will be done in splits, ignoring those and adjacent* ranges. *That are less than 1 sec long.\n",
      "split 0, range: (26, 4085)\n",
      "Following frames seem to be tracked upside down\n",
      "We are going to flip those back:\n",
      "(array([ 199, 1172, 1173, ..., 4056, 4057, 4058]),)\n",
      "Ffill-Interpolation of nan frames\n"
     ]
    },
    {
     "name": "stderr",
     "output_type": "stream",
     "text": [
      " 25%|██▌       | 34/136 [01:51<03:38,  2.14s/it]"
     ]
    },
    {
     "name": "stdout",
     "output_type": "stream",
     "text": [
      "\n",
      "\n",
      "feature calculation for L147_240506_L147_results_4.json_labeldata.csv\n",
      "Area larger than threshold, collision assumed in [range(1, 3), range(12, 18), range(20, 21), range(23, 26), range(28, 31), range(32, 39), range(42, 85), range(93, 96), range(103, 105), range(106, 108), range(109, 110), range(111, 112), range(113, 131), range(132, 133), range(136, 142), range(143, 187), range(190, 191), range(192, 199), range(202, 205), range(207, 242), range(244, 245), range(246, 247), range(249, 254), range(255, 256), range(267, 268), range(269, 277), range(278, 280), range(281, 284), range(286, 287), range(289, 315), range(317, 329), range(330, 334), range(335, 336), range(341, 347), range(348, 349), range(357, 358), range(359, 369), range(370, 371), range(375, 384), range(398, 422), range(423, 424), range(426, 427), range(428, 429), range(431, 432)].\n",
      "Calculation of features will be done in splits, ignoring those and adjacent* ranges. *That are less than 1 sec long.\n",
      "split 0, range: (432, 2010)\n",
      "split 1, range: (2011, 2127)\n",
      "Worm seems to travel backwards the majority of time, flipped all centerlines to agree with forward travelling assumption\n",
      "split 2, range: (2128, 2510)\n"
     ]
    },
    {
     "name": "stderr",
     "output_type": "stream",
     "text": [
      "/gpfs/soma_fs/home/boeger/PpaPred/functions/waveletTransform.py:84: RuntimeWarning: All-NaN slice encountered\n",
      "  thresh = thresh*np.nanmax(signal)\n"
     ]
    },
    {
     "name": "stdout",
     "output_type": "stream",
     "text": [
      "Ffill-Interpolation of nan frames\n",
      "Exempted from interpolation: range(0, 432) (over 1 sec long)\n"
     ]
    },
    {
     "name": "stderr",
     "output_type": "stream",
     "text": [
      " 26%|██▌       | 35/136 [01:53<03:08,  1.87s/it]"
     ]
    },
    {
     "name": "stdout",
     "output_type": "stream",
     "text": [
      "\n",
      "\n",
      "feature calculation for L147_240506_L147_results_225.json_labeldata.csv\n",
      "Area larger than threshold, collision assumed in [].\n",
      "Calculation of features will be done in splits, ignoring those and adjacent* ranges. *That are less than 1 sec long.\n",
      "split 0, range: (4, 696)\n",
      "split 1, range: (701, 7409)\n",
      "Ffill-Interpolation of nan frames\n"
     ]
    },
    {
     "name": "stderr",
     "output_type": "stream",
     "text": [
      " 26%|██▋       | 36/136 [01:56<03:49,  2.29s/it]"
     ]
    },
    {
     "name": "stdout",
     "output_type": "stream",
     "text": [
      "\n",
      "\n",
      "feature calculation for L147_240506_L147_results_212.json_labeldata.csv\n",
      "Area larger than threshold, collision assumed in [].\n",
      "Calculation of features will be done in splits, ignoring those and adjacent* ranges. *That are less than 1 sec long.\n",
      "split 0, range: (22, 308)\n",
      "split 1, range: (309, 396)\n",
      "Worm seems to travel backwards the majority of time, flipped all centerlines to agree with forward travelling assumption\n"
     ]
    },
    {
     "name": "stderr",
     "output_type": "stream",
     "text": [
      "/gpfs/soma_fs/home/boeger/PpaPred/functions/waveletTransform.py:84: RuntimeWarning: All-NaN slice encountered\n",
      "  thresh = thresh*np.nanmax(signal)\n",
      "/gpfs/soma_fs/home/boeger/PpaPred/functions/waveletTransform.py:84: RuntimeWarning: All-NaN slice encountered\n",
      "  thresh = thresh*np.nanmax(signal)\n",
      "/gpfs/soma_fs/home/boeger/PpaPred/functions/waveletTransform.py:84: RuntimeWarning: All-NaN slice encountered\n",
      "  thresh = thresh*np.nanmax(signal)\n",
      "/gpfs/soma_fs/home/boeger/PpaPred/functions/waveletTransform.py:84: RuntimeWarning: All-NaN slice encountered\n",
      "  thresh = thresh*np.nanmax(signal)\n",
      "/gpfs/soma_fs/home/boeger/PpaPred/functions/waveletTransform.py:84: RuntimeWarning: All-NaN slice encountered\n",
      "  thresh = thresh*np.nanmax(signal)\n"
     ]
    },
    {
     "name": "stdout",
     "output_type": "stream",
     "text": [
      "split 2, range: (398, 7828)\n",
      "Following frames seem to be tracked upside down\n",
      "We are going to flip those back:\n",
      "(array([1824, 1825, 1826, 1827, 1828, 1829, 1830, 1831, 1832, 1833, 1834,\n",
      "       1835, 1836, 1837, 1838, 1839]),)\n",
      "Ffill-Interpolation of nan frames\n"
     ]
    },
    {
     "name": "stderr",
     "output_type": "stream",
     "text": [
      " 27%|██▋       | 37/136 [01:59<04:24,  2.67s/it]"
     ]
    },
    {
     "name": "stdout",
     "output_type": "stream",
     "text": [
      "\n",
      "\n",
      "feature calculation for L147_240718_L147_results_116.json_labeldata.csv\n",
      "Area larger than threshold, collision assumed in [].\n",
      "Calculation of features will be done in splits, ignoring those and adjacent* ranges. *That are less than 1 sec long.\n",
      "split 0, range: (9, 224)\n",
      "split 1, range: (225, 1236)\n",
      "split 2, range: (1259, 4208)\n",
      "Following frames seem to be tracked upside down\n",
      "We are going to flip those back:\n",
      "(array([111, 678, 690, 694, 695, 696, 697, 704, 710, 711]),)\n",
      "Ffill-Interpolation of nan frames\n"
     ]
    },
    {
     "name": "stderr",
     "output_type": "stream",
     "text": [
      " 28%|██▊       | 38/136 [02:01<04:04,  2.50s/it]"
     ]
    },
    {
     "name": "stdout",
     "output_type": "stream",
     "text": [
      "\n",
      "\n",
      "feature calculation for L147_240718_L147_results_117.json_labeldata.csv\n",
      "Area larger than threshold, collision assumed in [].\n",
      "Calculation of features will be done in splits, ignoring those and adjacent* ranges. *That are less than 1 sec long.\n",
      "split 0, range: (9, 202)\n",
      "split 1, range: (236, 922)\n",
      "Following frames seem to be tracked upside down\n",
      "We are going to flip those back:\n",
      "(array([626]),)\n"
     ]
    },
    {
     "name": "stderr",
     "output_type": "stream",
     "text": [
      "/gpfs/soma_fs/home/boeger/PpaPred/functions/waveletTransform.py:84: RuntimeWarning: All-NaN slice encountered\n",
      "  thresh = thresh*np.nanmax(signal)\n",
      "/gpfs/soma_fs/home/boeger/PpaPred/functions/waveletTransform.py:84: RuntimeWarning: All-NaN slice encountered\n",
      "  thresh = thresh*np.nanmax(signal)\n"
     ]
    },
    {
     "name": "stdout",
     "output_type": "stream",
     "text": [
      "split 2, range: (968, 1403)\n",
      "Worm seems to travel backwards the majority of time, flipped all centerlines to agree with forward travelling assumption\n",
      "split 3, range: (1404, 4208)\n",
      "Worm seems to travel backwards the majority of time, flipped all centerlines to agree with forward travelling assumption\n",
      "Ffill-Interpolation of nan frames\n",
      "Exempted from interpolation: range(202, 236) (over 1 sec long)\n",
      "Exempted from interpolation: range(922, 968) (over 1 sec long)\n"
     ]
    },
    {
     "name": "stderr",
     "output_type": "stream",
     "text": [
      " 29%|██▊       | 39/136 [02:04<03:53,  2.40s/it]"
     ]
    },
    {
     "name": "stdout",
     "output_type": "stream",
     "text": [
      "\n",
      "\n",
      "feature calculation for L147_240718_L147_results_13.json_labeldata.csv\n",
      "Area larger than threshold, collision assumed in [range(3202, 3203), range(3309, 3310), range(3323, 3324), range(3327, 3328), range(3332, 3333), range(3337, 3338), range(3339, 3342), range(3346, 3347), range(3352, 3354), range(3356, 3357), range(3358, 3359), range(3363, 3364), range(3369, 3372), range(3380, 3382), range(3383, 3384), range(3385, 3386), range(3549, 3550), range(3604, 3605), range(3614, 3615), range(3629, 3630), range(3640, 3642), range(3659, 3663), range(3730, 3731), range(3734, 3735), range(3736, 3739), range(3743, 3747), range(3753, 3754), range(3755, 3756), range(3761, 3762), range(3766, 3767), range(3774, 3775), range(3778, 3780), range(3800, 3801), range(3973, 3974), range(3992, 3993), range(3995, 3996), range(3997, 3998), range(4002, 4004), range(4005, 4008), range(4009, 4014), range(4015, 4016), range(4024, 4025), range(4028, 4031), range(4033, 4034), range(4035, 4036), range(4037, 4040), range(4044, 4047), range(4048, 4051), range(4053, 4054), range(4055, 4056), range(4057, 4058), range(4060, 4070), range(4072, 4073), range(4074, 4076), range(4078, 4079), range(4082, 4083), range(4087, 4088), range(4090, 4091), range(4093, 4094), range(4095, 4099), range(4100, 4101), range(4102, 4103), range(4104, 4106), range(4107, 4128), range(4129, 4139), range(4140, 4144), range(4145, 4146), range(4147, 4149), range(4166, 4167), range(4168, 4169), range(4171, 4172), range(4173, 4174), range(4176, 4177), range(4178, 4205), range(4206, 4215), range(4216, 4218), range(4219, 4227), range(4228, 4230), range(4232, 4235), range(4237, 4238), range(4241, 4245), range(4246, 4248), range(4249, 4255), range(4256, 4268), range(4269, 4275), range(4276, 4278), range(4279, 4283), range(4284, 4332), range(4333, 4346), range(4347, 4361), range(4362, 4372), range(4382, 4383), range(4384, 4388), range(4389, 4403), range(4404, 4446), range(4448, 4450), range(4452, 4454), range(4473, 4480), range(4481, 4482), range(4483, 4487), range(4488, 4539), range(4540, 4542), range(4543, 4546), range(4547, 4602), range(4603, 4608), range(4612, 4615), range(4620, 4621), range(4623, 4624), range(4626, 4628)].\n",
      "Calculation of features will be done in splits, ignoring those and adjacent* ranges. *That are less than 1 sec long.\n",
      "split 0, range: (0, 3202)\n",
      "split 1, range: (3203, 3309)\n",
      "split 2, range: (3386, 3549)\n"
     ]
    },
    {
     "name": "stderr",
     "output_type": "stream",
     "text": [
      "/gpfs/soma_fs/home/boeger/PpaPred/functions/waveletTransform.py:84: RuntimeWarning: All-NaN slice encountered\n",
      "  thresh = thresh*np.nanmax(signal)\n",
      "/gpfs/soma_fs/home/boeger/PpaPred/functions/waveletTransform.py:84: RuntimeWarning: All-NaN slice encountered\n",
      "  thresh = thresh*np.nanmax(signal)\n",
      "/gpfs/soma_fs/home/boeger/PpaPred/functions/waveletTransform.py:84: RuntimeWarning: All-NaN slice encountered\n",
      "  thresh = thresh*np.nanmax(signal)\n",
      "/gpfs/soma_fs/home/boeger/PpaPred/functions/waveletTransform.py:84: RuntimeWarning: All-NaN slice encountered\n",
      "  thresh = thresh*np.nanmax(signal)\n",
      "/gpfs/soma_fs/home/boeger/PpaPred/functions/waveletTransform.py:84: RuntimeWarning: All-NaN slice encountered\n",
      "  thresh = thresh*np.nanmax(signal)\n"
     ]
    },
    {
     "name": "stdout",
     "output_type": "stream",
     "text": [
      "split 3, range: (3550, 3604)\n",
      "Worm seems to travel backwards the majority of time, flipped all centerlines to agree with forward travelling assumption\n",
      "split 4, range: (3663, 3730)\n",
      "Following frames seem to be tracked upside down\n",
      "We are going to flip those back:\n",
      "(array([1]),)\n",
      "split 5, range: (3801, 3973)\n",
      "Worm seems to travel backwards the majority of time, flipped all centerlines to agree with forward travelling assumption\n"
     ]
    },
    {
     "name": "stderr",
     "output_type": "stream",
     "text": [
      "/gpfs/soma_fs/home/boeger/PpaPred/functions/waveletTransform.py:84: RuntimeWarning: All-NaN slice encountered\n",
      "  thresh = thresh*np.nanmax(signal)\n",
      "/gpfs/soma_fs/home/boeger/PpaPred/functions/waveletTransform.py:84: RuntimeWarning: All-NaN slice encountered\n",
      "  thresh = thresh*np.nanmax(signal)\n",
      "/gpfs/soma_fs/home/boeger/PpaPred/functions/waveletTransform.py:84: RuntimeWarning: All-NaN slice encountered\n",
      "  thresh = thresh*np.nanmax(signal)\n",
      "/gpfs/soma_fs/home/boeger/PpaPred/functions/waveletTransform.py:84: RuntimeWarning: All-NaN slice encountered\n",
      "  thresh = thresh*np.nanmax(signal)\n",
      "/gpfs/soma_fs/home/boeger/PpaPred/functions/waveletTransform.py:84: RuntimeWarning: All-NaN slice encountered\n",
      "  thresh = thresh*np.nanmax(signal)\n"
     ]
    },
    {
     "name": "stdout",
     "output_type": "stream",
     "text": [
      "split 6, range: (4628, 11445)\n",
      "Ffill-Interpolation of nan frames\n",
      "Exempted from interpolation: range(3309, 3386) (over 1 sec long)\n",
      "Exempted from interpolation: range(3604, 3663) (over 1 sec long)\n",
      "Exempted from interpolation: range(3730, 3801) (over 1 sec long)\n",
      "Exempted from interpolation: range(3973, 4628) (over 1 sec long)\n",
      "Exempted from interpolation: range(11445, 11534) (over 1 sec long)\n"
     ]
    },
    {
     "name": "stderr",
     "output_type": "stream",
     "text": [
      " 29%|██▉       | 40/136 [02:09<05:10,  3.24s/it]"
     ]
    },
    {
     "name": "stdout",
     "output_type": "stream",
     "text": [
      "\n",
      "\n",
      "feature calculation for L147_240718_L147_results_10.json_labeldata.csv\n",
      "Area larger than threshold, collision assumed in [range(3163, 3164), range(3165, 3166), range(3167, 3168), range(3171, 3173), range(3183, 3185), range(3189, 3192), range(3195, 3201), range(3203, 3205), range(3206, 3215), range(3216, 3220), range(3221, 3241), range(3242, 3260), range(3261, 3268), range(3272, 3275), range(3292, 3293), range(3294, 3295), range(3299, 3308), range(3315, 3316), range(3319, 3320), range(3331, 3430), range(3431, 3502), range(3508, 3511), range(3512, 3514), range(3515, 3516), range(3518, 3519), range(3522, 3530), range(3531, 3538), range(3539, 3548), range(3549, 3550), range(3551, 3557), range(3558, 3567), range(3568, 3570), range(3571, 3574), range(3576, 3595), range(3596, 3643), range(3644, 3653), range(3654, 3657), range(3658, 3659), range(3660, 3667), range(3669, 3675), range(3676, 3677), range(3679, 3682), range(3684, 3685), range(3686, 3687), range(3688, 3690), range(3691, 3692), range(3694, 3697), range(3698, 3717), range(3718, 3723), range(3724, 3725), range(3726, 3728), range(3729, 3732), range(3733, 3734), range(3735, 3737), range(3738, 3803), range(3804, 3831), range(3832, 3846), range(3847, 3848), range(3850, 3853), range(3874, 3875), range(3878, 3879), range(3880, 3883), range(3887, 3888), range(3892, 3893), range(3895, 3896), range(3907, 3908), range(3909, 3911), range(3915, 3916), range(3922, 3923), range(3927, 3928), range(3932, 3933), range(3940, 3941), range(3943, 3944), range(3950, 3951), range(3956, 3957), range(3958, 3960), range(3964, 3965), range(3968, 3969), range(3970, 3971), range(3972, 3977), range(3978, 3982), range(3983, 3993), range(3994, 4001), range(4002, 4004), range(4005, 4008), range(4009, 4033), range(4034, 4215), range(4216, 4224), range(4229, 4230), range(4231, 4232), range(4252, 4253), range(4262, 4263), range(4269, 4270), range(4271, 4272), range(4273, 4275), range(4276, 4278), range(4279, 4285), range(4286, 4288), range(4289, 4293), range(4294, 4297), range(4298, 4299), range(4300, 4312), range(4313, 4315), range(4318, 4321), range(4323, 4324), range(4327, 4329), range(4330, 4331), range(4332, 4336), range(4339, 4341), range(4343, 4344), range(4358, 4359), range(4363, 4364), range(4380, 4384), range(4396, 4404), range(4405, 4412), range(4413, 4415), range(4416, 4424), range(4425, 4426), range(4428, 4429), range(4430, 4435), range(4436, 4444), range(4446, 4453), range(4454, 4455), range(4462, 4465), range(4482, 4485), range(4486, 4487), range(4488, 4490), range(4491, 4492), range(4493, 4497), range(4498, 4504), range(4506, 4507), range(4508, 4646), range(4849, 4850), range(4852, 4853), range(4855, 4859), range(4860, 4864), range(4865, 4871)].\n",
      "Calculation of features will be done in splits, ignoring those and adjacent* ranges. *That are less than 1 sec long.\n",
      "split 0, range: (0, 3163)\n",
      "split 1, range: (4646, 4849)\n",
      "Worm seems to travel backwards the majority of time, flipped all centerlines to agree with forward travelling assumption\n",
      "split 2, range: (4871, 9772)\n",
      "Following frames seem to be tracked upside down\n",
      "We are going to flip those back:\n",
      "(array([2580, 4365, 4366, 4367, 4370]),)\n",
      "split 3, range: (9792, 10083)\n",
      "split 4, range: (10094, 10363)\n"
     ]
    },
    {
     "name": "stderr",
     "output_type": "stream",
     "text": [
      "/gpfs/soma_fs/home/boeger/PpaPred/functions/waveletTransform.py:84: RuntimeWarning: All-NaN slice encountered\n",
      "  thresh = thresh*np.nanmax(signal)\n",
      "/gpfs/soma_fs/home/boeger/PpaPred/functions/waveletTransform.py:84: RuntimeWarning: All-NaN slice encountered\n",
      "  thresh = thresh*np.nanmax(signal)\n"
     ]
    },
    {
     "name": "stdout",
     "output_type": "stream",
     "text": [
      "split 5, range: (10416, 11409)\n",
      "Ffill-Interpolation of nan frames\n",
      "Exempted from interpolation: range(3163, 4646) (over 1 sec long)\n",
      "Exempted from interpolation: range(10363, 10416) (over 1 sec long)\n",
      "Exempted from interpolation: range(11409, 11487) (over 1 sec long)\n"
     ]
    },
    {
     "name": "stderr",
     "output_type": "stream",
     "text": [
      " 30%|███       | 41/136 [02:14<05:57,  3.76s/it]"
     ]
    },
    {
     "name": "stdout",
     "output_type": "stream",
     "text": [
      "\n",
      "\n",
      "feature calculation for L147_240718_L147_results_133.json_labeldata.csv\n",
      "Area larger than threshold, collision assumed in [].\n",
      "Calculation of features will be done in splits, ignoring those and adjacent* ranges. *That are less than 1 sec long.\n",
      "split 0, range: (36, 1028)\n",
      "split 1, range: (1031, 2263)\n",
      "Ffill-Interpolation of nan frames\n",
      "Exempted from interpolation: range(0, 36) (over 1 sec long)\n"
     ]
    },
    {
     "name": "stderr",
     "output_type": "stream",
     "text": [
      " 31%|███       | 42/136 [02:15<04:41,  3.00s/it]"
     ]
    },
    {
     "name": "stdout",
     "output_type": "stream",
     "text": [
      "\n",
      "\n",
      "feature calculation for L147_240718_L147_results_17.json_labeldata.csv\n",
      "Area larger than threshold, collision assumed in [].\n",
      "Calculation of features will be done in splits, ignoring those and adjacent* ranges. *That are less than 1 sec long.\n",
      "split 0, range: (0, 1879)\n",
      "split 1, range: (1899, 2157)\n",
      "Worm seems to travel backwards the majority of time, flipped all centerlines to agree with forward travelling assumption\n",
      "Ffill-Interpolation of nan frames\n"
     ]
    },
    {
     "name": "stderr",
     "output_type": "stream",
     "text": [
      " 32%|███▏      | 43/136 [02:16<03:47,  2.44s/it]"
     ]
    },
    {
     "name": "stdout",
     "output_type": "stream",
     "text": [
      "\n",
      "\n",
      "feature calculation for L147_240718_L147_results_128.json_labeldata.csv\n",
      "Area larger than threshold, collision assumed in [].\n",
      "Calculation of features will be done in splits, ignoring those and adjacent* ranges. *That are less than 1 sec long.\n",
      "split 0, range: (25, 109)\n",
      "split 1, range: (130, 633)\n"
     ]
    },
    {
     "name": "stderr",
     "output_type": "stream",
     "text": [
      "/gpfs/soma_fs/home/boeger/PpaPred/functions/waveletTransform.py:84: RuntimeWarning: All-NaN slice encountered\n",
      "  thresh = thresh*np.nanmax(signal)\n"
     ]
    },
    {
     "name": "stdout",
     "output_type": "stream",
     "text": [
      "split 2, range: (634, 2919)\n",
      "Following frames seem to be tracked upside down\n",
      "We are going to flip those back:\n",
      "(array([  2,   3,   4,   5,   6,   7,   8,   9,  10,  11,  12,  13,  14,\n",
      "       111, 742, 743, 744]),)\n",
      "Ffill-Interpolation of nan frames\n"
     ]
    },
    {
     "name": "stderr",
     "output_type": "stream",
     "text": [
      " 32%|███▏      | 44/136 [02:18<03:19,  2.17s/it]"
     ]
    },
    {
     "name": "stdout",
     "output_type": "stream",
     "text": [
      "\n",
      "\n",
      "feature calculation for L147_240718_L147_results_12.json_labeldata.csv\n",
      "Area larger than threshold, collision assumed in [range(3173, 3174), range(3193, 3195), range(3202, 3205), range(3206, 3207), range(3218, 3219), range(3225, 3226), range(3236, 3237), range(3297, 3298), range(3305, 3306), range(3309, 3310), range(3323, 3324), range(3327, 3328), range(3332, 3334), range(3337, 3338), range(3339, 3343), range(3346, 3347), range(3349, 3350), range(3352, 3354), range(3355, 3357), range(3358, 3359), range(3362, 3364), range(3366, 3367), range(3368, 3372), range(3373, 3374), range(3375, 3382), range(3383, 3384), range(3385, 3386), range(3387, 3388), range(3390, 3394), range(3395, 3396), range(3397, 3398), range(3399, 3401), range(3403, 3409), range(3411, 3412), range(3414, 3415), range(3417, 3420), range(3427, 3430), range(3445, 3446), range(3447, 3448), range(3452, 3453), range(3542, 3543), range(3546, 3547), range(3549, 3551), range(3554, 3555), range(3575, 3576), range(3582, 3583), range(3592, 3593), range(3602, 3605), range(3607, 3608), range(3609, 3610), range(3614, 3615), range(3618, 3619), range(3621, 3622), range(3625, 3626), range(3629, 3630), range(3631, 3633), range(3634, 3635), range(3648, 3649), range(3651, 3653), range(3655, 3657), range(3661, 3662), range(3671, 3672), range(3684, 3685), range(3686, 3687), range(3688, 3693), range(3695, 3698), range(3701, 3704), range(3705, 3706), range(3708, 3709), range(3730, 3731), range(3734, 3735), range(3736, 3739), range(3743, 3754), range(3755, 3757), range(3761, 3764), range(3765, 3768), range(3769, 3773), range(3774, 3775), range(3777, 3780), range(3781, 3782), range(3787, 3788), range(3789, 3791), range(3800, 3801), range(3802, 3803), range(3813, 3814), range(3973, 3974), range(3996, 3998), range(4000, 4001), range(4002, 4003), range(4008, 4010), range(4012, 4014), range(4015, 4018), range(4019, 4021), range(4024, 4027), range(4028, 4040), range(4044, 4045), range(4046, 4052), range(4053, 4054), range(4055, 4056), range(4057, 4058), range(4060, 4063), range(4064, 4067), range(4068, 4070), range(4072, 4073), range(4074, 4076), range(4078, 4079), range(4082, 4086), range(4087, 4088), range(4090, 4091), range(4093, 4094), range(4095, 4099), range(4100, 4101), range(4102, 4103), range(4104, 4106), range(4107, 4119), range(4120, 4128), range(4129, 4153), range(4154, 4156), range(4157, 4167), range(4168, 4205), range(4206, 4214), range(4215, 4216), range(4218, 4226), range(4240, 4241), range(4242, 4249), range(4252, 4253), range(4259, 4260), range(4261, 4262), range(4263, 4265), range(4266, 4268), range(4269, 4275), range(4276, 4278), range(4279, 4283), range(4284, 4287), range(4288, 4289), range(4290, 4302), range(4303, 4305), range(4308, 4311), range(4313, 4314), range(4317, 4319), range(4320, 4321), range(4322, 4326), range(4329, 4331), range(4333, 4334), range(4348, 4349), range(4353, 4354), range(4370, 4372), range(4386, 4388), range(4389, 4394), range(4395, 4402), range(4406, 4414), range(4415, 4416), range(4418, 4419), range(4420, 4423), range(4424, 4425), range(4426, 4435), range(4436, 4445), range(4452, 4454), range(4472, 4475), range(4476, 4477), range(4478, 4480), range(4481, 4482), range(4483, 4487), range(4488, 4494), range(4496, 4497), range(4498, 4618), range(4620, 4624), range(4626, 4630)].\n",
      "Calculation of features will be done in splits, ignoring those and adjacent* ranges. *That are less than 1 sec long.\n",
      "split 0, range: (0, 3173)\n",
      "split 1, range: (3237, 3297)\n",
      "split 2, range: (3453, 3542)\n",
      "split 3, range: (3814, 3973)\n"
     ]
    },
    {
     "name": "stderr",
     "output_type": "stream",
     "text": [
      "/gpfs/soma_fs/home/boeger/PpaPred/functions/waveletTransform.py:84: RuntimeWarning: All-NaN slice encountered\n",
      "  thresh = thresh*np.nanmax(signal)\n",
      "/gpfs/soma_fs/home/boeger/PpaPred/functions/waveletTransform.py:84: RuntimeWarning: All-NaN slice encountered\n",
      "  thresh = thresh*np.nanmax(signal)\n",
      "/gpfs/soma_fs/home/boeger/PpaPred/functions/waveletTransform.py:84: RuntimeWarning: All-NaN slice encountered\n",
      "  thresh = thresh*np.nanmax(signal)\n",
      "/gpfs/soma_fs/home/boeger/PpaPred/functions/waveletTransform.py:84: RuntimeWarning: All-NaN slice encountered\n",
      "  thresh = thresh*np.nanmax(signal)\n",
      "/gpfs/soma_fs/home/boeger/PpaPred/functions/waveletTransform.py:84: RuntimeWarning: All-NaN slice encountered\n",
      "  thresh = thresh*np.nanmax(signal)\n",
      "/gpfs/soma_fs/home/boeger/PpaPred/functions/waveletTransform.py:84: RuntimeWarning: All-NaN slice encountered\n",
      "  thresh = thresh*np.nanmax(signal)\n",
      "/gpfs/soma_fs/home/boeger/PpaPred/functions/waveletTransform.py:84: RuntimeWarning: All-NaN slice encountered\n",
      "  thresh = thresh*np.nanmax(signal)\n"
     ]
    },
    {
     "name": "stdout",
     "output_type": "stream",
     "text": [
      "split 4, range: (4630, 9738)\n",
      "Ffill-Interpolation of nan frames\n",
      "Exempted from interpolation: range(3173, 3237) (over 1 sec long)\n",
      "Exempted from interpolation: range(3297, 3453) (over 1 sec long)\n",
      "Exempted from interpolation: range(3542, 3814) (over 1 sec long)\n",
      "Exempted from interpolation: range(3973, 4630) (over 1 sec long)\n"
     ]
    },
    {
     "name": "stderr",
     "output_type": "stream",
     "text": [
      " 33%|███▎      | 45/136 [02:22<04:19,  2.85s/it]"
     ]
    },
    {
     "name": "stdout",
     "output_type": "stream",
     "text": [
      "\n",
      "\n",
      "feature calculation for L147_240718_L147_results_7.json_labeldata.csv\n",
      "Area larger than threshold, collision assumed in [range(3189, 3190), range(3193, 3194), range(3195, 3196), range(3197, 3198), range(3204, 3208), range(3210, 3213), range(3214, 3218), range(3226, 3227), range(3228, 3231), range(3233, 3234), range(3244, 3246), range(3260, 3261), range(3263, 3264), range(3297, 3298), range(3303, 3306), range(3313, 3314), range(3317, 3318), range(3330, 3333), range(3335, 3336), range(3340, 3342), range(3345, 3346), range(3347, 3351), range(3354, 3355), range(3357, 3358), range(3360, 3361), range(3363, 3365), range(3366, 3367), range(3369, 3372), range(3374, 3375), range(3376, 3380), range(3386, 3390), range(3391, 3392), range(3393, 3394), range(3395, 3396), range(3399, 3401), range(3402, 3417), range(3418, 3422), range(3424, 3425), range(3426, 3427), range(3430, 3431), range(3433, 3440), range(3442, 3443), range(3450, 3452), range(3467, 3468), range(3508, 3509), range(3516, 3517), range(3520, 3523), range(3524, 3528), range(3529, 3536), range(3544, 3546), range(3547, 3548), range(3557, 3558), range(3561, 3562), range(3566, 3567), range(3577, 3588), range(3589, 3593), range(3594, 3596), range(3598, 3601), range(3605, 3606), range(3607, 3609), range(3610, 3613), range(3615, 3616), range(3617, 3618), range(3622, 3635), range(3636, 3638), range(3639, 3640), range(3642, 3647), range(3658, 3659), range(3660, 3662), range(3663, 3664), range(3671, 3673), range(3674, 3675), range(3677, 3678), range(3679, 3680), range(3681, 3683), range(3686, 3688), range(3697, 3706), range(3708, 3709), range(3710, 3712), range(3713, 3715), range(3724, 3726), range(3728, 3729), range(3738, 3740), range(3742, 3743), range(3744, 3747), range(3750, 3757), range(3758, 3759), range(3760, 3762), range(3763, 3764), range(3769, 3772), range(3773, 3776), range(3777, 3781), range(3782, 3783), range(3784, 3788), range(3789, 3790), range(3791, 3792), range(3795, 3801), range(3803, 3807), range(3808, 3809), range(3816, 3817), range(3818, 3820), range(3821, 3822), range(3823, 3824), range(3920, 3921), range(3979, 3980), range(3981, 3982), range(3984, 3985), range(3989, 3991), range(3998, 3999), range(4005, 4006), range(4010, 4011), range(4013, 4015), range(4017, 4018), range(4023, 4026), range(4027, 4028), range(4032, 4034), range(4036, 4055), range(4056, 4059), range(4060, 4064), range(4065, 4066), range(4067, 4071), range(4072, 4075), range(4076, 4078), range(4080, 4081), range(4082, 4088), range(4090, 4091), range(4095, 4097), range(4098, 4099), range(4101, 4109), range(4110, 4114), range(4115, 4136), range(4137, 4161), range(4162, 4164), range(4165, 4175), range(4176, 4213), range(4214, 4222), range(4226, 4228), range(4229, 4230), range(4250, 4251), range(4252, 4253), range(4260, 4261), range(4267, 4268), range(4269, 4270), range(4271, 4273), range(4274, 4276), range(4277, 4283), range(4284, 4286), range(4287, 4291), range(4292, 4295), range(4296, 4297), range(4298, 4310), range(4311, 4313), range(4316, 4319), range(4321, 4322), range(4325, 4327), range(4328, 4329), range(4330, 4334), range(4337, 4339), range(4341, 4342), range(4356, 4357), range(4361, 4362), range(4378, 4380), range(4394, 4396), range(4397, 4402), range(4403, 4410), range(4414, 4422), range(4423, 4424), range(4426, 4427), range(4428, 4431), range(4432, 4433), range(4434, 4442), range(4443, 4453), range(4460, 4462), range(4481, 4485), range(4486, 4490), range(4491, 4495), range(4496, 4502), range(4504, 4505), range(4506, 4626), range(4628, 4633), range(4634, 4636)].\n",
      "Calculation of features will be done in splits, ignoring those and adjacent* ranges. *That are less than 1 sec long.\n",
      "split 0, range: (0, 3189)\n",
      "Following frames seem to be tracked upside down\n",
      "We are going to flip those back:\n",
      "(array([ 637,  638,  641,  644,  646,  647,  672,  673,  674,  676,  693,\n",
      "        694,  695,  696,  697,  698,  743,  744,  746, 1201, 1483]),)\n",
      "split 1, range: (3264, 3297)\n",
      "split 2, range: (3468, 3508)\n",
      "split 3, range: (3824, 3920)\n"
     ]
    },
    {
     "name": "stderr",
     "output_type": "stream",
     "text": [
      "/gpfs/soma_fs/home/boeger/PpaPred/functions/waveletTransform.py:84: RuntimeWarning: All-NaN slice encountered\n",
      "  thresh = thresh*np.nanmax(signal)\n",
      "/gpfs/soma_fs/home/boeger/PpaPred/functions/waveletTransform.py:84: RuntimeWarning: All-NaN slice encountered\n",
      "  thresh = thresh*np.nanmax(signal)\n",
      "/gpfs/soma_fs/home/boeger/PpaPred/functions/waveletTransform.py:84: RuntimeWarning: All-NaN slice encountered\n",
      "  thresh = thresh*np.nanmax(signal)\n",
      "/gpfs/soma_fs/home/boeger/PpaPred/functions/waveletTransform.py:84: RuntimeWarning: All-NaN slice encountered\n",
      "  thresh = thresh*np.nanmax(signal)\n",
      "/gpfs/soma_fs/home/boeger/PpaPred/functions/waveletTransform.py:84: RuntimeWarning: All-NaN slice encountered\n",
      "  thresh = thresh*np.nanmax(signal)\n",
      "/gpfs/soma_fs/home/boeger/PpaPred/functions/waveletTransform.py:84: RuntimeWarning: All-NaN slice encountered\n",
      "  thresh = thresh*np.nanmax(signal)\n",
      "/gpfs/soma_fs/home/boeger/PpaPred/functions/waveletTransform.py:84: RuntimeWarning: All-NaN slice encountered\n",
      "  thresh = thresh*np.nanmax(signal)\n",
      "/gpfs/soma_fs/home/boeger/PpaPred/functions/waveletTransform.py:84: RuntimeWarning: All-NaN slice encountered\n",
      "  thresh = thresh*np.nanmax(signal)\n",
      "/gpfs/soma_fs/home/boeger/PpaPred/functions/waveletTransform.py:84: RuntimeWarning: All-NaN slice encountered\n",
      "  thresh = thresh*np.nanmax(signal)\n",
      "/gpfs/soma_fs/home/boeger/PpaPred/functions/waveletTransform.py:84: RuntimeWarning: All-NaN slice encountered\n",
      "  thresh = thresh*np.nanmax(signal)\n",
      "/gpfs/soma_fs/home/boeger/PpaPred/functions/waveletTransform.py:84: RuntimeWarning: All-NaN slice encountered\n",
      "  thresh = thresh*np.nanmax(signal)\n",
      "/gpfs/soma_fs/home/boeger/PpaPred/functions/waveletTransform.py:84: RuntimeWarning: All-NaN slice encountered\n",
      "  thresh = thresh*np.nanmax(signal)\n",
      "/gpfs/soma_fs/home/boeger/PpaPred/functions/waveletTransform.py:84: RuntimeWarning: All-NaN slice encountered\n",
      "  thresh = thresh*np.nanmax(signal)\n"
     ]
    },
    {
     "name": "stdout",
     "output_type": "stream",
     "text": [
      "split 4, range: (3921, 3979)\n",
      "Worm seems to travel backwards the majority of time, flipped all centerlines to agree with forward travelling assumption\n",
      "split 5, range: (4636, 10194)\n",
      "split 6, range: (10197, 11456)\n",
      "split 7, range: (11493, 11552)\n",
      "split 8, range: (11601, 11816)\n",
      "Following frames seem to be tracked upside down\n",
      "We are going to flip those back:\n",
      "(array([ 55,  56,  57, 126, 127, 128]),)\n"
     ]
    },
    {
     "name": "stderr",
     "output_type": "stream",
     "text": [
      "/gpfs/soma_fs/home/boeger/PpaPred/functions/waveletTransform.py:84: RuntimeWarning: All-NaN slice encountered\n",
      "  thresh = thresh*np.nanmax(signal)\n",
      "/gpfs/soma_fs/home/boeger/PpaPred/functions/waveletTransform.py:84: RuntimeWarning: All-NaN slice encountered\n",
      "  thresh = thresh*np.nanmax(signal)\n"
     ]
    },
    {
     "name": "stdout",
     "output_type": "stream",
     "text": [
      "Ffill-Interpolation of nan frames\n",
      "Exempted from interpolation: range(3189, 3264) (over 1 sec long)\n",
      "Exempted from interpolation: range(3297, 3468) (over 1 sec long)\n",
      "Exempted from interpolation: range(3508, 3824) (over 1 sec long)\n",
      "Exempted from interpolation: range(3979, 4636) (over 1 sec long)\n",
      "Exempted from interpolation: range(11456, 11493) (over 1 sec long)\n",
      "Exempted from interpolation: range(11552, 11601) (over 1 sec long)\n"
     ]
    },
    {
     "name": "stderr",
     "output_type": "stream",
     "text": [
      " 34%|███▍      | 46/136 [02:28<05:27,  3.64s/it]"
     ]
    },
    {
     "name": "stdout",
     "output_type": "stream",
     "text": [
      "\n",
      "\n",
      "feature calculation for L147_240718_L147_results_46.json_labeldata.csv\n",
      "Area larger than threshold, collision assumed in [range(1851, 1852), range(1853, 1869), range(1878, 1880), range(1918, 1925), range(1938, 1946), range(1956, 1957), range(1958, 1967), range(1968, 1969)].\n",
      "Calculation of features will be done in splits, ignoring those and adjacent* ranges. *That are less than 1 sec long.\n",
      "split 0, range: (0, 1322)\n",
      "split 1, range: (1323, 1365)\n",
      "Worm seems to travel backwards the majority of time, flipped all centerlines to agree with forward travelling assumption\n",
      "split 2, range: (1395, 1521)\n",
      "split 3, range: (1577, 1851)\n"
     ]
    },
    {
     "name": "stderr",
     "output_type": "stream",
     "text": [
      "/gpfs/soma_fs/home/boeger/PpaPred/functions/waveletTransform.py:84: RuntimeWarning: All-NaN slice encountered\n",
      "  thresh = thresh*np.nanmax(signal)\n",
      "/gpfs/soma_fs/home/boeger/PpaPred/functions/waveletTransform.py:84: RuntimeWarning: All-NaN slice encountered\n",
      "  thresh = thresh*np.nanmax(signal)\n",
      "/gpfs/soma_fs/home/boeger/PpaPred/functions/waveletTransform.py:84: RuntimeWarning: All-NaN slice encountered\n",
      "  thresh = thresh*np.nanmax(signal)\n",
      "/gpfs/soma_fs/home/boeger/PpaPred/functions/waveletTransform.py:84: RuntimeWarning: All-NaN slice encountered\n",
      "  thresh = thresh*np.nanmax(signal)\n",
      "/gpfs/soma_fs/home/boeger/PpaPred/functions/waveletTransform.py:84: RuntimeWarning: All-NaN slice encountered\n",
      "  thresh = thresh*np.nanmax(signal)\n",
      "/gpfs/soma_fs/home/boeger/PpaPred/functions/waveletTransform.py:84: RuntimeWarning: All-NaN slice encountered\n",
      "  thresh = thresh*np.nanmax(signal)\n",
      "/gpfs/soma_fs/home/boeger/PpaPred/functions/waveletTransform.py:84: RuntimeWarning: All-NaN slice encountered\n",
      "  thresh = thresh*np.nanmax(signal)\n"
     ]
    },
    {
     "name": "stdout",
     "output_type": "stream",
     "text": [
      "split 4, range: (1880, 1918)\n",
      "split 5, range: (1969, 2586)\n"
     ]
    },
    {
     "name": "stderr",
     "output_type": "stream",
     "text": [
      "/gpfs/soma_fs/home/boeger/PpaPred/functions/waveletTransform.py:84: RuntimeWarning: All-NaN slice encountered\n",
      "  thresh = thresh*np.nanmax(signal)\n",
      "/gpfs/soma_fs/home/boeger/PpaPred/functions/waveletTransform.py:84: RuntimeWarning: All-NaN slice encountered\n",
      "  thresh = thresh*np.nanmax(signal)\n",
      "/gpfs/soma_fs/home/boeger/PpaPred/functions/waveletTransform.py:84: RuntimeWarning: All-NaN slice encountered\n",
      "  thresh = thresh*np.nanmax(signal)\n",
      "/gpfs/soma_fs/home/boeger/PpaPred/functions/waveletTransform.py:84: RuntimeWarning: All-NaN slice encountered\n",
      "  thresh = thresh*np.nanmax(signal)\n"
     ]
    },
    {
     "name": "stdout",
     "output_type": "stream",
     "text": [
      "Ffill-Interpolation of nan frames\n",
      "Exempted from interpolation: range(1521, 1577) (over 1 sec long)\n",
      "Exempted from interpolation: range(1918, 1969) (over 1 sec long)\n"
     ]
    },
    {
     "name": "stderr",
     "output_type": "stream",
     "text": [
      " 35%|███▍      | 47/136 [02:29<04:32,  3.07s/it]"
     ]
    },
    {
     "name": "stdout",
     "output_type": "stream",
     "text": [
      "\n",
      "\n",
      "feature calculation for L147_240718_L147_results_15.json_labeldata.csv\n",
      "Area larger than threshold, collision assumed in [range(3185, 3186), range(3196, 3200), range(3201, 3205), range(3206, 3210), range(3211, 3216), range(3217, 3229), range(3233, 3234), range(3235, 3238), range(3239, 3240), range(3244, 3246), range(3249, 3250), range(3252, 3253), range(3292, 3293), range(3295, 3298), range(3301, 3302), range(3303, 3306), range(3309, 3310), range(3314, 3315), range(3316, 3317), range(3322, 3415), range(3416, 3432), range(3434, 3435), range(3436, 3448), range(3449, 3454), range(3455, 3457), range(3458, 3467), range(3469, 3476), range(3477, 3479), range(3480, 3481), range(3482, 3487), range(3489, 3492), range(3494, 3496), range(3497, 3642), range(3643, 3645), range(3648, 3654), range(3655, 3657), range(3659, 3665), range(3666, 3673), range(3674, 3675), range(3678, 3680), range(3681, 3682), range(3684, 3698), range(3699, 3707), range(3708, 3709), range(3710, 3713), range(3714, 3718), range(3719, 3724), range(3725, 3743), range(3744, 3793), range(3794, 3801), range(3802, 3804), range(3805, 3814), range(3815, 3816), range(3817, 3821), range(3822, 3827), range(3828, 3829), range(3830, 3831), range(3897, 3898), range(3900, 3901), range(3940, 3941), range(3971, 3972), range(3973, 3974), range(3976, 3977), range(3978, 3979), range(3980, 3983), range(3984, 3985), range(3987, 3991), range(3992, 3994), range(3995, 3998), range(4000, 4001), range(4002, 4023), range(4024, 4091), range(4092, 4109), range(4110, 4122), range(4123, 4132), range(4133, 4140), range(4141, 4142), range(4143, 4145), range(4146, 4147), range(4148, 4151), range(4152, 4166), range(4167, 4168), range(4172, 4173), range(4175, 4176), range(4187, 4188), range(4372, 4373), range(4388, 4389), range(4390, 4392), range(4453, 4454), range(4472, 4474), range(4522, 4523), range(4534, 4535), range(4539, 4540), range(4542, 4543), range(4546, 4547), range(4567, 4569), range(4590, 4591), range(4596, 4598), range(4600, 4604), range(4605, 4614), range(4615, 4631)].\n",
      "Calculation of features will be done in splits, ignoring those and adjacent* ranges. *That are less than 1 sec long.\n",
      "split 0, range: (0, 3185)\n",
      "split 1, range: (3253, 3292)\n",
      "split 2, range: (3831, 3897)\n",
      "split 3, range: (3901, 3940)\n",
      "Worm seems to travel backwards the majority of time, flipped all centerlines to agree with forward travelling assumption\n"
     ]
    },
    {
     "name": "stderr",
     "output_type": "stream",
     "text": [
      "/gpfs/soma_fs/home/boeger/PpaPred/functions/waveletTransform.py:84: RuntimeWarning: All-NaN slice encountered\n",
      "  thresh = thresh*np.nanmax(signal)\n",
      "/gpfs/soma_fs/home/boeger/PpaPred/functions/waveletTransform.py:84: RuntimeWarning: All-NaN slice encountered\n",
      "  thresh = thresh*np.nanmax(signal)\n",
      "/gpfs/soma_fs/home/boeger/PpaPred/functions/waveletTransform.py:84: RuntimeWarning: All-NaN slice encountered\n",
      "  thresh = thresh*np.nanmax(signal)\n",
      "/gpfs/soma_fs/home/boeger/PpaPred/functions/waveletTransform.py:84: RuntimeWarning: All-NaN slice encountered\n",
      "  thresh = thresh*np.nanmax(signal)\n",
      "/gpfs/soma_fs/home/boeger/PpaPred/functions/waveletTransform.py:84: RuntimeWarning: All-NaN slice encountered\n",
      "  thresh = thresh*np.nanmax(signal)\n",
      "/gpfs/soma_fs/home/boeger/PpaPred/functions/waveletTransform.py:84: RuntimeWarning: All-NaN slice encountered\n",
      "  thresh = thresh*np.nanmax(signal)\n",
      "/gpfs/soma_fs/home/boeger/PpaPred/functions/waveletTransform.py:84: RuntimeWarning: All-NaN slice encountered\n",
      "  thresh = thresh*np.nanmax(signal)\n",
      "/gpfs/soma_fs/home/boeger/PpaPred/functions/waveletTransform.py:84: RuntimeWarning: All-NaN slice encountered\n",
      "  thresh = thresh*np.nanmax(signal)\n",
      "/gpfs/soma_fs/home/boeger/PpaPred/functions/waveletTransform.py:84: RuntimeWarning: All-NaN slice encountered\n",
      "  thresh = thresh*np.nanmax(signal)\n"
     ]
    },
    {
     "name": "stdout",
     "output_type": "stream",
     "text": [
      "split 4, range: (4188, 4372)\n",
      "split 5, range: (4392, 4453)\n",
      "split 6, range: (4474, 4522)\n"
     ]
    },
    {
     "name": "stderr",
     "output_type": "stream",
     "text": [
      "/gpfs/soma_fs/home/boeger/PpaPred/functions/waveletTransform.py:84: RuntimeWarning: All-NaN slice encountered\n",
      "  thresh = thresh*np.nanmax(signal)\n",
      "/gpfs/soma_fs/home/boeger/PpaPred/functions/waveletTransform.py:84: RuntimeWarning: All-NaN slice encountered\n",
      "  thresh = thresh*np.nanmax(signal)\n",
      "/gpfs/soma_fs/home/boeger/PpaPred/functions/waveletTransform.py:84: RuntimeWarning: All-NaN slice encountered\n",
      "  thresh = thresh*np.nanmax(signal)\n",
      "/gpfs/soma_fs/home/boeger/PpaPred/functions/waveletTransform.py:84: RuntimeWarning: All-NaN slice encountered\n",
      "  thresh = thresh*np.nanmax(signal)\n",
      "/gpfs/soma_fs/home/boeger/PpaPred/functions/waveletTransform.py:84: RuntimeWarning: All-NaN slice encountered\n",
      "  thresh = thresh*np.nanmax(signal)\n",
      "/gpfs/soma_fs/home/boeger/PpaPred/functions/waveletTransform.py:84: RuntimeWarning: All-NaN slice encountered\n",
      "  thresh = thresh*np.nanmax(signal)\n",
      "/gpfs/soma_fs/home/boeger/PpaPred/functions/waveletTransform.py:84: RuntimeWarning: All-NaN slice encountered\n",
      "  thresh = thresh*np.nanmax(signal)\n"
     ]
    },
    {
     "name": "stdout",
     "output_type": "stream",
     "text": [
      "split 7, range: (4631, 5621)\n",
      "Ffill-Interpolation of nan frames\n",
      "Exempted from interpolation: range(3185, 3253) (over 1 sec long)\n",
      "Exempted from interpolation: range(3292, 3831) (over 1 sec long)\n",
      "Exempted from interpolation: range(3940, 4188) (over 1 sec long)\n",
      "Exempted from interpolation: range(4522, 4631) (over 1 sec long)\n"
     ]
    },
    {
     "name": "stderr",
     "output_type": "stream",
     "text": [
      " 35%|███▌      | 48/136 [02:32<04:23,  3.00s/it]"
     ]
    },
    {
     "name": "stdout",
     "output_type": "stream",
     "text": [
      "\n",
      "\n",
      "feature calculation for L147_240514_L147bis_results_1.json_labeldata.csv\n",
      "Area larger than threshold, collision assumed in [range(8435, 8436), range(10968, 10969), range(10971, 10972), range(10974, 10975), range(11008, 11009), range(11010, 11023), range(11024, 11031), range(11032, 11041), range(11046, 11054), range(11190, 11191), range(11193, 11194), range(11195, 11197), range(11198, 11201), range(11218, 11220), range(11222, 11223), range(11224, 11225)].\n",
      "Calculation of features will be done in splits, ignoring those and adjacent* ranges. *That are less than 1 sec long.\n",
      "split 0, range: (0, 5078)\n",
      "Following frames seem to be tracked upside down\n",
      "We are going to flip those back:\n",
      "(array([ 712,  713,  714,  719, 3560]),)\n",
      "split 1, range: (5079, 6045)\n",
      "Following frames seem to be tracked upside down\n",
      "We are going to flip those back:\n",
      "(array([16, 17]),)\n",
      "split 2, range: (6056, 8435)\n",
      "Following frames seem to be tracked upside down\n",
      "We are going to flip those back:\n",
      "(array([5]),)\n",
      "split 3, range: (8436, 10968)\n",
      "split 4, range: (10975, 11008)\n",
      "Worm seems to travel backwards the majority of time, flipped all centerlines to agree with forward travelling assumption\n",
      "split 5, range: (11054, 11190)\n",
      "Worm seems to travel backwards the majority of time, flipped all centerlines to agree with forward travelling assumption\n",
      "split 6, range: (11225, 17999)\n"
     ]
    },
    {
     "name": "stderr",
     "output_type": "stream",
     "text": [
      "/gpfs/soma_fs/home/boeger/PpaPred/functions/waveletTransform.py:84: RuntimeWarning: All-NaN slice encountered\n",
      "  thresh = thresh*np.nanmax(signal)\n",
      "/gpfs/soma_fs/home/boeger/PpaPred/functions/waveletTransform.py:84: RuntimeWarning: All-NaN slice encountered\n",
      "  thresh = thresh*np.nanmax(signal)\n",
      "/gpfs/soma_fs/home/boeger/PpaPred/functions/waveletTransform.py:84: RuntimeWarning: All-NaN slice encountered\n",
      "  thresh = thresh*np.nanmax(signal)\n"
     ]
    },
    {
     "name": "stdout",
     "output_type": "stream",
     "text": [
      "Ffill-Interpolation of nan frames\n",
      "Exempted from interpolation: range(11008, 11054) (over 1 sec long)\n",
      "Exempted from interpolation: range(11190, 11225) (over 1 sec long)\n"
     ]
    },
    {
     "name": "stderr",
     "output_type": "stream",
     "text": [
      " 36%|███▌      | 49/136 [02:40<06:33,  4.52s/it]"
     ]
    },
    {
     "name": "stdout",
     "output_type": "stream",
     "text": [
      "\n",
      "\n",
      "feature calculation for L147_240514_L147_results_1.json_labeldata.csv\n",
      "Area larger than threshold, collision assumed in [range(16391, 16392), range(16396, 16397), range(16398, 16399), range(16401, 16402), range(16429, 16430), range(16443, 16444), range(16445, 16446), range(16454, 16455), range(16461, 16462), range(16466, 16468), range(16469, 16470), range(16481, 16482), range(16483, 16484), range(16486, 16489), range(16513, 16514), range(16517, 16518), range(16521, 16525), range(16542, 16547), range(16548, 16559), range(16560, 16561), range(16562, 16563), range(16565, 16575), range(16582, 16583), range(16587, 16588), range(16593, 16597), range(16605, 16606), range(16616, 16617), range(16621, 16624), range(16625, 16626), range(16627, 16629), range(16630, 16631), range(16632, 16633), range(16634, 16635), range(16636, 16639), range(16640, 16644), range(16645, 16649), range(16650, 16685), range(16686, 16701), range(16702, 16721), range(16722, 16737), range(16738, 16748), range(16749, 16766), range(16770, 16812)].\n",
      "Calculation of features will be done in splits, ignoring those and adjacent* ranges. *That are less than 1 sec long.\n",
      "split 0, range: (0, 9111)\n",
      "Following frames seem to be tracked upside down\n",
      "We are going to flip those back:\n",
      "(array([9083, 9091]),)\n",
      "split 1, range: (9112, 16391)\n",
      "Following frames seem to be tracked upside down\n",
      "We are going to flip those back:\n",
      "(array([5674, 5699, 6475]),)\n",
      "Ffill-Interpolation of nan frames\n",
      "Exempted from interpolation: range(16391, 16812) (over 1 sec long)\n"
     ]
    },
    {
     "name": "stderr",
     "output_type": "stream",
     "text": [
      " 37%|███▋      | 50/136 [02:47<07:34,  5.29s/it]"
     ]
    },
    {
     "name": "stdout",
     "output_type": "stream",
     "text": [
      "\n",
      "\n",
      "feature calculation for L147_240514_L147bis_results_7.json_labeldata.csv\n",
      "Area larger than threshold, collision assumed in [range(218, 231)].\n",
      "Calculation of features will be done in splits, ignoring those and adjacent* ranges. *That are less than 1 sec long.\n",
      "split 0, range: (0, 218)\n",
      "split 1, range: (231, 3527)\n",
      "Ffill-Interpolation of nan frames\n"
     ]
    },
    {
     "name": "stderr",
     "output_type": "stream",
     "text": [
      " 38%|███▊      | 51/136 [02:49<06:00,  4.24s/it]"
     ]
    },
    {
     "name": "stdout",
     "output_type": "stream",
     "text": [
      "\n",
      "\n",
      "feature calculation for L147_240514_L147_results_2.json_labeldata.csv\n",
      "Area larger than threshold, collision assumed in [].\n",
      "Calculation of features will be done in splits, ignoring those and adjacent* ranges. *That are less than 1 sec long.\n",
      "split 0, range: (0, 2468)\n",
      "Ffill-Interpolation of nan frames\n"
     ]
    },
    {
     "name": "stderr",
     "output_type": "stream",
     "text": [
      " 38%|███▊      | 52/136 [02:50<04:40,  3.34s/it]"
     ]
    },
    {
     "name": "stdout",
     "output_type": "stream",
     "text": [
      "\n",
      "\n",
      "feature calculation for L147_240514_L147_results_3.json_labeldata.csv\n",
      "Area larger than threshold, collision assumed in [].\n",
      "Calculation of features will be done in splits, ignoring those and adjacent* ranges. *That are less than 1 sec long.\n",
      "split 0, range: (0, 5322)\n",
      "split 1, range: (5362, 5525)\n",
      "split 2, range: (5528, 5561)\n",
      "split 3, range: (5575, 5608)\n"
     ]
    },
    {
     "name": "stderr",
     "output_type": "stream",
     "text": [
      "/gpfs/soma_fs/home/boeger/PpaPred/functions/waveletTransform.py:84: RuntimeWarning: All-NaN slice encountered\n",
      "  thresh = thresh*np.nanmax(signal)\n",
      "/gpfs/soma_fs/home/boeger/PpaPred/functions/waveletTransform.py:84: RuntimeWarning: All-NaN slice encountered\n",
      "  thresh = thresh*np.nanmax(signal)\n",
      "/gpfs/soma_fs/home/boeger/PpaPred/functions/waveletTransform.py:84: RuntimeWarning: All-NaN slice encountered\n",
      "  thresh = thresh*np.nanmax(signal)\n",
      "/gpfs/soma_fs/home/boeger/PpaPred/functions/waveletTransform.py:84: RuntimeWarning: All-NaN slice encountered\n",
      "  thresh = thresh*np.nanmax(signal)\n",
      "/gpfs/soma_fs/home/boeger/PpaPred/functions/waveletTransform.py:84: RuntimeWarning: All-NaN slice encountered\n",
      "  thresh = thresh*np.nanmax(signal)\n",
      "/gpfs/soma_fs/home/boeger/PpaPred/functions/waveletTransform.py:84: RuntimeWarning: All-NaN slice encountered\n",
      "  thresh = thresh*np.nanmax(signal)\n",
      "/gpfs/soma_fs/home/boeger/PpaPred/functions/waveletTransform.py:84: RuntimeWarning: All-NaN slice encountered\n",
      "  thresh = thresh*np.nanmax(signal)\n",
      "/gpfs/soma_fs/home/boeger/PpaPred/functions/waveletTransform.py:84: RuntimeWarning: All-NaN slice encountered\n",
      "  thresh = thresh*np.nanmax(signal)\n",
      "/gpfs/soma_fs/home/boeger/PpaPred/functions/waveletTransform.py:84: RuntimeWarning: All-NaN slice encountered\n",
      "  thresh = thresh*np.nanmax(signal)\n",
      "/gpfs/soma_fs/home/boeger/PpaPred/functions/waveletTransform.py:84: RuntimeWarning: All-NaN slice encountered\n",
      "  thresh = thresh*np.nanmax(signal)\n"
     ]
    },
    {
     "name": "stdout",
     "output_type": "stream",
     "text": [
      "split 4, range: (5625, 5658)\n",
      "Worm seems to travel backwards the majority of time, flipped all centerlines to agree with forward travelling assumption\n",
      "Ffill-Interpolation of nan frames\n",
      "Exempted from interpolation: range(5322, 5362) (over 1 sec long)\n",
      "Exempted from interpolation: range(5658, 5707) (over 1 sec long)\n"
     ]
    },
    {
     "name": "stderr",
     "output_type": "stream",
     "text": [
      " 39%|███▉      | 53/136 [02:53<04:23,  3.17s/it]"
     ]
    },
    {
     "name": "stdout",
     "output_type": "stream",
     "text": [
      "\n",
      "\n",
      "feature calculation for L147_240514_L147bis_results_2.json_labeldata.csv\n",
      "Area larger than threshold, collision assumed in [range(471, 472), range(473, 481), range(8435, 8436), range(8437, 8438), range(8440, 8441), range(10963, 10969), range(10971, 10975), range(11008, 11041), range(11043, 11055), range(11190, 11191), range(11193, 11197), range(11198, 11199), range(11219, 11220), range(11222, 11223), range(11224, 11225), range(11232, 11233)].\n",
      "Calculation of features will be done in splits, ignoring those and adjacent* ranges. *That are less than 1 sec long.\n",
      "split 0, range: (0, 471)\n",
      "split 1, range: (481, 8435)\n",
      "Following frames seem to be tracked upside down\n",
      "We are going to flip those back:\n",
      "(array([1881, 1882, 1883, 6231]),)\n",
      "split 2, range: (8441, 8759)\n",
      "Worm seems to travel backwards the majority of time, flipped all centerlines to agree with forward travelling assumption\n",
      "split 3, range: (8770, 9173)\n",
      "Worm seems to travel backwards the majority of time, flipped all centerlines to agree with forward travelling assumption\n",
      "split 4, range: (9174, 10963)\n",
      "split 5, range: (10975, 11008)\n",
      "Worm seems to travel backwards the majority of time, flipped all centerlines to agree with forward travelling assumption\n",
      "split 6, range: (11055, 11190)\n",
      "split 7, range: (11233, 11779)\n",
      "Worm seems to travel backwards the majority of time, flipped all centerlines to agree with forward travelling assumption\n"
     ]
    },
    {
     "name": "stderr",
     "output_type": "stream",
     "text": [
      "/gpfs/soma_fs/home/boeger/PpaPred/functions/waveletTransform.py:84: RuntimeWarning: All-NaN slice encountered\n",
      "  thresh = thresh*np.nanmax(signal)\n",
      "/gpfs/soma_fs/home/boeger/PpaPred/functions/waveletTransform.py:84: RuntimeWarning: All-NaN slice encountered\n",
      "  thresh = thresh*np.nanmax(signal)\n",
      "/gpfs/soma_fs/home/boeger/PpaPred/functions/waveletTransform.py:84: RuntimeWarning: All-NaN slice encountered\n",
      "  thresh = thresh*np.nanmax(signal)\n",
      "/gpfs/soma_fs/home/boeger/PpaPred/functions/waveletTransform.py:84: RuntimeWarning: All-NaN slice encountered\n",
      "  thresh = thresh*np.nanmax(signal)\n",
      "/gpfs/soma_fs/home/boeger/PpaPred/functions/waveletTransform.py:84: RuntimeWarning: All-NaN slice encountered\n",
      "  thresh = thresh*np.nanmax(signal)\n"
     ]
    },
    {
     "name": "stdout",
     "output_type": "stream",
     "text": [
      "split 8, range: (11791, 11976)\n",
      "split 9, range: (11991, 12028)\n",
      "split 10, range: (12030, 12127)\n"
     ]
    },
    {
     "name": "stderr",
     "output_type": "stream",
     "text": [
      "/gpfs/soma_fs/home/boeger/PpaPred/functions/waveletTransform.py:84: RuntimeWarning: All-NaN slice encountered\n",
      "  thresh = thresh*np.nanmax(signal)\n",
      "/gpfs/soma_fs/home/boeger/PpaPred/functions/waveletTransform.py:84: RuntimeWarning: All-NaN slice encountered\n",
      "  thresh = thresh*np.nanmax(signal)\n",
      "/gpfs/soma_fs/home/boeger/PpaPred/functions/waveletTransform.py:84: RuntimeWarning: All-NaN slice encountered\n",
      "  thresh = thresh*np.nanmax(signal)\n",
      "/gpfs/soma_fs/home/boeger/PpaPred/functions/waveletTransform.py:84: RuntimeWarning: All-NaN slice encountered\n",
      "  thresh = thresh*np.nanmax(signal)\n",
      "/gpfs/soma_fs/home/boeger/PpaPred/functions/waveletTransform.py:84: RuntimeWarning: All-NaN slice encountered\n",
      "  thresh = thresh*np.nanmax(signal)\n",
      "/gpfs/soma_fs/home/boeger/PpaPred/functions/waveletTransform.py:84: RuntimeWarning: All-NaN slice encountered\n",
      "  thresh = thresh*np.nanmax(signal)\n",
      "/gpfs/soma_fs/home/boeger/PpaPred/functions/waveletTransform.py:84: RuntimeWarning: All-NaN slice encountered\n",
      "  thresh = thresh*np.nanmax(signal)\n",
      "/gpfs/soma_fs/home/boeger/PpaPred/functions/waveletTransform.py:84: RuntimeWarning: All-NaN slice encountered\n",
      "  thresh = thresh*np.nanmax(signal)\n",
      "/gpfs/soma_fs/home/boeger/PpaPred/functions/waveletTransform.py:84: RuntimeWarning: All-NaN slice encountered\n",
      "  thresh = thresh*np.nanmax(signal)\n"
     ]
    },
    {
     "name": "stdout",
     "output_type": "stream",
     "text": [
      "split 11, range: (12131, 12196)\n",
      "Worm seems to travel backwards the majority of time, flipped all centerlines to agree with forward travelling assumption\n",
      "split 12, range: (12200, 12271)\n",
      "split 13, range: (12272, 12373)\n"
     ]
    },
    {
     "name": "stderr",
     "output_type": "stream",
     "text": [
      "/gpfs/soma_fs/home/boeger/PpaPred/functions/waveletTransform.py:84: RuntimeWarning: All-NaN slice encountered\n",
      "  thresh = thresh*np.nanmax(signal)\n",
      "/gpfs/soma_fs/home/boeger/PpaPred/functions/waveletTransform.py:84: RuntimeWarning: All-NaN slice encountered\n",
      "  thresh = thresh*np.nanmax(signal)\n",
      "/gpfs/soma_fs/home/boeger/PpaPred/functions/waveletTransform.py:84: RuntimeWarning: All-NaN slice encountered\n",
      "  thresh = thresh*np.nanmax(signal)\n",
      "/gpfs/soma_fs/home/boeger/PpaPred/functions/waveletTransform.py:84: RuntimeWarning: All-NaN slice encountered\n",
      "  thresh = thresh*np.nanmax(signal)\n",
      "/gpfs/soma_fs/home/boeger/PpaPred/functions/waveletTransform.py:84: RuntimeWarning: All-NaN slice encountered\n",
      "  thresh = thresh*np.nanmax(signal)\n"
     ]
    },
    {
     "name": "stdout",
     "output_type": "stream",
     "text": [
      "split 14, range: (12376, 12477)\n",
      "split 15, range: (12483, 12590)\n",
      "Following frames seem to be tracked upside down\n",
      "We are going to flip those back:\n",
      "(array([ 6,  7,  8, 10, 11, 12, 13, 14, 15, 16, 18, 19, 20, 21, 22, 23, 24,\n",
      "       25, 26, 27, 28, 29, 30, 31, 32, 33, 34, 35, 36, 37, 38, 39, 40, 41,\n",
      "       42, 43, 48, 49, 50, 51, 52, 53, 54, 56, 57, 58, 59, 60, 61, 62, 63,\n",
      "       64, 65, 66, 67, 68, 69, 70, 71, 72, 73, 74, 75, 76, 77, 78, 79, 80,\n",
      "       81, 82, 83, 85, 86, 87, 88, 89, 90, 91]),)\n",
      "Worm seems to travel backwards the majority of time, flipped all centerlines to agree with forward travelling assumption\n",
      "split 16, range: (12592, 13772)\n"
     ]
    },
    {
     "name": "stderr",
     "output_type": "stream",
     "text": [
      "/gpfs/soma_fs/home/boeger/PpaPred/functions/waveletTransform.py:84: RuntimeWarning: All-NaN slice encountered\n",
      "  thresh = thresh*np.nanmax(signal)\n",
      "/gpfs/soma_fs/home/boeger/PpaPred/functions/waveletTransform.py:84: RuntimeWarning: All-NaN slice encountered\n",
      "  thresh = thresh*np.nanmax(signal)\n",
      "/gpfs/soma_fs/home/boeger/PpaPred/functions/waveletTransform.py:84: RuntimeWarning: All-NaN slice encountered\n",
      "  thresh = thresh*np.nanmax(signal)\n",
      "/gpfs/soma_fs/home/boeger/PpaPred/functions/waveletTransform.py:84: RuntimeWarning: All-NaN slice encountered\n",
      "  thresh = thresh*np.nanmax(signal)\n"
     ]
    },
    {
     "name": "stdout",
     "output_type": "stream",
     "text": [
      "Following frames seem to be tracked upside down\n",
      "We are going to flip those back:\n",
      "(array([787, 789, 822]),)\n",
      "split 17, range: (13773, 14001)\n",
      "split 18, range: (14005, 14050)\n"
     ]
    },
    {
     "name": "stderr",
     "output_type": "stream",
     "text": [
      "/gpfs/soma_fs/home/boeger/PpaPred/functions/waveletTransform.py:84: RuntimeWarning: All-NaN slice encountered\n",
      "  thresh = thresh*np.nanmax(signal)\n",
      "/gpfs/soma_fs/home/boeger/PpaPred/functions/waveletTransform.py:84: RuntimeWarning: All-NaN slice encountered\n",
      "  thresh = thresh*np.nanmax(signal)\n",
      "/gpfs/soma_fs/home/boeger/PpaPred/functions/waveletTransform.py:84: RuntimeWarning: All-NaN slice encountered\n",
      "  thresh = thresh*np.nanmax(signal)\n",
      "/gpfs/soma_fs/home/boeger/PpaPred/functions/waveletTransform.py:84: RuntimeWarning: All-NaN slice encountered\n",
      "  thresh = thresh*np.nanmax(signal)\n",
      "/gpfs/soma_fs/home/boeger/PpaPred/functions/waveletTransform.py:84: RuntimeWarning: All-NaN slice encountered\n",
      "  thresh = thresh*np.nanmax(signal)\n",
      "/gpfs/soma_fs/home/boeger/PpaPred/functions/waveletTransform.py:84: RuntimeWarning: All-NaN slice encountered\n",
      "  thresh = thresh*np.nanmax(signal)\n"
     ]
    },
    {
     "name": "stdout",
     "output_type": "stream",
     "text": [
      "split 19, range: (14095, 14314)\n",
      "Worm seems to travel backwards the majority of time, flipped all centerlines to agree with forward travelling assumption\n",
      "split 20, range: (14336, 14400)\n",
      "Worm seems to travel backwards the majority of time, flipped all centerlines to agree with forward travelling assumption\n"
     ]
    },
    {
     "name": "stderr",
     "output_type": "stream",
     "text": [
      "/gpfs/soma_fs/home/boeger/PpaPred/functions/waveletTransform.py:84: RuntimeWarning: All-NaN slice encountered\n",
      "  thresh = thresh*np.nanmax(signal)\n",
      "/gpfs/soma_fs/home/boeger/PpaPred/functions/waveletTransform.py:84: RuntimeWarning: All-NaN slice encountered\n",
      "  thresh = thresh*np.nanmax(signal)\n",
      "/gpfs/soma_fs/home/boeger/PpaPred/functions/waveletTransform.py:84: RuntimeWarning: All-NaN slice encountered\n",
      "  thresh = thresh*np.nanmax(signal)\n",
      "/gpfs/soma_fs/home/boeger/PpaPred/functions/waveletTransform.py:84: RuntimeWarning: All-NaN slice encountered\n",
      "  thresh = thresh*np.nanmax(signal)\n",
      "/gpfs/soma_fs/home/boeger/PpaPred/functions/waveletTransform.py:84: RuntimeWarning: All-NaN slice encountered\n",
      "  thresh = thresh*np.nanmax(signal)\n",
      "/gpfs/soma_fs/home/boeger/PpaPred/functions/waveletTransform.py:84: RuntimeWarning: All-NaN slice encountered\n",
      "  thresh = thresh*np.nanmax(signal)\n"
     ]
    },
    {
     "name": "stdout",
     "output_type": "stream",
     "text": [
      "split 21, range: (14426, 14518)\n",
      "split 22, range: (14525, 17999)\n",
      "Following frames seem to be tracked upside down\n",
      "We are going to flip those back:\n",
      "(array([16]),)\n",
      "Ffill-Interpolation of nan frames\n",
      "Exempted from interpolation: range(11008, 11055) (over 1 sec long)\n",
      "Exempted from interpolation: range(11190, 11233) (over 1 sec long)\n",
      "Exempted from interpolation: range(14050, 14095) (over 1 sec long)\n"
     ]
    },
    {
     "name": "stderr",
     "output_type": "stream",
     "text": [
      " 40%|███▉      | 54/136 [03:03<06:55,  5.07s/it]"
     ]
    },
    {
     "name": "stdout",
     "output_type": "stream",
     "text": [
      "\n",
      "\n",
      "feature calculation for L147_240514_L147_results_18.json_labeldata.csv\n",
      "Area larger than threshold, collision assumed in [].\n",
      "Calculation of features will be done in splits, ignoring those and adjacent* ranges. *That are less than 1 sec long.\n",
      "split 0, range: (14, 3355)\n",
      "split 1, range: (3369, 4307)\n",
      "split 2, range: (4330, 4503)\n",
      "Following frames seem to be tracked upside down\n",
      "We are going to flip those back:\n",
      "(array([ 11,  12,  13,  14,  15,  16,  17,  18,  19,  20,  21,  22,  23,\n",
      "        24,  25,  26,  27,  28,  29,  30,  31,  32,  33,  34,  35,  36,\n",
      "        37,  38,  39,  40,  41,  42,  43,  44,  45,  46,  47,  48,  49,\n",
      "        50,  51,  52,  53,  54,  55,  56,  57,  58,  59,  60,  61,  62,\n",
      "        63,  64,  65,  66,  67,  68,  69,  70,  71,  72,  73,  74,  75,\n",
      "        76,  77,  78,  79,  80,  81,  82,  83,  84,  85,  86,  87,  88,\n",
      "        89,  90,  91,  92,  93,  94,  95,  96,  97,  98,  99, 100, 101,\n",
      "       102, 103, 104, 105, 106, 107, 108, 109, 110, 111, 112, 113, 114,\n",
      "       115, 116, 117, 118, 119, 120, 121, 122, 123, 135, 136, 137, 138,\n",
      "       139, 140, 141, 142, 143, 144, 157, 158, 159, 160, 161, 162, 168,\n",
      "       169, 170, 171, 172]),)\n",
      "Worm seems to travel backwards the majority of time, flipped all centerlines to agree with forward travelling assumption\n",
      "Ffill-Interpolation of nan frames\n"
     ]
    },
    {
     "name": "stderr",
     "output_type": "stream",
     "text": [
      " 40%|████      | 55/136 [03:05<05:40,  4.21s/it]"
     ]
    },
    {
     "name": "stdout",
     "output_type": "stream",
     "text": [
      "\n",
      "\n",
      "feature calculation for L147_240514_L147bis_results_8.json_labeldata.csv\n",
      "Area larger than threshold, collision assumed in [range(77, 78), range(80, 81), range(8036, 8038), range(8039, 8043), range(8044, 8045), range(10567, 10568), range(10569, 10570), range(10571, 10573), range(10575, 10576), range(10577, 10579), range(10610, 10611), range(10612, 10645), range(10647, 10654), range(10655, 10657), range(10794, 10795), range(10796, 10801), range(10802, 10806), range(10807, 10808), range(10820, 10821), range(10822, 10824), range(10825, 10830), range(10836, 10837)].\n",
      "Calculation of features will be done in splits, ignoring those and adjacent* ranges. *That are less than 1 sec long.\n",
      "split 0, range: (0, 77)\n",
      "Worm seems to travel backwards the majority of time, flipped all centerlines to agree with forward travelling assumption\n",
      "split 1, range: (81, 8036)\n",
      "Following frames seem to be tracked upside down\n",
      "We are going to flip those back:\n",
      "(array([4271, 4274, 4275, 4276, 4280, 4283, 4284, 4287]),)\n"
     ]
    },
    {
     "name": "stderr",
     "output_type": "stream",
     "text": [
      "/gpfs/soma_fs/home/boeger/PpaPred/functions/waveletTransform.py:84: RuntimeWarning: All-NaN slice encountered\n",
      "  thresh = thresh*np.nanmax(signal)\n"
     ]
    },
    {
     "name": "stdout",
     "output_type": "stream",
     "text": [
      "split 2, range: (8045, 10567)\n",
      "Following frames seem to be tracked upside down\n",
      "We are going to flip those back:\n",
      "(array([334]),)\n",
      "Worm seems to travel backwards the majority of time, flipped all centerlines to agree with forward travelling assumption\n",
      "split 3, range: (10579, 10610)\n",
      "Worm seems to travel backwards the majority of time, flipped all centerlines to agree with forward travelling assumption\n",
      "split 4, range: (10657, 10794)\n",
      "Worm seems to travel backwards the majority of time, flipped all centerlines to agree with forward travelling assumption\n",
      "split 5, range: (10837, 17603)\n"
     ]
    },
    {
     "name": "stderr",
     "output_type": "stream",
     "text": [
      "/gpfs/soma_fs/home/boeger/PpaPred/functions/waveletTransform.py:84: RuntimeWarning: All-NaN slice encountered\n",
      "  thresh = thresh*np.nanmax(signal)\n",
      "/gpfs/soma_fs/home/boeger/PpaPred/functions/waveletTransform.py:84: RuntimeWarning: All-NaN slice encountered\n",
      "  thresh = thresh*np.nanmax(signal)\n",
      "/gpfs/soma_fs/home/boeger/PpaPred/functions/waveletTransform.py:84: RuntimeWarning: All-NaN slice encountered\n",
      "  thresh = thresh*np.nanmax(signal)\n",
      "/gpfs/soma_fs/home/boeger/PpaPred/functions/waveletTransform.py:84: RuntimeWarning: All-NaN slice encountered\n",
      "  thresh = thresh*np.nanmax(signal)\n",
      "/gpfs/soma_fs/home/boeger/PpaPred/functions/waveletTransform.py:84: RuntimeWarning: All-NaN slice encountered\n",
      "  thresh = thresh*np.nanmax(signal)\n"
     ]
    },
    {
     "name": "stdout",
     "output_type": "stream",
     "text": [
      "Ffill-Interpolation of nan frames\n",
      "Exempted from interpolation: range(10610, 10657) (over 1 sec long)\n",
      "Exempted from interpolation: range(10794, 10837) (over 1 sec long)\n"
     ]
    },
    {
     "name": "stderr",
     "output_type": "stream",
     "text": [
      " 41%|████      | 56/136 [03:13<07:00,  5.25s/it]"
     ]
    },
    {
     "name": "stdout",
     "output_type": "stream",
     "text": [
      "\n",
      "\n",
      "feature calculation for L147_240514_L147_results_4.json_labeldata.csv\n",
      "Area larger than threshold, collision assumed in [].\n",
      "Calculation of features will be done in splits, ignoring those and adjacent* ranges. *That are less than 1 sec long.\n",
      "split 0, range: (0, 2184)\n",
      "Following frames seem to be tracked upside down\n",
      "We are going to flip those back:\n",
      "(array([1616]),)\n",
      "Ffill-Interpolation of nan frames\n"
     ]
    },
    {
     "name": "stderr",
     "output_type": "stream",
     "text": [
      " 42%|████▏     | 57/136 [03:14<05:14,  3.99s/it]"
     ]
    },
    {
     "name": "stdout",
     "output_type": "stream",
     "text": [
      "\n",
      "\n",
      "feature calculation for L147_240514_L147bis_results_4.json_labeldata.csv\n",
      "Area larger than threshold, collision assumed in [range(464, 482)].\n",
      "Calculation of features will be done in splits, ignoring those and adjacent* ranges. *That are less than 1 sec long.\n",
      "split 0, range: (19, 464)\n",
      "Worm seems to travel backwards the majority of time, flipped all centerlines to agree with forward travelling assumption\n",
      "split 1, range: (482, 821)\n",
      "split 2, range: (937, 992)\n",
      "split 3, range: (1079, 1429)\n"
     ]
    },
    {
     "name": "stderr",
     "output_type": "stream",
     "text": [
      "/gpfs/soma_fs/home/boeger/PpaPred/functions/waveletTransform.py:84: RuntimeWarning: All-NaN slice encountered\n",
      "  thresh = thresh*np.nanmax(signal)\n",
      "/gpfs/soma_fs/home/boeger/PpaPred/functions/waveletTransform.py:84: RuntimeWarning: All-NaN slice encountered\n",
      "  thresh = thresh*np.nanmax(signal)\n",
      "/gpfs/soma_fs/home/boeger/PpaPred/functions/waveletTransform.py:84: RuntimeWarning: All-NaN slice encountered\n",
      "  thresh = thresh*np.nanmax(signal)\n",
      "/gpfs/soma_fs/home/boeger/PpaPred/functions/waveletTransform.py:84: RuntimeWarning: All-NaN slice encountered\n",
      "  thresh = thresh*np.nanmax(signal)\n"
     ]
    },
    {
     "name": "stdout",
     "output_type": "stream",
     "text": [
      "split 4, range: (1432, 1787)\n",
      "Worm seems to travel backwards the majority of time, flipped all centerlines to agree with forward travelling assumption\n",
      "split 5, range: (1802, 6010)\n",
      "Following frames seem to be tracked upside down\n",
      "We are going to flip those back:\n",
      "(array([ 184,  255, 1453, 1455, 1456, 1457, 1458, 1459, 1461, 1464, 1467,\n",
      "       1473, 1474]),)\n",
      "split 6, range: (6060, 6826)\n",
      "Following frames seem to be tracked upside down\n",
      "We are going to flip those back:\n",
      "(array([764, 765]),)\n"
     ]
    },
    {
     "name": "stderr",
     "output_type": "stream",
     "text": [
      "/gpfs/soma_fs/home/boeger/PpaPred/functions/waveletTransform.py:84: RuntimeWarning: All-NaN slice encountered\n",
      "  thresh = thresh*np.nanmax(signal)\n",
      "/gpfs/soma_fs/home/boeger/PpaPred/functions/waveletTransform.py:84: RuntimeWarning: All-NaN slice encountered\n",
      "  thresh = thresh*np.nanmax(signal)\n"
     ]
    },
    {
     "name": "stdout",
     "output_type": "stream",
     "text": [
      "split 7, range: (6830, 7223)\n",
      "Ffill-Interpolation of nan frames\n",
      "Exempted from interpolation: range(821, 937) (over 1 sec long)\n",
      "Exempted from interpolation: range(992, 1079) (over 1 sec long)\n",
      "Exempted from interpolation: range(6010, 6060) (over 1 sec long)\n"
     ]
    },
    {
     "name": "stderr",
     "output_type": "stream",
     "text": [
      " 43%|████▎     | 58/136 [03:17<05:02,  3.87s/it]"
     ]
    },
    {
     "name": "stdout",
     "output_type": "stream",
     "text": [
      "\n",
      "\n",
      "feature calculation for L147_240514_L147bis_results_0.json_labeldata.csv\n",
      "Area larger than threshold, collision assumed in [range(471, 472), range(473, 480), range(8430, 8431), range(8432, 8439), range(8440, 8441), range(8442, 8444), range(10166, 10168), range(10307, 10308), range(10721, 10722), range(10729, 10749), range(10750, 10751), range(10753, 10754), range(10956, 10957), range(10958, 10983), range(10984, 10985), range(10988, 10989), range(10995, 10996), range(10997, 10998), range(11000, 11001), range(11002, 11066), range(11133, 11134), range(11139, 11140), range(11141, 11145), range(11146, 11156), range(11157, 11236), range(11237, 11239), range(11242, 11243), range(11287, 11289), range(11323, 11328), range(11329, 11330), range(11331, 11333), range(11334, 11335), range(11356, 11357), range(11369, 11371), range(11392, 11399), range(11400, 11401), range(11402, 11405), range(11455, 11456)].\n",
      "Calculation of features will be done in splits, ignoring those and adjacent* ranges. *That are less than 1 sec long.\n",
      "split 0, range: (0, 471)\n",
      "split 1, range: (480, 8430)\n",
      "Following frames seem to be tracked upside down\n",
      "We are going to flip those back:\n",
      "(array([7009, 7014]),)\n",
      "Worm seems to travel backwards the majority of time, flipped all centerlines to agree with forward travelling assumption\n",
      "split 2, range: (8444, 10166)\n",
      "split 3, range: (10168, 10307)\n",
      "Worm seems to travel backwards the majority of time, flipped all centerlines to agree with forward travelling assumption\n",
      "split 4, range: (10308, 10721)\n",
      "Worm seems to travel backwards the majority of time, flipped all centerlines to agree with forward travelling assumption\n"
     ]
    },
    {
     "name": "stderr",
     "output_type": "stream",
     "text": [
      "/gpfs/soma_fs/home/boeger/PpaPred/functions/waveletTransform.py:84: RuntimeWarning: All-NaN slice encountered\n",
      "  thresh = thresh*np.nanmax(signal)\n",
      "/gpfs/soma_fs/home/boeger/PpaPred/functions/waveletTransform.py:84: RuntimeWarning: All-NaN slice encountered\n",
      "  thresh = thresh*np.nanmax(signal)\n",
      "/gpfs/soma_fs/home/boeger/PpaPred/functions/waveletTransform.py:84: RuntimeWarning: All-NaN slice encountered\n",
      "  thresh = thresh*np.nanmax(signal)\n"
     ]
    },
    {
     "name": "stdout",
     "output_type": "stream",
     "text": [
      "split 5, range: (10754, 10956)\n",
      "Worm seems to travel backwards the majority of time, flipped all centerlines to agree with forward travelling assumption\n",
      "split 6, range: (11066, 11133)\n"
     ]
    },
    {
     "name": "stderr",
     "output_type": "stream",
     "text": [
      "/gpfs/soma_fs/home/boeger/PpaPred/functions/waveletTransform.py:84: RuntimeWarning: All-NaN slice encountered\n",
      "  thresh = thresh*np.nanmax(signal)\n",
      "/gpfs/soma_fs/home/boeger/PpaPred/functions/waveletTransform.py:84: RuntimeWarning: All-NaN slice encountered\n",
      "  thresh = thresh*np.nanmax(signal)\n",
      "/gpfs/soma_fs/home/boeger/PpaPred/functions/waveletTransform.py:84: RuntimeWarning: All-NaN slice encountered\n",
      "  thresh = thresh*np.nanmax(signal)\n",
      "/gpfs/soma_fs/home/boeger/PpaPred/functions/waveletTransform.py:84: RuntimeWarning: All-NaN slice encountered\n",
      "  thresh = thresh*np.nanmax(signal)\n",
      "/gpfs/soma_fs/home/boeger/PpaPred/functions/waveletTransform.py:84: RuntimeWarning: All-NaN slice encountered\n",
      "  thresh = thresh*np.nanmax(signal)\n",
      "/gpfs/soma_fs/home/boeger/PpaPred/functions/waveletTransform.py:84: RuntimeWarning: All-NaN slice encountered\n",
      "  thresh = thresh*np.nanmax(signal)\n",
      "/gpfs/soma_fs/home/boeger/PpaPred/functions/waveletTransform.py:84: RuntimeWarning: All-NaN slice encountered\n",
      "  thresh = thresh*np.nanmax(signal)\n",
      "/gpfs/soma_fs/home/boeger/PpaPred/functions/waveletTransform.py:84: RuntimeWarning: All-NaN slice encountered\n",
      "  thresh = thresh*np.nanmax(signal)\n",
      "/gpfs/soma_fs/home/boeger/PpaPred/functions/waveletTransform.py:84: RuntimeWarning: All-NaN slice encountered\n",
      "  thresh = thresh*np.nanmax(signal)\n",
      "/gpfs/soma_fs/home/boeger/PpaPred/functions/waveletTransform.py:84: RuntimeWarning: All-NaN slice encountered\n",
      "  thresh = thresh*np.nanmax(signal)\n",
      "/gpfs/soma_fs/home/boeger/PpaPred/functions/waveletTransform.py:84: RuntimeWarning: All-NaN slice encountered\n",
      "  thresh = thresh*np.nanmax(signal)\n"
     ]
    },
    {
     "name": "stdout",
     "output_type": "stream",
     "text": [
      "split 7, range: (11243, 11287)\n",
      "Worm seems to travel backwards the majority of time, flipped all centerlines to agree with forward travelling assumption\n",
      "split 8, range: (11289, 11323)\n",
      "Worm seems to travel backwards the majority of time, flipped all centerlines to agree with forward travelling assumption\n",
      "split 9, range: (11405, 11455)\n",
      "Worm seems to travel backwards the majority of time, flipped all centerlines to agree with forward travelling assumption\n"
     ]
    },
    {
     "name": "stderr",
     "output_type": "stream",
     "text": [
      "/gpfs/soma_fs/home/boeger/PpaPred/functions/waveletTransform.py:84: RuntimeWarning: All-NaN slice encountered\n",
      "  thresh = thresh*np.nanmax(signal)\n",
      "/gpfs/soma_fs/home/boeger/PpaPred/functions/waveletTransform.py:84: RuntimeWarning: All-NaN slice encountered\n",
      "  thresh = thresh*np.nanmax(signal)\n",
      "/gpfs/soma_fs/home/boeger/PpaPred/functions/waveletTransform.py:84: RuntimeWarning: All-NaN slice encountered\n",
      "  thresh = thresh*np.nanmax(signal)\n",
      "/gpfs/soma_fs/home/boeger/PpaPred/functions/waveletTransform.py:84: RuntimeWarning: All-NaN slice encountered\n",
      "  thresh = thresh*np.nanmax(signal)\n"
     ]
    },
    {
     "name": "stdout",
     "output_type": "stream",
     "text": [
      "split 10, range: (11456, 17999)\n",
      "Following frames seem to be tracked upside down\n",
      "We are going to flip those back:\n",
      "(array([4171, 4180, 4181, 4182, 4184, 4186, 4196, 4197, 4204, 4207, 4208,\n",
      "       4209, 4210, 4213, 4214, 4215, 4216, 4217, 4218, 4219, 4220, 4221,\n",
      "       4222, 4224, 4227, 4229, 4230, 4231, 4232, 4233, 4234, 4235, 4236,\n",
      "       4237, 4239, 4240, 4241, 4242, 4243, 4245, 4246]),)\n",
      "Ffill-Interpolation of nan frames\n",
      "Exempted from interpolation: range(10721, 10754) (over 1 sec long)\n",
      "Exempted from interpolation: range(10956, 11066) (over 1 sec long)\n",
      "Exempted from interpolation: range(11133, 11243) (over 1 sec long)\n",
      "Exempted from interpolation: range(11323, 11405) (over 1 sec long)\n"
     ]
    },
    {
     "name": "stderr",
     "output_type": "stream",
     "text": [
      " 43%|████▎     | 59/136 [03:25<06:39,  5.19s/it]"
     ]
    },
    {
     "name": "stdout",
     "output_type": "stream",
     "text": [
      "\n",
      "\n",
      "feature calculation for L147_240514_L147_results_6.json_labeldata.csv\n",
      "Area larger than threshold, collision assumed in [].\n",
      "Calculation of features will be done in splits, ignoring those and adjacent* ranges. *That are less than 1 sec long.\n",
      "split 0, range: (0, 6072)\n",
      "Worm seems to travel backwards the majority of time, flipped all centerlines to agree with forward travelling assumption\n",
      "split 1, range: (6073, 6124)\n",
      "split 2, range: (6130, 6738)\n",
      "Worm seems to travel backwards the majority of time, flipped all centerlines to agree with forward travelling assumption\n"
     ]
    },
    {
     "name": "stderr",
     "output_type": "stream",
     "text": [
      "/gpfs/soma_fs/home/boeger/PpaPred/functions/waveletTransform.py:84: RuntimeWarning: All-NaN slice encountered\n",
      "  thresh = thresh*np.nanmax(signal)\n",
      "/gpfs/soma_fs/home/boeger/PpaPred/functions/waveletTransform.py:84: RuntimeWarning: All-NaN slice encountered\n",
      "  thresh = thresh*np.nanmax(signal)\n",
      "/gpfs/soma_fs/home/boeger/PpaPred/functions/waveletTransform.py:84: RuntimeWarning: All-NaN slice encountered\n",
      "  thresh = thresh*np.nanmax(signal)\n",
      "/gpfs/soma_fs/home/boeger/PpaPred/functions/waveletTransform.py:84: RuntimeWarning: All-NaN slice encountered\n",
      "  thresh = thresh*np.nanmax(signal)\n"
     ]
    },
    {
     "name": "stdout",
     "output_type": "stream",
     "text": [
      "split 3, range: (6762, 6820)\n",
      "Worm seems to travel backwards the majority of time, flipped all centerlines to agree with forward travelling assumption\n",
      "split 4, range: (6825, 7016)\n",
      "Worm seems to travel backwards the majority of time, flipped all centerlines to agree with forward travelling assumption\n",
      "split 5, range: (7064, 7179)\n",
      "Worm seems to travel backwards the majority of time, flipped all centerlines to agree with forward travelling assumption\n"
     ]
    },
    {
     "name": "stderr",
     "output_type": "stream",
     "text": [
      "/gpfs/soma_fs/home/boeger/PpaPred/functions/waveletTransform.py:84: RuntimeWarning: All-NaN slice encountered\n",
      "  thresh = thresh*np.nanmax(signal)\n",
      "/gpfs/soma_fs/home/boeger/PpaPred/functions/waveletTransform.py:84: RuntimeWarning: All-NaN slice encountered\n",
      "  thresh = thresh*np.nanmax(signal)\n",
      "/gpfs/soma_fs/home/boeger/PpaPred/functions/waveletTransform.py:84: RuntimeWarning: All-NaN slice encountered\n",
      "  thresh = thresh*np.nanmax(signal)\n",
      "/gpfs/soma_fs/home/boeger/PpaPred/functions/waveletTransform.py:84: RuntimeWarning: All-NaN slice encountered\n",
      "  thresh = thresh*np.nanmax(signal)\n",
      "/gpfs/soma_fs/home/boeger/PpaPred/functions/waveletTransform.py:84: RuntimeWarning: All-NaN slice encountered\n",
      "  thresh = thresh*np.nanmax(signal)\n",
      "/gpfs/soma_fs/home/boeger/PpaPred/functions/waveletTransform.py:84: RuntimeWarning: All-NaN slice encountered\n",
      "  thresh = thresh*np.nanmax(signal)\n",
      "/gpfs/soma_fs/home/boeger/PpaPred/functions/waveletTransform.py:84: RuntimeWarning: All-NaN slice encountered\n",
      "  thresh = thresh*np.nanmax(signal)\n",
      "/gpfs/soma_fs/home/boeger/PpaPred/functions/waveletTransform.py:84: RuntimeWarning: All-NaN slice encountered\n",
      "  thresh = thresh*np.nanmax(signal)\n",
      "/gpfs/soma_fs/home/boeger/PpaPred/functions/waveletTransform.py:84: RuntimeWarning: All-NaN slice encountered\n",
      "  thresh = thresh*np.nanmax(signal)\n"
     ]
    },
    {
     "name": "stdout",
     "output_type": "stream",
     "text": [
      "Ffill-Interpolation of nan frames\n",
      "Exempted from interpolation: range(7016, 7064) (over 1 sec long)\n",
      "Exempted from interpolation: range(7179, 7247) (over 1 sec long)\n"
     ]
    },
    {
     "name": "stderr",
     "output_type": "stream",
     "text": [
      " 44%|████▍     | 60/136 [03:29<05:56,  4.70s/it]"
     ]
    },
    {
     "name": "stdout",
     "output_type": "stream",
     "text": [
      "\n",
      "\n",
      "feature calculation for L147_240514_L147_results_7.json_labeldata.csv\n",
      "Area larger than threshold, collision assumed in [range(2531, 2532), range(2542, 2543), range(2546, 2547), range(2549, 2550), range(2551, 2556), range(2557, 2561), range(2562, 2581), range(2582, 2583), range(2588, 2589), range(2591, 2592), range(2593, 2595), range(2596, 2597), range(2599, 2600), range(2601, 2603), range(2612, 2626), range(2627, 2628), range(2630, 2631), range(2676, 2678), range(2679, 2680), range(2681, 2686), range(2690, 2698), range(2699, 2700), range(2701, 2702), range(2715, 2716)].\n",
      "Calculation of features will be done in splits, ignoring those and adjacent* ranges. *That are less than 1 sec long.\n",
      "split 0, range: (0, 2531)\n",
      "Following frames seem to be tracked upside down\n",
      "We are going to flip those back:\n",
      "(array([189, 245, 246, 247, 252, 253]),)\n",
      "split 1, range: (2631, 2676)\n",
      "Ffill-Interpolation of nan frames\n",
      "Exempted from interpolation: range(2531, 2631) (over 1 sec long)\n",
      "Exempted from interpolation: range(2676, 2716) (over 1 sec long)\n"
     ]
    },
    {
     "name": "stderr",
     "output_type": "stream",
     "text": [
      "/gpfs/soma_fs/home/boeger/PpaPred/functions/waveletTransform.py:84: RuntimeWarning: All-NaN slice encountered\n",
      "  thresh = thresh*np.nanmax(signal)\n",
      "/gpfs/soma_fs/home/boeger/PpaPred/functions/waveletTransform.py:84: RuntimeWarning: All-NaN slice encountered\n",
      "  thresh = thresh*np.nanmax(signal)\n",
      "/gpfs/soma_fs/home/boeger/PpaPred/functions/waveletTransform.py:84: RuntimeWarning: All-NaN slice encountered\n",
      "  thresh = thresh*np.nanmax(signal)\n",
      "/gpfs/soma_fs/home/boeger/PpaPred/functions/waveletTransform.py:84: RuntimeWarning: All-NaN slice encountered\n",
      "  thresh = thresh*np.nanmax(signal)\n",
      " 45%|████▍     | 61/136 [03:30<04:35,  3.68s/it]"
     ]
    },
    {
     "name": "stdout",
     "output_type": "stream",
     "text": [
      "\n",
      "\n",
      "feature calculation for L147_240826_L147_results_130.json_labeldata.csv\n",
      "Area larger than threshold, collision assumed in [range(0, 9), range(1254, 1255)].\n",
      "Calculation of features will be done in splits, ignoring those and adjacent* ranges. *That are less than 1 sec long.\n",
      "split 0, range: (9, 541)\n",
      "split 1, range: (567, 1254)\n",
      "split 2, range: (1255, 4722)\n",
      "Ffill-Interpolation of nan frames\n"
     ]
    },
    {
     "name": "stderr",
     "output_type": "stream",
     "text": [
      " 46%|████▌     | 62/136 [03:33<04:00,  3.25s/it]"
     ]
    },
    {
     "name": "stdout",
     "output_type": "stream",
     "text": [
      "\n",
      "\n",
      "feature calculation for L147_240826_L147_results_245.json_labeldata.csv\n",
      "Area larger than threshold, collision assumed in [range(2496, 2502), range(2562, 2563), range(2566, 2572), range(2573, 2579), range(2670, 2671)].\n",
      "Calculation of features will be done in splits, ignoring those and adjacent* ranges. *That are less than 1 sec long.\n",
      "split 0, range: (0, 2290)\n",
      "Following frames seem to be tracked upside down\n",
      "We are going to flip those back:\n",
      "(array([ 234,  235,  237, ..., 2287, 2288, 2289]),)\n",
      "Worm seems to travel backwards the majority of time, flipped all centerlines to agree with forward travelling assumption\n",
      "split 1, range: (2295, 2350)\n",
      "Worm seems to travel backwards the majority of time, flipped all centerlines to agree with forward travelling assumption\n",
      "split 2, range: (2351, 2496)\n",
      "Worm seems to travel backwards the majority of time, flipped all centerlines to agree with forward travelling assumption\n",
      "split 3, range: (2502, 2562)\n",
      "Worm seems to travel backwards the majority of time, flipped all centerlines to agree with forward travelling assumption\n"
     ]
    },
    {
     "name": "stderr",
     "output_type": "stream",
     "text": [
      "/gpfs/soma_fs/home/boeger/PpaPred/functions/waveletTransform.py:84: RuntimeWarning: All-NaN slice encountered\n",
      "  thresh = thresh*np.nanmax(signal)\n",
      "/gpfs/soma_fs/home/boeger/PpaPred/functions/waveletTransform.py:84: RuntimeWarning: All-NaN slice encountered\n",
      "  thresh = thresh*np.nanmax(signal)\n",
      "/gpfs/soma_fs/home/boeger/PpaPred/functions/waveletTransform.py:84: RuntimeWarning: All-NaN slice encountered\n",
      "  thresh = thresh*np.nanmax(signal)\n",
      "/gpfs/soma_fs/home/boeger/PpaPred/functions/waveletTransform.py:84: RuntimeWarning: All-NaN slice encountered\n",
      "  thresh = thresh*np.nanmax(signal)\n",
      "/gpfs/soma_fs/home/boeger/PpaPred/functions/waveletTransform.py:84: RuntimeWarning: All-NaN slice encountered\n",
      "  thresh = thresh*np.nanmax(signal)\n",
      "/gpfs/soma_fs/home/boeger/PpaPred/functions/waveletTransform.py:84: RuntimeWarning: All-NaN slice encountered\n",
      "  thresh = thresh*np.nanmax(signal)\n",
      "/gpfs/soma_fs/home/boeger/PpaPred/functions/waveletTransform.py:84: RuntimeWarning: All-NaN slice encountered\n",
      "  thresh = thresh*np.nanmax(signal)\n",
      "/gpfs/soma_fs/home/boeger/PpaPred/functions/waveletTransform.py:84: RuntimeWarning: All-NaN slice encountered\n",
      "  thresh = thresh*np.nanmax(signal)\n",
      "/gpfs/soma_fs/home/boeger/PpaPred/functions/waveletTransform.py:84: RuntimeWarning: All-NaN slice encountered\n",
      "  thresh = thresh*np.nanmax(signal)\n",
      "/gpfs/soma_fs/home/boeger/PpaPred/functions/waveletTransform.py:84: RuntimeWarning: All-NaN slice encountered\n",
      "  thresh = thresh*np.nanmax(signal)\n"
     ]
    },
    {
     "name": "stdout",
     "output_type": "stream",
     "text": [
      "split 4, range: (2579, 2670)\n",
      "Ffill-Interpolation of nan frames\n"
     ]
    },
    {
     "name": "stderr",
     "output_type": "stream",
     "text": [
      " 46%|████▋     | 63/136 [03:34<03:20,  2.75s/it]"
     ]
    },
    {
     "name": "stdout",
     "output_type": "stream",
     "text": [
      "\n",
      "\n",
      "feature calculation for L147_240826_L147_results_180.json_labeldata.csv\n",
      "Area larger than threshold, collision assumed in [].\n",
      "Calculation of features will be done in splits, ignoring those and adjacent* ranges. *That are less than 1 sec long.\n",
      "split 0, range: (0, 4472)\n",
      "Following frames seem to be tracked upside down\n",
      "We are going to flip those back:\n",
      "(array([3909, 3910, 3911, 3912]),)\n",
      "split 1, range: (4506, 4569)\n",
      "split 2, range: (4603, 6209)\n"
     ]
    },
    {
     "name": "stderr",
     "output_type": "stream",
     "text": [
      "/gpfs/soma_fs/home/boeger/PpaPred/functions/waveletTransform.py:84: RuntimeWarning: All-NaN slice encountered\n",
      "  thresh = thresh*np.nanmax(signal)\n",
      "/gpfs/soma_fs/home/boeger/PpaPred/functions/waveletTransform.py:84: RuntimeWarning: All-NaN slice encountered\n",
      "  thresh = thresh*np.nanmax(signal)\n",
      "/gpfs/soma_fs/home/boeger/PpaPred/functions/waveletTransform.py:84: RuntimeWarning: All-NaN slice encountered\n",
      "  thresh = thresh*np.nanmax(signal)\n"
     ]
    },
    {
     "name": "stdout",
     "output_type": "stream",
     "text": [
      "Ffill-Interpolation of nan frames\n",
      "Exempted from interpolation: range(4472, 4506) (over 1 sec long)\n",
      "Exempted from interpolation: range(4569, 4603) (over 1 sec long)\n"
     ]
    },
    {
     "name": "stderr",
     "output_type": "stream",
     "text": [
      " 47%|████▋     | 64/136 [03:37<03:19,  2.77s/it]"
     ]
    },
    {
     "name": "stdout",
     "output_type": "stream",
     "text": [
      "\n",
      "\n",
      "feature calculation for L147_240826_L147_results_39.json_labeldata.csv\n",
      "Area larger than threshold, collision assumed in [].\n",
      "Calculation of features will be done in splits, ignoring those and adjacent* ranges. *That are less than 1 sec long.\n",
      "split 0, range: (8, 1448)\n",
      "Following frames seem to be tracked upside down\n",
      "We are going to flip those back:\n",
      "(array([ 921,  922,  923, 1028]),)\n",
      "split 1, range: (1471, 1857)\n",
      "split 2, range: (1864, 1896)\n"
     ]
    },
    {
     "name": "stderr",
     "output_type": "stream",
     "text": [
      "/gpfs/soma_fs/home/boeger/PpaPred/functions/waveletTransform.py:84: RuntimeWarning: All-NaN slice encountered\n",
      "  thresh = thresh*np.nanmax(signal)\n",
      "/gpfs/soma_fs/home/boeger/PpaPred/functions/waveletTransform.py:84: RuntimeWarning: All-NaN slice encountered\n",
      "  thresh = thresh*np.nanmax(signal)\n",
      "/gpfs/soma_fs/home/boeger/PpaPred/functions/waveletTransform.py:84: RuntimeWarning: All-NaN slice encountered\n",
      "  thresh = thresh*np.nanmax(signal)\n",
      "/gpfs/soma_fs/home/boeger/PpaPred/functions/waveletTransform.py:84: RuntimeWarning: All-NaN slice encountered\n",
      "  thresh = thresh*np.nanmax(signal)\n"
     ]
    },
    {
     "name": "stdout",
     "output_type": "stream",
     "text": [
      "split 3, range: (1897, 2221)\n",
      "Worm seems to travel backwards the majority of time, flipped all centerlines to agree with forward travelling assumption\n",
      "Ffill-Interpolation of nan frames\n"
     ]
    },
    {
     "name": "stderr",
     "output_type": "stream",
     "text": [
      " 48%|████▊     | 65/136 [03:38<02:45,  2.32s/it]"
     ]
    },
    {
     "name": "stdout",
     "output_type": "stream",
     "text": [
      "\n",
      "\n",
      "feature calculation for L147_240826_L147_results_5.json_labeldata.csv\n",
      "Area larger than threshold, collision assumed in [].\n",
      "Calculation of features will be done in splits, ignoring those and adjacent* ranges. *That are less than 1 sec long.\n",
      "split 0, range: (0, 1866)\n",
      "Following frames seem to be tracked upside down\n",
      "We are going to flip those back:\n",
      "(array([988]),)\n"
     ]
    },
    {
     "name": "stderr",
     "output_type": "stream",
     "text": [
      " 49%|████▊     | 66/136 [03:39<02:14,  1.92s/it]"
     ]
    },
    {
     "name": "stdout",
     "output_type": "stream",
     "text": [
      "Ffill-Interpolation of nan frames\n",
      "\n",
      "\n",
      "feature calculation for L147_240826_L147_results_3.json_labeldata.csv\n",
      "Area larger than threshold, collision assumed in [range(2212, 2213)].\n",
      "Calculation of features will be done in splits, ignoring those and adjacent* ranges. *That are less than 1 sec long.\n",
      "split 0, range: (0, 2200)\n",
      "Following frames seem to be tracked upside down\n",
      "We are going to flip those back:\n",
      "(array([2018, 2019]),)\n",
      "split 1, range: (2214, 2461)\n",
      "split 2, range: (2617, 2648)\n",
      "Worm seems to travel backwards the majority of time, flipped all centerlines to agree with forward travelling assumption\n"
     ]
    },
    {
     "name": "stderr",
     "output_type": "stream",
     "text": [
      "/gpfs/soma_fs/home/boeger/PpaPred/functions/waveletTransform.py:84: RuntimeWarning: All-NaN slice encountered\n",
      "  thresh = thresh*np.nanmax(signal)\n",
      "/gpfs/soma_fs/home/boeger/PpaPred/functions/waveletTransform.py:84: RuntimeWarning: All-NaN slice encountered\n",
      "  thresh = thresh*np.nanmax(signal)\n",
      "/gpfs/soma_fs/home/boeger/PpaPred/functions/waveletTransform.py:84: RuntimeWarning: All-NaN slice encountered\n",
      "  thresh = thresh*np.nanmax(signal)\n",
      "/gpfs/soma_fs/home/boeger/PpaPred/functions/waveletTransform.py:84: RuntimeWarning: All-NaN slice encountered\n",
      "  thresh = thresh*np.nanmax(signal)\n"
     ]
    },
    {
     "name": "stdout",
     "output_type": "stream",
     "text": [
      "Ffill-Interpolation of nan frames\n",
      "Exempted from interpolation: range(2461, 2617) (over 1 sec long)\n",
      "Exempted from interpolation: range(2648, 2793) (over 1 sec long)\n"
     ]
    },
    {
     "name": "stderr",
     "output_type": "stream",
     "text": [
      " 49%|████▉     | 67/136 [03:41<02:01,  1.76s/it]"
     ]
    },
    {
     "name": "stdout",
     "output_type": "stream",
     "text": [
      "\n",
      "\n",
      "feature calculation for L147_240826_L147_results_69.json_labeldata.csv\n",
      "Area larger than threshold, collision assumed in [range(29, 30)].\n",
      "Calculation of features will be done in splits, ignoring those and adjacent* ranges. *That are less than 1 sec long.\n",
      "split 0, range: (30, 73)\n",
      "Following frames seem to be tracked upside down\n",
      "We are going to flip those back:\n",
      "(array([ 1,  2, 10, 11, 12, 13, 14]),)\n",
      "split 1, range: (74, 406)\n"
     ]
    },
    {
     "name": "stderr",
     "output_type": "stream",
     "text": [
      "/gpfs/soma_fs/home/boeger/PpaPred/functions/waveletTransform.py:84: RuntimeWarning: All-NaN slice encountered\n",
      "  thresh = thresh*np.nanmax(signal)\n",
      "/gpfs/soma_fs/home/boeger/PpaPred/functions/waveletTransform.py:84: RuntimeWarning: All-NaN slice encountered\n",
      "  thresh = thresh*np.nanmax(signal)\n",
      "/gpfs/soma_fs/home/boeger/PpaPred/functions/waveletTransform.py:84: RuntimeWarning: All-NaN slice encountered\n",
      "  thresh = thresh*np.nanmax(signal)\n",
      "/gpfs/soma_fs/home/boeger/PpaPred/functions/waveletTransform.py:84: RuntimeWarning: All-NaN slice encountered\n",
      "  thresh = thresh*np.nanmax(signal)\n",
      "/gpfs/soma_fs/home/boeger/PpaPred/functions/waveletTransform.py:84: RuntimeWarning: All-NaN slice encountered\n",
      "  thresh = thresh*np.nanmax(signal)\n",
      "/gpfs/soma_fs/home/boeger/PpaPred/functions/waveletTransform.py:84: RuntimeWarning: All-NaN slice encountered\n",
      "  thresh = thresh*np.nanmax(signal)\n"
     ]
    },
    {
     "name": "stdout",
     "output_type": "stream",
     "text": [
      "split 2, range: (407, 440)\n",
      "split 3, range: (441, 1559)\n"
     ]
    },
    {
     "name": "stderr",
     "output_type": "stream",
     "text": [
      "/gpfs/soma_fs/home/boeger/PpaPred/functions/waveletTransform.py:84: RuntimeWarning: All-NaN slice encountered\n",
      "  thresh = thresh*np.nanmax(signal)\n",
      "/gpfs/soma_fs/home/boeger/PpaPred/functions/waveletTransform.py:84: RuntimeWarning: All-NaN slice encountered\n",
      "  thresh = thresh*np.nanmax(signal)\n",
      "/gpfs/soma_fs/home/boeger/PpaPred/functions/waveletTransform.py:84: RuntimeWarning: All-NaN slice encountered\n",
      "  thresh = thresh*np.nanmax(signal)\n",
      "/gpfs/soma_fs/home/boeger/PpaPred/functions/waveletTransform.py:84: RuntimeWarning: All-NaN slice encountered\n",
      "  thresh = thresh*np.nanmax(signal)\n"
     ]
    },
    {
     "name": "stdout",
     "output_type": "stream",
     "text": [
      "split 4, range: (1560, 2579)\n",
      "Following frames seem to be tracked upside down\n",
      "We are going to flip those back:\n",
      "(array([  40,   41,   42,   43,   44,   45,   46,   47,   48,   49,   50,\n",
      "         51,   52,   53,   54,   55,   56,   57,   58,   59,   60,   61,\n",
      "         62,   63,   64,   65,   66,   67,   68,   69,   70,   71,   72,\n",
      "         73,   74,   75,   76,   77,   78,   79,   80,   81,   82,   83,\n",
      "         84,   85,   86,   87,   88,   89,   90,   91,   92,   93,   94,\n",
      "         95,   96,   97,   98,   99,  100,  101,  102,  103,  104,  105,\n",
      "        106,  107,  108,  109,  110,  111,  112,  113,  114,  115,  116,\n",
      "        117,  118,  119,  120,  121,  122,  123,  124,  125,  126,  127,\n",
      "        128,  129,  130,  131,  132,  133,  134,  135,  136,  137,  138,\n",
      "        139,  140,  141,  142,  143,  144,  145,  146,  147,  148,  149,\n",
      "        150,  151,  152,  153,  154,  155,  156,  157,  158,  159,  160,\n",
      "        161,  162,  163,  164,  165,  166,  167,  168,  169,  170,  171,\n",
      "        172,  173,  174,  175,  176,  177,  178,  179,  180,  181,  182,\n",
      "        183,  184,  185,  186,  187,  188,  189,  190,  191,  192,  193,\n",
      "        194,  195,  196,  197,  198,  199,  200,  201,  202,  203,  204,\n",
      "        205,  206,  207,  208,  209,  210,  211,  212,  213,  214,  215,\n",
      "        216,  217,  218,  219,  220,  221,  222,  223,  224,  225,  226,\n",
      "        227,  228,  229,  230,  231,  232,  233,  234,  235,  236,  237,\n",
      "        238,  239,  240,  241,  242,  243,  244,  245,  246,  247,  248,\n",
      "        249,  250,  251,  252,  253,  254,  255,  256,  257,  258,  259,\n",
      "        260,  261,  262,  263,  264,  265,  266,  267,  268,  269,  270,\n",
      "        271,  272,  273,  274,  275,  276,  277,  278,  279,  280,  281,\n",
      "        282,  283,  284,  285,  286,  287,  288,  289,  290,  291,  292,\n",
      "        293,  294,  295,  296,  297,  298,  299,  300,  301,  302,  303,\n",
      "        304,  305,  306,  307,  308,  309,  310,  311,  312,  313,  314,\n",
      "        315,  316,  317,  318,  319,  320,  321,  322,  323,  324,  325,\n",
      "        326,  327,  328,  329,  330,  331,  332,  333,  334,  335,  336,\n",
      "        337,  338,  339,  340,  341,  342,  343,  344,  345,  346,  347,\n",
      "        348,  349,  350,  351,  352,  353,  354,  355,  356,  357,  358,\n",
      "        359,  360,  361,  362,  363,  364,  365,  366,  367,  368,  369,\n",
      "        370,  371,  372,  373,  374,  375,  376,  377,  378,  379,  380,\n",
      "        381,  382,  383,  384,  385,  386,  387,  388,  389,  390,  391,\n",
      "        392,  393,  394,  395,  396,  397,  398,  399,  400,  401,  402,\n",
      "        403,  404,  405,  406,  407,  408,  409,  410,  411,  412,  413,\n",
      "        414,  415,  416,  417,  418,  419,  420,  421,  422,  423,  424,\n",
      "        425,  426,  427,  428,  429,  430,  431,  432,  433,  434,  435,\n",
      "        436,  437,  438,  439,  440,  441,  442,  443,  444,  445,  446,\n",
      "        447,  448,  449,  450,  451,  452,  453,  454,  455,  456,  457,\n",
      "        458,  459,  460,  461,  462,  463,  464,  465,  466,  467,  468,\n",
      "        469,  470,  471,  472,  473,  474,  475,  476,  477,  478,  479,\n",
      "        480,  481,  482,  483,  484,  485,  486,  487,  488,  489,  490,\n",
      "        491,  492,  493,  494,  495,  496,  497,  498,  499,  500,  501,\n",
      "        502,  503,  504,  505,  506,  507,  508,  509,  510,  511,  512,\n",
      "        513,  514,  515,  516,  517,  518,  519,  520,  521,  522,  523,\n",
      "        524,  525,  526,  527,  528,  529,  530,  531,  532,  533,  534,\n",
      "        535,  536,  537,  538,  539,  540,  541,  542,  543,  544,  545,\n",
      "        546,  547,  548,  549,  550,  551,  552,  553,  554,  555,  556,\n",
      "        557,  558,  559,  560,  561,  562,  563,  564,  565,  566,  567,\n",
      "        568,  569,  570,  571,  572,  573,  574,  575,  576,  577,  578,\n",
      "        579,  580,  581,  582,  583,  584,  585,  586,  587,  588,  589,\n",
      "        590,  591,  592,  593,  594,  595,  596,  597,  598,  599,  600,\n",
      "        601,  602,  603,  604,  605,  606,  607,  608,  609,  610,  611,\n",
      "        612,  613,  614,  615,  616,  617,  618,  619,  620,  621,  622,\n",
      "        623,  624,  625,  626,  627,  628,  629,  630,  631,  632,  633,\n",
      "        634,  635,  636,  637,  638,  639,  640,  641,  642,  643,  644,\n",
      "        645,  646,  647,  648,  649,  650,  651,  652,  653,  654,  655,\n",
      "        656,  657,  658,  659,  660,  661,  662,  663,  664,  665,  666,\n",
      "        667,  668,  669,  670,  671,  672,  673,  674,  675,  676,  677,\n",
      "        678,  679,  680,  681,  682,  683,  684,  685,  686,  687,  688,\n",
      "        689,  690,  691,  692,  693,  694,  695,  696,  697,  698,  699,\n",
      "        700,  701,  702,  703,  704,  705,  706,  707,  708,  709,  710,\n",
      "        711,  712,  713,  714,  715,  716,  717,  718,  719,  720,  721,\n",
      "        722,  723,  724,  725,  726,  727,  728,  729,  730,  731,  732,\n",
      "        733,  734,  735,  736,  737,  738,  739,  740,  741,  742,  743,\n",
      "        744,  745,  746,  747,  748,  749,  750,  751,  752,  753,  754,\n",
      "        755,  756,  757,  758,  759,  760,  761,  762,  763,  764,  765,\n",
      "        766,  767,  768,  769,  770,  771,  772,  773,  774,  775,  776,\n",
      "        777,  778,  779,  780,  781,  782,  783,  784,  785,  786,  787,\n",
      "        788,  789,  790,  791,  792,  793,  794,  795,  796,  797,  798,\n",
      "        799,  800,  801,  802,  803,  804,  805,  806,  807,  808,  809,\n",
      "        810,  811,  812,  813,  814,  815,  816,  817,  818,  819,  820,\n",
      "        821,  822,  823,  824,  825,  826,  827,  828,  829,  830,  831,\n",
      "        832,  833,  834,  835,  836,  837,  838,  839,  840,  841,  842,\n",
      "        843,  844,  845,  846,  847,  848,  849,  850,  851,  852,  853,\n",
      "        854,  855,  856,  857,  858,  859,  860,  861,  862,  863,  864,\n",
      "        865,  866,  867,  868,  869,  870,  871,  872,  873,  874,  875,\n",
      "        876,  877,  878,  879,  880,  881,  882,  883,  884,  885,  886,\n",
      "        887,  888,  889,  890,  891,  892,  893,  894,  895,  896,  897,\n",
      "        898,  899,  900,  901,  902,  903,  904,  905,  906,  907,  908,\n",
      "        909,  910,  911,  912,  913,  914,  915,  916,  917,  918,  919,\n",
      "        920,  921,  922,  923,  924,  925,  926,  927,  928,  929,  930,\n",
      "        931,  932,  933,  934,  935,  936,  937,  938,  939,  940,  941,\n",
      "        942,  943,  944,  945,  946,  947,  948,  949,  950,  951,  952,\n",
      "        953,  954,  955,  956,  957,  958,  959,  960,  961,  962,  963,\n",
      "        964,  965,  966,  967,  968,  969,  970,  971,  972,  973,  974,\n",
      "        975,  976,  977,  978,  979,  980,  981,  982,  983,  984,  985,\n",
      "        986,  987,  988,  989,  990,  991,  992,  993,  994,  995,  996,\n",
      "        997,  998,  999, 1000, 1001, 1002, 1003, 1004, 1005, 1006, 1007,\n",
      "       1008, 1009, 1010, 1011, 1012, 1013, 1014, 1015, 1016, 1017, 1018]),)\n",
      "split 5, range: (2605, 6760)\n",
      "Worm seems to travel backwards the majority of time, flipped all centerlines to agree with forward travelling assumption\n",
      "split 6, range: (6793, 7466)\n",
      "Ffill-Interpolation of nan frames\n",
      "Exempted from interpolation: range(6760, 6793) (over 1 sec long)\n"
     ]
    },
    {
     "name": "stderr",
     "output_type": "stream",
     "text": [
      " 50%|█████     | 68/136 [03:44<02:39,  2.35s/it]"
     ]
    },
    {
     "name": "stdout",
     "output_type": "stream",
     "text": [
      "\n",
      "\n",
      "feature calculation for L147_240826_L147_results_181.json_labeldata.csv\n",
      "Area larger than threshold, collision assumed in [].\n",
      "Calculation of features will be done in splits, ignoring those and adjacent* ranges. *That are less than 1 sec long.\n",
      "split 0, range: (18, 638)\n",
      "split 1, range: (678, 2054)\n"
     ]
    },
    {
     "name": "stderr",
     "output_type": "stream",
     "text": [
      " 51%|█████     | 69/136 [03:45<02:12,  1.97s/it]"
     ]
    },
    {
     "name": "stdout",
     "output_type": "stream",
     "text": [
      "Ffill-Interpolation of nan frames\n",
      "Exempted from interpolation: range(638, 678) (over 1 sec long)\n",
      "\n",
      "\n",
      "feature calculation for L147_240826_L147_results_6.json_labeldata.csv\n",
      "Area larger than threshold, collision assumed in [range(2212, 2213)].\n",
      "Calculation of features will be done in splits, ignoring those and adjacent* ranges. *That are less than 1 sec long.\n",
      "split 0, range: (0, 2200)\n",
      "Ffill-Interpolation of nan frames\n"
     ]
    },
    {
     "name": "stderr",
     "output_type": "stream",
     "text": [
      " 51%|█████▏    | 70/136 [03:47<01:53,  1.73s/it]"
     ]
    },
    {
     "name": "stdout",
     "output_type": "stream",
     "text": [
      "\n",
      "\n",
      "feature calculation for L147_240826_L147_results_182.json_labeldata.csv\n",
      "Area larger than threshold, collision assumed in [].\n",
      "Calculation of features will be done in splits, ignoring those and adjacent* ranges. *That are less than 1 sec long.\n",
      "split 0, range: (3, 700)\n",
      "Worm seems to travel backwards the majority of time, flipped all centerlines to agree with forward travelling assumption\n",
      "split 1, range: (728, 2044)\n"
     ]
    },
    {
     "name": "stderr",
     "output_type": "stream",
     "text": [
      " 52%|█████▏    | 71/136 [03:48<01:39,  1.53s/it]"
     ]
    },
    {
     "name": "stdout",
     "output_type": "stream",
     "text": [
      "Ffill-Interpolation of nan frames\n",
      "\n",
      "\n",
      "feature calculation for L147_240826_L147_results_184.json_labeldata.csv\n",
      "Area larger than threshold, collision assumed in [].\n",
      "Calculation of features will be done in splits, ignoring those and adjacent* ranges. *That are less than 1 sec long.\n",
      "split 0, range: (0, 3013)\n",
      "Ffill-Interpolation of nan frames\n"
     ]
    },
    {
     "name": "stderr",
     "output_type": "stream",
     "text": [
      " 53%|█████▎    | 72/136 [03:49<01:36,  1.51s/it]"
     ]
    },
    {
     "name": "stdout",
     "output_type": "stream",
     "text": [
      "\n",
      "\n",
      "feature calculation for L147_240826_L147_results_36.json_labeldata.csv\n",
      "Area larger than threshold, collision assumed in [range(0, 10), range(11, 22), range(54, 63), range(64, 73), range(76, 77), range(85, 103), range(106, 109), range(110, 112), range(119, 125), range(229, 232), range(233, 234), range(236, 239), range(247, 248), range(253, 254), range(258, 259), range(260, 261), range(264, 265), range(267, 268), range(269, 271), range(278, 283), range(285, 289), range(293, 297), range(306, 309), range(318, 322), range(323, 326), range(335, 336), range(342, 343), range(363, 364), range(657, 661), range(670, 672), range(692, 696), range(697, 698), range(699, 700), range(705, 707), range(708, 709), range(714, 716), range(717, 718), range(719, 722), range(724, 725), range(726, 729), range(730, 731), range(735, 740), range(809, 811), range(817, 818), range(826, 829), range(839, 841), range(847, 848), range(851, 856), range(863, 864), range(868, 870), range(906, 907), range(908, 912), range(920, 921), range(922, 925), range(927, 928), range(935, 936), range(939, 945), range(968, 969), range(975, 979), range(1013, 1017), range(1024, 1026), range(1028, 1032), range(1039, 1040), range(1041, 1044), range(1084, 1085), range(1091, 1099), range(1102, 1103), range(1105, 1106), range(1107, 1114), range(1115, 1116), range(1118, 1121), range(1122, 1124), range(1125, 1129), range(1130, 1131), range(1132, 1140), range(1149, 1150), range(1188, 1189), range(1190, 1191), range(1198, 1199), range(2605, 2607), range(2619, 2631), range(3096, 3097), range(3201, 3205)].\n",
      "Calculation of features will be done in splits, ignoring those and adjacent* ranges. *That are less than 1 sec long.\n",
      "split 0, range: (22, 54)\n",
      "split 1, range: (125, 229)\n",
      "split 2, range: (364, 657)\n"
     ]
    },
    {
     "name": "stderr",
     "output_type": "stream",
     "text": [
      "/gpfs/soma_fs/home/boeger/PpaPred/functions/waveletTransform.py:84: RuntimeWarning: All-NaN slice encountered\n",
      "  thresh = thresh*np.nanmax(signal)\n",
      "/gpfs/soma_fs/home/boeger/PpaPred/functions/waveletTransform.py:84: RuntimeWarning: All-NaN slice encountered\n",
      "  thresh = thresh*np.nanmax(signal)\n",
      "/gpfs/soma_fs/home/boeger/PpaPred/functions/waveletTransform.py:84: RuntimeWarning: All-NaN slice encountered\n",
      "  thresh = thresh*np.nanmax(signal)\n",
      "/gpfs/soma_fs/home/boeger/PpaPred/functions/waveletTransform.py:84: RuntimeWarning: All-NaN slice encountered\n",
      "  thresh = thresh*np.nanmax(signal)\n",
      "/gpfs/soma_fs/home/boeger/PpaPred/functions/waveletTransform.py:84: RuntimeWarning: All-NaN slice encountered\n",
      "  thresh = thresh*np.nanmax(signal)\n",
      "/gpfs/soma_fs/home/boeger/PpaPred/functions/waveletTransform.py:84: RuntimeWarning: All-NaN slice encountered\n",
      "  thresh = thresh*np.nanmax(signal)\n",
      "/gpfs/soma_fs/home/boeger/PpaPred/functions/waveletTransform.py:84: RuntimeWarning: All-NaN slice encountered\n",
      "  thresh = thresh*np.nanmax(signal)\n"
     ]
    },
    {
     "name": "stdout",
     "output_type": "stream",
     "text": [
      "split 3, range: (740, 809)\n",
      "split 4, range: (870, 906)\n",
      "split 5, range: (979, 1013)\n"
     ]
    },
    {
     "name": "stderr",
     "output_type": "stream",
     "text": [
      "/gpfs/soma_fs/home/boeger/PpaPred/functions/waveletTransform.py:84: RuntimeWarning: All-NaN slice encountered\n",
      "  thresh = thresh*np.nanmax(signal)\n",
      "/gpfs/soma_fs/home/boeger/PpaPred/functions/waveletTransform.py:84: RuntimeWarning: All-NaN slice encountered\n",
      "  thresh = thresh*np.nanmax(signal)\n",
      "/gpfs/soma_fs/home/boeger/PpaPred/functions/waveletTransform.py:84: RuntimeWarning: All-NaN slice encountered\n",
      "  thresh = thresh*np.nanmax(signal)\n",
      "/gpfs/soma_fs/home/boeger/PpaPred/functions/waveletTransform.py:84: RuntimeWarning: All-NaN slice encountered\n",
      "  thresh = thresh*np.nanmax(signal)\n",
      "/gpfs/soma_fs/home/boeger/PpaPred/functions/waveletTransform.py:84: RuntimeWarning: All-NaN slice encountered\n",
      "  thresh = thresh*np.nanmax(signal)\n",
      "/gpfs/soma_fs/home/boeger/PpaPred/functions/waveletTransform.py:84: RuntimeWarning: All-NaN slice encountered\n",
      "  thresh = thresh*np.nanmax(signal)\n",
      "/gpfs/soma_fs/home/boeger/PpaPred/functions/waveletTransform.py:84: RuntimeWarning: All-NaN slice encountered\n",
      "  thresh = thresh*np.nanmax(signal)\n",
      "/gpfs/soma_fs/home/boeger/PpaPred/functions/waveletTransform.py:84: RuntimeWarning: All-NaN slice encountered\n",
      "  thresh = thresh*np.nanmax(signal)\n",
      "/gpfs/soma_fs/home/boeger/PpaPred/functions/waveletTransform.py:84: RuntimeWarning: All-NaN slice encountered\n",
      "  thresh = thresh*np.nanmax(signal)\n",
      "/gpfs/soma_fs/home/boeger/PpaPred/functions/waveletTransform.py:84: RuntimeWarning: All-NaN slice encountered\n",
      "  thresh = thresh*np.nanmax(signal)\n",
      "/gpfs/soma_fs/home/boeger/PpaPred/functions/waveletTransform.py:84: RuntimeWarning: All-NaN slice encountered\n",
      "  thresh = thresh*np.nanmax(signal)\n"
     ]
    },
    {
     "name": "stdout",
     "output_type": "stream",
     "text": [
      "split 6, range: (1044, 1084)\n",
      "split 7, range: (1150, 1188)\n",
      "Worm seems to travel backwards the majority of time, flipped all centerlines to agree with forward travelling assumption\n",
      "split 8, range: (1199, 1553)\n"
     ]
    },
    {
     "name": "stderr",
     "output_type": "stream",
     "text": [
      "/gpfs/soma_fs/home/boeger/PpaPred/functions/waveletTransform.py:84: RuntimeWarning: All-NaN slice encountered\n",
      "  thresh = thresh*np.nanmax(signal)\n",
      "/gpfs/soma_fs/home/boeger/PpaPred/functions/waveletTransform.py:84: RuntimeWarning: All-NaN slice encountered\n",
      "  thresh = thresh*np.nanmax(signal)\n",
      "/gpfs/soma_fs/home/boeger/PpaPred/functions/waveletTransform.py:84: RuntimeWarning: All-NaN slice encountered\n",
      "  thresh = thresh*np.nanmax(signal)\n",
      "/gpfs/soma_fs/home/boeger/PpaPred/functions/waveletTransform.py:84: RuntimeWarning: All-NaN slice encountered\n",
      "  thresh = thresh*np.nanmax(signal)\n"
     ]
    },
    {
     "name": "stdout",
     "output_type": "stream",
     "text": [
      "split 9, range: (1567, 2605)\n",
      "Following frames seem to be tracked upside down\n",
      "We are going to flip those back:\n",
      "(array([ 720,  721,  722,  723,  724,  725,  730,  732,  733,  734,  735,\n",
      "        736,  737,  738,  740,  741,  742,  743,  744,  745,  746,  922,\n",
      "        923,  924,  925,  926,  927,  928,  929,  930,  931,  932,  935,\n",
      "        944,  945,  946,  947,  948,  949,  950,  951,  952,  953,  954,\n",
      "        955,  956,  957,  958,  959,  960,  961,  962,  963,  964,  965,\n",
      "        966,  967,  968,  969,  970,  971,  972,  973,  974,  976,  977,\n",
      "        978,  979,  981,  982,  983,  984,  985,  986,  987,  988,  989,\n",
      "        990,  991,  992,  993,  994,  995,  996,  997,  998,  999, 1000,\n",
      "       1001, 1002, 1003, 1004, 1005, 1006, 1007, 1008, 1009, 1010, 1011,\n",
      "       1012, 1013, 1014, 1016, 1017, 1018, 1019, 1021, 1023, 1024, 1025,\n",
      "       1029, 1030, 1031, 1032, 1033]),)\n",
      "split 10, range: (2672, 2731)\n",
      "Worm seems to travel backwards the majority of time, flipped all centerlines to agree with forward travelling assumption\n",
      "split 11, range: (2733, 2863)\n",
      "Worm seems to travel backwards the majority of time, flipped all centerlines to agree with forward travelling assumption\n",
      "split 12, range: (2888, 2926)\n",
      "Worm seems to travel backwards the majority of time, flipped all centerlines to agree with forward travelling assumption\n"
     ]
    },
    {
     "name": "stderr",
     "output_type": "stream",
     "text": [
      "/gpfs/soma_fs/home/boeger/PpaPred/functions/waveletTransform.py:84: RuntimeWarning: All-NaN slice encountered\n",
      "  thresh = thresh*np.nanmax(signal)\n",
      "/gpfs/soma_fs/home/boeger/PpaPred/functions/waveletTransform.py:84: RuntimeWarning: All-NaN slice encountered\n",
      "  thresh = thresh*np.nanmax(signal)\n",
      "/gpfs/soma_fs/home/boeger/PpaPred/functions/waveletTransform.py:84: RuntimeWarning: All-NaN slice encountered\n",
      "  thresh = thresh*np.nanmax(signal)\n",
      "/gpfs/soma_fs/home/boeger/PpaPred/functions/waveletTransform.py:84: RuntimeWarning: All-NaN slice encountered\n",
      "  thresh = thresh*np.nanmax(signal)\n",
      "/gpfs/soma_fs/home/boeger/PpaPred/functions/waveletTransform.py:84: RuntimeWarning: All-NaN slice encountered\n",
      "  thresh = thresh*np.nanmax(signal)\n",
      "/gpfs/soma_fs/home/boeger/PpaPred/functions/waveletTransform.py:84: RuntimeWarning: All-NaN slice encountered\n",
      "  thresh = thresh*np.nanmax(signal)\n",
      "/gpfs/soma_fs/home/boeger/PpaPred/functions/waveletTransform.py:84: RuntimeWarning: All-NaN slice encountered\n",
      "  thresh = thresh*np.nanmax(signal)\n"
     ]
    },
    {
     "name": "stdout",
     "output_type": "stream",
     "text": [
      "split 13, range: (2939, 3011)\n",
      "Worm seems to travel backwards the majority of time, flipped all centerlines to agree with forward travelling assumption\n",
      "split 14, range: (3029, 3096)\n",
      "Worm seems to travel backwards the majority of time, flipped all centerlines to agree with forward travelling assumption\n",
      "split 15, range: (3097, 3140)\n",
      "Worm seems to travel backwards the majority of time, flipped all centerlines to agree with forward travelling assumption\n"
     ]
    },
    {
     "name": "stderr",
     "output_type": "stream",
     "text": [
      "/gpfs/soma_fs/home/boeger/PpaPred/functions/waveletTransform.py:84: RuntimeWarning: All-NaN slice encountered\n",
      "  thresh = thresh*np.nanmax(signal)\n",
      "/gpfs/soma_fs/home/boeger/PpaPred/functions/waveletTransform.py:84: RuntimeWarning: All-NaN slice encountered\n",
      "  thresh = thresh*np.nanmax(signal)\n",
      "/gpfs/soma_fs/home/boeger/PpaPred/functions/waveletTransform.py:84: RuntimeWarning: All-NaN slice encountered\n",
      "  thresh = thresh*np.nanmax(signal)\n",
      "/gpfs/soma_fs/home/boeger/PpaPred/functions/waveletTransform.py:84: RuntimeWarning: All-NaN slice encountered\n",
      "  thresh = thresh*np.nanmax(signal)\n",
      "/gpfs/soma_fs/home/boeger/PpaPred/functions/waveletTransform.py:84: RuntimeWarning: All-NaN slice encountered\n",
      "  thresh = thresh*np.nanmax(signal)\n",
      "/gpfs/soma_fs/home/boeger/PpaPred/functions/waveletTransform.py:84: RuntimeWarning: All-NaN slice encountered\n",
      "  thresh = thresh*np.nanmax(signal)\n"
     ]
    },
    {
     "name": "stdout",
     "output_type": "stream",
     "text": [
      "split 16, range: (3142, 3201)\n",
      "split 17, range: (3205, 3253)\n",
      "Ffill-Interpolation of nan frames\n",
      "Exempted from interpolation: range(54, 125) (over 1 sec long)\n",
      "Exempted from interpolation: range(229, 364) (over 1 sec long)\n",
      "Exempted from interpolation: range(657, 740) (over 1 sec long)\n",
      "Exempted from interpolation: range(809, 870) (over 1 sec long)\n",
      "Exempted from interpolation: range(906, 979) (over 1 sec long)\n",
      "Exempted from interpolation: range(1013, 1044) (over 1 sec long)\n",
      "Exempted from interpolation: range(1084, 1150) (over 1 sec long)\n",
      "Exempted from interpolation: range(2605, 2672) (over 1 sec long)\n"
     ]
    },
    {
     "name": "stderr",
     "output_type": "stream",
     "text": [
      "/gpfs/soma_fs/home/boeger/PpaPred/functions/waveletTransform.py:84: RuntimeWarning: All-NaN slice encountered\n",
      "  thresh = thresh*np.nanmax(signal)\n",
      "/gpfs/soma_fs/home/boeger/PpaPred/functions/waveletTransform.py:84: RuntimeWarning: All-NaN slice encountered\n",
      "  thresh = thresh*np.nanmax(signal)\n",
      "/gpfs/soma_fs/home/boeger/PpaPred/functions/waveletTransform.py:84: RuntimeWarning: All-NaN slice encountered\n",
      "  thresh = thresh*np.nanmax(signal)\n",
      "/gpfs/soma_fs/home/boeger/PpaPred/functions/waveletTransform.py:84: RuntimeWarning: All-NaN slice encountered\n",
      "  thresh = thresh*np.nanmax(signal)\n",
      " 54%|█████▎    | 73/136 [03:52<01:57,  1.86s/it]"
     ]
    },
    {
     "name": "stdout",
     "output_type": "stream",
     "text": [
      "\n",
      "\n",
      "feature calculation for L147_240826_L147_results_83.json_labeldata.csv\n",
      "Area larger than threshold, collision assumed in [].\n",
      "Calculation of features will be done in splits, ignoring those and adjacent* ranges. *That are less than 1 sec long.\n",
      "split 0, range: (0, 31)\n",
      "split 1, range: (32, 88)\n",
      "split 2, range: (125, 196)\n"
     ]
    },
    {
     "name": "stderr",
     "output_type": "stream",
     "text": [
      "/gpfs/soma_fs/home/boeger/PpaPred/functions/waveletTransform.py:84: RuntimeWarning: All-NaN slice encountered\n",
      "  thresh = thresh*np.nanmax(signal)\n",
      "/gpfs/soma_fs/home/boeger/PpaPred/functions/waveletTransform.py:84: RuntimeWarning: All-NaN slice encountered\n",
      "  thresh = thresh*np.nanmax(signal)\n",
      "/gpfs/soma_fs/home/boeger/PpaPred/functions/waveletTransform.py:84: RuntimeWarning: All-NaN slice encountered\n",
      "  thresh = thresh*np.nanmax(signal)\n",
      "/gpfs/soma_fs/home/boeger/PpaPred/functions/waveletTransform.py:84: RuntimeWarning: All-NaN slice encountered\n",
      "  thresh = thresh*np.nanmax(signal)\n",
      "/gpfs/soma_fs/home/boeger/PpaPred/functions/waveletTransform.py:84: RuntimeWarning: All-NaN slice encountered\n",
      "  thresh = thresh*np.nanmax(signal)\n",
      "/gpfs/soma_fs/home/boeger/PpaPred/functions/waveletTransform.py:84: RuntimeWarning: All-NaN slice encountered\n",
      "  thresh = thresh*np.nanmax(signal)\n",
      "/gpfs/soma_fs/home/boeger/PpaPred/functions/waveletTransform.py:84: RuntimeWarning: All-NaN slice encountered\n",
      "  thresh = thresh*np.nanmax(signal)\n",
      "/gpfs/soma_fs/home/boeger/PpaPred/functions/waveletTransform.py:84: RuntimeWarning: All-NaN slice encountered\n",
      "  thresh = thresh*np.nanmax(signal)\n",
      "/gpfs/soma_fs/home/boeger/PpaPred/functions/waveletTransform.py:84: RuntimeWarning: All-NaN slice encountered\n",
      "  thresh = thresh*np.nanmax(signal)\n",
      "/gpfs/soma_fs/home/boeger/PpaPred/functions/waveletTransform.py:84: RuntimeWarning: All-NaN slice encountered\n",
      "  thresh = thresh*np.nanmax(signal)\n",
      "/gpfs/soma_fs/home/boeger/PpaPred/functions/waveletTransform.py:84: RuntimeWarning: All-NaN slice encountered\n",
      "  thresh = thresh*np.nanmax(signal)\n"
     ]
    },
    {
     "name": "stdout",
     "output_type": "stream",
     "text": [
      "split 3, range: (197, 426)\n",
      "split 4, range: (427, 1946)\n",
      "split 5, range: (1953, 3493)\n",
      "Ffill-Interpolation of nan frames\n",
      "Exempted from interpolation: range(88, 125) (over 1 sec long)\n",
      "Exempted from interpolation: range(3493, 3572) (over 1 sec long)\n"
     ]
    },
    {
     "name": "stderr",
     "output_type": "stream",
     "text": [
      " 54%|█████▍    | 74/136 [03:54<01:57,  1.90s/it]"
     ]
    },
    {
     "name": "stdout",
     "output_type": "stream",
     "text": [
      "\n",
      "\n",
      "feature calculation for L147_240806_L147_results_43.json_labeldata.csv\n",
      "Area larger than threshold, collision assumed in [].\n",
      "Calculation of features will be done in splits, ignoring those and adjacent* ranges. *That are less than 1 sec long.\n",
      "split 0, range: (10, 10469)\n",
      "Following frames seem to be tracked upside down\n",
      "We are going to flip those back:\n",
      "(array([9221]),)\n",
      "Ffill-Interpolation of nan frames\n"
     ]
    },
    {
     "name": "stderr",
     "output_type": "stream",
     "text": [
      " 55%|█████▌    | 75/136 [03:58<02:42,  2.66s/it]"
     ]
    },
    {
     "name": "stdout",
     "output_type": "stream",
     "text": [
      "\n",
      "\n",
      "feature calculation for L147_240806_L147_results_1.json_labeldata.csv\n",
      "Area larger than threshold, collision assumed in [].\n",
      "Calculation of features will be done in splits, ignoring those and adjacent* ranges. *That are less than 1 sec long.\n",
      "split 0, range: (0, 898)\n",
      "split 1, range: (903, 3404)\n",
      "Ffill-Interpolation of nan frames\n"
     ]
    },
    {
     "name": "stderr",
     "output_type": "stream",
     "text": [
      " 56%|█████▌    | 76/136 [04:00<02:22,  2.38s/it]"
     ]
    },
    {
     "name": "stdout",
     "output_type": "stream",
     "text": [
      "\n",
      "\n",
      "feature calculation for L147_240806_L147_results_27.json_labeldata.csv\n",
      "Area larger than threshold, collision assumed in [].\n",
      "Calculation of features will be done in splits, ignoring those and adjacent* ranges. *That are less than 1 sec long.\n",
      "split 0, range: (0, 2162)\n",
      "Ffill-Interpolation of nan frames\n"
     ]
    },
    {
     "name": "stderr",
     "output_type": "stream",
     "text": [
      " 57%|█████▋    | 77/136 [04:01<01:56,  1.97s/it]"
     ]
    },
    {
     "name": "stdout",
     "output_type": "stream",
     "text": [
      "\n",
      "\n",
      "feature calculation for L147_240806_L147_results_38.json_labeldata.csv\n",
      "Area larger than threshold, collision assumed in [].\n",
      "Calculation of features will be done in splits, ignoring those and adjacent* ranges. *That are less than 1 sec long.\n",
      "split 0, range: (9, 86)\n",
      "split 1, range: (110, 14134)\n",
      "Following frames seem to be tracked upside down\n",
      "We are going to flip those back:\n",
      "(array([12239]),)\n"
     ]
    },
    {
     "name": "stderr",
     "output_type": "stream",
     "text": [
      "/gpfs/soma_fs/home/boeger/PpaPred/functions/waveletTransform.py:84: RuntimeWarning: All-NaN slice encountered\n",
      "  thresh = thresh*np.nanmax(signal)\n"
     ]
    },
    {
     "name": "stdout",
     "output_type": "stream",
     "text": [
      "Ffill-Interpolation of nan frames\n"
     ]
    },
    {
     "name": "stderr",
     "output_type": "stream",
     "text": [
      " 57%|█████▋    | 78/136 [04:07<03:04,  3.19s/it]"
     ]
    },
    {
     "name": "stdout",
     "output_type": "stream",
     "text": [
      "\n",
      "\n",
      "feature calculation for L147_240806_L147_results_2.json_labeldata.csv\n",
      "Area larger than threshold, collision assumed in [].\n",
      "Calculation of features will be done in splits, ignoring those and adjacent* ranges. *That are less than 1 sec long.\n",
      "split 0, range: (0, 3139)\n",
      "Ffill-Interpolation of nan frames\n"
     ]
    },
    {
     "name": "stderr",
     "output_type": "stream",
     "text": [
      " 58%|█████▊    | 79/136 [04:09<02:34,  2.72s/it]"
     ]
    },
    {
     "name": "stdout",
     "output_type": "stream",
     "text": [
      "\n",
      "\n",
      "feature calculation for L147_240806_L147_results_3.json_labeldata.csv\n",
      "Area larger than threshold, collision assumed in [].\n",
      "Calculation of features will be done in splits, ignoring those and adjacent* ranges. *That are less than 1 sec long.\n",
      "split 0, range: (0, 3521)\n",
      "Ffill-Interpolation of nan frames\n"
     ]
    },
    {
     "name": "stderr",
     "output_type": "stream",
     "text": [
      " 59%|█████▉    | 80/136 [04:10<02:13,  2.39s/it]"
     ]
    },
    {
     "name": "stdout",
     "output_type": "stream",
     "text": [
      "\n",
      "\n",
      "feature calculation for L147_240806_L147_results_24.json_labeldata.csv\n",
      "Area larger than threshold, collision assumed in [].\n",
      "Calculation of features will be done in splits, ignoring those and adjacent* ranges. *That are less than 1 sec long.\n",
      "split 0, range: (0, 6474)\n",
      "Ffill-Interpolation of nan frames\n"
     ]
    },
    {
     "name": "stderr",
     "output_type": "stream",
     "text": [
      " 60%|█████▉    | 81/136 [04:13<02:18,  2.51s/it]"
     ]
    },
    {
     "name": "stdout",
     "output_type": "stream",
     "text": [
      "\n",
      "\n",
      "feature calculation for L147_240806_L147_results_69.json_labeldata.csv\n",
      "Area larger than threshold, collision assumed in [].\n",
      "Calculation of features will be done in splits, ignoring those and adjacent* ranges. *That are less than 1 sec long.\n",
      "split 0, range: (0, 2185)\n",
      "Ffill-Interpolation of nan frames\n"
     ]
    },
    {
     "name": "stderr",
     "output_type": "stream",
     "text": [
      " 60%|██████    | 82/136 [04:14<01:51,  2.07s/it]"
     ]
    },
    {
     "name": "stdout",
     "output_type": "stream",
     "text": [
      "\n",
      "\n",
      "feature calculation for L147_240806_L147_results_44.json_labeldata.csv\n",
      "Area larger than threshold, collision assumed in [range(2012, 2027), range(2039, 2040), range(2050, 2051), range(2726, 2753)].\n",
      "Calculation of features will be done in splits, ignoring those and adjacent* ranges. *That are less than 1 sec long.\n",
      "split 0, range: (0, 2012)\n",
      "Following frames seem to be tracked upside down\n",
      "We are going to flip those back:\n",
      "(array([1259, 1265, 1266, 1269, 1275, 1280, 1487, 1488, 1736, 1737, 1738,\n",
      "       1739, 1740, 1741, 1742, 1743, 1744, 1745, 1746, 1747, 1748, 1749,\n",
      "       1750, 1877, 1878, 1975, 1976, 1977, 1980, 1982, 1985, 1986, 1987,\n",
      "       1988, 1989, 1990, 1991, 1992, 1993, 1994, 1995, 1996, 1997, 1998,\n",
      "       1999, 2000, 2001, 2002, 2003, 2005, 2006, 2008, 2009, 2010, 2011]),)\n",
      "split 1, range: (2051, 2726)\n",
      "Following frames seem to be tracked upside down\n",
      "We are going to flip those back:\n",
      "(array([  2,   3,   4,   5,   6,   7,   8,   9,  10,  11, 418, 642, 643,\n",
      "       647, 648, 649, 650, 651, 652, 653, 654, 655, 656, 657, 658, 659,\n",
      "       660, 665, 666, 667, 668, 669, 670, 671, 672, 673, 674]),)\n",
      "Ffill-Interpolation of nan frames\n",
      "Exempted from interpolation: range(2012, 2051) (over 1 sec long)\n",
      "Exempted from interpolation: range(2726, 2757) (over 1 sec long)\n"
     ]
    },
    {
     "name": "stderr",
     "output_type": "stream",
     "text": [
      " 61%|██████    | 83/136 [04:15<01:38,  1.86s/it]"
     ]
    },
    {
     "name": "stdout",
     "output_type": "stream",
     "text": [
      "\n",
      "\n",
      "feature calculation for L147_240806_L147_results_4.json_labeldata.csv\n",
      "Area larger than threshold, collision assumed in [].\n",
      "Calculation of features will be done in splits, ignoring those and adjacent* ranges. *That are less than 1 sec long.\n",
      "split 0, range: (0, 3521)\n",
      "Following frames seem to be tracked upside down\n",
      "We are going to flip those back:\n",
      "(array([3088]),)\n",
      "Ffill-Interpolation of nan frames\n"
     ]
    },
    {
     "name": "stderr",
     "output_type": "stream",
     "text": [
      " 62%|██████▏   | 84/136 [04:17<01:32,  1.78s/it]"
     ]
    },
    {
     "name": "stdout",
     "output_type": "stream",
     "text": [
      "\n",
      "\n",
      "feature calculation for L147_240806_L147_results_45.json_labeldata.csv\n",
      "Area larger than threshold, collision assumed in [].\n",
      "Calculation of features will be done in splits, ignoring those and adjacent* ranges. *That are less than 1 sec long.\n",
      "split 0, range: (0, 9800)\n",
      "split 1, range: (9830, 10484)\n",
      "Ffill-Interpolation of nan frames\n"
     ]
    },
    {
     "name": "stderr",
     "output_type": "stream",
     "text": [
      " 62%|██████▎   | 85/136 [04:22<02:13,  2.62s/it]"
     ]
    },
    {
     "name": "stdout",
     "output_type": "stream",
     "text": [
      "\n",
      "\n",
      "feature calculation for L147_240806_L147_results_12.json_labeldata.csv\n",
      "Area larger than threshold, collision assumed in [].\n",
      "Calculation of features will be done in splits, ignoring those and adjacent* ranges. *That are less than 1 sec long.\n",
      "split 0, range: (7, 17698)\n",
      "Following frames seem to be tracked upside down\n",
      "We are going to flip those back:\n",
      "(array([   39,    40,   354, ..., 17688, 17689, 17690]),)\n",
      "Ffill-Interpolation of nan frames\n"
     ]
    },
    {
     "name": "stderr",
     "output_type": "stream",
     "text": [
      " 63%|██████▎   | 86/136 [04:29<03:22,  4.06s/it]"
     ]
    },
    {
     "name": "stdout",
     "output_type": "stream",
     "text": [
      "\n",
      "\n",
      "feature calculation for L147_240806_L147_results_74.json_labeldata.csv\n",
      "Area larger than threshold, collision assumed in [].\n",
      "Calculation of features will be done in splits, ignoring those and adjacent* ranges. *That are less than 1 sec long.\n",
      "split 0, range: (0, 600)\n",
      "split 1, range: (608, 1918)\n"
     ]
    },
    {
     "name": "stderr",
     "output_type": "stream",
     "text": [
      " 64%|██████▍   | 87/136 [04:30<02:34,  3.15s/it]"
     ]
    },
    {
     "name": "stdout",
     "output_type": "stream",
     "text": [
      "Ffill-Interpolation of nan frames\n",
      "\n",
      "\n",
      "feature calculation for L147_240806_L147_results_7.json_labeldata.csv\n",
      "Area larger than threshold, collision assumed in [].\n",
      "Calculation of features will be done in splits, ignoring those and adjacent* ranges. *That are less than 1 sec long.\n",
      "split 0, range: (0, 17999)\n",
      "Following frames seem to be tracked upside down\n",
      "We are going to flip those back:\n",
      "(array([13827]),)\n",
      "Ffill-Interpolation of nan frames\n"
     ]
    },
    {
     "name": "stderr",
     "output_type": "stream",
     "text": [
      " 65%|██████▍   | 88/136 [04:37<03:32,  4.42s/it]"
     ]
    },
    {
     "name": "stdout",
     "output_type": "stream",
     "text": [
      "\n",
      "\n",
      "feature calculation for L147_240806_L147_results_8.json_labeldata.csv\n",
      "Area larger than threshold, collision assumed in [].\n",
      "Calculation of features will be done in splits, ignoring those and adjacent* ranges. *That are less than 1 sec long.\n",
      "split 0, range: (0, 2348)\n",
      "Following frames seem to be tracked upside down\n",
      "We are going to flip those back:\n",
      "(array([347]),)\n",
      "Ffill-Interpolation of nan frames\n"
     ]
    },
    {
     "name": "stderr",
     "output_type": "stream",
     "text": [
      " 65%|██████▌   | 89/136 [04:39<02:41,  3.44s/it]"
     ]
    },
    {
     "name": "stdout",
     "output_type": "stream",
     "text": [
      "\n",
      "\n",
      "feature calculation for L147_240806_L147_results_46.json_labeldata.csv\n",
      "Area larger than threshold, collision assumed in [].\n",
      "Calculation of features will be done in splits, ignoring those and adjacent* ranges. *That are less than 1 sec long.\n",
      "split 0, range: (0, 6153)\n",
      "Ffill-Interpolation of nan frames\n"
     ]
    },
    {
     "name": "stderr",
     "output_type": "stream",
     "text": [
      " 66%|██████▌   | 90/136 [04:41<02:28,  3.22s/it]"
     ]
    },
    {
     "name": "stdout",
     "output_type": "stream",
     "text": [
      "\n",
      "\n",
      "feature calculation for L147_240424_L147_results_1.json_labeldata.csv\n",
      "Area larger than threshold, collision assumed in [].\n",
      "Calculation of features will be done in splits, ignoring those and adjacent* ranges. *That are less than 1 sec long.\n",
      "split 0, range: (0, 18000)\n",
      "Following frames seem to be tracked upside down\n",
      "We are going to flip those back:\n",
      "(array([ 2333,  2334,  2335, ..., 17997, 17998, 17999]),)\n",
      "Ffill-Interpolation of nan frames\n"
     ]
    },
    {
     "name": "stderr",
     "output_type": "stream",
     "text": [
      " 67%|██████▋   | 91/136 [04:49<03:24,  4.53s/it]"
     ]
    },
    {
     "name": "stdout",
     "output_type": "stream",
     "text": [
      "\n",
      "\n",
      "feature calculation for L147_240424_L147bis_results_9.json_labeldata.csv\n",
      "Area larger than threshold, collision assumed in [].\n",
      "Calculation of features will be done in splits, ignoring those and adjacent* ranges. *That are less than 1 sec long.\n",
      "split 0, range: (0, 16247)\n",
      "Following frames seem to be tracked upside down\n",
      "We are going to flip those back:\n",
      "(array([ 3415,  3416,  3417, ..., 16244, 16245, 16246]),)\n",
      "Worm seems to travel backwards the majority of time, flipped all centerlines to agree with forward travelling assumption\n",
      "Ffill-Interpolation of nan frames\n"
     ]
    },
    {
     "name": "stderr",
     "output_type": "stream",
     "text": [
      " 68%|██████▊   | 92/136 [04:56<03:47,  5.17s/it]"
     ]
    },
    {
     "name": "stdout",
     "output_type": "stream",
     "text": [
      "\n",
      "\n",
      "feature calculation for L147_240424_L147_results_2.json_labeldata.csv\n",
      "Area larger than threshold, collision assumed in [].\n",
      "Calculation of features will be done in splits, ignoring those and adjacent* ranges. *That are less than 1 sec long.\n",
      "split 0, range: (0, 18000)\n",
      "Following frames seem to be tracked upside down\n",
      "We are going to flip those back:\n",
      "(array([ 1932,  1933,  1934, ..., 14922, 14923, 14924]),)\n",
      "Worm seems to travel backwards the majority of time, flipped all centerlines to agree with forward travelling assumption\n",
      "Ffill-Interpolation of nan frames\n"
     ]
    },
    {
     "name": "stderr",
     "output_type": "stream",
     "text": [
      " 68%|██████▊   | 93/136 [05:03<04:11,  5.84s/it]"
     ]
    },
    {
     "name": "stdout",
     "output_type": "stream",
     "text": [
      "\n",
      "\n",
      "feature calculation for L147_240424_L147bis_results_8.json_labeldata.csv\n",
      "Area larger than threshold, collision assumed in [].\n",
      "Calculation of features will be done in splits, ignoring those and adjacent* ranges. *That are less than 1 sec long.\n",
      "split 0, range: (0, 16292)\n",
      "Following frames seem to be tracked upside down\n",
      "We are going to flip those back:\n",
      "(array([  410,   411,   412, ..., 16289, 16290, 16291]),)\n",
      "Ffill-Interpolation of nan frames\n"
     ]
    },
    {
     "name": "stderr",
     "output_type": "stream",
     "text": [
      " 69%|██████▉   | 94/136 [05:10<04:18,  6.16s/it]"
     ]
    },
    {
     "name": "stdout",
     "output_type": "stream",
     "text": [
      "\n",
      "\n",
      "feature calculation for L147_240424_L147_results_0.json_labeldata.csv\n",
      "Area larger than threshold, collision assumed in [].\n",
      "Calculation of features will be done in splits, ignoring those and adjacent* ranges. *That are less than 1 sec long.\n",
      "split 0, range: (0, 9101)\n",
      "Following frames seem to be tracked upside down\n",
      "We are going to flip those back:\n",
      "(array([5305, 5306, 5307, ..., 9098, 9099, 9100]),)\n",
      "Ffill-Interpolation of nan frames\n"
     ]
    },
    {
     "name": "stderr",
     "output_type": "stream",
     "text": [
      " 70%|██████▉   | 95/136 [05:14<03:43,  5.46s/it]"
     ]
    },
    {
     "name": "stdout",
     "output_type": "stream",
     "text": [
      "\n",
      "\n",
      "feature calculation for L147_240424_L147bis_results_18.json_labeldata.csv\n",
      "Area larger than threshold, collision assumed in [].\n",
      "Calculation of features will be done in splits, ignoring those and adjacent* ranges. *That are less than 1 sec long.\n",
      "split 0, range: (0, 3735)\n",
      "Following frames seem to be tracked upside down\n",
      "We are going to flip those back:\n",
      "(array([2035, 2041, 2042, 2072]),)\n",
      "Ffill-Interpolation of nan frames\n"
     ]
    },
    {
     "name": "stderr",
     "output_type": "stream",
     "text": [
      " 71%|███████   | 96/136 [05:15<02:52,  4.32s/it]"
     ]
    },
    {
     "name": "stdout",
     "output_type": "stream",
     "text": [
      "\n",
      "\n",
      "feature calculation for L147_240807_L147_results_5.json_labeldata.csv\n",
      "Area larger than threshold, collision assumed in [].\n",
      "Calculation of features will be done in splits, ignoring those and adjacent* ranges. *That are less than 1 sec long.\n",
      "split 0, range: (30, 4117)\n",
      "Following frames seem to be tracked upside down\n",
      "We are going to flip those back:\n",
      "(array([952]),)\n",
      "split 1, range: (4132, 9914)\n",
      "split 2, range: (9936, 10743)\n",
      "Ffill-Interpolation of nan frames\n"
     ]
    },
    {
     "name": "stderr",
     "output_type": "stream",
     "text": [
      " 71%|███████▏  | 97/136 [05:20<02:54,  4.47s/it]"
     ]
    },
    {
     "name": "stdout",
     "output_type": "stream",
     "text": [
      "\n",
      "\n",
      "feature calculation for L147_240807_L147_results_3.json_labeldata.csv\n",
      "Area larger than threshold, collision assumed in [].\n",
      "Calculation of features will be done in splits, ignoring those and adjacent* ranges. *That are less than 1 sec long.\n",
      "split 0, range: (40, 17563)\n",
      "Following frames seem to be tracked upside down\n",
      "We are going to flip those back:\n",
      "(array([  486,   487,   488,   489,   490,   491,   492,   493,   494,\n",
      "         495,   497,   499,   500,   501,   502,   503,   504,   505,\n",
      "         506,   507,   508,   509,   510,   525,  1860,  3049,  3050,\n",
      "        3051,  3052,  3053,  3061, 13922]),)\n",
      "Ffill-Interpolation of nan frames\n",
      "Exempted from interpolation: range(0, 40) (over 1 sec long)\n"
     ]
    },
    {
     "name": "stderr",
     "output_type": "stream",
     "text": [
      " 72%|███████▏  | 98/136 [05:27<03:21,  5.31s/it]"
     ]
    },
    {
     "name": "stdout",
     "output_type": "stream",
     "text": [
      "\n",
      "\n",
      "feature calculation for L147_240807_L147_results_4.json_labeldata.csv\n",
      "Area larger than threshold, collision assumed in [].\n",
      "Calculation of features will be done in splits, ignoring those and adjacent* ranges. *That are less than 1 sec long.\n",
      "split 0, range: (78, 10680)\n",
      "Following frames seem to be tracked upside down\n",
      "We are going to flip those back:\n",
      "(array([ 663,  829, 1692]),)\n",
      "Ffill-Interpolation of nan frames\n",
      "Exempted from interpolation: range(0, 78) (over 1 sec long)\n"
     ]
    },
    {
     "name": "stderr",
     "output_type": "stream",
     "text": [
      " 73%|███████▎  | 99/136 [05:32<03:07,  5.06s/it]"
     ]
    },
    {
     "name": "stdout",
     "output_type": "stream",
     "text": [
      "\n",
      "\n",
      "feature calculation for L147_240807_L147_results_25.json_labeldata.csv\n",
      "Area larger than threshold, collision assumed in [range(0, 4), range(5, 6)].\n",
      "Calculation of features will be done in splits, ignoring those and adjacent* ranges. *That are less than 1 sec long.\n",
      "split 0, range: (21, 6339)\n",
      "Following frames seem to be tracked upside down\n",
      "We are going to flip those back:\n",
      "(array([ 764,  765,  766,  767,  772,  773,  774,  976,  978,  979,  980,\n",
      "        982,  983,  984,  985,  986,  987,  988,  989,  990,  991, 1114,\n",
      "       1131, 1132, 1134, 1138, 1140, 1141, 1143, 1311, 1321, 1322, 1323,\n",
      "       1336, 1511, 1621, 1623, 2558, 3930, 3931, 3932, 4160, 4161, 4162,\n",
      "       4163]),)\n",
      "Ffill-Interpolation of nan frames\n"
     ]
    },
    {
     "name": "stderr",
     "output_type": "stream",
     "text": [
      " 74%|███████▎  | 100/136 [05:35<02:37,  4.36s/it]"
     ]
    },
    {
     "name": "stdout",
     "output_type": "stream",
     "text": [
      "\n",
      "\n",
      "feature calculation for L147_240516_L147_results_124.json_labeldata.csv\n",
      "Area larger than threshold, collision assumed in [].\n",
      "Calculation of features will be done in splits, ignoring those and adjacent* ranges. *That are less than 1 sec long.\n",
      "split 0, range: (0, 5326)\n",
      "Ffill-Interpolation of nan frames\n"
     ]
    },
    {
     "name": "stderr",
     "output_type": "stream",
     "text": [
      " 74%|███████▍  | 101/136 [05:37<02:12,  3.77s/it]"
     ]
    },
    {
     "name": "stdout",
     "output_type": "stream",
     "text": [
      "\n",
      "\n",
      "feature calculation for L147_240516_L147_results_5.json_labeldata.csv\n",
      "Area larger than threshold, collision assumed in [range(506, 508), range(583, 584), range(585, 586), range(588, 589), range(1334, 1355), range(1356, 1372), range(1373, 1374), range(1375, 1377), range(1379, 1382), range(1383, 1384), range(1386, 1388), range(1389, 1390), range(1393, 1395), range(1396, 1397), range(1399, 1402), range(1408, 1409), range(1410, 1411), range(1413, 1414), range(1524, 1526), range(1528, 1529), range(1591, 1593), range(1596, 1605), range(1637, 1638), range(1742, 1743), range(1745, 1746), range(1754, 1755), range(1756, 1757), range(1758, 1761), range(1762, 1764), range(1765, 1766), range(1773, 1777), range(1779, 1780), range(1790, 1791), range(1794, 1795), range(1803, 1815), range(1838, 1839), range(1840, 1841), range(1842, 1843), range(1858, 1859), range(1865, 1867), range(1875, 1876), range(1880, 1881), range(1894, 1895), range(1902, 1904), range(1906, 1910), range(1911, 1913), range(1914, 1916), range(1917, 1923), range(1925, 1926), range(1929, 1942), range(1948, 1950), range(1960, 1961), range(1962, 1965), range(1974, 1987), range(1988, 1990), range(1994, 1995), range(1997, 2000), range(2002, 2009), range(2011, 2012), range(2014, 2015), range(2019, 2020), range(2021, 2022), range(2024, 2038), range(2039, 2041), range(2072, 2073), range(2074, 2075), range(2077, 2094), range(2100, 2104), range(2105, 2106), range(2108, 2109), range(2111, 2112), range(2113, 2114), range(2115, 2116), range(2117, 2164), range(2167, 2168), range(2173, 2174), range(2176, 2177), range(2179, 2209), range(2210, 2225), range(2226, 2228), range(2229, 2293), range(2294, 2298), range(2299, 2306), range(2308, 2309), range(2314, 2317), range(2319, 2325), range(2326, 2328)].\n",
      "Calculation of features will be done in splits, ignoring those and adjacent* ranges. *That are less than 1 sec long.\n",
      "split 0, range: (0, 506)\n",
      "split 1, range: (511, 575)\n"
     ]
    },
    {
     "name": "stderr",
     "output_type": "stream",
     "text": [
      "/gpfs/soma_fs/home/boeger/PpaPred/functions/waveletTransform.py:84: RuntimeWarning: All-NaN slice encountered\n",
      "  thresh = thresh*np.nanmax(signal)\n",
      "/gpfs/soma_fs/home/boeger/PpaPred/functions/waveletTransform.py:84: RuntimeWarning: All-NaN slice encountered\n",
      "  thresh = thresh*np.nanmax(signal)\n",
      "/gpfs/soma_fs/home/boeger/PpaPred/functions/waveletTransform.py:84: RuntimeWarning: All-NaN slice encountered\n",
      "  thresh = thresh*np.nanmax(signal)\n"
     ]
    },
    {
     "name": "stdout",
     "output_type": "stream",
     "text": [
      "split 2, range: (589, 1334)\n",
      "split 3, range: (1428, 1524)\n",
      "Worm seems to travel backwards the majority of time, flipped all centerlines to agree with forward travelling assumption\n"
     ]
    },
    {
     "name": "stderr",
     "output_type": "stream",
     "text": [
      "/gpfs/soma_fs/home/boeger/PpaPred/functions/waveletTransform.py:84: RuntimeWarning: All-NaN slice encountered\n",
      "  thresh = thresh*np.nanmax(signal)\n",
      "/gpfs/soma_fs/home/boeger/PpaPred/functions/waveletTransform.py:84: RuntimeWarning: All-NaN slice encountered\n",
      "  thresh = thresh*np.nanmax(signal)\n",
      "/gpfs/soma_fs/home/boeger/PpaPred/functions/waveletTransform.py:84: RuntimeWarning: All-NaN slice encountered\n",
      "  thresh = thresh*np.nanmax(signal)\n",
      "/gpfs/soma_fs/home/boeger/PpaPred/functions/waveletTransform.py:84: RuntimeWarning: All-NaN slice encountered\n",
      "  thresh = thresh*np.nanmax(signal)\n",
      "/gpfs/soma_fs/home/boeger/PpaPred/functions/waveletTransform.py:84: RuntimeWarning: All-NaN slice encountered\n",
      "  thresh = thresh*np.nanmax(signal)\n",
      "/gpfs/soma_fs/home/boeger/PpaPred/functions/waveletTransform.py:84: RuntimeWarning: All-NaN slice encountered\n",
      "  thresh = thresh*np.nanmax(signal)\n",
      "/gpfs/soma_fs/home/boeger/PpaPred/functions/waveletTransform.py:84: RuntimeWarning: All-NaN slice encountered\n",
      "  thresh = thresh*np.nanmax(signal)\n",
      "/gpfs/soma_fs/home/boeger/PpaPred/functions/waveletTransform.py:84: RuntimeWarning: All-NaN slice encountered\n",
      "  thresh = thresh*np.nanmax(signal)\n",
      "/gpfs/soma_fs/home/boeger/PpaPred/functions/waveletTransform.py:84: RuntimeWarning: All-NaN slice encountered\n",
      "  thresh = thresh*np.nanmax(signal)\n",
      "/gpfs/soma_fs/home/boeger/PpaPred/functions/waveletTransform.py:84: RuntimeWarning: All-NaN slice encountered\n",
      "  thresh = thresh*np.nanmax(signal)\n"
     ]
    },
    {
     "name": "stdout",
     "output_type": "stream",
     "text": [
      "split 4, range: (1529, 1591)\n",
      "Worm seems to travel backwards the majority of time, flipped all centerlines to agree with forward travelling assumption\n",
      "split 5, range: (1605, 1637)\n",
      "split 6, range: (1638, 1673)\n"
     ]
    },
    {
     "name": "stderr",
     "output_type": "stream",
     "text": [
      "/gpfs/soma_fs/home/boeger/PpaPred/functions/waveletTransform.py:84: RuntimeWarning: All-NaN slice encountered\n",
      "  thresh = thresh*np.nanmax(signal)\n",
      "/gpfs/soma_fs/home/boeger/PpaPred/functions/waveletTransform.py:84: RuntimeWarning: All-NaN slice encountered\n",
      "  thresh = thresh*np.nanmax(signal)\n",
      "/gpfs/soma_fs/home/boeger/PpaPred/functions/waveletTransform.py:84: RuntimeWarning: All-NaN slice encountered\n",
      "  thresh = thresh*np.nanmax(signal)\n",
      "/gpfs/soma_fs/home/boeger/PpaPred/functions/waveletTransform.py:84: RuntimeWarning: All-NaN slice encountered\n",
      "  thresh = thresh*np.nanmax(signal)\n",
      "/gpfs/soma_fs/home/boeger/PpaPred/functions/waveletTransform.py:84: RuntimeWarning: All-NaN slice encountered\n",
      "  thresh = thresh*np.nanmax(signal)\n",
      "/gpfs/soma_fs/home/boeger/PpaPred/functions/waveletTransform.py:84: RuntimeWarning: All-NaN slice encountered\n",
      "  thresh = thresh*np.nanmax(signal)\n",
      "/gpfs/soma_fs/home/boeger/PpaPred/functions/waveletTransform.py:84: RuntimeWarning: All-NaN slice encountered\n",
      "  thresh = thresh*np.nanmax(signal)\n",
      "/gpfs/soma_fs/home/boeger/PpaPred/functions/waveletTransform.py:84: RuntimeWarning: All-NaN slice encountered\n",
      "  thresh = thresh*np.nanmax(signal)\n",
      "/gpfs/soma_fs/home/boeger/PpaPred/functions/waveletTransform.py:84: RuntimeWarning: All-NaN slice encountered\n",
      "  thresh = thresh*np.nanmax(signal)\n",
      "/gpfs/soma_fs/home/boeger/PpaPred/functions/waveletTransform.py:84: RuntimeWarning: All-NaN slice encountered\n",
      "  thresh = thresh*np.nanmax(signal)\n",
      "/gpfs/soma_fs/home/boeger/PpaPred/functions/waveletTransform.py:84: RuntimeWarning: All-NaN slice encountered\n",
      "  thresh = thresh*np.nanmax(signal)\n",
      "/gpfs/soma_fs/home/boeger/PpaPred/functions/waveletTransform.py:84: RuntimeWarning: All-NaN slice encountered\n",
      "  thresh = thresh*np.nanmax(signal)\n"
     ]
    },
    {
     "name": "stdout",
     "output_type": "stream",
     "text": [
      "split 7, range: (1695, 1742)\n",
      "split 8, range: (2041, 2072)\n",
      "Worm seems to travel backwards the majority of time, flipped all centerlines to agree with forward travelling assumption\n",
      "split 9, range: (2328, 3080)\n",
      "Ffill-Interpolation of nan frames\n",
      "Exempted from interpolation: range(1334, 1428) (over 1 sec long)\n",
      "Exempted from interpolation: range(1742, 2041) (over 1 sec long)\n",
      "Exempted from interpolation: range(2072, 2328) (over 1 sec long)\n"
     ]
    },
    {
     "name": "stderr",
     "output_type": "stream",
     "text": [
      " 75%|███████▌  | 102/136 [05:39<01:51,  3.27s/it]"
     ]
    },
    {
     "name": "stdout",
     "output_type": "stream",
     "text": [
      "\n",
      "\n",
      "feature calculation for L147_240516_L147bis_results_5.json_labeldata.csv\n",
      "Area larger than threshold, collision assumed in [].\n",
      "Calculation of features will be done in splits, ignoring those and adjacent* ranges. *That are less than 1 sec long.\n",
      "split 0, range: (0, 16851)\n",
      "Following frames seem to be tracked upside down\n",
      "We are going to flip those back:\n",
      "(array([  184,   185,   187,   836,   837,   838,   839,   840,   841,\n",
      "         842,   843,   844,   845,   846,   847,   848,   849,   850,\n",
      "         851,   852,   853,   854,   855,   856,   857,   858,   859,\n",
      "         860,   861,   862,   863,   864,   865,   866,   867,   868,\n",
      "         869,   870,   871,   872,   873,   874,   875,   876,   877,\n",
      "         878,   879,   880,   881,   882,   883,   884,   885,   886,\n",
      "         887,   888,   889,   890,   891,   892,   893,   894,   895,\n",
      "         896,   897,   898,   899,   900,   901,   902,   903,   904,\n",
      "         905,   906,   907,   908,   909,   910,   911,   912,   913,\n",
      "         914,   915,   916,   917,   918,   919,   920,   921,   922,\n",
      "         923,   924,   925,   926,   927,   928,   929,   930,   931,\n",
      "         932,   933,   934,   935,   936,   937,   938,   939,   940,\n",
      "         941,   942,   943,   944,   945,   946,   947,   948,   949,\n",
      "         950,   951,   952,   953,   954,   955,   956,   957,   958,\n",
      "         959,   960,   961,   962,   963,   964,   965,   966,   967,\n",
      "         968,   969,   970,   971,   972,   973,   974,   975,   976,\n",
      "         977,   978,   979,   980,   981,   982,   983,   984,   985,\n",
      "         986,   987,   988,   989,   990,   991,   992,   993,   994,\n",
      "         995,   996,   997,   998,   999,  1000,  1001,  1002,  1003,\n",
      "        1004,  1005,  1006,  1007,  1008,  1009,  1010,  1011,  1012,\n",
      "        1013,  1014,  1015,  1016,  1017,  1018,  1019,  1020,  1021,\n",
      "        1022,  1023,  1024,  1025,  1026,  1027,  1028,  1029,  1030,\n",
      "        1031,  1032,  1033,  1034,  1035,  1036,  1037,  1038,  1039,\n",
      "        1040,  1041,  1042,  1043,  1044,  1045,  1046,  1047,  1048,\n",
      "        1049,  1050,  1051,  1052,  1053,  1054,  1055,  1056,  1057,\n",
      "        1058,  1059,  1060,  1061,  1062,  1063,  1064,  1065,  1066,\n",
      "        1067,  1068,  1069,  1070,  1071,  1072,  1073,  1074,  1075,\n",
      "        1076,  1077,  1078,  1079,  1080,  1081,  1082,  1083,  1084,\n",
      "        1085,  1086,  1087,  1088,  1089,  1090,  1091,  1092,  1093,\n",
      "        1094,  1095,  1096,  1097,  1098,  1099,  1100,  1101,  1102,\n",
      "        1103,  1104,  1105,  1106,  1107,  1108,  1109,  1110,  1111,\n",
      "        1112,  1113,  1114,  1115,  1116,  1117,  1118,  1119,  1120,\n",
      "        1121,  1122,  1123,  1124,  1125,  1126,  1127,  1128,  1129,\n",
      "        1130,  1131,  1132,  1133,  1134,  1135,  1136,  1137,  1138,\n",
      "        1139,  1140,  1141,  1142,  1143,  1144,  1145,  1146,  1147,\n",
      "        1148,  1149,  1150,  1151,  1152,  1153,  1154,  1155,  1156,\n",
      "        1157,  1158,  1159,  1160,  1161,  1162,  1163,  1164,  1165,\n",
      "        1166,  1167,  1168,  1169,  1170,  1171,  1172,  1173,  1174,\n",
      "        1175,  1176,  1177,  1178,  1179,  1180,  1181,  1182,  1183,\n",
      "        1184,  1185,  1186,  1187,  1188,  1189,  1190,  1191,  1192,\n",
      "        1193,  1194,  1195,  1196,  1197,  1198,  1199,  1200,  1201,\n",
      "        1202,  1203,  1204,  1205,  1206,  1207,  1208,  1209,  1210,\n",
      "        1211,  1212,  1213,  1214,  1215,  1216,  1217,  1218,  1219,\n",
      "        1220,  1221,  1222,  1223,  1224,  1225,  1226,  1227,  1228,\n",
      "        1229,  1230,  1231,  1232,  1233,  1234,  1235,  1236,  1237,\n",
      "        1238,  1239,  1240,  1241,  1242,  1243,  1244,  1245,  1246,\n",
      "        1247,  1248,  1249,  1250,  1251,  1252,  1253,  1254,  1255,\n",
      "        1256,  1257,  4219,  4661,  4677,  5091,  6508,  6631,  6632,\n",
      "       12990, 14572]),)\n",
      "split 1, range: (16854, 17999)\n",
      "Ffill-Interpolation of nan frames\n"
     ]
    },
    {
     "name": "stderr",
     "output_type": "stream",
     "text": [
      " 76%|███████▌  | 103/136 [05:47<02:30,  4.57s/it]"
     ]
    },
    {
     "name": "stdout",
     "output_type": "stream",
     "text": [
      "\n",
      "\n",
      "feature calculation for L147_240516_L147bis_results_2.json_labeldata.csv\n",
      "Area larger than threshold, collision assumed in [].\n",
      "Calculation of features will be done in splits, ignoring those and adjacent* ranges. *That are less than 1 sec long.\n",
      "split 0, range: (0, 2493)\n",
      "Following frames seem to be tracked upside down\n",
      "We are going to flip those back:\n",
      "(array([108, 109]),)\n",
      "Ffill-Interpolation of nan frames\n"
     ]
    },
    {
     "name": "stderr",
     "output_type": "stream",
     "text": [
      " 76%|███████▋  | 104/136 [05:48<01:53,  3.56s/it]"
     ]
    },
    {
     "name": "stdout",
     "output_type": "stream",
     "text": [
      "\n",
      "\n",
      "feature calculation for L147_240516_L147_results_0.json_labeldata.csv\n",
      "Area larger than threshold, collision assumed in [range(506, 508), range(583, 584), range(585, 586), range(588, 589), range(1330, 1331), range(1334, 1355), range(1356, 1358), range(1365, 1415), range(1417, 1419), range(1464, 1465), range(1466, 1467), range(1469, 1472), range(1475, 1479), range(1480, 1482), range(1483, 1484), range(1485, 1491), range(1493, 1502), range(1503, 1512), range(1513, 1540), range(1541, 1543), range(1545, 1546), range(1547, 1548), range(1549, 1551), range(1554, 1555), range(1556, 1564), range(1565, 1569), range(1571, 1572), range(1573, 1575), range(1578, 1586), range(1587, 1605), range(1606, 1611), range(1612, 1649), range(1650, 1651), range(1707, 1709), range(1711, 1712), range(1713, 1735), range(1736, 1737), range(1738, 1768), range(1769, 1771), range(1772, 1818), range(1819, 1823), range(1835, 1836), range(1838, 1839), range(1840, 1841), range(1842, 1843), range(1858, 1859), range(1862, 1864), range(1865, 2052), range(2055, 2058), range(2059, 2060), range(2061, 2063), range(2064, 2066), range(2068, 2069), range(2070, 2075), range(2076, 2266), range(2267, 2290), range(2291, 2292), range(2295, 2298), range(2299, 2307), range(2308, 2309), range(2310, 2311), range(2314, 2317), range(2318, 2325), range(2326, 2328), range(2339, 2340), range(2341, 2342), range(3184, 3185)].\n",
      "Calculation of features will be done in splits, ignoring those and adjacent* ranges. *That are less than 1 sec long.\n",
      "split 0, range: (0, 506)\n",
      "split 1, range: (511, 575)\n"
     ]
    },
    {
     "name": "stderr",
     "output_type": "stream",
     "text": [
      "/gpfs/soma_fs/home/boeger/PpaPred/functions/waveletTransform.py:84: RuntimeWarning: All-NaN slice encountered\n",
      "  thresh = thresh*np.nanmax(signal)\n",
      "/gpfs/soma_fs/home/boeger/PpaPred/functions/waveletTransform.py:84: RuntimeWarning: All-NaN slice encountered\n",
      "  thresh = thresh*np.nanmax(signal)\n",
      "/gpfs/soma_fs/home/boeger/PpaPred/functions/waveletTransform.py:84: RuntimeWarning: All-NaN slice encountered\n",
      "  thresh = thresh*np.nanmax(signal)\n"
     ]
    },
    {
     "name": "stdout",
     "output_type": "stream",
     "text": [
      "split 2, range: (589, 1330)\n",
      "split 3, range: (1428, 1464)\n",
      "split 4, range: (2342, 3184)\n",
      "Following frames seem to be tracked upside down\n",
      "We are going to flip those back:\n",
      "(array([ 97, 110, 261, 263, 264, 265, 266, 274, 275, 277, 278, 300, 373,\n",
      "       375, 378, 379, 385, 396, 397, 398, 400, 401, 402, 412, 415, 420,\n",
      "       439, 445, 475, 476, 477, 478]),)\n"
     ]
    },
    {
     "name": "stderr",
     "output_type": "stream",
     "text": [
      "/gpfs/soma_fs/home/boeger/PpaPred/functions/waveletTransform.py:84: RuntimeWarning: All-NaN slice encountered\n",
      "  thresh = thresh*np.nanmax(signal)\n",
      "/gpfs/soma_fs/home/boeger/PpaPred/functions/waveletTransform.py:84: RuntimeWarning: All-NaN slice encountered\n",
      "  thresh = thresh*np.nanmax(signal)\n",
      "/gpfs/soma_fs/home/boeger/PpaPred/functions/waveletTransform.py:84: RuntimeWarning: All-NaN slice encountered\n",
      "  thresh = thresh*np.nanmax(signal)\n",
      "/gpfs/soma_fs/home/boeger/PpaPred/functions/waveletTransform.py:84: RuntimeWarning: All-NaN slice encountered\n",
      "  thresh = thresh*np.nanmax(signal)\n"
     ]
    },
    {
     "name": "stdout",
     "output_type": "stream",
     "text": [
      "split 5, range: (3186, 4014)\n",
      "split 6, range: (4043, 5680)\n",
      "Worm seems to travel backwards the majority of time, flipped all centerlines to agree with forward travelling assumption\n",
      "split 7, range: (5789, 5862)\n",
      "split 8, range: (5863, 5976)\n",
      "Worm seems to travel backwards the majority of time, flipped all centerlines to agree with forward travelling assumption\n",
      "split 9, range: (5977, 6218)\n"
     ]
    },
    {
     "name": "stderr",
     "output_type": "stream",
     "text": [
      "/gpfs/soma_fs/home/boeger/PpaPred/functions/waveletTransform.py:84: RuntimeWarning: All-NaN slice encountered\n",
      "  thresh = thresh*np.nanmax(signal)\n",
      "/gpfs/soma_fs/home/boeger/PpaPred/functions/waveletTransform.py:84: RuntimeWarning: All-NaN slice encountered\n",
      "  thresh = thresh*np.nanmax(signal)\n",
      "/gpfs/soma_fs/home/boeger/PpaPred/functions/waveletTransform.py:84: RuntimeWarning: All-NaN slice encountered\n",
      "  thresh = thresh*np.nanmax(signal)\n",
      "/gpfs/soma_fs/home/boeger/PpaPred/functions/waveletTransform.py:84: RuntimeWarning: All-NaN slice encountered\n",
      "  thresh = thresh*np.nanmax(signal)\n",
      "/gpfs/soma_fs/home/boeger/PpaPred/functions/waveletTransform.py:84: RuntimeWarning: All-NaN slice encountered\n",
      "  thresh = thresh*np.nanmax(signal)\n",
      "/gpfs/soma_fs/home/boeger/PpaPred/functions/waveletTransform.py:84: RuntimeWarning: All-NaN slice encountered\n",
      "  thresh = thresh*np.nanmax(signal)\n",
      "/gpfs/soma_fs/home/boeger/PpaPred/functions/waveletTransform.py:84: RuntimeWarning: All-NaN slice encountered\n",
      "  thresh = thresh*np.nanmax(signal)\n"
     ]
    },
    {
     "name": "stdout",
     "output_type": "stream",
     "text": [
      "split 10, range: (6219, 6297)\n",
      "Worm seems to travel backwards the majority of time, flipped all centerlines to agree with forward travelling assumption\n",
      "split 11, range: (6298, 6675)\n",
      "split 12, range: (6684, 6720)\n",
      "Worm seems to travel backwards the majority of time, flipped all centerlines to agree with forward travelling assumption\n",
      "split 13, range: (6731, 6804)\n",
      "Ffill-Interpolation of nan frames\n",
      "Exempted from interpolation: range(1330, 1428) (over 1 sec long)\n",
      "Exempted from interpolation: range(1464, 2342) (over 1 sec long)\n",
      "Exempted from interpolation: range(5680, 5789) (over 1 sec long)\n"
     ]
    },
    {
     "name": "stderr",
     "output_type": "stream",
     "text": [
      "/gpfs/soma_fs/home/boeger/PpaPred/functions/waveletTransform.py:84: RuntimeWarning: All-NaN slice encountered\n",
      "  thresh = thresh*np.nanmax(signal)\n",
      "/gpfs/soma_fs/home/boeger/PpaPred/functions/waveletTransform.py:84: RuntimeWarning: All-NaN slice encountered\n",
      "  thresh = thresh*np.nanmax(signal)\n",
      "/gpfs/soma_fs/home/boeger/PpaPred/functions/waveletTransform.py:84: RuntimeWarning: All-NaN slice encountered\n",
      "  thresh = thresh*np.nanmax(signal)\n",
      "/gpfs/soma_fs/home/boeger/PpaPred/functions/waveletTransform.py:84: RuntimeWarning: All-NaN slice encountered\n",
      "  thresh = thresh*np.nanmax(signal)\n",
      "/gpfs/soma_fs/home/boeger/PpaPred/functions/waveletTransform.py:84: RuntimeWarning: All-NaN slice encountered\n",
      "  thresh = thresh*np.nanmax(signal)\n",
      " 77%|███████▋  | 105/136 [05:52<01:54,  3.69s/it]"
     ]
    },
    {
     "name": "stdout",
     "output_type": "stream",
     "text": [
      "\n",
      "\n",
      "feature calculation for L147_240516_L147_results_4.json_labeldata.csv\n",
      "Area larger than threshold, collision assumed in [range(1372, 1373), range(1374, 1375), range(1377, 1378), range(1388, 1389), range(1390, 1391), range(1395, 1396), range(1397, 1398), range(1403, 1406), range(1407, 1408), range(1409, 1410), range(1414, 1415), range(1418, 1419), range(1464, 1465), range(1466, 1467), range(1471, 1472), range(1475, 1476), range(1481, 1482), range(1483, 1484), range(1485, 1488), range(1489, 1490), range(1493, 1502), range(1503, 1505), range(1506, 1512), range(1513, 1514), range(1515, 1517), range(1518, 1520), range(1526, 1527), range(1529, 1530), range(1532, 1534), range(1535, 1540), range(1541, 1543), range(1545, 1546), range(1547, 1548), range(1549, 1551), range(1556, 1558), range(1562, 1563), range(1566, 1569), range(1571, 1572), range(1573, 1575), range(1578, 1580), range(1582, 1589), range(1590, 1592), range(1593, 1596), range(1604, 1605), range(1606, 1610), range(1612, 1613), range(1614, 1621), range(1623, 1624), range(1625, 1626), range(1627, 1642), range(1643, 1644), range(1645, 1649), range(1650, 1651), range(1707, 1709), range(1711, 1712), range(1713, 1735), range(1736, 1737), range(1738, 1742), range(1744, 1745), range(1747, 1748), range(1750, 1751), range(1752, 1754), range(1757, 1758), range(1761, 1762), range(1764, 1765), range(1766, 1768), range(1769, 1771), range(1772, 1773), range(1774, 1775), range(1777, 1779), range(1781, 1782), range(1786, 1787), range(1789, 1790), range(1793, 1794), range(1798, 1803), range(1815, 1818), range(1821, 1823), range(1835, 1836), range(1858, 1859), range(1862, 1864), range(1865, 1866), range(1867, 1871), range(1877, 1878), range(1882, 1883), range(1885, 1886), range(1887, 1889), range(1890, 1891), range(1892, 1893), range(1896, 1900), range(1901, 1902), range(1904, 1906), range(1923, 1925), range(1926, 1929), range(1942, 1943), range(1945, 1947), range(1948, 1949), range(1950, 1952), range(1954, 1957), range(1958, 1959), range(1962, 1964), range(1965, 1967), range(1968, 1972), range(1973, 1975), range(1977, 1978), range(1980, 1981), range(1983, 1984), range(1987, 1988), range(1990, 1991), range(1992, 1994), range(1995, 1996), range(2000, 2002), range(2009, 2010), range(2012, 2014), range(2016, 2017), range(2048, 2049), range(2056, 2057), range(2062, 2063), range(2073, 2075), range(2076, 2078), range(2236, 2238)].\n",
      "Calculation of features will be done in splits, ignoring those and adjacent* ranges. *That are less than 1 sec long.\n",
      "split 0, range: (0, 508)\n",
      "split 1, range: (511, 575)\n",
      "Worm seems to travel backwards the majority of time, flipped all centerlines to agree with forward travelling assumption\n"
     ]
    },
    {
     "name": "stderr",
     "output_type": "stream",
     "text": [
      "/gpfs/soma_fs/home/boeger/PpaPred/functions/waveletTransform.py:84: RuntimeWarning: All-NaN slice encountered\n",
      "  thresh = thresh*np.nanmax(signal)\n",
      "/gpfs/soma_fs/home/boeger/PpaPred/functions/waveletTransform.py:84: RuntimeWarning: All-NaN slice encountered\n",
      "  thresh = thresh*np.nanmax(signal)\n",
      "/gpfs/soma_fs/home/boeger/PpaPred/functions/waveletTransform.py:84: RuntimeWarning: All-NaN slice encountered\n",
      "  thresh = thresh*np.nanmax(signal)\n",
      "/gpfs/soma_fs/home/boeger/PpaPred/functions/waveletTransform.py:84: RuntimeWarning: All-NaN slice encountered\n",
      "  thresh = thresh*np.nanmax(signal)\n",
      "/gpfs/soma_fs/home/boeger/PpaPred/functions/waveletTransform.py:84: RuntimeWarning: All-NaN slice encountered\n",
      "  thresh = thresh*np.nanmax(signal)\n"
     ]
    },
    {
     "name": "stdout",
     "output_type": "stream",
     "text": [
      "split 2, range: (581, 1372)\n",
      "split 3, range: (1428, 1464)\n",
      "split 4, range: (2017, 2048)\n",
      "split 5, range: (2078, 2236)\n"
     ]
    },
    {
     "name": "stderr",
     "output_type": "stream",
     "text": [
      "/gpfs/soma_fs/home/boeger/PpaPred/functions/waveletTransform.py:84: RuntimeWarning: All-NaN slice encountered\n",
      "  thresh = thresh*np.nanmax(signal)\n",
      "/gpfs/soma_fs/home/boeger/PpaPred/functions/waveletTransform.py:84: RuntimeWarning: All-NaN slice encountered\n",
      "  thresh = thresh*np.nanmax(signal)\n",
      "/gpfs/soma_fs/home/boeger/PpaPred/functions/waveletTransform.py:84: RuntimeWarning: All-NaN slice encountered\n",
      "  thresh = thresh*np.nanmax(signal)\n",
      "/gpfs/soma_fs/home/boeger/PpaPred/functions/waveletTransform.py:84: RuntimeWarning: All-NaN slice encountered\n",
      "  thresh = thresh*np.nanmax(signal)\n",
      "/gpfs/soma_fs/home/boeger/PpaPred/functions/waveletTransform.py:84: RuntimeWarning: All-NaN slice encountered\n",
      "  thresh = thresh*np.nanmax(signal)\n",
      "/gpfs/soma_fs/home/boeger/PpaPred/functions/waveletTransform.py:84: RuntimeWarning: All-NaN slice encountered\n",
      "  thresh = thresh*np.nanmax(signal)\n",
      "/gpfs/soma_fs/home/boeger/PpaPred/functions/waveletTransform.py:84: RuntimeWarning: All-NaN slice encountered\n",
      "  thresh = thresh*np.nanmax(signal)\n",
      "/gpfs/soma_fs/home/boeger/PpaPred/functions/waveletTransform.py:84: RuntimeWarning: All-NaN slice encountered\n",
      "  thresh = thresh*np.nanmax(signal)\n"
     ]
    },
    {
     "name": "stdout",
     "output_type": "stream",
     "text": [
      "split 6, range: (2238, 3069)\n",
      "Ffill-Interpolation of nan frames\n",
      "Exempted from interpolation: range(1372, 1428) (over 1 sec long)\n",
      "Exempted from interpolation: range(1464, 2017) (over 1 sec long)\n"
     ]
    },
    {
     "name": "stderr",
     "output_type": "stream",
     "text": [
      " 78%|███████▊  | 106/136 [05:54<01:33,  3.12s/it]"
     ]
    },
    {
     "name": "stdout",
     "output_type": "stream",
     "text": [
      "\n",
      "\n",
      "feature calculation for L147_240516_L147bis_results_4.json_labeldata.csv\n",
      "Area larger than threshold, collision assumed in [].\n",
      "Calculation of features will be done in splits, ignoring those and adjacent* ranges. *That are less than 1 sec long.\n",
      "split 0, range: (0, 17999)\n",
      "Following frames seem to be tracked upside down\n",
      "We are going to flip those back:\n",
      "(array([ 1224,  1226,  1228,  1229,  1231,  1232,  1233,  1234,  1235,\n",
      "        1236,  1237,  1238,  1239,  1240,  1241,  1242,  1243,  1244,\n",
      "        1245,  1246,  1247,  1248,  1249,  1250,  1251,  1252,  1253,\n",
      "        1254,  1255,  1256,  1257,  1258,  1259,  2241,  2244,  2247,\n",
      "        2248,  2249,  2336,  3090,  3292,  6225,  6230, 11198, 11199,\n",
      "       11202, 11203, 11204, 11205, 13184, 13511, 13569, 13601, 13602,\n",
      "       13603, 13605, 13716, 13717, 13720, 13721, 15422, 15424, 15432,\n",
      "       17574, 17576, 17577, 17578, 17932, 17936, 17938, 17939]),)\n",
      "Ffill-Interpolation of nan frames\n"
     ]
    },
    {
     "name": "stderr",
     "output_type": "stream",
     "text": [
      " 79%|███████▊  | 107/136 [06:01<02:08,  4.43s/it]"
     ]
    },
    {
     "name": "stdout",
     "output_type": "stream",
     "text": [
      "\n",
      "\n",
      "feature calculation for L147_240516_L147bis_results_3.json_labeldata.csv\n",
      "Area larger than threshold, collision assumed in [].\n",
      "Calculation of features will be done in splits, ignoring those and adjacent* ranges. *That are less than 1 sec long.\n",
      "split 0, range: (0, 5805)\n",
      "Following frames seem to be tracked upside down\n",
      "We are going to flip those back:\n",
      "(array([ 839,  840,  841, ..., 5501, 5502, 5503]),)\n",
      "Worm seems to travel backwards the majority of time, flipped all centerlines to agree with forward travelling assumption\n",
      "Ffill-Interpolation of nan frames\n"
     ]
    },
    {
     "name": "stderr",
     "output_type": "stream",
     "text": [
      " 79%|███████▉  | 108/136 [06:04<01:48,  3.86s/it]"
     ]
    },
    {
     "name": "stdout",
     "output_type": "stream",
     "text": [
      "\n",
      "\n",
      "feature calculation for L147_240516_L147_results_99.json_labeldata.csv\n",
      "Area larger than threshold, collision assumed in [].\n",
      "Calculation of features will be done in splits, ignoring those and adjacent* ranges. *That are less than 1 sec long.\n",
      "split 0, range: (0, 242)\n",
      "Worm seems to travel backwards the majority of time, flipped all centerlines to agree with forward travelling assumption\n",
      "split 1, range: (298, 365)\n",
      "split 2, range: (389, 535)\n"
     ]
    },
    {
     "name": "stderr",
     "output_type": "stream",
     "text": [
      "/gpfs/soma_fs/home/boeger/PpaPred/functions/waveletTransform.py:84: RuntimeWarning: All-NaN slice encountered\n",
      "  thresh = thresh*np.nanmax(signal)\n",
      "/gpfs/soma_fs/home/boeger/PpaPred/functions/waveletTransform.py:84: RuntimeWarning: All-NaN slice encountered\n",
      "  thresh = thresh*np.nanmax(signal)\n",
      "/gpfs/soma_fs/home/boeger/PpaPred/functions/waveletTransform.py:84: RuntimeWarning: All-NaN slice encountered\n",
      "  thresh = thresh*np.nanmax(signal)\n",
      "/gpfs/soma_fs/home/boeger/PpaPred/functions/waveletTransform.py:84: RuntimeWarning: All-NaN slice encountered\n",
      "  thresh = thresh*np.nanmax(signal)\n"
     ]
    },
    {
     "name": "stdout",
     "output_type": "stream",
     "text": [
      "split 3, range: (536, 1528)\n",
      "Worm seems to travel backwards the majority of time, flipped all centerlines to agree with forward travelling assumption\n",
      "split 4, range: (1536, 1927)\n",
      "split 5, range: (1936, 2085)\n"
     ]
    },
    {
     "name": "stderr",
     "output_type": "stream",
     "text": [
      "/gpfs/soma_fs/home/boeger/PpaPred/functions/waveletTransform.py:84: RuntimeWarning: All-NaN slice encountered\n",
      "  thresh = thresh*np.nanmax(signal)\n"
     ]
    },
    {
     "name": "stdout",
     "output_type": "stream",
     "text": [
      "split 6, range: (2092, 2926)\n",
      "split 7, range: (2941, 3198)\n",
      "Worm seems to travel backwards the majority of time, flipped all centerlines to agree with forward travelling assumption\n",
      "Ffill-Interpolation of nan frames\n",
      "Exempted from interpolation: range(242, 298) (over 1 sec long)\n",
      "Exempted from interpolation: range(3198, 3229) (over 1 sec long)\n"
     ]
    },
    {
     "name": "stderr",
     "output_type": "stream",
     "text": [
      " 80%|████████  | 109/136 [06:06<01:29,  3.32s/it]"
     ]
    },
    {
     "name": "stdout",
     "output_type": "stream",
     "text": [
      "\n",
      "\n",
      "feature calculation for L147_240410_L147guniz_results_2.json_labeldata.csv\n",
      "Area larger than threshold, collision assumed in [].\n",
      "Calculation of features will be done in splits, ignoring those and adjacent* ranges. *That are less than 1 sec long.\n",
      "split 0, range: (0, 17999)\n",
      "Following frames seem to be tracked upside down\n",
      "We are going to flip those back:\n",
      "(array([ 4094,  4095,  4096,  4097,  4098,  4099,  4100,  4101,  4102,\n",
      "        4104,  4106,  4107,  4109,  6528,  6532,  7116, 11712]),)\n",
      "Ffill-Interpolation of nan frames\n"
     ]
    },
    {
     "name": "stderr",
     "output_type": "stream",
     "text": [
      " 81%|████████  | 110/136 [06:13<02:00,  4.62s/it]"
     ]
    },
    {
     "name": "stdout",
     "output_type": "stream",
     "text": [
      "\n",
      "\n",
      "feature calculation for L147_240410_L147guniz_results_6.json_labeldata.csv\n",
      "Area larger than threshold, collision assumed in [range(2760, 2762), range(2763, 2764), range(3288, 3294), range(3490, 3585)].\n",
      "Calculation of features will be done in splits, ignoring those and adjacent* ranges. *That are less than 1 sec long.\n",
      "split 0, range: (0, 2306)\n",
      "split 1, range: (2307, 2611)\n",
      "split 2, range: (2612, 2760)\n",
      "Worm seems to travel backwards the majority of time, flipped all centerlines to agree with forward travelling assumption\n"
     ]
    },
    {
     "name": "stderr",
     "output_type": "stream",
     "text": [
      "/gpfs/soma_fs/home/boeger/PpaPred/functions/waveletTransform.py:84: RuntimeWarning: All-NaN slice encountered\n",
      "  thresh = thresh*np.nanmax(signal)\n",
      "/gpfs/soma_fs/home/boeger/PpaPred/functions/waveletTransform.py:84: RuntimeWarning: All-NaN slice encountered\n",
      "  thresh = thresh*np.nanmax(signal)\n",
      "/gpfs/soma_fs/home/boeger/PpaPred/functions/waveletTransform.py:84: RuntimeWarning: All-NaN slice encountered\n",
      "  thresh = thresh*np.nanmax(signal)\n",
      "/gpfs/soma_fs/home/boeger/PpaPred/functions/waveletTransform.py:84: RuntimeWarning: All-NaN slice encountered\n",
      "  thresh = thresh*np.nanmax(signal)\n"
     ]
    },
    {
     "name": "stdout",
     "output_type": "stream",
     "text": [
      "split 3, range: (2764, 2828)\n",
      "split 4, range: (2836, 3082)\n",
      "Worm seems to travel backwards the majority of time, flipped all centerlines to agree with forward travelling assumption\n",
      "split 5, range: (3083, 3288)\n",
      "split 6, range: (3294, 3490)\n"
     ]
    },
    {
     "name": "stderr",
     "output_type": "stream",
     "text": [
      "/gpfs/soma_fs/home/boeger/PpaPred/functions/waveletTransform.py:84: RuntimeWarning: All-NaN slice encountered\n",
      "  thresh = thresh*np.nanmax(signal)\n",
      "/gpfs/soma_fs/home/boeger/PpaPred/functions/waveletTransform.py:84: RuntimeWarning: All-NaN slice encountered\n",
      "  thresh = thresh*np.nanmax(signal)\n"
     ]
    },
    {
     "name": "stdout",
     "output_type": "stream",
     "text": [
      "Ffill-Interpolation of nan frames\n",
      "Exempted from interpolation: range(3490, 3585) (over 1 sec long)\n"
     ]
    },
    {
     "name": "stderr",
     "output_type": "stream",
     "text": [
      " 82%|████████▏ | 111/136 [06:16<01:36,  3.86s/it]"
     ]
    },
    {
     "name": "stdout",
     "output_type": "stream",
     "text": [
      "\n",
      "\n",
      "feature calculation for L147_240410_L147guniz_results_27.json_labeldata.csv\n",
      "Area larger than threshold, collision assumed in [].\n",
      "Calculation of features will be done in splits, ignoring those and adjacent* ranges. *That are less than 1 sec long.\n",
      "split 0, range: (6, 43)\n",
      "Following frames seem to be tracked upside down\n",
      "We are going to flip those back:\n",
      "(array([ 1,  2,  3,  4,  5,  6,  7, 17, 18, 19, 20, 21, 22, 23, 24, 25, 26,\n",
      "       27, 28, 29, 30, 31, 32, 33, 34, 35, 36]),)\n",
      "Worm seems to travel backwards the majority of time, flipped all centerlines to agree with forward travelling assumption\n",
      "split 1, range: (44, 3122)\n",
      "Following frames seem to be tracked upside down\n",
      "We are going to flip those back:\n",
      "(array([  42,   43,   44,   45,   46,  789,  793,  795,  798,  802,  803,\n",
      "        804,  805,  806,  813,  824, 1216, 1218, 1260, 1890, 1899, 2026,\n",
      "       2310, 2341, 2343, 2489, 2490, 2491, 2495, 2618, 2619, 2648, 2650,\n",
      "       2791, 2792, 2793, 2794, 2941, 2942]),)\n"
     ]
    },
    {
     "name": "stderr",
     "output_type": "stream",
     "text": [
      "/gpfs/soma_fs/home/boeger/PpaPred/functions/waveletTransform.py:84: RuntimeWarning: All-NaN slice encountered\n",
      "  thresh = thresh*np.nanmax(signal)\n",
      "/gpfs/soma_fs/home/boeger/PpaPred/functions/waveletTransform.py:84: RuntimeWarning: All-NaN slice encountered\n",
      "  thresh = thresh*np.nanmax(signal)\n",
      "/gpfs/soma_fs/home/boeger/PpaPred/functions/waveletTransform.py:84: RuntimeWarning: All-NaN slice encountered\n",
      "  thresh = thresh*np.nanmax(signal)\n",
      "/gpfs/soma_fs/home/boeger/PpaPred/functions/waveletTransform.py:84: RuntimeWarning: All-NaN slice encountered\n",
      "  thresh = thresh*np.nanmax(signal)\n"
     ]
    },
    {
     "name": "stdout",
     "output_type": "stream",
     "text": [
      "Ffill-Interpolation of nan frames\n"
     ]
    },
    {
     "name": "stderr",
     "output_type": "stream",
     "text": [
      " 82%|████████▏ | 112/136 [06:17<01:16,  3.18s/it]"
     ]
    },
    {
     "name": "stdout",
     "output_type": "stream",
     "text": [
      "\n",
      "\n",
      "feature calculation for L147_240410_L147guniz_results_75.json_labeldata.csv\n",
      "Area larger than threshold, collision assumed in [].\n",
      "Calculation of features will be done in splits, ignoring those and adjacent* ranges. *That are less than 1 sec long.\n",
      "split 0, range: (0, 474)\n",
      "split 1, range: (480, 529)\n"
     ]
    },
    {
     "name": "stderr",
     "output_type": "stream",
     "text": [
      "/gpfs/soma_fs/home/boeger/PpaPred/functions/waveletTransform.py:84: RuntimeWarning: All-NaN slice encountered\n",
      "  thresh = thresh*np.nanmax(signal)\n",
      "/gpfs/soma_fs/home/boeger/PpaPred/functions/waveletTransform.py:84: RuntimeWarning: All-NaN slice encountered\n",
      "  thresh = thresh*np.nanmax(signal)\n",
      "/gpfs/soma_fs/home/boeger/PpaPred/functions/waveletTransform.py:84: RuntimeWarning: All-NaN slice encountered\n",
      "  thresh = thresh*np.nanmax(signal)\n",
      "/gpfs/soma_fs/home/boeger/PpaPred/functions/waveletTransform.py:84: RuntimeWarning: All-NaN slice encountered\n",
      "  thresh = thresh*np.nanmax(signal)\n",
      "/gpfs/soma_fs/home/boeger/PpaPred/functions/waveletTransform.py:84: RuntimeWarning: All-NaN slice encountered\n",
      "  thresh = thresh*np.nanmax(signal)\n",
      "/gpfs/soma_fs/home/boeger/PpaPred/functions/waveletTransform.py:84: RuntimeWarning: All-NaN slice encountered\n",
      "  thresh = thresh*np.nanmax(signal)\n",
      "/gpfs/soma_fs/home/boeger/PpaPred/functions/waveletTransform.py:84: RuntimeWarning: All-NaN slice encountered\n",
      "  thresh = thresh*np.nanmax(signal)\n"
     ]
    },
    {
     "name": "stdout",
     "output_type": "stream",
     "text": [
      "split 2, range: (561, 630)\n",
      "split 3, range: (633, 1122)\n",
      "split 4, range: (1129, 1420)\n",
      "Worm seems to travel backwards the majority of time, flipped all centerlines to agree with forward travelling assumption\n",
      "split 5, range: (1457, 1630)\n",
      "split 6, range: (1631, 1690)\n",
      "Worm seems to travel backwards the majority of time, flipped all centerlines to agree with forward travelling assumption\n",
      "split 7, range: (1696, 1741)\n"
     ]
    },
    {
     "name": "stderr",
     "output_type": "stream",
     "text": [
      "/gpfs/soma_fs/home/boeger/PpaPred/functions/waveletTransform.py:84: RuntimeWarning: All-NaN slice encountered\n",
      "  thresh = thresh*np.nanmax(signal)\n",
      "/gpfs/soma_fs/home/boeger/PpaPred/functions/waveletTransform.py:84: RuntimeWarning: All-NaN slice encountered\n",
      "  thresh = thresh*np.nanmax(signal)\n",
      "/gpfs/soma_fs/home/boeger/PpaPred/functions/waveletTransform.py:84: RuntimeWarning: All-NaN slice encountered\n",
      "  thresh = thresh*np.nanmax(signal)\n",
      "/gpfs/soma_fs/home/boeger/PpaPred/functions/waveletTransform.py:84: RuntimeWarning: All-NaN slice encountered\n",
      "  thresh = thresh*np.nanmax(signal)\n",
      "/gpfs/soma_fs/home/boeger/PpaPred/functions/waveletTransform.py:84: RuntimeWarning: All-NaN slice encountered\n",
      "  thresh = thresh*np.nanmax(signal)\n",
      "/gpfs/soma_fs/home/boeger/PpaPred/functions/waveletTransform.py:84: RuntimeWarning: All-NaN slice encountered\n",
      "  thresh = thresh*np.nanmax(signal)\n",
      "/gpfs/soma_fs/home/boeger/PpaPred/functions/waveletTransform.py:84: RuntimeWarning: All-NaN slice encountered\n",
      "  thresh = thresh*np.nanmax(signal)\n",
      "/gpfs/soma_fs/home/boeger/PpaPred/functions/waveletTransform.py:84: RuntimeWarning: All-NaN slice encountered\n",
      "  thresh = thresh*np.nanmax(signal)\n"
     ]
    },
    {
     "name": "stdout",
     "output_type": "stream",
     "text": [
      "split 8, range: (1776, 1845)\n",
      "split 9, range: (1848, 1930)\n",
      "split 10, range: (1931, 1969)\n",
      "Worm seems to travel backwards the majority of time, flipped all centerlines to agree with forward travelling assumption\n"
     ]
    },
    {
     "name": "stderr",
     "output_type": "stream",
     "text": [
      "/gpfs/soma_fs/home/boeger/PpaPred/functions/waveletTransform.py:84: RuntimeWarning: All-NaN slice encountered\n",
      "  thresh = thresh*np.nanmax(signal)\n",
      "/gpfs/soma_fs/home/boeger/PpaPred/functions/waveletTransform.py:84: RuntimeWarning: All-NaN slice encountered\n",
      "  thresh = thresh*np.nanmax(signal)\n",
      "/gpfs/soma_fs/home/boeger/PpaPred/functions/waveletTransform.py:84: RuntimeWarning: All-NaN slice encountered\n",
      "  thresh = thresh*np.nanmax(signal)\n",
      "/gpfs/soma_fs/home/boeger/PpaPred/functions/waveletTransform.py:84: RuntimeWarning: All-NaN slice encountered\n",
      "  thresh = thresh*np.nanmax(signal)\n",
      "/gpfs/soma_fs/home/boeger/PpaPred/functions/waveletTransform.py:84: RuntimeWarning: All-NaN slice encountered\n",
      "  thresh = thresh*np.nanmax(signal)\n",
      "/gpfs/soma_fs/home/boeger/PpaPred/functions/waveletTransform.py:84: RuntimeWarning: All-NaN slice encountered\n",
      "  thresh = thresh*np.nanmax(signal)\n"
     ]
    },
    {
     "name": "stdout",
     "output_type": "stream",
     "text": [
      "split 11, range: (2039, 2110)\n",
      "Ffill-Interpolation of nan frames\n",
      "Exempted from interpolation: range(529, 561) (over 1 sec long)\n",
      "Exempted from interpolation: range(1420, 1457) (over 1 sec long)\n",
      "Exempted from interpolation: range(1741, 1776) (over 1 sec long)\n",
      "Exempted from interpolation: range(1969, 2039) (over 1 sec long)\n"
     ]
    },
    {
     "name": "stderr",
     "output_type": "stream",
     "text": [
      "/gpfs/soma_fs/home/boeger/PpaPred/functions/waveletTransform.py:84: RuntimeWarning: All-NaN slice encountered\n",
      "  thresh = thresh*np.nanmax(signal)\n",
      "/gpfs/soma_fs/home/boeger/PpaPred/functions/waveletTransform.py:84: RuntimeWarning: All-NaN slice encountered\n",
      "  thresh = thresh*np.nanmax(signal)\n",
      "/gpfs/soma_fs/home/boeger/PpaPred/functions/waveletTransform.py:84: RuntimeWarning: All-NaN slice encountered\n",
      "  thresh = thresh*np.nanmax(signal)\n",
      " 83%|████████▎ | 113/136 [06:19<01:04,  2.82s/it]"
     ]
    },
    {
     "name": "stdout",
     "output_type": "stream",
     "text": [
      "\n",
      "\n",
      "feature calculation for L147_240410_L147guniz_results_154.json_labeldata.csv\n",
      "Area larger than threshold, collision assumed in [].\n",
      "Calculation of features will be done in splits, ignoring those and adjacent* ranges. *That are less than 1 sec long.\n",
      "split 0, range: (0, 6000)\n",
      "Following frames seem to be tracked upside down\n",
      "We are going to flip those back:\n",
      "(array([815]),)\n",
      "Ffill-Interpolation of nan frames\n"
     ]
    },
    {
     "name": "stderr",
     "output_type": "stream",
     "text": [
      " 84%|████████▍ | 114/136 [06:22<01:00,  2.76s/it]"
     ]
    },
    {
     "name": "stdout",
     "output_type": "stream",
     "text": [
      "\n",
      "\n",
      "feature calculation for L147_240410_L147guniz_results_193.json_labeldata.csv\n",
      "Area larger than threshold, collision assumed in [range(1, 9)].\n",
      "Calculation of features will be done in splits, ignoring those and adjacent* ranges. *That are less than 1 sec long.\n",
      "split 0, range: (13, 2126)\n"
     ]
    },
    {
     "name": "stderr",
     "output_type": "stream",
     "text": [
      " 85%|████████▍ | 115/136 [06:23<00:46,  2.23s/it]"
     ]
    },
    {
     "name": "stdout",
     "output_type": "stream",
     "text": [
      "Ffill-Interpolation of nan frames\n",
      "\n",
      "\n",
      "feature calculation for L147_240410_L147guniz_results_13.json_labeldata.csv\n",
      "Area larger than threshold, collision assumed in [].\n",
      "Calculation of features will be done in splits, ignoring those and adjacent* ranges. *That are less than 1 sec long.\n",
      "split 0, range: (0, 17999)\n",
      "Following frames seem to be tracked upside down\n",
      "We are going to flip those back:\n",
      "(array([ 9658,  9659,  9660, ..., 15104, 15105, 15106]),)\n",
      "Ffill-Interpolation of nan frames\n"
     ]
    },
    {
     "name": "stderr",
     "output_type": "stream",
     "text": [
      " 85%|████████▌ | 116/136 [06:30<01:15,  3.78s/it]"
     ]
    },
    {
     "name": "stdout",
     "output_type": "stream",
     "text": [
      "\n",
      "\n",
      "feature calculation for L147_240410_L147guniz_results_3.json_labeldata.csv\n",
      "Area larger than threshold, collision assumed in [].\n",
      "Calculation of features will be done in splits, ignoring those and adjacent* ranges. *That are less than 1 sec long.\n",
      "split 0, range: (0, 4041)\n",
      "Ffill-Interpolation of nan frames\n"
     ]
    },
    {
     "name": "stderr",
     "output_type": "stream",
     "text": [
      " 86%|████████▌ | 117/136 [06:32<01:00,  3.18s/it]"
     ]
    },
    {
     "name": "stdout",
     "output_type": "stream",
     "text": [
      "\n",
      "\n",
      "feature calculation for L147_240410_L147guniz_results_116.json_labeldata.csv\n",
      "Area larger than threshold, collision assumed in [range(2631, 2633), range(2635, 2639), range(2647, 2661), range(2662, 2663), range(2751, 2757)].\n",
      "Calculation of features will be done in splits, ignoring those and adjacent* ranges. *That are less than 1 sec long.\n",
      "split 0, range: (0, 2631)\n",
      "Following frames seem to be tracked upside down\n",
      "We are going to flip those back:\n",
      "(array([ 976,  984,  985, ..., 2626, 2627, 2628]),)\n",
      "split 1, range: (2692, 2730)\n",
      "Following frames seem to be tracked upside down\n",
      "We are going to flip those back:\n",
      "(array([ 1,  2,  3,  4,  5,  6,  7,  8,  9, 10, 11, 12, 13, 14, 15, 16, 18,\n",
      "       19, 20, 21, 22, 23, 26, 27, 28, 29, 30, 33, 34, 35, 36, 37]),)\n",
      "Worm seems to travel backwards the majority of time, flipped all centerlines to agree with forward travelling assumption\n",
      "Ffill-Interpolation of nan frames\n",
      "Exempted from interpolation: range(2631, 2692) (over 1 sec long)\n",
      "Exempted from interpolation: range(2730, 2762) (over 1 sec long)\n"
     ]
    },
    {
     "name": "stderr",
     "output_type": "stream",
     "text": [
      "/gpfs/soma_fs/home/boeger/PpaPred/functions/waveletTransform.py:84: RuntimeWarning: All-NaN slice encountered\n",
      "  thresh = thresh*np.nanmax(signal)\n",
      "/gpfs/soma_fs/home/boeger/PpaPred/functions/waveletTransform.py:84: RuntimeWarning: All-NaN slice encountered\n",
      "  thresh = thresh*np.nanmax(signal)\n",
      "/gpfs/soma_fs/home/boeger/PpaPred/functions/waveletTransform.py:84: RuntimeWarning: All-NaN slice encountered\n",
      "  thresh = thresh*np.nanmax(signal)\n",
      "/gpfs/soma_fs/home/boeger/PpaPred/functions/waveletTransform.py:84: RuntimeWarning: All-NaN slice encountered\n",
      "  thresh = thresh*np.nanmax(signal)\n",
      " 87%|████████▋ | 118/136 [06:33<00:47,  2.65s/it]"
     ]
    },
    {
     "name": "stdout",
     "output_type": "stream",
     "text": [
      "\n",
      "\n",
      "feature calculation for L147_240410_L147guniz_results_10.json_labeldata.csv\n",
      "Area larger than threshold, collision assumed in [].\n",
      "Calculation of features will be done in splits, ignoring those and adjacent* ranges. *That are less than 1 sec long.\n",
      "split 0, range: (0, 17999)\n",
      "Following frames seem to be tracked upside down\n",
      "We are going to flip those back:\n",
      "(array([ 5912,  5940,  5942, ..., 17996, 17997, 17998]),)\n",
      "Ffill-Interpolation of nan frames\n"
     ]
    },
    {
     "name": "stderr",
     "output_type": "stream",
     "text": [
      " 88%|████████▊ | 119/136 [06:41<01:09,  4.12s/it]"
     ]
    },
    {
     "name": "stdout",
     "output_type": "stream",
     "text": [
      "\n",
      "\n",
      "feature calculation for L147_240410_L147guniz_results_190.json_labeldata.csv\n",
      "Area larger than threshold, collision assumed in [].\n",
      "Calculation of features will be done in splits, ignoring those and adjacent* ranges. *That are less than 1 sec long.\n",
      "split 0, range: (113, 2434)\n",
      "Following frames seem to be tracked upside down\n",
      "We are going to flip those back:\n",
      "(array([1339, 1340, 1341, 1342, 1343, 1344, 1345, 1346, 1347, 1348, 1349,\n",
      "       1350, 1351, 1352, 1353, 1354, 1355, 1356, 1357, 1358, 1359, 1360,\n",
      "       1361, 1362, 1363, 1364, 1365, 1366, 1367, 1368, 1369, 1370, 1371,\n",
      "       1372, 1373, 1374, 1375, 1376, 1377, 1378, 1379, 1380, 1381, 1382,\n",
      "       1383, 1384, 1385, 1386, 1387, 1388, 1389, 1390, 1391, 1392, 1393,\n",
      "       1394, 1395, 1396, 1397, 1398, 1399, 1400, 1401, 1402, 1403, 1404,\n",
      "       1405, 1406, 1407, 1408, 1409, 1410, 1411, 1412, 1413, 1414, 1415,\n",
      "       1416, 1417, 1418, 1419, 1420, 1421, 1422, 1423, 1424, 1425, 1426,\n",
      "       1427, 1428, 1429, 1430, 1431, 1432, 1433, 1434, 1435, 1436, 1437,\n",
      "       1438, 1439, 1440, 1441, 1442, 1443, 1444, 1445, 1446, 1447, 1448,\n",
      "       1449, 1450, 1451, 1452, 1453, 1454, 1455, 1456, 1457, 1458, 1459,\n",
      "       1460, 1461, 1462, 1463, 1464, 1465, 1466, 1467, 1468, 1469, 1470,\n",
      "       1471, 1472, 1473, 1474, 1475, 1476, 1477, 1478, 1479, 1480, 1481,\n",
      "       1482, 1483, 1484, 1485, 1486, 1487, 1488, 1489, 1490, 1491, 1492,\n",
      "       1493, 1494, 1495, 1496, 1497, 1498, 1499, 1500, 1501, 1502, 1503,\n",
      "       1504, 1505, 1506, 1507, 1508, 1509, 1510, 1511, 1512, 1513, 1514,\n",
      "       1515, 1516, 1517, 1518, 1519, 1520, 1521, 1522, 1523, 1524, 1525,\n",
      "       1526, 1527, 1528, 1529, 1530, 1531, 1532, 1533, 1534, 1535, 1536,\n",
      "       1537, 1538, 1539, 1540, 1541, 1542, 1543, 1544, 1545, 1546, 1547,\n",
      "       1548, 1549, 1550, 1551, 1552, 1553, 1554, 1555, 1556, 1557, 1558,\n",
      "       1559, 1560, 1561, 1562, 1563, 1564, 1565, 1566, 1567, 1568, 1569,\n",
      "       1570, 1571, 1572, 1573, 1574, 1575, 1576, 1577, 1578, 1579, 1580,\n",
      "       1581, 1582, 1583, 1584, 1585, 1586, 1587, 1588, 1589, 1590, 1591,\n",
      "       1592, 1593, 1594, 1595, 1596, 1597, 1598, 1599, 1600, 1601, 1602,\n",
      "       1603, 1604, 1605, 1606, 1607, 1608, 1609, 1610, 1611, 1612, 1613,\n",
      "       1614, 1615, 1616, 1617, 1618, 1619, 1620, 1621, 1622, 1623, 1624,\n",
      "       1625, 1626, 1627, 1628, 1629, 1630, 1631, 1632, 1633, 1634, 1635,\n",
      "       1636, 1637, 1638, 1639, 1640, 1641, 1642, 1643, 1644, 1645, 1646,\n",
      "       1647, 1648, 1649, 1650, 1651, 1652, 1653, 1654, 1655, 1656, 1657,\n",
      "       1658, 1659, 1660, 1661, 1662, 1663, 1664, 1665, 1666, 1667, 1668,\n",
      "       1669, 1670, 1671, 1672, 1673, 1674, 1675, 1676, 1677, 1678, 1679,\n",
      "       1680, 1681, 1682, 1683, 1684, 1685, 1686, 1687, 1688, 1689, 1690,\n",
      "       1691, 1692, 1693, 1694, 1695, 1696, 1697, 1698, 1699, 1700, 1701,\n",
      "       1702, 1703, 1704, 1705, 1706, 1707, 1708, 1709, 1710, 1711, 1712,\n",
      "       1713, 1714, 1715, 1716, 1717, 1718, 1719, 1720, 1721, 1722, 1723,\n",
      "       1724, 1725, 1726, 1727, 1728, 1729, 1730, 1731, 1732, 1733, 1734,\n",
      "       1735, 1736, 1737, 1738, 1739, 1740, 1741, 1742, 1743, 1744, 1745,\n",
      "       1746, 1747, 1748, 1749, 1750, 1751, 1752, 1753, 1754, 1755, 1756,\n",
      "       1757, 1758, 1759, 1760, 1761, 1762, 1763, 1764, 1765, 1766, 1767,\n",
      "       1768, 1769, 1770, 1771, 1772, 1773, 1774, 1775, 1776, 1777, 1778,\n",
      "       1779, 1780, 1781, 1782, 1783, 1784, 1785, 1786, 1787, 1788, 1789,\n",
      "       1790, 1791, 1792, 1793, 1794, 1795, 1796, 1797, 1798, 1799, 1800,\n",
      "       1801, 1802, 1803, 1804, 1805, 1806, 1807, 1808, 1809, 1810, 1811,\n",
      "       1812, 1813, 1814, 1815, 1816, 1817, 1818, 1819, 1820, 1821, 1822,\n",
      "       1823, 1824, 1825, 1826, 1827, 1828, 1829, 1830, 1831, 1832, 1833,\n",
      "       1834, 1835, 1836, 1837, 1838, 1839, 1840, 1841, 1842, 1843, 1844,\n",
      "       1845, 1846, 1847, 1848, 1849, 1850, 1851, 1852, 1853, 1854, 1855,\n",
      "       1856, 1857, 1858, 1859, 1860, 1861, 1862, 1863, 1864, 1865, 1866,\n",
      "       1867, 1868, 1869, 1870, 1871, 1872, 1873, 1874, 1875, 1876, 1877,\n",
      "       1878, 1879, 1880, 1881, 1882, 1883, 1884, 1885, 1886, 1887, 1888,\n",
      "       1889, 1890, 1891, 1892, 1893, 1894, 1895, 1896, 1897, 1898, 1899,\n",
      "       1900, 1901, 1902, 1903, 1904, 1905, 1906, 1907, 1908, 1909, 1910,\n",
      "       1911, 1912, 1913, 1914, 1915, 1916, 1917, 1918, 1919, 1920, 1921,\n",
      "       1922, 1923, 1924, 1925, 1926, 1927, 1928, 1929, 1930, 1931, 1932,\n",
      "       1933, 1934, 1935, 1936, 1937, 1938, 1939, 1940, 1941, 1942, 1943,\n",
      "       1944, 1945, 1946, 1947, 1948, 1949, 1950, 1951, 1952, 1953, 1954,\n",
      "       1955, 1956, 1957, 1958, 1959, 1960, 1961, 1962, 1963, 1964, 1965,\n",
      "       1966, 1967, 1968, 1969, 1970, 1971, 1972, 1973, 1974, 1975, 1976,\n",
      "       1977, 1978, 1979, 1980, 1981, 1982, 1983, 1984, 1985, 1986, 1987,\n",
      "       1988, 1989, 1990, 1991, 1992, 1993, 1994, 1995, 1996, 1997, 1998,\n",
      "       1999, 2000, 2001, 2002, 2003, 2004, 2005, 2006, 2007, 2008, 2009,\n",
      "       2010, 2011, 2012, 2013, 2014, 2015, 2016, 2017, 2018, 2019, 2020,\n",
      "       2021, 2022, 2023, 2024, 2025, 2026, 2027, 2028, 2029, 2030, 2031,\n",
      "       2032, 2033, 2034, 2035, 2036, 2037, 2038, 2039, 2040, 2041, 2042,\n",
      "       2043, 2044, 2045, 2046, 2047, 2048, 2049, 2050, 2051, 2052, 2053,\n",
      "       2054, 2055, 2056, 2057, 2058, 2059, 2060, 2061, 2062, 2063, 2064,\n",
      "       2065, 2066, 2067, 2068, 2069, 2070, 2071, 2072, 2073, 2074, 2075,\n",
      "       2076, 2077, 2078, 2079, 2080, 2081, 2082, 2083, 2084, 2085, 2086,\n",
      "       2087, 2088, 2089, 2090, 2091, 2092, 2093, 2094, 2095, 2096, 2097,\n",
      "       2098, 2099, 2100, 2101, 2102, 2103, 2104, 2105, 2106, 2107, 2108,\n",
      "       2109, 2110, 2111, 2112, 2113, 2114, 2115, 2116, 2117, 2118, 2119,\n",
      "       2120, 2121, 2122, 2123, 2124, 2125, 2126, 2127, 2128, 2129, 2130,\n",
      "       2131, 2132, 2133, 2134, 2135, 2136, 2137, 2138, 2139, 2140, 2141,\n",
      "       2142, 2143, 2144, 2145, 2146, 2147, 2148, 2149, 2150, 2151, 2152,\n",
      "       2153, 2154, 2155, 2156, 2157, 2158, 2159, 2160, 2161, 2162, 2163,\n",
      "       2164, 2165, 2166, 2167, 2168, 2169, 2170, 2171, 2172, 2173, 2174,\n",
      "       2175, 2176, 2177, 2178, 2179, 2180, 2181, 2182, 2183, 2184, 2185,\n",
      "       2186, 2187, 2188, 2189, 2190, 2191, 2192, 2193, 2194, 2195, 2196,\n",
      "       2197, 2198, 2199, 2200, 2201, 2202, 2203, 2204, 2205, 2206, 2207,\n",
      "       2208, 2209, 2210, 2211, 2212, 2213, 2214, 2215, 2216, 2217, 2218,\n",
      "       2219, 2220, 2221, 2222, 2223, 2224, 2225, 2226, 2227, 2228, 2229,\n",
      "       2230, 2231, 2232, 2233, 2234, 2235, 2236, 2237, 2238, 2239, 2240,\n",
      "       2241, 2242, 2243, 2244, 2245, 2246, 2247, 2248, 2249, 2250, 2251,\n",
      "       2252, 2253, 2254, 2255, 2256, 2257, 2258, 2259, 2260, 2261, 2262,\n",
      "       2263, 2264, 2265, 2266, 2267, 2268, 2269, 2270, 2271, 2272, 2273,\n",
      "       2274, 2275, 2276, 2277, 2278, 2279, 2280, 2281, 2282, 2283, 2284,\n",
      "       2285, 2286, 2287, 2288, 2289, 2290, 2291, 2292, 2293, 2294, 2295,\n",
      "       2296, 2297, 2298, 2299, 2300, 2301, 2302, 2303, 2304, 2305, 2306,\n",
      "       2307, 2308, 2309, 2310, 2311, 2312, 2313, 2314, 2315, 2316, 2317,\n",
      "       2318, 2319, 2320]),)\n",
      "Ffill-Interpolation of nan frames\n",
      "Exempted from interpolation: range(0, 113) (over 1 sec long)\n"
     ]
    },
    {
     "name": "stderr",
     "output_type": "stream",
     "text": [
      " 88%|████████▊ | 120/136 [06:42<00:51,  3.24s/it]"
     ]
    },
    {
     "name": "stdout",
     "output_type": "stream",
     "text": [
      "\n",
      "\n",
      "feature calculation for L147_240410_L147guniz_results_136.json_labeldata.csv\n",
      "Area larger than threshold, collision assumed in [range(2350, 2358), range(2359, 2374), range(2375, 2381), range(2382, 2383), range(2384, 2387), range(2388, 2390), range(2397, 2399), range(2400, 2412), range(2418, 2428), range(2441, 2444), range(2449, 2454), range(2459, 2461), range(2462, 2463), range(2464, 2465), range(2467, 2468), range(2475, 2476), range(2478, 2479), range(2480, 2486), range(2492, 2494), range(2495, 2498), range(2499, 2500), range(2501, 2502), range(2503, 2508)].\n",
      "Calculation of features will be done in splits, ignoring those and adjacent* ranges. *That are less than 1 sec long.\n",
      "split 0, range: (62, 2338)\n",
      "Following frames seem to be tracked upside down\n",
      "We are going to flip those back:\n",
      "(array([1549]),)\n",
      "split 1, range: (2511, 2678)\n",
      "split 2, range: (2699, 3438)\n"
     ]
    },
    {
     "name": "stderr",
     "output_type": "stream",
     "text": [
      "/gpfs/soma_fs/home/boeger/PpaPred/functions/waveletTransform.py:84: RuntimeWarning: All-NaN slice encountered\n",
      "  thresh = thresh*np.nanmax(signal)\n",
      "/gpfs/soma_fs/home/boeger/PpaPred/functions/waveletTransform.py:84: RuntimeWarning: All-NaN slice encountered\n",
      "  thresh = thresh*np.nanmax(signal)\n"
     ]
    },
    {
     "name": "stdout",
     "output_type": "stream",
     "text": [
      "split 3, range: (3447, 4108)\n",
      "split 4, range: (4110, 4548)\n",
      "split 5, range: (4549, 4839)\n",
      "Worm seems to travel backwards the majority of time, flipped all centerlines to agree with forward travelling assumption\n",
      "split 6, range: (4840, 4947)\n",
      "Following frames seem to be tracked upside down\n",
      "We are going to flip those back:\n",
      "(array([49]),)\n"
     ]
    },
    {
     "name": "stderr",
     "output_type": "stream",
     "text": [
      "/gpfs/soma_fs/home/boeger/PpaPred/functions/waveletTransform.py:84: RuntimeWarning: All-NaN slice encountered\n",
      "  thresh = thresh*np.nanmax(signal)\n",
      "/gpfs/soma_fs/home/boeger/PpaPred/functions/waveletTransform.py:84: RuntimeWarning: All-NaN slice encountered\n",
      "  thresh = thresh*np.nanmax(signal)\n",
      "/gpfs/soma_fs/home/boeger/PpaPred/functions/waveletTransform.py:84: RuntimeWarning: All-NaN slice encountered\n",
      "  thresh = thresh*np.nanmax(signal)\n"
     ]
    },
    {
     "name": "stdout",
     "output_type": "stream",
     "text": [
      "Ffill-Interpolation of nan frames\n",
      "Exempted from interpolation: range(0, 62) (over 1 sec long)\n",
      "Exempted from interpolation: range(2338, 2511) (over 1 sec long)\n"
     ]
    },
    {
     "name": "stderr",
     "output_type": "stream",
     "text": [
      " 89%|████████▉ | 121/136 [06:45<00:45,  3.06s/it]"
     ]
    },
    {
     "name": "stdout",
     "output_type": "stream",
     "text": [
      "\n",
      "\n",
      "feature calculation for L147_240410_L147guniz_results_45.json_labeldata.csv\n",
      "Area larger than threshold, collision assumed in [range(7031, 7033), range(7038, 7039), range(8284, 8300), range(8301, 8303), range(8304, 8305)].\n",
      "Calculation of features will be done in splits, ignoring those and adjacent* ranges. *That are less than 1 sec long.\n",
      "split 0, range: (0, 5032)\n",
      "Worm seems to travel backwards the majority of time, flipped all centerlines to agree with forward travelling assumption\n",
      "split 1, range: (5052, 5147)\n",
      "split 2, range: (5148, 5790)\n"
     ]
    },
    {
     "name": "stderr",
     "output_type": "stream",
     "text": [
      "/gpfs/soma_fs/home/boeger/PpaPred/functions/waveletTransform.py:84: RuntimeWarning: All-NaN slice encountered\n",
      "  thresh = thresh*np.nanmax(signal)\n"
     ]
    },
    {
     "name": "stdout",
     "output_type": "stream",
     "text": [
      "split 3, range: (5973, 6807)\n",
      "Worm seems to travel backwards the majority of time, flipped all centerlines to agree with forward travelling assumption\n",
      "split 4, range: (6808, 7012)\n",
      "Worm seems to travel backwards the majority of time, flipped all centerlines to agree with forward travelling assumption\n",
      "split 5, range: (7074, 7128)\n",
      "split 6, range: (7294, 7408)\n"
     ]
    },
    {
     "name": "stderr",
     "output_type": "stream",
     "text": [
      "/gpfs/soma_fs/home/boeger/PpaPred/functions/waveletTransform.py:84: RuntimeWarning: All-NaN slice encountered\n",
      "  thresh = thresh*np.nanmax(signal)\n",
      "/gpfs/soma_fs/home/boeger/PpaPred/functions/waveletTransform.py:84: RuntimeWarning: All-NaN slice encountered\n",
      "  thresh = thresh*np.nanmax(signal)\n",
      "/gpfs/soma_fs/home/boeger/PpaPred/functions/waveletTransform.py:84: RuntimeWarning: All-NaN slice encountered\n",
      "  thresh = thresh*np.nanmax(signal)\n",
      "/gpfs/soma_fs/home/boeger/PpaPred/functions/waveletTransform.py:84: RuntimeWarning: All-NaN slice encountered\n",
      "  thresh = thresh*np.nanmax(signal)\n",
      "/gpfs/soma_fs/home/boeger/PpaPred/functions/waveletTransform.py:84: RuntimeWarning: All-NaN slice encountered\n",
      "  thresh = thresh*np.nanmax(signal)\n"
     ]
    },
    {
     "name": "stdout",
     "output_type": "stream",
     "text": [
      "split 7, range: (7423, 7642)\n",
      "Worm seems to travel backwards the majority of time, flipped all centerlines to agree with forward travelling assumption\n",
      "split 8, range: (7711, 7785)\n",
      "Worm seems to travel backwards the majority of time, flipped all centerlines to agree with forward travelling assumption\n"
     ]
    },
    {
     "name": "stderr",
     "output_type": "stream",
     "text": [
      "/gpfs/soma_fs/home/boeger/PpaPred/functions/waveletTransform.py:84: RuntimeWarning: All-NaN slice encountered\n",
      "  thresh = thresh*np.nanmax(signal)\n",
      "/gpfs/soma_fs/home/boeger/PpaPred/functions/waveletTransform.py:84: RuntimeWarning: All-NaN slice encountered\n",
      "  thresh = thresh*np.nanmax(signal)\n",
      "/gpfs/soma_fs/home/boeger/PpaPred/functions/waveletTransform.py:84: RuntimeWarning: All-NaN slice encountered\n",
      "  thresh = thresh*np.nanmax(signal)\n",
      "/gpfs/soma_fs/home/boeger/PpaPred/functions/waveletTransform.py:84: RuntimeWarning: All-NaN slice encountered\n",
      "  thresh = thresh*np.nanmax(signal)\n",
      "/gpfs/soma_fs/home/boeger/PpaPred/functions/waveletTransform.py:84: RuntimeWarning: All-NaN slice encountered\n",
      "  thresh = thresh*np.nanmax(signal)\n"
     ]
    },
    {
     "name": "stdout",
     "output_type": "stream",
     "text": [
      "split 9, range: (7792, 7871)\n",
      "split 10, range: (8087, 8118)\n",
      "Worm seems to travel backwards the majority of time, flipped all centerlines to agree with forward travelling assumption\n"
     ]
    },
    {
     "name": "stderr",
     "output_type": "stream",
     "text": [
      "/gpfs/soma_fs/home/boeger/PpaPred/functions/waveletTransform.py:84: RuntimeWarning: All-NaN slice encountered\n",
      "  thresh = thresh*np.nanmax(signal)\n",
      "/gpfs/soma_fs/home/boeger/PpaPred/functions/waveletTransform.py:84: RuntimeWarning: All-NaN slice encountered\n",
      "  thresh = thresh*np.nanmax(signal)\n",
      "/gpfs/soma_fs/home/boeger/PpaPred/functions/waveletTransform.py:84: RuntimeWarning: All-NaN slice encountered\n",
      "  thresh = thresh*np.nanmax(signal)\n",
      "/gpfs/soma_fs/home/boeger/PpaPred/functions/waveletTransform.py:84: RuntimeWarning: All-NaN slice encountered\n",
      "  thresh = thresh*np.nanmax(signal)\n",
      "/gpfs/soma_fs/home/boeger/PpaPred/functions/waveletTransform.py:84: RuntimeWarning: All-NaN slice encountered\n",
      "  thresh = thresh*np.nanmax(signal)\n",
      "/gpfs/soma_fs/home/boeger/PpaPred/functions/waveletTransform.py:84: RuntimeWarning: All-NaN slice encountered\n",
      "  thresh = thresh*np.nanmax(signal)\n",
      "/gpfs/soma_fs/home/boeger/PpaPred/functions/waveletTransform.py:84: RuntimeWarning: All-NaN slice encountered\n",
      "  thresh = thresh*np.nanmax(signal)\n",
      "/gpfs/soma_fs/home/boeger/PpaPred/functions/waveletTransform.py:84: RuntimeWarning: All-NaN slice encountered\n",
      "  thresh = thresh*np.nanmax(signal)\n",
      "/gpfs/soma_fs/home/boeger/PpaPred/functions/waveletTransform.py:84: RuntimeWarning: All-NaN slice encountered\n",
      "  thresh = thresh*np.nanmax(signal)\n"
     ]
    },
    {
     "name": "stdout",
     "output_type": "stream",
     "text": [
      "split 11, range: (8390, 8445)\n",
      "Ffill-Interpolation of nan frames\n",
      "Exempted from interpolation: range(5790, 5973) (over 1 sec long)\n",
      "Exempted from interpolation: range(7012, 7074) (over 1 sec long)\n",
      "Exempted from interpolation: range(7128, 7294) (over 1 sec long)\n",
      "Exempted from interpolation: range(7642, 7711) (over 1 sec long)\n",
      "Exempted from interpolation: range(7871, 8087) (over 1 sec long)\n",
      "Exempted from interpolation: range(8118, 8390) (over 1 sec long)\n"
     ]
    },
    {
     "name": "stderr",
     "output_type": "stream",
     "text": [
      " 90%|████████▉ | 122/136 [06:49<00:48,  3.48s/it]"
     ]
    },
    {
     "name": "stdout",
     "output_type": "stream",
     "text": [
      "\n",
      "\n",
      "feature calculation for L147_240410_L147guniz_results_5.json_labeldata.csv\n",
      "Area larger than threshold, collision assumed in [range(1532, 1533), range(1896, 1897), range(1943, 1944), range(1957, 1961), range(1962, 1963), range(2303, 2304)].\n",
      "Calculation of features will be done in splits, ignoring those and adjacent* ranges. *That are less than 1 sec long.\n",
      "split 0, range: (0, 944)\n",
      "split 1, range: (960, 1218)\n",
      "split 2, range: (1255, 1296)\n"
     ]
    },
    {
     "name": "stderr",
     "output_type": "stream",
     "text": [
      "/gpfs/soma_fs/home/boeger/PpaPred/functions/waveletTransform.py:84: RuntimeWarning: All-NaN slice encountered\n",
      "  thresh = thresh*np.nanmax(signal)\n",
      "/gpfs/soma_fs/home/boeger/PpaPred/functions/waveletTransform.py:84: RuntimeWarning: All-NaN slice encountered\n",
      "  thresh = thresh*np.nanmax(signal)\n",
      "/gpfs/soma_fs/home/boeger/PpaPred/functions/waveletTransform.py:84: RuntimeWarning: All-NaN slice encountered\n",
      "  thresh = thresh*np.nanmax(signal)\n",
      "/gpfs/soma_fs/home/boeger/PpaPred/functions/waveletTransform.py:84: RuntimeWarning: All-NaN slice encountered\n",
      "  thresh = thresh*np.nanmax(signal)\n",
      "/gpfs/soma_fs/home/boeger/PpaPred/functions/waveletTransform.py:84: RuntimeWarning: All-NaN slice encountered\n",
      "  thresh = thresh*np.nanmax(signal)\n",
      "/gpfs/soma_fs/home/boeger/PpaPred/functions/waveletTransform.py:84: RuntimeWarning: All-NaN slice encountered\n",
      "  thresh = thresh*np.nanmax(signal)\n",
      "/gpfs/soma_fs/home/boeger/PpaPred/functions/waveletTransform.py:84: RuntimeWarning: All-NaN slice encountered\n",
      "  thresh = thresh*np.nanmax(signal)\n",
      "/gpfs/soma_fs/home/boeger/PpaPred/functions/waveletTransform.py:84: RuntimeWarning: All-NaN slice encountered\n",
      "  thresh = thresh*np.nanmax(signal)\n"
     ]
    },
    {
     "name": "stdout",
     "output_type": "stream",
     "text": [
      "split 3, range: (1387, 1493)\n",
      "Worm seems to travel backwards the majority of time, flipped all centerlines to agree with forward travelling assumption\n",
      "split 4, range: (1495, 1532)\n",
      "Worm seems to travel backwards the majority of time, flipped all centerlines to agree with forward travelling assumption\n",
      "split 5, range: (1533, 1896)\n"
     ]
    },
    {
     "name": "stderr",
     "output_type": "stream",
     "text": [
      "/gpfs/soma_fs/home/boeger/PpaPred/functions/waveletTransform.py:84: RuntimeWarning: All-NaN slice encountered\n",
      "  thresh = thresh*np.nanmax(signal)\n",
      "/gpfs/soma_fs/home/boeger/PpaPred/functions/waveletTransform.py:84: RuntimeWarning: All-NaN slice encountered\n",
      "  thresh = thresh*np.nanmax(signal)\n",
      "/gpfs/soma_fs/home/boeger/PpaPred/functions/waveletTransform.py:84: RuntimeWarning: All-NaN slice encountered\n",
      "  thresh = thresh*np.nanmax(signal)\n",
      "/gpfs/soma_fs/home/boeger/PpaPred/functions/waveletTransform.py:84: RuntimeWarning: All-NaN slice encountered\n",
      "  thresh = thresh*np.nanmax(signal)\n",
      "/gpfs/soma_fs/home/boeger/PpaPred/functions/waveletTransform.py:84: RuntimeWarning: All-NaN slice encountered\n",
      "  thresh = thresh*np.nanmax(signal)\n"
     ]
    },
    {
     "name": "stdout",
     "output_type": "stream",
     "text": [
      "split 6, range: (1897, 1943)\n",
      "split 7, range: (1963, 2104)\n",
      "split 8, range: (2105, 2188)\n"
     ]
    },
    {
     "name": "stderr",
     "output_type": "stream",
     "text": [
      "/gpfs/soma_fs/home/boeger/PpaPred/functions/waveletTransform.py:84: RuntimeWarning: All-NaN slice encountered\n",
      "  thresh = thresh*np.nanmax(signal)\n",
      "/gpfs/soma_fs/home/boeger/PpaPred/functions/waveletTransform.py:84: RuntimeWarning: All-NaN slice encountered\n",
      "  thresh = thresh*np.nanmax(signal)\n",
      "/gpfs/soma_fs/home/boeger/PpaPred/functions/waveletTransform.py:84: RuntimeWarning: All-NaN slice encountered\n",
      "  thresh = thresh*np.nanmax(signal)\n",
      "/gpfs/soma_fs/home/boeger/PpaPred/functions/waveletTransform.py:84: RuntimeWarning: All-NaN slice encountered\n",
      "  thresh = thresh*np.nanmax(signal)\n",
      "/gpfs/soma_fs/home/boeger/PpaPred/functions/waveletTransform.py:84: RuntimeWarning: All-NaN slice encountered\n",
      "  thresh = thresh*np.nanmax(signal)\n",
      "/gpfs/soma_fs/home/boeger/PpaPred/functions/waveletTransform.py:84: RuntimeWarning: All-NaN slice encountered\n",
      "  thresh = thresh*np.nanmax(signal)\n",
      "/gpfs/soma_fs/home/boeger/PpaPred/functions/waveletTransform.py:84: RuntimeWarning: All-NaN slice encountered\n",
      "  thresh = thresh*np.nanmax(signal)\n",
      "/gpfs/soma_fs/home/boeger/PpaPred/functions/waveletTransform.py:84: RuntimeWarning: All-NaN slice encountered\n",
      "  thresh = thresh*np.nanmax(signal)\n",
      "/gpfs/soma_fs/home/boeger/PpaPred/functions/waveletTransform.py:84: RuntimeWarning: All-NaN slice encountered\n",
      "  thresh = thresh*np.nanmax(signal)\n",
      "/gpfs/soma_fs/home/boeger/PpaPred/functions/waveletTransform.py:84: RuntimeWarning: All-NaN slice encountered\n",
      "  thresh = thresh*np.nanmax(signal)\n",
      "/gpfs/soma_fs/home/boeger/PpaPred/functions/waveletTransform.py:84: RuntimeWarning: All-NaN slice encountered\n",
      "  thresh = thresh*np.nanmax(signal)\n",
      "/gpfs/soma_fs/home/boeger/PpaPred/functions/waveletTransform.py:84: RuntimeWarning: All-NaN slice encountered\n",
      "  thresh = thresh*np.nanmax(signal)\n"
     ]
    },
    {
     "name": "stdout",
     "output_type": "stream",
     "text": [
      "split 9, range: (2271, 2303)\n",
      "Ffill-Interpolation of nan frames\n",
      "Exempted from interpolation: range(1218, 1255) (over 1 sec long)\n",
      "Exempted from interpolation: range(1296, 1387) (over 1 sec long)\n",
      "Exempted from interpolation: range(2188, 2271) (over 1 sec long)\n"
     ]
    },
    {
     "name": "stderr",
     "output_type": "stream",
     "text": [
      " 90%|█████████ | 123/136 [06:51<00:38,  2.98s/it]"
     ]
    },
    {
     "name": "stdout",
     "output_type": "stream",
     "text": [
      "\n",
      "\n",
      "feature calculation for L147_240410_L147guniz_results_104.json_labeldata.csv\n",
      "Area larger than threshold, collision assumed in [range(0, 1), range(28, 33), range(99, 102), range(104, 105), range(4036, 4072), range(5010, 5068), range(6875, 6876)].\n",
      "Calculation of features will be done in splits, ignoring those and adjacent* ranges. *That are less than 1 sec long.\n",
      "split 0, range: (45, 99)\n",
      "Worm seems to travel backwards the majority of time, flipped all centerlines to agree with forward travelling assumption\n",
      "split 1, range: (113, 1266)\n"
     ]
    },
    {
     "name": "stderr",
     "output_type": "stream",
     "text": [
      "/gpfs/soma_fs/home/boeger/PpaPred/functions/waveletTransform.py:84: RuntimeWarning: All-NaN slice encountered\n",
      "  thresh = thresh*np.nanmax(signal)\n",
      "/gpfs/soma_fs/home/boeger/PpaPred/functions/waveletTransform.py:84: RuntimeWarning: All-NaN slice encountered\n",
      "  thresh = thresh*np.nanmax(signal)\n",
      "/gpfs/soma_fs/home/boeger/PpaPred/functions/waveletTransform.py:84: RuntimeWarning: All-NaN slice encountered\n",
      "  thresh = thresh*np.nanmax(signal)\n",
      "/gpfs/soma_fs/home/boeger/PpaPred/functions/waveletTransform.py:84: RuntimeWarning: All-NaN slice encountered\n",
      "  thresh = thresh*np.nanmax(signal)\n"
     ]
    },
    {
     "name": "stdout",
     "output_type": "stream",
     "text": [
      "split 2, range: (1296, 1327)\n",
      "split 3, range: (1355, 1398)\n",
      "split 4, range: (1399, 1847)\n"
     ]
    },
    {
     "name": "stderr",
     "output_type": "stream",
     "text": [
      "/gpfs/soma_fs/home/boeger/PpaPred/functions/waveletTransform.py:84: RuntimeWarning: All-NaN slice encountered\n",
      "  thresh = thresh*np.nanmax(signal)\n",
      "/gpfs/soma_fs/home/boeger/PpaPred/functions/waveletTransform.py:84: RuntimeWarning: All-NaN slice encountered\n",
      "  thresh = thresh*np.nanmax(signal)\n",
      "/gpfs/soma_fs/home/boeger/PpaPred/functions/waveletTransform.py:84: RuntimeWarning: All-NaN slice encountered\n",
      "  thresh = thresh*np.nanmax(signal)\n",
      "/gpfs/soma_fs/home/boeger/PpaPred/functions/waveletTransform.py:84: RuntimeWarning: All-NaN slice encountered\n",
      "  thresh = thresh*np.nanmax(signal)\n",
      "/gpfs/soma_fs/home/boeger/PpaPred/functions/waveletTransform.py:84: RuntimeWarning: All-NaN slice encountered\n",
      "  thresh = thresh*np.nanmax(signal)\n",
      "/gpfs/soma_fs/home/boeger/PpaPred/functions/waveletTransform.py:84: RuntimeWarning: All-NaN slice encountered\n",
      "  thresh = thresh*np.nanmax(signal)\n",
      "/gpfs/soma_fs/home/boeger/PpaPred/functions/waveletTransform.py:84: RuntimeWarning: All-NaN slice encountered\n",
      "  thresh = thresh*np.nanmax(signal)\n",
      "/gpfs/soma_fs/home/boeger/PpaPred/functions/waveletTransform.py:84: RuntimeWarning: All-NaN slice encountered\n",
      "  thresh = thresh*np.nanmax(signal)\n"
     ]
    },
    {
     "name": "stdout",
     "output_type": "stream",
     "text": [
      "split 5, range: (1848, 1937)\n",
      "Worm seems to travel backwards the majority of time, flipped all centerlines to agree with forward travelling assumption\n",
      "split 6, range: (1938, 2415)\n",
      "Worm seems to travel backwards the majority of time, flipped all centerlines to agree with forward travelling assumption\n"
     ]
    },
    {
     "name": "stderr",
     "output_type": "stream",
     "text": [
      "/gpfs/soma_fs/home/boeger/PpaPred/functions/waveletTransform.py:84: RuntimeWarning: All-NaN slice encountered\n",
      "  thresh = thresh*np.nanmax(signal)\n"
     ]
    },
    {
     "name": "stdout",
     "output_type": "stream",
     "text": [
      "split 7, range: (2479, 3164)\n",
      "split 8, range: (3236, 3275)\n"
     ]
    },
    {
     "name": "stderr",
     "output_type": "stream",
     "text": [
      "/gpfs/soma_fs/home/boeger/PpaPred/functions/waveletTransform.py:84: RuntimeWarning: All-NaN slice encountered\n",
      "  thresh = thresh*np.nanmax(signal)\n",
      "/gpfs/soma_fs/home/boeger/PpaPred/functions/waveletTransform.py:84: RuntimeWarning: All-NaN slice encountered\n",
      "  thresh = thresh*np.nanmax(signal)\n",
      "/gpfs/soma_fs/home/boeger/PpaPred/functions/waveletTransform.py:84: RuntimeWarning: All-NaN slice encountered\n",
      "  thresh = thresh*np.nanmax(signal)\n",
      "/gpfs/soma_fs/home/boeger/PpaPred/functions/waveletTransform.py:84: RuntimeWarning: All-NaN slice encountered\n",
      "  thresh = thresh*np.nanmax(signal)\n",
      "/gpfs/soma_fs/home/boeger/PpaPred/functions/waveletTransform.py:84: RuntimeWarning: All-NaN slice encountered\n",
      "  thresh = thresh*np.nanmax(signal)\n",
      "/gpfs/soma_fs/home/boeger/PpaPred/functions/waveletTransform.py:84: RuntimeWarning: All-NaN slice encountered\n",
      "  thresh = thresh*np.nanmax(signal)\n",
      "/gpfs/soma_fs/home/boeger/PpaPred/functions/waveletTransform.py:84: RuntimeWarning: All-NaN slice encountered\n",
      "  thresh = thresh*np.nanmax(signal)\n",
      "/gpfs/soma_fs/home/boeger/PpaPred/functions/waveletTransform.py:84: RuntimeWarning: All-NaN slice encountered\n",
      "  thresh = thresh*np.nanmax(signal)\n",
      "/gpfs/soma_fs/home/boeger/PpaPred/functions/waveletTransform.py:84: RuntimeWarning: All-NaN slice encountered\n",
      "  thresh = thresh*np.nanmax(signal)\n",
      "/gpfs/soma_fs/home/boeger/PpaPred/functions/waveletTransform.py:84: RuntimeWarning: All-NaN slice encountered\n",
      "  thresh = thresh*np.nanmax(signal)\n",
      "/gpfs/soma_fs/home/boeger/PpaPred/functions/waveletTransform.py:84: RuntimeWarning: All-NaN slice encountered\n",
      "  thresh = thresh*np.nanmax(signal)\n"
     ]
    },
    {
     "name": "stdout",
     "output_type": "stream",
     "text": [
      "split 9, range: (3360, 3407)\n",
      "Worm seems to travel backwards the majority of time, flipped all centerlines to agree with forward travelling assumption\n",
      "split 10, range: (3525, 3586)\n",
      "Worm seems to travel backwards the majority of time, flipped all centerlines to agree with forward travelling assumption\n",
      "split 11, range: (3593, 3626)\n"
     ]
    },
    {
     "name": "stderr",
     "output_type": "stream",
     "text": [
      "/gpfs/soma_fs/home/boeger/PpaPred/functions/waveletTransform.py:84: RuntimeWarning: All-NaN slice encountered\n",
      "  thresh = thresh*np.nanmax(signal)\n",
      "/gpfs/soma_fs/home/boeger/PpaPred/functions/waveletTransform.py:84: RuntimeWarning: All-NaN slice encountered\n",
      "  thresh = thresh*np.nanmax(signal)\n",
      "/gpfs/soma_fs/home/boeger/PpaPred/functions/waveletTransform.py:84: RuntimeWarning: All-NaN slice encountered\n",
      "  thresh = thresh*np.nanmax(signal)\n",
      "/gpfs/soma_fs/home/boeger/PpaPred/functions/waveletTransform.py:84: RuntimeWarning: All-NaN slice encountered\n",
      "  thresh = thresh*np.nanmax(signal)\n",
      "/gpfs/soma_fs/home/boeger/PpaPred/functions/waveletTransform.py:84: RuntimeWarning: All-NaN slice encountered\n",
      "  thresh = thresh*np.nanmax(signal)\n",
      "/gpfs/soma_fs/home/boeger/PpaPred/functions/waveletTransform.py:84: RuntimeWarning: All-NaN slice encountered\n",
      "  thresh = thresh*np.nanmax(signal)\n",
      "/gpfs/soma_fs/home/boeger/PpaPred/functions/waveletTransform.py:84: RuntimeWarning: All-NaN slice encountered\n",
      "  thresh = thresh*np.nanmax(signal)\n",
      "/gpfs/soma_fs/home/boeger/PpaPred/functions/waveletTransform.py:84: RuntimeWarning: All-NaN slice encountered\n",
      "  thresh = thresh*np.nanmax(signal)\n",
      "/gpfs/soma_fs/home/boeger/PpaPred/functions/waveletTransform.py:84: RuntimeWarning: All-NaN slice encountered\n",
      "  thresh = thresh*np.nanmax(signal)\n",
      "/gpfs/soma_fs/home/boeger/PpaPred/functions/waveletTransform.py:84: RuntimeWarning: All-NaN slice encountered\n",
      "  thresh = thresh*np.nanmax(signal)\n"
     ]
    },
    {
     "name": "stdout",
     "output_type": "stream",
     "text": [
      "split 12, range: (3747, 3778)\n",
      "Worm seems to travel backwards the majority of time, flipped all centerlines to agree with forward travelling assumption\n",
      "split 13, range: (4072, 4330)\n",
      "split 14, range: (4602, 4970)\n",
      "split 15, range: (5068, 5166)\n"
     ]
    },
    {
     "name": "stderr",
     "output_type": "stream",
     "text": [
      "/gpfs/soma_fs/home/boeger/PpaPred/functions/waveletTransform.py:84: RuntimeWarning: All-NaN slice encountered\n",
      "  thresh = thresh*np.nanmax(signal)\n"
     ]
    },
    {
     "name": "stdout",
     "output_type": "stream",
     "text": [
      "split 16, range: (5192, 5623)\n",
      "Worm seems to travel backwards the majority of time, flipped all centerlines to agree with forward travelling assumption\n",
      "split 17, range: (5625, 5723)\n"
     ]
    },
    {
     "name": "stderr",
     "output_type": "stream",
     "text": [
      "/gpfs/soma_fs/home/boeger/PpaPred/functions/waveletTransform.py:84: RuntimeWarning: All-NaN slice encountered\n",
      "  thresh = thresh*np.nanmax(signal)\n",
      "/gpfs/soma_fs/home/boeger/PpaPred/functions/waveletTransform.py:84: RuntimeWarning: All-NaN slice encountered\n",
      "  thresh = thresh*np.nanmax(signal)\n",
      "/gpfs/soma_fs/home/boeger/PpaPred/functions/waveletTransform.py:84: RuntimeWarning: All-NaN slice encountered\n",
      "  thresh = thresh*np.nanmax(signal)\n",
      "/gpfs/soma_fs/home/boeger/PpaPred/functions/waveletTransform.py:84: RuntimeWarning: All-NaN slice encountered\n",
      "  thresh = thresh*np.nanmax(signal)\n",
      "/gpfs/soma_fs/home/boeger/PpaPred/functions/waveletTransform.py:84: RuntimeWarning: All-NaN slice encountered\n",
      "  thresh = thresh*np.nanmax(signal)\n",
      "/gpfs/soma_fs/home/boeger/PpaPred/functions/waveletTransform.py:84: RuntimeWarning: All-NaN slice encountered\n",
      "  thresh = thresh*np.nanmax(signal)\n",
      "/gpfs/soma_fs/home/boeger/PpaPred/functions/waveletTransform.py:84: RuntimeWarning: All-NaN slice encountered\n",
      "  thresh = thresh*np.nanmax(signal)\n"
     ]
    },
    {
     "name": "stdout",
     "output_type": "stream",
     "text": [
      "split 18, range: (5827, 5859)\n",
      "split 19, range: (5873, 6036)\n",
      "split 20, range: (6040, 6533)\n",
      "split 21, range: (6534, 6617)\n",
      "split 22, range: (6640, 6807)\n",
      "Following frames seem to be tracked upside down\n",
      "We are going to flip those back:\n",
      "(array([139]),)\n",
      "split 23, range: (6813, 6848)\n"
     ]
    },
    {
     "name": "stderr",
     "output_type": "stream",
     "text": [
      "/gpfs/soma_fs/home/boeger/PpaPred/functions/waveletTransform.py:84: RuntimeWarning: All-NaN slice encountered\n",
      "  thresh = thresh*np.nanmax(signal)\n",
      "/gpfs/soma_fs/home/boeger/PpaPred/functions/waveletTransform.py:84: RuntimeWarning: All-NaN slice encountered\n",
      "  thresh = thresh*np.nanmax(signal)\n",
      "/gpfs/soma_fs/home/boeger/PpaPred/functions/waveletTransform.py:84: RuntimeWarning: All-NaN slice encountered\n",
      "  thresh = thresh*np.nanmax(signal)\n",
      "/gpfs/soma_fs/home/boeger/PpaPred/functions/waveletTransform.py:84: RuntimeWarning: All-NaN slice encountered\n",
      "  thresh = thresh*np.nanmax(signal)\n",
      "/gpfs/soma_fs/home/boeger/PpaPred/functions/waveletTransform.py:84: RuntimeWarning: All-NaN slice encountered\n",
      "  thresh = thresh*np.nanmax(signal)\n",
      "/gpfs/soma_fs/home/boeger/PpaPred/functions/waveletTransform.py:84: RuntimeWarning: All-NaN slice encountered\n",
      "  thresh = thresh*np.nanmax(signal)\n",
      "/gpfs/soma_fs/home/boeger/PpaPred/functions/waveletTransform.py:84: RuntimeWarning: All-NaN slice encountered\n",
      "  thresh = thresh*np.nanmax(signal)\n",
      "/gpfs/soma_fs/home/boeger/PpaPred/functions/waveletTransform.py:84: RuntimeWarning: All-NaN slice encountered\n",
      "  thresh = thresh*np.nanmax(signal)\n"
     ]
    },
    {
     "name": "stdout",
     "output_type": "stream",
     "text": [
      "split 24, range: (6974, 7088)\n",
      "split 25, range: (7092, 7300)\n",
      "split 26, range: (7392, 7436)\n",
      "Worm seems to travel backwards the majority of time, flipped all centerlines to agree with forward travelling assumption\n",
      "Ffill-Interpolation of nan frames\n",
      "Exempted from interpolation: range(0, 45) (over 1 sec long)\n",
      "Exempted from interpolation: range(2415, 2479) (over 1 sec long)\n",
      "Exempted from interpolation: range(3164, 3236) (over 1 sec long)\n",
      "Exempted from interpolation: range(3275, 3360) (over 1 sec long)\n",
      "Exempted from interpolation: range(3407, 3525) (over 1 sec long)\n",
      "Exempted from interpolation: range(3626, 3747) (over 1 sec long)\n",
      "Exempted from interpolation: range(3778, 4072) (over 1 sec long)\n",
      "Exempted from interpolation: range(4330, 4602) (over 1 sec long)\n",
      "Exempted from interpolation: range(4970, 5068) (over 1 sec long)\n",
      "Exempted from interpolation: range(5723, 5827) (over 1 sec long)\n",
      "Exempted from interpolation: range(6848, 6974) (over 1 sec long)\n",
      "Exempted from interpolation: range(7300, 7392) (over 1 sec long)\n"
     ]
    },
    {
     "name": "stderr",
     "output_type": "stream",
     "text": [
      "/gpfs/soma_fs/home/boeger/PpaPred/functions/waveletTransform.py:84: RuntimeWarning: All-NaN slice encountered\n",
      "  thresh = thresh*np.nanmax(signal)\n",
      "/gpfs/soma_fs/home/boeger/PpaPred/functions/waveletTransform.py:84: RuntimeWarning: All-NaN slice encountered\n",
      "  thresh = thresh*np.nanmax(signal)\n",
      "/gpfs/soma_fs/home/boeger/PpaPred/functions/waveletTransform.py:84: RuntimeWarning: All-NaN slice encountered\n",
      "  thresh = thresh*np.nanmax(signal)\n",
      "/gpfs/soma_fs/home/boeger/PpaPred/functions/waveletTransform.py:84: RuntimeWarning: All-NaN slice encountered\n",
      "  thresh = thresh*np.nanmax(signal)\n",
      " 91%|█████████ | 124/136 [06:56<00:43,  3.61s/it]"
     ]
    },
    {
     "name": "stdout",
     "output_type": "stream",
     "text": [
      "\n",
      "\n",
      "feature calculation for L147_240410_L147guniz_results_156.json_labeldata.csv\n",
      "Area larger than threshold, collision assumed in [].\n",
      "Calculation of features will be done in splits, ignoring those and adjacent* ranges. *That are less than 1 sec long.\n",
      "split 0, range: (0, 1949)\n",
      "Following frames seem to be tracked upside down\n",
      "We are going to flip those back:\n",
      "(array([1563, 1568]),)\n",
      "Ffill-Interpolation of nan frames\n"
     ]
    },
    {
     "name": "stderr",
     "output_type": "stream",
     "text": [
      " 92%|█████████▏| 125/136 [06:57<00:31,  2.84s/it]"
     ]
    },
    {
     "name": "stdout",
     "output_type": "stream",
     "text": [
      "\n",
      "\n",
      "feature calculation for L147_240410_L147guniz_results_15.json_labeldata.csv\n",
      "Area larger than threshold, collision assumed in [].\n",
      "Calculation of features will be done in splits, ignoring those and adjacent* ranges. *That are less than 1 sec long.\n",
      "split 0, range: (0, 17999)\n",
      "Following frames seem to be tracked upside down\n",
      "We are going to flip those back:\n",
      "(array([ 9822, 10746, 11155, 11327, 11333, 11337, 11338, 11339, 11340,\n",
      "       11341, 11351, 11355, 11534, 11535, 11536, 11551, 11558, 11560,\n",
      "       11561, 11562, 11564, 11568, 11573, 11577, 11578, 11579, 11580,\n",
      "       11581, 11582, 11584, 11585, 11586, 11587, 11589, 11590, 11591,\n",
      "       11592, 11594, 11595, 11598, 11599, 11600, 11601, 11602, 12281,\n",
      "       12282, 13679, 17713, 17744, 17782, 17968, 17969]),)\n",
      "Ffill-Interpolation of nan frames\n"
     ]
    },
    {
     "name": "stderr",
     "output_type": "stream",
     "text": [
      " 93%|█████████▎| 126/136 [07:05<00:42,  4.24s/it]"
     ]
    },
    {
     "name": "stdout",
     "output_type": "stream",
     "text": [
      "\n",
      "\n",
      "feature calculation for L147_240410_L147guniz_results_76.json_labeldata.csv\n",
      "Area larger than threshold, collision assumed in [].\n",
      "Calculation of features will be done in splits, ignoring those and adjacent* ranges. *That are less than 1 sec long.\n",
      "split 0, range: (0, 1453)\n",
      "split 1, range: (1454, 2030)\n",
      "Worm seems to travel backwards the majority of time, flipped all centerlines to agree with forward travelling assumption\n",
      "split 2, range: (2031, 2063)\n"
     ]
    },
    {
     "name": "stderr",
     "output_type": "stream",
     "text": [
      "/gpfs/soma_fs/home/boeger/PpaPred/functions/waveletTransform.py:84: RuntimeWarning: All-NaN slice encountered\n",
      "  thresh = thresh*np.nanmax(signal)\n",
      "/gpfs/soma_fs/home/boeger/PpaPred/functions/waveletTransform.py:84: RuntimeWarning: All-NaN slice encountered\n",
      "  thresh = thresh*np.nanmax(signal)\n",
      "/gpfs/soma_fs/home/boeger/PpaPred/functions/waveletTransform.py:84: RuntimeWarning: All-NaN slice encountered\n",
      "  thresh = thresh*np.nanmax(signal)\n",
      "/gpfs/soma_fs/home/boeger/PpaPred/functions/waveletTransform.py:84: RuntimeWarning: All-NaN slice encountered\n",
      "  thresh = thresh*np.nanmax(signal)\n",
      "/gpfs/soma_fs/home/boeger/PpaPred/functions/waveletTransform.py:84: RuntimeWarning: All-NaN slice encountered\n",
      "  thresh = thresh*np.nanmax(signal)\n"
     ]
    },
    {
     "name": "stdout",
     "output_type": "stream",
     "text": [
      "split 3, range: (2064, 2146)\n",
      "Worm seems to travel backwards the majority of time, flipped all centerlines to agree with forward travelling assumption\n",
      "split 4, range: (2149, 2462)\n",
      "Worm seems to travel backwards the majority of time, flipped all centerlines to agree with forward travelling assumption\n",
      "split 5, range: (2492, 2530)\n",
      "split 6, range: (2563, 2637)\n",
      "split 7, range: (2645, 3974)\n"
     ]
    },
    {
     "name": "stderr",
     "output_type": "stream",
     "text": [
      "/gpfs/soma_fs/home/boeger/PpaPred/functions/waveletTransform.py:84: RuntimeWarning: All-NaN slice encountered\n",
      "  thresh = thresh*np.nanmax(signal)\n",
      "/gpfs/soma_fs/home/boeger/PpaPred/functions/waveletTransform.py:84: RuntimeWarning: All-NaN slice encountered\n",
      "  thresh = thresh*np.nanmax(signal)\n",
      "/gpfs/soma_fs/home/boeger/PpaPred/functions/waveletTransform.py:84: RuntimeWarning: All-NaN slice encountered\n",
      "  thresh = thresh*np.nanmax(signal)\n",
      "/gpfs/soma_fs/home/boeger/PpaPred/functions/waveletTransform.py:84: RuntimeWarning: All-NaN slice encountered\n",
      "  thresh = thresh*np.nanmax(signal)\n",
      "/gpfs/soma_fs/home/boeger/PpaPred/functions/waveletTransform.py:84: RuntimeWarning: All-NaN slice encountered\n",
      "  thresh = thresh*np.nanmax(signal)\n",
      "/gpfs/soma_fs/home/boeger/PpaPred/functions/waveletTransform.py:84: RuntimeWarning: All-NaN slice encountered\n",
      "  thresh = thresh*np.nanmax(signal)\n",
      "/gpfs/soma_fs/home/boeger/PpaPred/functions/waveletTransform.py:84: RuntimeWarning: All-NaN slice encountered\n",
      "  thresh = thresh*np.nanmax(signal)\n"
     ]
    },
    {
     "name": "stdout",
     "output_type": "stream",
     "text": [
      "Ffill-Interpolation of nan frames\n",
      "Exempted from interpolation: range(2530, 2563) (over 1 sec long)\n"
     ]
    },
    {
     "name": "stderr",
     "output_type": "stream",
     "text": [
      " 93%|█████████▎| 127/136 [07:07<00:33,  3.71s/it]"
     ]
    },
    {
     "name": "stdout",
     "output_type": "stream",
     "text": [
      "\n",
      "\n",
      "feature calculation for L147_240410_L147guniz_results_182.json_labeldata.csv\n",
      "Area larger than threshold, collision assumed in [range(0, 2)].\n",
      "Calculation of features will be done in splits, ignoring those and adjacent* ranges. *That are less than 1 sec long.\n",
      "split 0, range: (8, 72)\n",
      "split 1, range: (193, 574)\n"
     ]
    },
    {
     "name": "stderr",
     "output_type": "stream",
     "text": [
      "/gpfs/soma_fs/home/boeger/PpaPred/functions/waveletTransform.py:84: RuntimeWarning: All-NaN slice encountered\n",
      "  thresh = thresh*np.nanmax(signal)\n",
      "/gpfs/soma_fs/home/boeger/PpaPred/functions/waveletTransform.py:84: RuntimeWarning: All-NaN slice encountered\n",
      "  thresh = thresh*np.nanmax(signal)\n",
      "/gpfs/soma_fs/home/boeger/PpaPred/functions/waveletTransform.py:84: RuntimeWarning: All-NaN slice encountered\n",
      "  thresh = thresh*np.nanmax(signal)\n"
     ]
    },
    {
     "name": "stdout",
     "output_type": "stream",
     "text": [
      "split 2, range: (643, 681)\n",
      "split 3, range: (682, 1091)\n"
     ]
    },
    {
     "name": "stderr",
     "output_type": "stream",
     "text": [
      "/gpfs/soma_fs/home/boeger/PpaPred/functions/waveletTransform.py:84: RuntimeWarning: All-NaN slice encountered\n",
      "  thresh = thresh*np.nanmax(signal)\n",
      "/gpfs/soma_fs/home/boeger/PpaPred/functions/waveletTransform.py:84: RuntimeWarning: All-NaN slice encountered\n",
      "  thresh = thresh*np.nanmax(signal)\n",
      "/gpfs/soma_fs/home/boeger/PpaPred/functions/waveletTransform.py:84: RuntimeWarning: All-NaN slice encountered\n",
      "  thresh = thresh*np.nanmax(signal)\n",
      "/gpfs/soma_fs/home/boeger/PpaPred/functions/waveletTransform.py:84: RuntimeWarning: All-NaN slice encountered\n",
      "  thresh = thresh*np.nanmax(signal)\n"
     ]
    },
    {
     "name": "stdout",
     "output_type": "stream",
     "text": [
      "split 4, range: (1121, 3238)\n",
      "Ffill-Interpolation of nan frames\n",
      "Exempted from interpolation: range(72, 193) (over 1 sec long)\n",
      "Exempted from interpolation: range(574, 643) (over 1 sec long)\n"
     ]
    },
    {
     "name": "stderr",
     "output_type": "stream",
     "text": [
      " 94%|█████████▍| 128/136 [07:09<00:25,  3.16s/it]"
     ]
    },
    {
     "name": "stdout",
     "output_type": "stream",
     "text": [
      "\n",
      "\n",
      "feature calculation for L147_240410_L147guniz_results_4.json_labeldata.csv\n",
      "Area larger than threshold, collision assumed in [].\n",
      "Calculation of features will be done in splits, ignoring those and adjacent* ranges. *That are less than 1 sec long.\n",
      "split 0, range: (0, 10550)\n",
      "Following frames seem to be tracked upside down\n",
      "We are going to flip those back:\n",
      "(array([5384]),)\n",
      "Ffill-Interpolation of nan frames\n"
     ]
    },
    {
     "name": "stderr",
     "output_type": "stream",
     "text": [
      " 95%|█████████▍| 129/136 [07:14<00:25,  3.63s/it]"
     ]
    },
    {
     "name": "stdout",
     "output_type": "stream",
     "text": [
      "\n",
      "\n",
      "feature calculation for L147_240410_L147guniz_results_56.json_labeldata.csv\n",
      "Area larger than threshold, collision assumed in [].\n",
      "Calculation of features will be done in splits, ignoring those and adjacent* ranges. *That are less than 1 sec long.\n",
      "split 0, range: (0, 15416)\n",
      "Following frames seem to be tracked upside down\n",
      "We are going to flip those back:\n",
      "(array([1577]),)\n",
      "Ffill-Interpolation of nan frames\n"
     ]
    },
    {
     "name": "stderr",
     "output_type": "stream",
     "text": [
      " 96%|█████████▌| 130/136 [07:20<00:27,  4.56s/it]"
     ]
    },
    {
     "name": "stdout",
     "output_type": "stream",
     "text": [
      "\n",
      "\n",
      "feature calculation for L147_240410_L147guniz_results_35.json_labeldata.csv\n",
      "Area larger than threshold, collision assumed in [].\n",
      "Calculation of features will be done in splits, ignoring those and adjacent* ranges. *That are less than 1 sec long.\n",
      "split 0, range: (0, 2595)\n",
      "Following frames seem to be tracked upside down\n",
      "We are going to flip those back:\n",
      "(array([2588, 2590, 2594]),)\n",
      "Ffill-Interpolation of nan frames\n",
      "Exempted from interpolation: range(2595, 2627) (over 1 sec long)\n"
     ]
    },
    {
     "name": "stderr",
     "output_type": "stream",
     "text": [
      " 96%|█████████▋| 131/136 [07:22<00:17,  3.58s/it]"
     ]
    },
    {
     "name": "stdout",
     "output_type": "stream",
     "text": [
      "\n",
      "\n",
      "feature calculation for L147_240823_L147_results_1.json_labeldata.csv\n",
      "Area larger than threshold, collision assumed in [].\n",
      "Calculation of features will be done in splits, ignoring those and adjacent* ranges. *That are less than 1 sec long.\n",
      "split 0, range: (0, 1847)\n",
      "Following frames seem to be tracked upside down\n",
      "We are going to flip those back:\n",
      "(array([1251, 1253, 1256, 1354, 1364, 1365, 1368, 1369, 1370]),)\n",
      "split 1, range: (1849, 2264)\n",
      "split 2, range: (2269, 2340)\n",
      "Worm seems to travel backwards the majority of time, flipped all centerlines to agree with forward travelling assumption\n"
     ]
    },
    {
     "name": "stderr",
     "output_type": "stream",
     "text": [
      "/gpfs/soma_fs/home/boeger/PpaPred/functions/waveletTransform.py:84: RuntimeWarning: All-NaN slice encountered\n",
      "  thresh = thresh*np.nanmax(signal)\n"
     ]
    },
    {
     "name": "stdout",
     "output_type": "stream",
     "text": [
      "Ffill-Interpolation of nan frames\n"
     ]
    },
    {
     "name": "stderr",
     "output_type": "stream",
     "text": [
      " 97%|█████████▋| 132/136 [07:23<00:11,  2.92s/it]"
     ]
    },
    {
     "name": "stdout",
     "output_type": "stream",
     "text": [
      "\n",
      "\n",
      "feature calculation for L147_240823_L147_results_3.json_labeldata.csv\n",
      "Area larger than threshold, collision assumed in [].\n",
      "Calculation of features will be done in splits, ignoring those and adjacent* ranges. *That are less than 1 sec long.\n",
      "split 0, range: (0, 12600)\n",
      "Following frames seem to be tracked upside down\n",
      "We are going to flip those back:\n",
      "(array([ 1769,  1784,  1786, 10664, 10665, 10666, 10667, 10668, 10669,\n",
      "       10670]),)\n",
      "Ffill-Interpolation of nan frames\n"
     ]
    },
    {
     "name": "stderr",
     "output_type": "stream",
     "text": [
      " 98%|█████████▊| 133/136 [07:28<00:10,  3.64s/it]"
     ]
    },
    {
     "name": "stdout",
     "output_type": "stream",
     "text": [
      "\n",
      "\n",
      "feature calculation for L147_240823_L147_results_4.json_labeldata.csv\n",
      "Area larger than threshold, collision assumed in [range(2340, 2341)].\n",
      "Calculation of features will be done in splits, ignoring those and adjacent* ranges. *That are less than 1 sec long.\n",
      "split 0, range: (0, 1573)\n",
      "Worm seems to travel backwards the majority of time, flipped all centerlines to agree with forward travelling assumption\n"
     ]
    },
    {
     "name": "stderr",
     "output_type": "stream",
     "text": [
      "/gpfs/soma_fs/home/boeger/PpaPred/functions/waveletTransform.py:84: RuntimeWarning: All-NaN slice encountered\n",
      "  thresh = thresh*np.nanmax(signal)\n",
      "/gpfs/soma_fs/home/boeger/PpaPred/functions/waveletTransform.py:84: RuntimeWarning: All-NaN slice encountered\n",
      "  thresh = thresh*np.nanmax(signal)\n",
      "/gpfs/soma_fs/home/boeger/PpaPred/functions/waveletTransform.py:84: RuntimeWarning: All-NaN slice encountered\n",
      "  thresh = thresh*np.nanmax(signal)\n",
      "/gpfs/soma_fs/home/boeger/PpaPred/functions/waveletTransform.py:84: RuntimeWarning: All-NaN slice encountered\n",
      "  thresh = thresh*np.nanmax(signal)\n",
      "/gpfs/soma_fs/home/boeger/PpaPred/functions/waveletTransform.py:84: RuntimeWarning: All-NaN slice encountered\n",
      "  thresh = thresh*np.nanmax(signal)\n",
      "/gpfs/soma_fs/home/boeger/PpaPred/functions/waveletTransform.py:84: RuntimeWarning: All-NaN slice encountered\n",
      "  thresh = thresh*np.nanmax(signal)\n",
      "/gpfs/soma_fs/home/boeger/PpaPred/functions/waveletTransform.py:84: RuntimeWarning: All-NaN slice encountered\n",
      "  thresh = thresh*np.nanmax(signal)\n",
      "/gpfs/soma_fs/home/boeger/PpaPred/functions/waveletTransform.py:84: RuntimeWarning: All-NaN slice encountered\n",
      "  thresh = thresh*np.nanmax(signal)\n"
     ]
    },
    {
     "name": "stdout",
     "output_type": "stream",
     "text": [
      "split 1, range: (1574, 1605)\n",
      "split 2, range: (1631, 1715)\n",
      "Worm seems to travel backwards the majority of time, flipped all centerlines to agree with forward travelling assumption\n",
      "split 3, range: (1885, 1992)\n"
     ]
    },
    {
     "name": "stderr",
     "output_type": "stream",
     "text": [
      "/gpfs/soma_fs/home/boeger/PpaPred/functions/waveletTransform.py:84: RuntimeWarning: All-NaN slice encountered\n",
      "  thresh = thresh*np.nanmax(signal)\n",
      "/gpfs/soma_fs/home/boeger/PpaPred/functions/waveletTransform.py:84: RuntimeWarning: All-NaN slice encountered\n",
      "  thresh = thresh*np.nanmax(signal)\n",
      "/gpfs/soma_fs/home/boeger/PpaPred/functions/waveletTransform.py:84: RuntimeWarning: All-NaN slice encountered\n",
      "  thresh = thresh*np.nanmax(signal)\n",
      "/gpfs/soma_fs/home/boeger/PpaPred/functions/waveletTransform.py:84: RuntimeWarning: All-NaN slice encountered\n",
      "  thresh = thresh*np.nanmax(signal)\n"
     ]
    },
    {
     "name": "stdout",
     "output_type": "stream",
     "text": [
      "split 4, range: (2007, 2340)\n",
      "split 5, range: (2346, 2401)\n"
     ]
    },
    {
     "name": "stderr",
     "output_type": "stream",
     "text": [
      "/gpfs/soma_fs/home/boeger/PpaPred/functions/waveletTransform.py:84: RuntimeWarning: All-NaN slice encountered\n",
      "  thresh = thresh*np.nanmax(signal)\n",
      "/gpfs/soma_fs/home/boeger/PpaPred/functions/waveletTransform.py:84: RuntimeWarning: All-NaN slice encountered\n",
      "  thresh = thresh*np.nanmax(signal)\n",
      "/gpfs/soma_fs/home/boeger/PpaPred/functions/waveletTransform.py:84: RuntimeWarning: All-NaN slice encountered\n",
      "  thresh = thresh*np.nanmax(signal)\n",
      "/gpfs/soma_fs/home/boeger/PpaPred/functions/waveletTransform.py:84: RuntimeWarning: All-NaN slice encountered\n",
      "  thresh = thresh*np.nanmax(signal)\n"
     ]
    },
    {
     "name": "stdout",
     "output_type": "stream",
     "text": [
      "split 6, range: (2402, 8493)\n",
      "Following frames seem to be tracked upside down\n",
      "We are going to flip those back:\n",
      "(array([4905, 4906, 4907, ..., 6088, 6089, 6090]),)\n",
      "split 7, range: (8543, 8610)\n",
      "split 8, range: (8634, 12600)\n",
      "Following frames seem to be tracked upside down\n",
      "We are going to flip those back:\n",
      "(array([ 922,  923, 1305, 1309]),)\n"
     ]
    },
    {
     "name": "stderr",
     "output_type": "stream",
     "text": [
      "/gpfs/soma_fs/home/boeger/PpaPred/functions/waveletTransform.py:84: RuntimeWarning: All-NaN slice encountered\n",
      "  thresh = thresh*np.nanmax(signal)\n",
      "/gpfs/soma_fs/home/boeger/PpaPred/functions/waveletTransform.py:84: RuntimeWarning: All-NaN slice encountered\n",
      "  thresh = thresh*np.nanmax(signal)\n",
      "/gpfs/soma_fs/home/boeger/PpaPred/functions/waveletTransform.py:84: RuntimeWarning: All-NaN slice encountered\n",
      "  thresh = thresh*np.nanmax(signal)\n"
     ]
    },
    {
     "name": "stdout",
     "output_type": "stream",
     "text": [
      "Ffill-Interpolation of nan frames\n",
      "Exempted from interpolation: range(1715, 1885) (over 1 sec long)\n",
      "Exempted from interpolation: range(8493, 8543) (over 1 sec long)\n"
     ]
    },
    {
     "name": "stderr",
     "output_type": "stream",
     "text": [
      " 99%|█████████▊| 134/136 [07:34<00:08,  4.37s/it]"
     ]
    },
    {
     "name": "stdout",
     "output_type": "stream",
     "text": [
      "\n",
      "\n",
      "feature calculation for L147_240823_L147_results_17.json_labeldata.csv\n",
      "Area larger than threshold, collision assumed in [].\n",
      "Calculation of features will be done in splits, ignoring those and adjacent* ranges. *That are less than 1 sec long.\n",
      "split 0, range: (0, 11174)\n",
      "Following frames seem to be tracked upside down\n",
      "We are going to flip those back:\n",
      "(array([ 930,  931,  932,  936,  937,  939, 7150, 7151, 7153, 7154, 7157,\n",
      "       7159, 7161]),)\n",
      "Ffill-Interpolation of nan frames\n"
     ]
    },
    {
     "name": "stderr",
     "output_type": "stream",
     "text": [
      " 99%|█████████▉| 135/136 [07:39<00:04,  4.49s/it]"
     ]
    },
    {
     "name": "stdout",
     "output_type": "stream",
     "text": [
      "\n",
      "\n",
      "feature calculation for L147_240823_L147_results_47.json_labeldata.csv\n",
      "Area larger than threshold, collision assumed in [range(5510, 5512)].\n",
      "Calculation of features will be done in splits, ignoring those and adjacent* ranges. *That are less than 1 sec long.\n",
      "split 0, range: (0, 4266)\n",
      "split 1, range: (4314, 5465)\n",
      "split 2, range: (5466, 5502)\n",
      "Ffill-Interpolation of nan frames\n",
      "Exempted from interpolation: range(4266, 4314) (over 1 sec long)\n",
      "Exempted from interpolation: range(5502, 5548) (over 1 sec long)\n"
     ]
    },
    {
     "name": "stderr",
     "output_type": "stream",
     "text": [
      "/gpfs/soma_fs/home/boeger/PpaPred/functions/waveletTransform.py:84: RuntimeWarning: All-NaN slice encountered\n",
      "  thresh = thresh*np.nanmax(signal)\n",
      "/gpfs/soma_fs/home/boeger/PpaPred/functions/waveletTransform.py:84: RuntimeWarning: All-NaN slice encountered\n",
      "  thresh = thresh*np.nanmax(signal)\n",
      "100%|██████████| 136/136 [07:42<00:00,  3.40s/it]\n"
     ]
    },
    {
     "name": "stdout",
     "output_type": "stream",
     "text": [
      "\n",
      "\n"
     ]
    },
    {
     "name": "stderr",
     "output_type": "stream",
     "text": [
      "0it [00:00, ?it/s]\n",
      "0it [00:00, ?it/s]\n"
     ]
    }
   ],
   "source": [
    "# %% SETTINGS\n",
    "# set invalid (division by zero error) to ignore\n",
    "np.seterr(invalid='ignore')\n",
    "date = time.strftime(\"%Y%m%d\")\n",
    "datestr = time.strftime(\"%Y%m%d-%HH%MM\")\n",
    "newline = '\\n'\n",
    "sklearn.set_config(transform_output=\"pandas\")\n",
    "\n",
    "\n",
    "# %% Configuration\n",
    "config = yaml.safe_load(open(\"config.yml\", \"r\"))\n",
    "\n",
    "config_batch_path = \"config_batch.yml\"\n",
    "config_batch = yaml.safe_load(open(config_batch_path, \"r\"))\n",
    "# %% INPUT\n",
    "list_inpath_pattern = config_batch['Experiments'][config_batch['Settings']['run']]['conditions']\n",
    "\n",
    "# recording\n",
    "fps = config['settings']['fps']\n",
    "\n",
    "# path\n",
    "inpath = config['path']['PharaGlow data']\n",
    "inpath_with_subfolders = config['path']['with subfolders']\n",
    "\n",
    "# coloring and labels\n",
    "cluster_color = config['cluster_color']\n",
    "cluster_label = config['cluster_labels']\n",
    "skip_already = config['settings']['skip_already']\n",
    "\"\"\"\n",
    "for inpath_pattern in list_inpath_pattern:\n",
    "    # %% I/O\n",
    "    # create list of inpath from folders in inpath that folder names contain inpath_pattern\n",
    "    if inpath_with_subfolders:\n",
    "        new_inpath = [os.path.join(inpath, sub) for sub in os.listdir(inpath) if inpath_pattern in sub]\n",
    "    else:\n",
    "        new_inpath = [inpath]\n",
    "    outpath = f'/gpfs/soma_fs/home/boeger/PpaPred/temp/{inpath_pattern}'\n",
    "\n",
    "    base_outpath = makedir(outpath)\n",
    "    outpath = []\n",
    "    for p in new_inpath:\n",
    "        in_folder = os.path.basename(p)\n",
    "        outpath.append(makedir(os.path.abspath(os.path.join(base_outpath,in_folder))))\n",
    "    \n",
    "    if False:\n",
    "        XYs, CLines  = FeatureEngine.run(new_inpath, \n",
    "                                     outpath,\n",
    "                                     return_XYCLine = True, \n",
    "                                     skip_engine = False, \n",
    "                                     skip_already=False, \n",
    "                                     out_fn_suffix='features',\n",
    "                                     inpath_with_subfolders=inpath_with_subfolders)\"\"\""
   ]
  },
  {
   "cell_type": "code",
   "execution_count": 77,
   "id": "c7cda3c6-b528-4626-9a02-bddbd89652f4",
   "metadata": {},
   "outputs": [
    {
     "data": {
      "text/plain": [
       "['L147', 'L176scaled', 'L176org']"
      ]
     },
     "execution_count": 77,
     "metadata": {},
     "output_type": "execute_result"
    }
   ],
   "source": [
    "list_inpath_pattern"
   ]
  },
  {
   "cell_type": "code",
   "execution_count": 76,
   "id": "c8cda152-a97e-4931-9625-4417cc5ca4c1",
   "metadata": {},
   "outputs": [
    {
     "ename": "ValueError",
     "evalue": "at least one array or dtype is required",
     "output_type": "error",
     "traceback": [
      "\u001b[0;31m---------------------------------------------------------------------------\u001b[0m",
      "\u001b[0;31mValueError\u001b[0m                                Traceback (most recent call last)",
      "Cell \u001b[0;32mIn[76], line 32\u001b[0m\n\u001b[1;32m     30\u001b[0m all_features_mean\u001b[38;5;241m.\u001b[39mindex \u001b[38;5;241m=\u001b[39m pd\u001b[38;5;241m.\u001b[39mMultiIndex\u001b[38;5;241m.\u001b[39mfrom_product([[inpath_pattern], all_features_mean\u001b[38;5;241m.\u001b[39mindex])\n\u001b[1;32m     31\u001b[0m scaler \u001b[38;5;241m=\u001b[39m preprocessing\u001b[38;5;241m.\u001b[39mRobustScaler()\n\u001b[0;32m---> 32\u001b[0m df_scaled \u001b[38;5;241m=\u001b[39m \u001b[43mscaler\u001b[49m\u001b[38;5;241;43m.\u001b[39;49m\u001b[43mfit_transform\u001b[49m\u001b[43m(\u001b[49m\u001b[43mall_features_mean\u001b[49m\u001b[43m)\u001b[49m\n\u001b[1;32m     33\u001b[0m df_scaled \u001b[38;5;241m=\u001b[39m pd\u001b[38;5;241m.\u001b[39mDataFrame(df_scaled)\n\u001b[1;32m     35\u001b[0m all_cond_mean \u001b[38;5;241m=\u001b[39m pd\u001b[38;5;241m.\u001b[39mconcat([all_cond_mean, all_features_mean])\n",
      "File \u001b[0;32m~/usr/miniconda3/envs/sklearn-env2/lib/python3.8/site-packages/sklearn/utils/_set_output.py:142\u001b[0m, in \u001b[0;36m_wrap_method_output.<locals>.wrapped\u001b[0;34m(self, X, *args, **kwargs)\u001b[0m\n\u001b[1;32m    140\u001b[0m \u001b[38;5;129m@wraps\u001b[39m(f)\n\u001b[1;32m    141\u001b[0m \u001b[38;5;28;01mdef\u001b[39;00m \u001b[38;5;21mwrapped\u001b[39m(\u001b[38;5;28mself\u001b[39m, X, \u001b[38;5;241m*\u001b[39margs, \u001b[38;5;241m*\u001b[39m\u001b[38;5;241m*\u001b[39mkwargs):\n\u001b[0;32m--> 142\u001b[0m     data_to_wrap \u001b[38;5;241m=\u001b[39m \u001b[43mf\u001b[49m\u001b[43m(\u001b[49m\u001b[38;5;28;43mself\u001b[39;49m\u001b[43m,\u001b[49m\u001b[43m \u001b[49m\u001b[43mX\u001b[49m\u001b[43m,\u001b[49m\u001b[43m \u001b[49m\u001b[38;5;241;43m*\u001b[39;49m\u001b[43margs\u001b[49m\u001b[43m,\u001b[49m\u001b[43m \u001b[49m\u001b[38;5;241;43m*\u001b[39;49m\u001b[38;5;241;43m*\u001b[39;49m\u001b[43mkwargs\u001b[49m\u001b[43m)\u001b[49m\n\u001b[1;32m    143\u001b[0m     \u001b[38;5;28;01mif\u001b[39;00m \u001b[38;5;28misinstance\u001b[39m(data_to_wrap, \u001b[38;5;28mtuple\u001b[39m):\n\u001b[1;32m    144\u001b[0m         \u001b[38;5;66;03m# only wrap the first output for cross decomposition\u001b[39;00m\n\u001b[1;32m    145\u001b[0m         \u001b[38;5;28;01mreturn\u001b[39;00m (\n\u001b[1;32m    146\u001b[0m             _wrap_data_with_container(method, data_to_wrap[\u001b[38;5;241m0\u001b[39m], X, \u001b[38;5;28mself\u001b[39m),\n\u001b[1;32m    147\u001b[0m             \u001b[38;5;241m*\u001b[39mdata_to_wrap[\u001b[38;5;241m1\u001b[39m:],\n\u001b[1;32m    148\u001b[0m         )\n",
      "File \u001b[0;32m~/usr/miniconda3/envs/sklearn-env2/lib/python3.8/site-packages/sklearn/utils/_set_output.py:142\u001b[0m, in \u001b[0;36m_wrap_method_output.<locals>.wrapped\u001b[0;34m(self, X, *args, **kwargs)\u001b[0m\n\u001b[1;32m    140\u001b[0m \u001b[38;5;129m@wraps\u001b[39m(f)\n\u001b[1;32m    141\u001b[0m \u001b[38;5;28;01mdef\u001b[39;00m \u001b[38;5;21mwrapped\u001b[39m(\u001b[38;5;28mself\u001b[39m, X, \u001b[38;5;241m*\u001b[39margs, \u001b[38;5;241m*\u001b[39m\u001b[38;5;241m*\u001b[39mkwargs):\n\u001b[0;32m--> 142\u001b[0m     data_to_wrap \u001b[38;5;241m=\u001b[39m \u001b[43mf\u001b[49m\u001b[43m(\u001b[49m\u001b[38;5;28;43mself\u001b[39;49m\u001b[43m,\u001b[49m\u001b[43m \u001b[49m\u001b[43mX\u001b[49m\u001b[43m,\u001b[49m\u001b[43m \u001b[49m\u001b[38;5;241;43m*\u001b[39;49m\u001b[43margs\u001b[49m\u001b[43m,\u001b[49m\u001b[43m \u001b[49m\u001b[38;5;241;43m*\u001b[39;49m\u001b[38;5;241;43m*\u001b[39;49m\u001b[43mkwargs\u001b[49m\u001b[43m)\u001b[49m\n\u001b[1;32m    143\u001b[0m     \u001b[38;5;28;01mif\u001b[39;00m \u001b[38;5;28misinstance\u001b[39m(data_to_wrap, \u001b[38;5;28mtuple\u001b[39m):\n\u001b[1;32m    144\u001b[0m         \u001b[38;5;66;03m# only wrap the first output for cross decomposition\u001b[39;00m\n\u001b[1;32m    145\u001b[0m         \u001b[38;5;28;01mreturn\u001b[39;00m (\n\u001b[1;32m    146\u001b[0m             _wrap_data_with_container(method, data_to_wrap[\u001b[38;5;241m0\u001b[39m], X, \u001b[38;5;28mself\u001b[39m),\n\u001b[1;32m    147\u001b[0m             \u001b[38;5;241m*\u001b[39mdata_to_wrap[\u001b[38;5;241m1\u001b[39m:],\n\u001b[1;32m    148\u001b[0m         )\n",
      "File \u001b[0;32m~/usr/miniconda3/envs/sklearn-env2/lib/python3.8/site-packages/sklearn/base.py:848\u001b[0m, in \u001b[0;36mTransformerMixin.fit_transform\u001b[0;34m(self, X, y, **fit_params)\u001b[0m\n\u001b[1;32m    844\u001b[0m \u001b[38;5;66;03m# non-optimized default implementation; override when a better\u001b[39;00m\n\u001b[1;32m    845\u001b[0m \u001b[38;5;66;03m# method is possible for a given clustering algorithm\u001b[39;00m\n\u001b[1;32m    846\u001b[0m \u001b[38;5;28;01mif\u001b[39;00m y \u001b[38;5;129;01mis\u001b[39;00m \u001b[38;5;28;01mNone\u001b[39;00m:\n\u001b[1;32m    847\u001b[0m     \u001b[38;5;66;03m# fit method of arity 1 (unsupervised transformation)\u001b[39;00m\n\u001b[0;32m--> 848\u001b[0m     \u001b[38;5;28;01mreturn\u001b[39;00m \u001b[38;5;28;43mself\u001b[39;49m\u001b[38;5;241;43m.\u001b[39;49m\u001b[43mfit\u001b[49m\u001b[43m(\u001b[49m\u001b[43mX\u001b[49m\u001b[43m,\u001b[49m\u001b[43m \u001b[49m\u001b[38;5;241;43m*\u001b[39;49m\u001b[38;5;241;43m*\u001b[39;49m\u001b[43mfit_params\u001b[49m\u001b[43m)\u001b[49m\u001b[38;5;241m.\u001b[39mtransform(X)\n\u001b[1;32m    849\u001b[0m \u001b[38;5;28;01melse\u001b[39;00m:\n\u001b[1;32m    850\u001b[0m     \u001b[38;5;66;03m# fit method of arity 2 (supervised transformation)\u001b[39;00m\n\u001b[1;32m    851\u001b[0m     \u001b[38;5;28;01mreturn\u001b[39;00m \u001b[38;5;28mself\u001b[39m\u001b[38;5;241m.\u001b[39mfit(X, y, \u001b[38;5;241m*\u001b[39m\u001b[38;5;241m*\u001b[39mfit_params)\u001b[38;5;241m.\u001b[39mtransform(X)\n",
      "File \u001b[0;32m~/usr/miniconda3/envs/sklearn-env2/lib/python3.8/site-packages/sklearn/preprocessing/_data.py:1516\u001b[0m, in \u001b[0;36mRobustScaler.fit\u001b[0;34m(self, X, y)\u001b[0m\n\u001b[1;32m   1512\u001b[0m \u001b[38;5;28mself\u001b[39m\u001b[38;5;241m.\u001b[39m_validate_params()\n\u001b[1;32m   1514\u001b[0m \u001b[38;5;66;03m# at fit, convert sparse matrices to csc for optimized computation of\u001b[39;00m\n\u001b[1;32m   1515\u001b[0m \u001b[38;5;66;03m# the quantiles\u001b[39;00m\n\u001b[0;32m-> 1516\u001b[0m X \u001b[38;5;241m=\u001b[39m \u001b[38;5;28;43mself\u001b[39;49m\u001b[38;5;241;43m.\u001b[39;49m\u001b[43m_validate_data\u001b[49m\u001b[43m(\u001b[49m\n\u001b[1;32m   1517\u001b[0m \u001b[43m    \u001b[49m\u001b[43mX\u001b[49m\u001b[43m,\u001b[49m\n\u001b[1;32m   1518\u001b[0m \u001b[43m    \u001b[49m\u001b[43maccept_sparse\u001b[49m\u001b[38;5;241;43m=\u001b[39;49m\u001b[38;5;124;43m\"\u001b[39;49m\u001b[38;5;124;43mcsc\u001b[39;49m\u001b[38;5;124;43m\"\u001b[39;49m\u001b[43m,\u001b[49m\n\u001b[1;32m   1519\u001b[0m \u001b[43m    \u001b[49m\u001b[43mdtype\u001b[49m\u001b[38;5;241;43m=\u001b[39;49m\u001b[43mFLOAT_DTYPES\u001b[49m\u001b[43m,\u001b[49m\n\u001b[1;32m   1520\u001b[0m \u001b[43m    \u001b[49m\u001b[43mforce_all_finite\u001b[49m\u001b[38;5;241;43m=\u001b[39;49m\u001b[38;5;124;43m\"\u001b[39;49m\u001b[38;5;124;43mallow-nan\u001b[39;49m\u001b[38;5;124;43m\"\u001b[39;49m\u001b[43m,\u001b[49m\n\u001b[1;32m   1521\u001b[0m \u001b[43m\u001b[49m\u001b[43m)\u001b[49m\n\u001b[1;32m   1523\u001b[0m q_min, q_max \u001b[38;5;241m=\u001b[39m \u001b[38;5;28mself\u001b[39m\u001b[38;5;241m.\u001b[39mquantile_range\n\u001b[1;32m   1524\u001b[0m \u001b[38;5;28;01mif\u001b[39;00m \u001b[38;5;129;01mnot\u001b[39;00m \u001b[38;5;241m0\u001b[39m \u001b[38;5;241m<\u001b[39m\u001b[38;5;241m=\u001b[39m q_min \u001b[38;5;241m<\u001b[39m\u001b[38;5;241m=\u001b[39m q_max \u001b[38;5;241m<\u001b[39m\u001b[38;5;241m=\u001b[39m \u001b[38;5;241m100\u001b[39m:\n",
      "File \u001b[0;32m~/usr/miniconda3/envs/sklearn-env2/lib/python3.8/site-packages/sklearn/base.py:535\u001b[0m, in \u001b[0;36mBaseEstimator._validate_data\u001b[0;34m(self, X, y, reset, validate_separately, **check_params)\u001b[0m\n\u001b[1;32m    533\u001b[0m     \u001b[38;5;28;01mraise\u001b[39;00m \u001b[38;5;167;01mValueError\u001b[39;00m(\u001b[38;5;124m\"\u001b[39m\u001b[38;5;124mValidation should be done on X, y or both.\u001b[39m\u001b[38;5;124m\"\u001b[39m)\n\u001b[1;32m    534\u001b[0m \u001b[38;5;28;01melif\u001b[39;00m \u001b[38;5;129;01mnot\u001b[39;00m no_val_X \u001b[38;5;129;01mand\u001b[39;00m no_val_y:\n\u001b[0;32m--> 535\u001b[0m     X \u001b[38;5;241m=\u001b[39m \u001b[43mcheck_array\u001b[49m\u001b[43m(\u001b[49m\u001b[43mX\u001b[49m\u001b[43m,\u001b[49m\u001b[43m \u001b[49m\u001b[43minput_name\u001b[49m\u001b[38;5;241;43m=\u001b[39;49m\u001b[38;5;124;43m\"\u001b[39;49m\u001b[38;5;124;43mX\u001b[39;49m\u001b[38;5;124;43m\"\u001b[39;49m\u001b[43m,\u001b[49m\u001b[43m \u001b[49m\u001b[38;5;241;43m*\u001b[39;49m\u001b[38;5;241;43m*\u001b[39;49m\u001b[43mcheck_params\u001b[49m\u001b[43m)\u001b[49m\n\u001b[1;32m    536\u001b[0m     out \u001b[38;5;241m=\u001b[39m X\n\u001b[1;32m    537\u001b[0m \u001b[38;5;28;01melif\u001b[39;00m no_val_X \u001b[38;5;129;01mand\u001b[39;00m \u001b[38;5;129;01mnot\u001b[39;00m no_val_y:\n",
      "File \u001b[0;32m~/usr/miniconda3/envs/sklearn-env2/lib/python3.8/site-packages/sklearn/utils/validation.py:778\u001b[0m, in \u001b[0;36mcheck_array\u001b[0;34m(array, accept_sparse, accept_large_sparse, dtype, order, copy, force_all_finite, ensure_2d, allow_nd, ensure_min_samples, ensure_min_features, estimator, input_name)\u001b[0m\n\u001b[1;32m    774\u001b[0m     pandas_requires_conversion \u001b[38;5;241m=\u001b[39m \u001b[38;5;28many\u001b[39m(\n\u001b[1;32m    775\u001b[0m         _pandas_dtype_needs_early_conversion(i) \u001b[38;5;28;01mfor\u001b[39;00m i \u001b[38;5;129;01min\u001b[39;00m dtypes_orig\n\u001b[1;32m    776\u001b[0m     )\n\u001b[1;32m    777\u001b[0m     \u001b[38;5;28;01mif\u001b[39;00m \u001b[38;5;28mall\u001b[39m(\u001b[38;5;28misinstance\u001b[39m(dtype_iter, np\u001b[38;5;241m.\u001b[39mdtype) \u001b[38;5;28;01mfor\u001b[39;00m dtype_iter \u001b[38;5;129;01min\u001b[39;00m dtypes_orig):\n\u001b[0;32m--> 778\u001b[0m         dtype_orig \u001b[38;5;241m=\u001b[39m \u001b[43mnp\u001b[49m\u001b[38;5;241;43m.\u001b[39;49m\u001b[43mresult_type\u001b[49m\u001b[43m(\u001b[49m\u001b[38;5;241;43m*\u001b[39;49m\u001b[43mdtypes_orig\u001b[49m\u001b[43m)\u001b[49m\n\u001b[1;32m    780\u001b[0m \u001b[38;5;28;01melif\u001b[39;00m \u001b[38;5;28mhasattr\u001b[39m(array, \u001b[38;5;124m\"\u001b[39m\u001b[38;5;124miloc\u001b[39m\u001b[38;5;124m\"\u001b[39m) \u001b[38;5;129;01mand\u001b[39;00m \u001b[38;5;28mhasattr\u001b[39m(array, \u001b[38;5;124m\"\u001b[39m\u001b[38;5;124mdtype\u001b[39m\u001b[38;5;124m\"\u001b[39m):\n\u001b[1;32m    781\u001b[0m     \u001b[38;5;66;03m# array is a pandas series\u001b[39;00m\n\u001b[1;32m    782\u001b[0m     pandas_requires_conversion \u001b[38;5;241m=\u001b[39m _pandas_dtype_needs_early_conversion(array\u001b[38;5;241m.\u001b[39mdtype)\n",
      "File \u001b[0;32m<__array_function__ internals>:180\u001b[0m, in \u001b[0;36mresult_type\u001b[0;34m(*args, **kwargs)\u001b[0m\n",
      "\u001b[0;31mValueError\u001b[0m: at least one array or dtype is required"
     ]
    }
   ],
   "source": [
    "all_cond_mean = pd.DataFrame([])\n",
    "all_cond = pd.DataFrame([])\n",
    "for inpath_pattern in list_inpath_pattern:\n",
    "    # %% I/O\n",
    "    # create list of inpath from folders in inpath that folder names contain inpath_pattern\n",
    "    if inpath_with_subfolders:\n",
    "        new_inpath = [os.path.join(inpath, sub) for sub in os.listdir(inpath) if inpath_pattern in sub]\n",
    "    else:\n",
    "        new_inpath = [inpath]\n",
    "    cond_outpath = f'/gpfs/soma_fs/home/boeger/PpaPred/temp/{inpath_pattern}'\n",
    "\n",
    "    base_outpath = makedir(cond_outpath)\n",
    "    cond_outpath = []\n",
    "    for p in new_inpath:\n",
    "        in_folder = os.path.basename(p)\n",
    "        cond_outpath.append(makedir(os.path.abspath(os.path.join(base_outpath,in_folder))))\n",
    "\n",
    "    all_engine = {name:os.path.join(root, name) for root, dirs, files in os.walk(base_outpath) for name in files if any(pat in os.path.basename(root) for pat in inpath_pattern) and name.endswith('.json')}\n",
    "    all_features_mean = pd.DataFrame([])\n",
    "    \n",
    "    for df_fname in all_engine.values():\n",
    "        df = pd.read_json(df_fname, orient='split')\n",
    "        df_mean = pd.DataFrame(df.mean(axis=0), columns=[os.path.basename(df_fname)]).T\n",
    "        all_features_mean = pd.concat([all_features_mean,df_mean])\n",
    "        \n",
    "        df.index = pd.MultiIndex.from_product([[inpath_pattern], df.index])\n",
    "        all_cond = pd.concat([all_cond, df.rolling(150).mean()[::150]])\n",
    "        \n",
    "        \n",
    "    all_features_mean.index = pd.MultiIndex.from_product([[inpath_pattern], all_features_mean.index])\n",
    "    scaler = preprocessing.RobustScaler()\n",
    "    df_scaled = scaler.fit_transform(all_features_mean)\n",
    "    df_scaled = pd.DataFrame(df_scaled)\n",
    "    \n",
    "    all_cond_mean = pd.concat([all_cond_mean, all_features_mean])\n",
    "all_cond_mean"
   ]
  },
  {
   "cell_type": "code",
   "execution_count": 41,
   "id": "e684bc4d-f1af-457b-8601-c8c38b9d9b76",
   "metadata": {},
   "outputs": [],
   "source": [
    "df_basecols = df.columns.drop(df.filter(regex='cwt|maxfreq').columns)\n",
    "df_maxfreqcols = df.filter(regex='maxfreq').columns"
   ]
  },
  {
   "cell_type": "code",
   "execution_count": null,
   "id": "c46bdffd-a2d0-4e3f-a98c-c6d355f57453",
   "metadata": {},
   "outputs": [],
   "source": [
    "L147_velo = all_cond.loc['L147','velocity']\n",
    "L176_velo = all_cond.loc['L176','velocity']"
   ]
  },
  {
   "cell_type": "code",
   "execution_count": 54,
   "id": "bf86d17a-d24e-4e19-a6b6-9164e051e980",
   "metadata": {},
   "outputs": [
    {
     "data": {
      "text/plain": [
       "(count    5845.000000\n",
       " mean       30.279689\n",
       " std        31.982316\n",
       " min         0.293941\n",
       " 25%         5.278734\n",
       " 50%        19.030273\n",
       " 75%        45.479917\n",
       " max       199.880968\n",
       " Name: velocity, dtype: float64,\n",
       " count    3380.000000\n",
       " mean       24.993217\n",
       " std        26.268305\n",
       " min         0.211243\n",
       " 25%         4.302049\n",
       " 50%        14.930424\n",
       " 75%        38.396342\n",
       " max       159.571205\n",
       " Name: velocity, dtype: float64)"
      ]
     },
     "execution_count": 54,
     "metadata": {},
     "output_type": "execute_result"
    }
   ],
   "source": [
    "L147_velo.describe(),L176_velo.describe()"
   ]
  },
  {
   "cell_type": "code",
   "execution_count": 74,
   "id": "87de3a47-2309-41a0-938f-c125e33c62c8",
   "metadata": {},
   "outputs": [
    {
     "data": {
      "image/png": "[encoded data removed]",
      "text/plain": [
       "<Figure size 640x480 with 1 Axes>"
      ]
     },
     "metadata": {},
     "output_type": "display_data"
    }
   ],
   "source": [
    "plt.hist(L147_velo, bins=50)\n",
    "plt.hist(L176_velo, bins=50)\n",
    "plt.xlim(-5,140);"
   ]
  },
  {
   "cell_type": "code",
   "execution_count": 70,
   "id": "2fa4b00e-aead-4513-9f6b-0d4ba661d790",
   "metadata": {},
   "outputs": [
    {
     "data": {
      "text/plain": [
       "False"
      ]
     },
     "execution_count": 70,
     "metadata": {},
     "output_type": "execute_result"
    }
   ],
   "source": [
    "engine_done = ['LB012001_12', 'LB012001_121']\n",
    "'LB012001_1' in engine_done"
   ]
  },
  {
   "cell_type": "code",
   "execution_count": 42,
   "id": "4045f6e7-69bf-4566-a159-cdc6cd32546d",
   "metadata": {},
   "outputs": [
    {
     "data": {
      "image/png": "[encoded data removed]",
      "text/plain": [
       "<Figure size 2000x500 with 16 Axes>"
      ]
     },
     "metadata": {},
     "output_type": "display_data"
    },
    {
     "data": {
      "image/png": "[encoded data removed]",
      "text/plain": [
       "<Figure size 2000x500 with 16 Axes>"
      ]
     },
     "metadata": {},
     "output_type": "display_data"
    }
   ],
   "source": [
    "import matplotlib.patches as mpatches\n",
    "for ftype, f_cols in {'Base': df_basecols, 'Maxfreq':df_maxfreqcols}.items():\n",
    "    fig, axs = plt.subplots(1, len(f_cols), figsize=(20,5))\n",
    "    labels = []\n",
    "    for j, pat in enumerate(['L147', 'L176']):\n",
    "        for i, col in enumerate(f_cols):\n",
    "            violin = axs[i].violinplot(all_cond_mean.iloc[all_cond_mean.index.get_level_values(0) == pat][col].dropna(), positions=[j], showmeans=True)\n",
    "            axs[i].set_xticks([1])\n",
    "            axs[i].set_xticklabels([col], rotation=-45, ha='left')\n",
    "            axs[i].spines['top'].set_visible(False)\n",
    "            axs[i].spines['right'].set_visible(False)\n",
    "            axs[i].set_xlim(-.5,2)\n",
    "        labels.append((mpatches.Patch(color = violin[\"bodies\"][0].get_facecolor()[0]), pat))\n",
    "    plt.legend(*zip(*labels))\n",
    "    plt.savefig(os.path.join('/gpfs/soma_fs/home/boeger/PpaPred/temp/', f'feature{ftype}_violin.png'))\n",
    "    plt.show()"
   ]
  },
  {
   "cell_type": "code",
   "execution_count": null,
   "id": "6064f7cc-1c75-4576-9776-bda8f3ab14d0",
   "metadata": {},
   "outputs": [],
   "source": [
    "for ftype, f_cols in {'Base': df_basecols, 'Maxfreq':df_maxfreqcols}.items():\n",
    "    fig, axs = plt.subplots(1, len(f_cols), figsize=(4*len(f_cols),4), sharex=True)\n",
    "    for i, col in enumerate(f_cols):\n",
    "        for j, pat in enumerate(['L147', 'L176']):\n",
    "            _df = all_cond_mean.iloc[all_cond_mean.index.get_level_values(0) == pat]\n",
    "            axs[i].scatter(_df['velocity_dt60'], _df[col], label=pat)\n",
    "            axs[i].set_xlabel('velocity dt60')\n",
    "            axs[i].set_title(col)\n",
    "    plt.legend()\n",
    "    plt.savefig(os.path.join('/gpfs/soma_fs/home/boeger/PpaPred/temp/', f'feature{ftype}_veloCorr_mean.png'))\n",
    "    plt.show()"
   ]
  },
  {
   "cell_type": "code",
   "execution_count": null,
   "id": "0b09555f-4be1-4dbd-8322-2f229098d7e2",
   "metadata": {},
   "outputs": [],
   "source": [
    "for ftype, f_cols in {'Base': df_basecols, 'Maxfreq':df_maxfreqcols}.items():\n",
    "    fig, axs = plt.subplots(4, len(f_cols), figsize=(4*len(f_cols),8), sharex=True, sharey='col')\n",
    "    _color = ['tab:blue', 'tab:orange']\n",
    "    for i, col in enumerate(f_cols):\n",
    "        for j, pat in enumerate(['L147', 'L176']):\n",
    "            _df = all_cond.iloc[all_cond.index.get_level_values(0) == pat]\n",
    "            axs[j,i].scatter(_df['velocity_dt60'], _df[col], alpha=.1, label=pat, c=_color[j])\n",
    "            axs[2,i].scatter(_df['velocity_dt60'], _df[col], alpha=.1, label=pat, c=_color[j])\n",
    "            axs[3,i].scatter(_df['velocity_dt60'], _df[col], alpha=.1, label=pat, c=_color[j], zorder=2-j)\n",
    "        axs[-1,i].set_xlabel('velocity_dt60')\n",
    "        axs[0,i].set_title(col)\n",
    "    plt.legend()\n",
    "    plt.savefig(os.path.join('/gpfs/soma_fs/home/boeger/PpaPred/temp/', f'feature{ftype}_veloCorr_5secRes.png'))\n",
    "    plt.show()"
   ]
  },
  {
   "cell_type": "code",
   "execution_count": null,
   "id": "b8c03824-fa8a-4efa-9786-fd5d67328cf4",
   "metadata": {},
   "outputs": [],
   "source": [
    "count = 0\n",
    "for k, CL in CLines.items():\n",
    "    XY = XYs[k]\n",
    "    PG = pd.read_json(all_engine[k.split('.')[0]+'_features.json'], orient='split')\n",
    "    if count == 8:\n",
    "        break\n",
    "    count += 1"
   ]
  },
  {
   "cell_type": "code",
   "execution_count": null,
   "id": "0e9afacd-8938-404a-af8f-be300bf6dbde",
   "metadata": {},
   "outputs": [],
   "source": [
    "adjustCL = (CL-np.nanmean(CL)) + np.repeat(XY.reshape(XY.shape[0],1, XY.shape[1]), CL.shape[1], axis=1)\n",
    "# nosetip vs cm over time\n",
    "_, tip2cm_arccos, _ = al.AngleLen(adjustCL, XY, hypotenuse = \"v1\", over=\"space\", v1_args=dict(diffindex=[5,0]))\n",
    "# anterior vs posterior part\n",
    "_, tip2back_arccos, _ = al.AngleLen(adjustCL, adjustCL, hypotenuse = \"v1\", over=\"space\", v2_over='space', v1_args=dict(diffindex=[40,10]),v2_args=dict(diffindex=[-10,60]))\n",
    "# cm vs cm over time\n",
    "_, cl2cl_arccos_dt30, _ = al.AngleLen(adjustCL, hypotenuse = \"v1\", over=\"space\", v1_args=dict(diffindex=[-10,10]), v2_diff=30)\n",
    "\n",
    "# pharynx vs cm over time\n",
    "_, movedir, _ = al.AngleLen(adjustCL, XY, hypotenuse = \"v1\", over='space', v1_args=dict(diffindex=[-10,10]))\n",
    "reversal_bin = np.where(pd.DataFrame(movedir).rolling(10).mean() >= np.deg2rad(120), 1, 0)\n",
    "reversal_events = np.clip(np.diff(reversal_bin, axis=0), 0, 1)\n",
    "reversal_rate = pd.Series(reversal_events.squeeze()).rolling(30, center=True).apply(lambda w: np.mean(w)*30)\n",
    "\n",
    "# assume that v2 (cm vector) is hypotenuse, makes sideways headmotion vector more realistic\n",
    "# pharynx vs cm over time, with sin calculated\n",
    "headmotion, leftright, _ = al.AngleLen(adjustCL, XY, hypotenuse = \"v2\", over='space', v2_args=dict(diff_step=1), angletype=np.arcsin)\n",
    "headvelocity = abs(headmotion[:-1] - headmotion[1:])/(1/30)\n",
    "leftright_abs_smooth = abs(pd.DataFrame(leftright).rolling(30).mean())\n"
   ]
  },
  {
   "cell_type": "code",
   "execution_count": null,
   "id": "9f7a0de8-5c31-4f73-959d-affa6df01f5d",
   "metadata": {},
   "outputs": [],
   "source": [
    "PG.columns"
   ]
  },
  {
   "cell_type": "code",
   "execution_count": null,
   "id": "f493b869-a69f-4dea-b98b-34021769e4c1",
   "metadata": {},
   "outputs": [],
   "source": [
    "def CLtrajectory_plotter(CLine, XY, cluster_color=['k'], cluster_label=[0], y = None, fn='', figsize=(10,10)):\n",
    "    fig, ax = plt.subplots(figsize=figsize)\n",
    "    \n",
    "    adjustCL = (CLine-np.nanmean(CLine))+np.repeat(XY.reshape(XY.shape[0],1,XY.shape[1]), CLine.shape[1], axis=1)# fits better than subtracting 50\n",
    "    adjustXY = XY-np.nanmean(XY, axis=0)\n",
    "    if y is not None:\n",
    "        legend_elements = [Line2D([0], [0],color=cluster_color[i], label=cluster_label [i]) for i in cluster_label]\n",
    "        for l in np.unique(y).astype(int):\n",
    "            il = np.where(y == l)[0]\n",
    "            ax.plot(*adjustCL[il].T, c=cluster_color[l], alpha = 0.1)\n",
    "        ax.legend(handles=legend_elements, loc='upper left', bbox_to_anchor=(1,1))\n",
    "    else:\n",
    "        ax.plot(*adjustCL.T, c=cluster_color[0], alpha = 0.1)\n",
    "    ax.set_title(fn)\n",
    "    ax.axis('equal')\n",
    "    return fig"
   ]
  },
  {
   "cell_type": "code",
   "execution_count": null,
   "id": "b6c4d430-0a99-4133-9a55-cbe891c8c6ef",
   "metadata": {},
   "outputs": [],
   "source": [
    "CLtrajectory_plotter(CL, XY, figsize=(5,5));\n",
    "plt.scatter(*pd.DataFrame(XY).dropna().iloc[0], marker='s', c='green', zorder=5)\n",
    "plt.scatter(XY[::500,0],XY[::500,1], marker='.', c=range(len(XY[::500,0])), cmap='viridis', zorder=5)\n",
    "plt.axis('equal')\n",
    "plt.show();"
   ]
  },
  {
   "cell_type": "code",
   "execution_count": null,
   "id": "e2f0d7eb-3c91-48de-874e-93758d917037",
   "metadata": {},
   "outputs": [],
   "source": [
    "plt.plot(PG.velocity_dt60)\n",
    "plt.show();"
   ]
  },
  {
   "cell_type": "code",
   "execution_count": null,
   "id": "751b7155-4a9b-406b-9b50-713cebf0bcfb",
   "metadata": {},
   "outputs": [],
   "source": [
    "plt.plot(pd.DataFrame(headvelocity).rolling(30).mean())\n",
    "#plt.plot(PG.reversal_bin)\n",
    "plt.show();"
   ]
  },
  {
   "cell_type": "code",
   "execution_count": null,
   "id": "3fd445e7-c296-4d19-85b0-617b32b78ed0",
   "metadata": {},
   "outputs": [],
   "source": [
    "cmap = plt.get_cmap('winter')\n",
    "line_colors = cmap(pd.DataFrame(reversal_bin).rolling(2).mean())\n",
    "plt.scatter(XY[-len(pd.DataFrame(reversal_bin)):,0], XY[-len(pd.DataFrame(reversal_bin)):,1], c=line_colors)\n",
    "plt.axis('equal')\n",
    "plt.show();"
   ]
  },
  {
   "cell_type": "code",
   "execution_count": null,
   "id": "2d6989cc-878b-4373-8a34-c2d340fc132a",
   "metadata": {},
   "outputs": [],
   "source": [
    "def unitvector(xyarray, diff_step = 1):\n",
    "    \"\"\"\n",
    "    Computes unit vectors and vector lengths from a 2D array of coordinates.\n",
    "    \n",
    "    Args:\n",
    "        xyarray (np.ndarray): Input array of 2D coordinates (shape: [n_points, 2]).\n",
    "    \n",
    "    Returns:\n",
    "        tuple: A tuple containing:\n",
    "            - unit_vec (np.ndarray): Unit vectors corresponding to each coordinate.\n",
    "            - vlen (np.ndarray): Vector lengths for each coordinate.\n",
    "            - base (np.ndarray): Differences between consecutive coordinates.\n",
    "    \"\"\"\n",
    "    base = xyarray[diff_step:] - xyarray[:-diff_step]\n",
    "    vlen = np.linalg.norm(base, axis = 1).reshape(base.shape[0],1)\n",
    "    unit_vec = np.divide(base,vlen)\n",
    "    unit_vec = np.nan_to_num(unit_vec)\n",
    "    return unit_vec, vlen/diff_step, base\n",
    "\n",
    "def unitvector_space(xyarray, diffindex=[0,-1]):\n",
    "    \"\"\"\n",
    "    Computes unit vectors and vector lengths for a given array of 2D points at a defined index.\n",
    "\n",
    "    Args:\n",
    "        xyarray (numpy.ndarray): A 2D array containing point coordinates.\n",
    "        diffindex (list, optional): Indices for points to compute base vector from (default: [0, -1]).\n",
    "\n",
    "    Returns:\n",
    "        numpy.ndarray: Array of unit vectors.\n",
    "        numpy.ndarray: Array of vector lengths.\n",
    "        numpy.ndarray: Base vectors.\n",
    "    \"\"\"\n",
    "    base = xyarray[:,diffindex[1]]-xyarray[:,diffindex[0]]\n",
    "    vlen = np.linalg.norm(base, axis = 1).reshape(base.shape[0],1)\n",
    "    unit_vec = np.divide(base,vlen)\n",
    "    unit_vec = np.nan_to_num(unit_vec)\n",
    "    return unit_vec, vlen, base\n",
    "\n",
    "\n",
    "def AngleLen (v1, v2=None, hypotenuse = \"v1\", over=\"frames\", v2_over = 'frames', v1_args={}, v2_args={}, v2_diff = 1, angletype=np.arccos):\n",
    "    \"\"\"\n",
    "    Computes the length of the difference vector and the angle between two vectors.\n",
    "\n",
    "    Args:\n",
    "        v1 (numpy.ndarray): First vector (with 2D coordinates).\n",
    "        v2 (numpy.ndarray, optional): Second vector (default: None).\n",
    "        hypotenuse (str, optional): Determines which vector's length to use as the hypotenuse (default: \"v1\").\n",
    "        over (str, optional): Specifies whether to compute over \"frames\" or \"space\" (default: \"frames\").\n",
    "        **args: Additional arguments for unit vector computation, only applicable if over = \"space\".\n",
    "\n",
    "    Returns:\n",
    "        numpy.ndarray: Length of the difference vector.\n",
    "        numpy.ndarray: Angle (in radians) between v1 and v2.\n",
    "        numpy.ndarray: Difference vector (base vector).\n",
    "    \"\"\"\n",
    "    func_dict = {'frames': unitvector,\n",
    "                 'space': unitvector_space}\n",
    "    \n",
    "    v1_unitfunc = func_dict[over]\n",
    "    v2_unitfunc = func_dict[v2_over]  \n",
    "    v1_unit, v1_len, v1_diff = v1_unitfunc(v1,**v1_args)\n",
    "    if not v2 is None:\n",
    "        v2_unit, v2_len, v1_diff = v2_unitfunc(v2, **v2_args)\n",
    "    else:\n",
    "        v2_unit, v2_len, v1_diff = v1_unit[v2_diff:], v1_len[v2_diff:], v1_diff[v2_diff:]\n",
    "    \n",
    "    hyp = {\"v1\":v1_len, \"v2\":v2_len}\n",
    "    hypo_len = hyp[hypotenuse]\n",
    "    adjecent_len = hyp[[k for k in hyp.keys() if k != hypotenuse][0]]\n",
    "    \n",
    "    crop = min(len(v1_unit), len(v2_unit))\n",
    "    \n",
    "    dotProduct = v1_unit[:crop,0]*v2_unit[:crop,0] +v1_unit[:crop,1]*v2_unit[:crop,1]\n",
    "    arccos = angletype(dotProduct) # mod of Vector is 1, so /mod can be left away  #arccos\n",
    "    \n",
    "    opposite_len = np.multiply(hypo_len[:crop].flatten(), abs(np.sin(arccos[:crop]))) #\n",
    "    \n",
    "    return opposite_len, arccos, v1_diff"
   ]
  },
  {
   "cell_type": "code",
   "execution_count": null,
   "id": "09363ff6-7217-468b-86b8-4a569eb67e4c",
   "metadata": {},
   "outputs": [],
   "source": [
    "appended_df = pd.DataFrame([])"
   ]
  },
  {
   "cell_type": "code",
   "execution_count": null,
   "id": "f5dd6e27-7609-4fcf-a8cc-cd00f3cabf6b",
   "metadata": {},
   "outputs": [],
   "source": [
    "features = ['velocity', 'area']\n",
    "appended_df = pd.concat([appended_df, df[features]])"
   ]
  },
  {
   "cell_type": "code",
   "execution_count": null,
   "id": "121c9cea-2e37-401c-813a-b571edf2f3be",
   "metadata": {},
   "outputs": [],
   "source": [
    "quants = appended_df.quantile(.95).to_dict()"
   ]
  },
  {
   "cell_type": "code",
   "execution_count": null,
   "id": "ecc703ea-719d-4b63-89e9-d2668639d671",
   "metadata": {},
   "outputs": [],
   "source": [
    "{k: v/quants[k] for k,v in quants.items()}"
   ]
  },
  {
   "cell_type": "code",
   "execution_count": null,
   "id": "0f5b0b01-9291-4613-a880-c340b9257241",
   "metadata": {},
   "outputs": [],
   "source": [
    "140/100"
   ]
  },
  {
   "cell_type": "code",
   "execution_count": null,
   "id": "db6c54f5-be64-49af-b236-c4c311d464c3",
   "metadata": {},
   "outputs": [],
   "source": []
  }
 ],
 "metadata": {
  "kernelspec": {
   "display_name": "sklearn-env2",
   "language": "python",
   "name": "sklearn-env2"
  },
  "language_info": {
   "codemirror_mode": {
    "name": "ipython",
    "version": 3
   },
   "file_extension": ".py",
   "mimetype": "text/x-python",
   "name": "python",
   "nbconvert_exporter": "python",
   "pygments_lexer": "ipython3",
   "version": "3.8.15"
  }
 },
 "nbformat": 4,
 "nbformat_minor": 5
}
