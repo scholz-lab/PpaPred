{
 "cells": [
  {
   "cell_type": "code",
   "execution_count": 50,
   "id": "2f45d2d1-6871-44cf-b333-383ee2f6bbac",
   "metadata": {},
   "outputs": [],
   "source": [
    "import pandas as pd\n",
    "import numpy as np\n",
    "\n",
    "def onoff_dict(arr_raw, return_duration=False, return_transitions = False, return_all = False, treatasone=True):\n",
    "    #TODO the variable transi is better named sequence\n",
    "    if not isinstance(arr_raw, list):\n",
    "        arr_raw = [arr_raw]\n",
    "\n",
    "    arr_onoff = {}\n",
    "    arr_transi =  []\n",
    "    arr_onset =  []\n",
    "    arr_onnext =  []\n",
    "    arr_dur =  []\n",
    "    total_dur = 0\n",
    "    for i,a in enumerate(arr_raw):\n",
    "        if isinstance(a, pd.Series) or isinstance(a, pd.DataFrame):\n",
    "            a = a.values\n",
    "        arr_s = a[1:]\n",
    "        arr = a[:-1]\n",
    "\n",
    "        bool_diff = arr != arr_s\n",
    "        transi = np.append(arr[bool_diff], arr[-1])\n",
    "        onset = np.append([0],np.where(bool_diff)[0]+1)\n",
    "        onnext = np.append(np.array((onset)[1:]), [len(arr)+1])\n",
    "        dur = onnext-onset\n",
    "        arr_transi.append(transi)\n",
    "        arr_onset.append(onset)\n",
    "        arr_onnext.append(onnext)\n",
    "        arr_dur.append(dur)\n",
    "\n",
    "        if treatasone:\n",
    "            if i > 0:\n",
    "                total_dur += arr_onnext[i-1][-1]\n",
    "\n",
    "        for b in np.unique(a):\n",
    "            b_idx = transi == b\n",
    "            b_onoff = list(zip(onset[b_idx]+total_dur, dur[b_idx]))\n",
    "            if b in arr_onoff.keys():\n",
    "                arr_onoff[b] = arr_onoff[b]+b_onoff\n",
    "            else:\n",
    "                arr_onoff[b] = b_onoff\n",
    "    if treatasone:\n",
    "        arr_dur = np.concatenate(arr_dur)\n",
    "        arr_transi = np.concatenate(arr_transi)\n",
    "        arr_onset = np.concatenate([a+arr_onnext[i-1][-1] if i > 0 else a for i,a in enumerate(arr_onset)])\n",
    "        arr_onnext = np.concatenate([a+arr_onnext[i-1][-1] if i > 0 else a for i,a in enumerate(arr_onnext)])\n",
    "        # might hav to work here on further, change how arr_onset and arr_onnext are daved\n",
    "\n",
    "    if return_all == True:\n",
    "        return arr_onoff, arr_dur, arr_transi, arr_onset, arr_onnext\n",
    "    elif return_transitions == True and return_duration == True:\n",
    "        return arr_onoff, arr_dur, arr_transi\n",
    "    elif return_duration == True or return_transitions == True:\n",
    "        if return_duration == True:\n",
    "            return arr_onoff, arr_dur\n",
    "        if return_transitions == True:\n",
    "            return arr_onoff, arr_transi\n",
    "    else:\n",
    "        return arr_onoff"
   ]
  },
  {
   "cell_type": "code",
   "execution_count": 51,
   "id": "72656fd4-0d97-4109-aa68-05e8dba30528",
   "metadata": {},
   "outputs": [
    {
     "data": {
      "text/plain": [
       "({1: [(13, 6)],\n",
       "  2: [(10, 3)],\n",
       "  3: [(3, 7), (19, 5)],\n",
       "  4: [(24, 3)],\n",
       "  5: [(0, 3), (27, 8)]},\n",
       " array([3, 7, 3, 6, 5, 3, 8]),\n",
       " array([5, 3, 2, 1, 3, 4, 5]),\n",
       " array([ 0,  3, 10, 13, 19, 24, 27]),\n",
       " array([ 3, 10, 13, 19, 24, 27, 35]))"
      ]
     },
     "execution_count": 51,
     "metadata": {},
     "output_type": "execute_result"
    }
   ],
   "source": [
    "etho = np.array([5,5,5,3,3,3,3,3,3,3,2,2,2,1,1,1,1,1,1,3,3,3,3,3,4,4,4,5,5,5,5,5,5,5,5])\n",
    "arr_onoff, arr_dur, arr_transi, arr_onset, arr_onnext = onoff_dict(etho, return_all=True)\n",
    "arr_onoff, arr_dur, arr_transi, arr_onset, arr_onnext"
   ]
  },
  {
   "cell_type": "code",
   "execution_count": 23,
   "id": "a843b24f-8e28-40ae-adc7-137a53fbdef9",
   "metadata": {},
   "outputs": [
    {
     "data": {
      "text/plain": [
       "((7,), (7,), (7,), (7,))"
      ]
     },
     "execution_count": 23,
     "metadata": {},
     "output_type": "execute_result"
    }
   ],
   "source": [
    "arr_dur.shape, arr_transi.shape, arr_onset.shape, arr_onnext.shape"
   ]
  },
  {
   "cell_type": "code",
   "execution_count": 28,
   "id": "ee4964e9-d98c-46de-8249-60eef18910bf",
   "metadata": {},
   "outputs": [
    {
     "data": {
      "text/plain": [
       "array([ 0,  3, 10, 13, 19, 24, 27])"
      ]
     },
     "execution_count": 28,
     "metadata": {},
     "output_type": "execute_result"
    }
   ],
   "source": [
    "arr = etho[:-1]\n",
    "arr_s = etho[1:]\n",
    "np.concatenate([[0],np.where([arr != arr_s])[1]+1])"
   ]
  },
  {
   "cell_type": "code",
   "execution_count": 49,
   "id": "3017baa9-ef91-4e21-abe4-5b13282d9e76",
   "metadata": {},
   "outputs": [
    {
     "data": {
      "text/plain": [
       "array([3, 7, 3, 6, 5, 3, 8])"
      ]
     },
     "execution_count": 49,
     "metadata": {},
     "output_type": "execute_result"
    }
   ],
   "source": [
    "onset = np.append([0],np.where(arr != arr_s)[0]+1)\n",
    "onnext = np.append(np.array((onset)[1:]), [len(arr)+1])\n",
    "onnext-onset"
   ]
  },
  {
   "cell_type": "code",
   "execution_count": null,
   "id": "55bd2daf-f86d-423f-8547-37aecd63e97a",
   "metadata": {},
   "outputs": [],
   "source": []
  }
 ],
 "metadata": {
  "kernelspec": {
   "display_name": "sklearn-env2",
   "language": "python",
   "name": "sklearn-env2"
  },
  "language_info": {
   "codemirror_mode": {
    "name": "ipython",
    "version": 3
   },
   "file_extension": ".py",
   "mimetype": "text/x-python",
   "name": "python",
   "nbconvert_exporter": "python",
   "pygments_lexer": "ipython3",
   "version": "3.8.15"
  }
 },
 "nbformat": 4,
 "nbformat_minor": 5
}
