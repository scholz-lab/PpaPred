{
 "cells": [
  {
   "cell_type": "markdown",
   "id": "502a2406-35a7-4010-b898-9922addaeb70",
   "metadata": {},
   "source": [
    "#### Get data from batch.json files"
   ]
  },
  {
   "cell_type": "code",
   "execution_count": 9,
   "id": "63457829-ead7-4600-9c52-4dd897e9de6e",
   "metadata": {},
   "outputs": [],
   "source": [
    "import sys\n",
    "import os\n",
    "import json\n",
    "import pandas as pd\n",
    "\n",
    "sys.path.append(os.getcwd())\n",
    "from functions.read_write import load_data_from_keys"
   ]
  },
  {
   "cell_type": "code",
   "execution_count": 14,
   "id": "4087826e-57e7-424a-ba25-c89efb358c2d",
   "metadata": {},
   "outputs": [],
   "source": [
    "inpath = '/gpfs/soma_fs/home/boeger/PpaPred/ErenBoeger_2024/Exp1_WT_larvae_batch.json'\n",
    "ethos = load_data_from_keys(inpath, 'ethogram')"
   ]
  },
  {
   "cell_type": "code",
   "execution_count": 12,
   "id": "99564d12-bd3e-4089-9fea-d73de8d83fa0",
   "metadata": {},
   "outputs": [],
   "source": [
    "yhat = pd.concat([pd.Series(d) for d in ethos.values()], axis=0)"
   ]
  },
  {
   "cell_type": "code",
   "execution_count": 15,
   "id": "14e28afe-19e8-4cf4-a638-0b3481f388d6",
   "metadata": {},
   "outputs": [],
   "source": [
    "transitions = pd.DataFrame(load_data_from_keys(inpath, 'mean transitions')).droplevel(0, axis=1)"
   ]
  }
 ],
 "metadata": {
  "kernelspec": {
   "display_name": "sklearn-env2",
   "language": "python",
   "name": "sklearn-env2"
  },
  "language_info": {
   "codemirror_mode": {
    "name": "ipython",
    "version": 3
   },
   "file_extension": ".py",
   "mimetype": "text/x-python",
   "name": "python",
   "nbconvert_exporter": "python",
   "pygments_lexer": "ipython3",
   "version": "3.8.15"
  }
 },
 "nbformat": 4,
 "nbformat_minor": 5
}
