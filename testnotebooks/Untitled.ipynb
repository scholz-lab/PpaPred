{
 "cells": [
  {
   "cell_type": "code",
   "execution_count": 1,
   "id": "13b52e01-a185-4c18-abd4-18035053c51b",
   "metadata": {},
   "outputs": [],
   "source": [
    "import numpy as np\n",
    "import matplotlib.pyplot as plt\n",
    "from matplotlib.patches import FancyArrowPatch"
   ]
  },
  {
   "cell_type": "code",
   "execution_count": 7,
   "id": "a845ce75-a2ac-4486-ac9e-19f4e146839f",
   "metadata": {},
   "outputs": [
    {
     "name": "stdout",
     "output_type": "stream",
     "text": [
      "0.9216741402242491 0.3879649201176457 0.39842253847270903\n"
     ]
    },
    {
     "data": {
      "image/png": "[encoded data removed]",
      "text/plain": [
       "<Figure size 640x480 with 1 Axes>"
      ]
     },
     "metadata": {},
     "output_type": "display_data"
    }
   ],
   "source": [
    "start = np.array([0.8610557426251217, 0.861055742625122]) # INPUT  coordinate 1\n",
    "end = np.array([0.9785445567824274, -0.9785445567824272]) # INPUT  coordinate 3\n",
    "radius = 1 # INPUT\n",
    "\n",
    "def SemiCirc_coordinates(start, end, r=None):\n",
    "    half_StartEnd = (np.linalg.norm(start-end)/2) #calculate half length of start to end\n",
    "    if r==None or r < half_StartEnd: # if the radius desired is smaller than the half_StartEnd, reset radius to half_StartEnd\n",
    "        r=half_StartEnd\n",
    "    a = np.sqrt(abs(half_StartEnd**2 - r**2)) # calculate the length of the midpoint to point halfway on circle\n",
    "    alpha = np.arctan(a/half_StartEnd)\n",
    "    print(half_StartEnd, a, alpha)\n",
    "    end_2start = np.arctan2(*end-start)\n",
    "    B_2origin = alpha + end_2start\n",
    "    B = r*np.sin(B_2origin)+start[0],r*np.cos(B_2origin)+start[1]\n",
    "    \n",
    "    arc_of_arrow = np.pi-(np.pi-alpha*2)/2 # radians\n",
    "    startD = (r * np.sin(arc_of_arrow/2))*2 #length\n",
    "    rad_BstartD = (np.pi-arc_of_arrow)/2#\n",
    "    radstartB_toX = np.arctan2(*B-start)\n",
    "    rad_startD = rad_BstartD+radstartB_toX\n",
    "    D = startD*np.sin(rad_startD)+start[0],startD*np.cos(rad_startD)+start[1] # coordinate 2\n",
    "\n",
    "    return (start, B, end, D)\n",
    "\n",
    "(A, B, C, D) = SemiCirc_coordinates(start, end, radius)\n",
    "fig, ax = plt.subplots()\n",
    "ax.scatter(A[0],A[1])\n",
    "ax.scatter(B[0],B[1])\n",
    "ax.scatter(C[0],C[1])\n",
    "ax.scatter(D[0],D[1])\n",
    "arrow = FancyArrowPatch(posA=A, posB=D, connectionstyle=\"arc3,rad=0.5\", arrowstyle=\"simple\", mutation_scale= 40, color=\"k\")\n",
    "# Add the arrow patch to the axis\n",
    "ax.add_patch(arrow)\n",
    "arrow1 = FancyArrowPatch(posA=D, posB=C, connectionstyle=\"arc3,rad=0.5\", arrowstyle=\"simple\", mutation_scale= 40, color=\"k\")\n",
    "# Add the arrow patch to the axis\n",
    "ax.add_patch(arrow1)\n",
    "plt.axis('equal')\n",
    "plt.grid()\n",
    "plt.show()"
   ]
  },
  {
   "cell_type": "code",
   "execution_count": 146,
   "id": "fa9453d1-984b-4112-bad9-f0c0393821a6",
   "metadata": {},
   "outputs": [
    {
     "name": "stdout",
     "output_type": "stream",
     "text": [
      "13.942783418046869\n",
      "10.352405527317709\n",
      "24.29518894536458\n",
      "79.64759447268229\n",
      "24.29518894536458\n"
     ]
    }
   ],
   "source": [
    "for i in [rad_AD, rad_BAD, radAB_toX, arc_of_arrow/2, np.arctan2(*B-A)]:\n",
    "    print(np.rad2deg(i))"
   ]
  },
  {
   "cell_type": "code",
   "execution_count": 154,
   "id": "5b579105-00a7-4dc4-a5db-d2755ec053bb",
   "metadata": {},
   "outputs": [
    {
     "data": {
      "text/plain": [
       "0.4240310394907406"
      ]
     },
     "execution_count": 154,
     "metadata": {},
     "output_type": "execute_result"
    }
   ],
   "source": [
    "np.arctan2(*B-A)"
   ]
  },
  {
   "cell_type": "code",
   "execution_count": 164,
   "id": "6fe7b9e0-e9c6-43ab-b8fb-39e3912d5465",
   "metadata": {},
   "outputs": [
    {
     "data": {
      "text/plain": [
       "-2.717561614099053"
      ]
     },
     "execution_count": 164,
     "metadata": {},
     "output_type": "execute_result"
    }
   ],
   "source": [
    "np.arctan2(*A-B)"
   ]
  },
  {
   "cell_type": "code",
   "execution_count": null,
   "id": "5eb71981-e363-4496-862b-8ae2b3eb300f",
   "metadata": {},
   "outputs": [],
   "source": [
    "### OLD TRANSITION PLOT\n",
    "fig_w = fig.get_size_inches()[0]\n",
    "arrowsize = [w*40 for w in weights]\n",
    "labels = dict(zip(range(len(G)),  [clu_group_label[k] for k in cluster_label if k != -1]))\n",
    "label_collection = nx.draw_networkx_labels(G, pos=nx.circular_layout(G), ax=ax, labels=labels)\n",
    "\n",
    "cluster_alpha = ((summary['duration_mean']*summary['duration_count'])/len(y_ps)).reindex([k for k in cluster_label if k != -1]).fillna(0)\n",
    "color_map = [cluster_color[k] for k in cluster_color if k != -1]\n",
    "\n",
    "edge_color = [cluster_color[c] for c in arr_out]\n",
    "edge_alpha = [cluster_alpha[c] for c in arr_out]\n",
    "\n",
    "node_collection = nx.draw_networkx_nodes(G, pos=nx.circular_layout(G), ax=ax, node_color = color_map, node_size= 4000, margins=0.1,\n",
    "                                         alpha= cluster_alpha,\n",
    "                                         edgecolors=color_map)\n",
    "edge_collection = nx.draw_networkx_edges(G, pos=nx.circular_layout(G), ax=ax, \n",
    "                                         arrowsize =arrowsize, connectionstyle=\"arc3,rad=.15\", arrowstyle=\"simple\", #alpha=edge_alpha,\n",
    "                                         label=list(weights), node_size=4000, edge_color=edge_color)\n",
    "node_collection.set_zorder(25)\n",
    "\n",
    "for ed in edge_collection:\n",
    "    ed.set_zorder(20)\n",
    "    \n",
    "edgelist = [(i,i) for i in np.unique(frame[~np.isnan(frame)])]\n",
    "selfweights = {i:transition_self[i] for i in np.unique(frame[~np.isnan(frame)]).astype(int)}\n",
    "G.add_edges_from(edgelist)\n",
    "\n",
    "#selfweights = [0.2,1, 0.6, .8, 1, .5]\n",
    "for ii, selfloop in zip(edgelist, selfweights):\n",
    "    i = ii[0].astype(int)\n",
    "    offset_x, offset_y = nx.circular_layout(G)[i][0]+nx.circular_layout(G)[i][0]/3,nx.circular_layout(G)[i][1]+nx.circular_layout(G)[i][1]/3\n",
    "    print(offset_x, offset_y)\n",
    "    ring = mpatches.Wedge([offset_x, offset_y], 0.2, \n",
    "                          np.rad2deg(np.arctan2(offset_x, -offset_y))-210, np.rad2deg(np.arctan2(offset_x, -offset_y))+30,\n",
    "                          width=selfweights[i]/15, zorder=0)\n",
    "    #ring = ring.set_alpha(selfweights[i])\n",
    "    #ring = FancyArrowPatch([offset_x, offset_y], (1.6, arr_s), mutation_scale=arr_s*fig_w*5, label = arr_s, color='k', alpha=0.5)\n",
    "    p = PatchCollection([ring], edgecolor = color_map[i], facecolor = color_map[i],#alpha=selfweights[i]\n",
    "                       )\n",
    "    ax.add_collection(p)\n",
    "\n",
    "#fig, ax = plt.subplots(1, figsize=(7,5))\n",
    "for arr_s in np.linspace(0.2,1,5):\n",
    "    arrow = FancyArrowPatch((1.6, arr_s), (1.9, arr_s), mutation_scale=arr_s*40, label = arr_s, color='k', alpha=0.5)\n",
    "    ax.text(1.95, arr_s-0.03, f\"{int(arr_s*100)}%\")\n",
    "    ax.add_patch(arrow)\n",
    "ax.set_xlim(-2,2)\n",
    "ax.set_ylim(-1.5,1.5)\n",
    "ax.axis('off')\n",
    "plt.savefig(os.path.join(out_predicted, '_'.join(fn.split('_')[:4]+['transitions.pdf'])))\n",
    "plt.show()\n"
   ]
  },
  {
   "cell_type": "code",
   "execution_count": null,
   "id": "fc2deecc-0205-4d94-aed7-613de35c2098",
   "metadata": {},
   "outputs": [],
   "source": []
  },
  {
   "cell_type": "code",
   "execution_count": null,
   "id": "fdfec631-e504-490b-a2e4-cfbc5fc9d909",
   "metadata": {},
   "outputs": [],
   "source": []
  }
 ],
 "metadata": {
  "kernelspec": {
   "display_name": "sklearn-env2",
   "language": "python",
   "name": "sklearn-env2"
  },
  "language_info": {
   "codemirror_mode": {
    "name": "ipython",
    "version": 3
   },
   "file_extension": ".py",
   "mimetype": "text/x-python",
   "name": "python",
   "nbconvert_exporter": "python",
   "pygments_lexer": "ipython3",
   "version": "3.8.15"
  }
 },
 "nbformat": 4,
 "nbformat_minor": 5
}
