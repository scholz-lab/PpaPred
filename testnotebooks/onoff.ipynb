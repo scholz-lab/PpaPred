{
 "cells": [
  {
   "cell_type": "code",
   "execution_count": 4,
   "id": "b0c028b1-d003-4d85-9ada-604d84e8c922",
   "metadata": {},
   "outputs": [],
   "source": [
    "import sys\n",
    "import os\n",
    "import pandas as pd\n",
    "import numpy as np\n",
    "sys.path.append(os.path.dirname(os.getcwd()))\n",
    "import functions.process as proc\n",
    "from scipy.stats.contingency import crosstab"
   ]
  },
  {
   "cell_type": "code",
   "execution_count": 2,
   "id": "52d19d57-5ed4-43b7-af3b-0542b76b45b0",
   "metadata": {},
   "outputs": [
    {
     "data": {
      "text/plain": [
       "({0: [(0, 3), (17, 2)],\n",
       "  1: [(3, 3)],\n",
       "  2: [(6, 5), (19, 3)],\n",
       "  3: [(11, 2), (23, 4)],\n",
       "  4: [(13, 4), (22, 1)]},\n",
       " array([3, 3, 5, 2, 4, 2, 3, 1, 4]),\n",
       " array([0, 1, 2, 3, 4, 0, 2, 4, 3]))"
      ]
     },
     "execution_count": 2,
     "metadata": {},
     "output_type": "execute_result"
    }
   ],
   "source": [
    "y = pd.Series([0,0,0,1,1,1,2,2,2,2,2,3,3,4,4,4,4,0,0,2,2,2,4,3,3,3,3])\n",
    "onoff, dur, transi = proc.onoff_dict(y, labels =np.unique(y), return_duration=True, return_transitions=True)\n",
    "\n",
    "onoff, dur, transi"
   ]
  },
  {
   "cell_type": "code",
   "execution_count": 8,
   "id": "98e63c43-837a-4f4e-9f64-9a8766e155e9",
   "metadata": {},
   "outputs": [
    {
     "data": {
      "text/plain": [
       "array([[3, 0, 0, 0, 1],\n",
       "       [1, 2, 0, 0, 0],\n",
       "       [1, 1, 6, 0, 0],\n",
       "       [0, 0, 1, 4, 1],\n",
       "       [0, 0, 1, 1, 3]])"
      ]
     },
     "execution_count": 8,
     "metadata": {},
     "output_type": "execute_result"
    }
   ],
   "source": [
    "trans_col,fr_transition = crosstab(y[1:], y[:-1], levels=([0,1,2,3,4],[0,1,2,3,4]))\n",
    "fr_transition"
   ]
  },
  {
   "cell_type": "code",
   "execution_count": 9,
   "id": "208062f2-f2a2-4261-8388-71fbb6ad71bb",
   "metadata": {},
   "outputs": [
    {
     "data": {
      "text/plain": [
       "[[0, 1, 2, 3, 4], [0, 1, 2, 3, 4]]"
      ]
     },
     "execution_count": 9,
     "metadata": {},
     "output_type": "execute_result"
    }
   ],
   "source": [
    "trans_col"
   ]
  },
  {
   "cell_type": "code",
   "execution_count": null,
   "id": "0b619584-17ca-4c3f-8a2d-e4d323308983",
   "metadata": {},
   "outputs": [],
   "source": []
  }
 ],
 "metadata": {
  "kernelspec": {
   "display_name": "sklearn-env2",
   "language": "python",
   "name": "sklearn-env2"
  },
  "language_info": {
   "codemirror_mode": {
    "name": "ipython",
    "version": 3
   },
   "file_extension": ".py",
   "mimetype": "text/x-python",
   "name": "python",
   "nbconvert_exporter": "python",
   "pygments_lexer": "ipython3",
   "version": "3.8.15"
  }
 },
 "nbformat": 4,
 "nbformat_minor": 5
}
