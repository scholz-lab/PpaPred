{
 "cells": [
  {
   "cell_type": "code",
   "execution_count": null,
   "id": "121a2a1c-a581-4f3e-9c62-db29191c089e",
   "metadata": {},
   "outputs": [],
   "source": [
    "import pandas as pd\n",
    "import numpy as np\n",
    "import joblib\n",
    "import os\n",
    "from sklearn.impute import SimpleImputer"
   ]
  },
  {
   "cell_type": "code",
   "execution_count": null,
   "id": "0973bde6-476d-41cf-ac7b-245d41d1e168",
   "metadata": {},
   "outputs": [],
   "source": [
    "df = pd.read_json('/gpfs/soma_fs/scratch/src/boeger/PpaPred_eren_35727184/Exp3_octr1_larvae/GGE0248_c_results_232_prediction.json',\n",
    "                  orient='split')"
   ]
  },
  {
   "cell_type": "code",
   "execution_count": null,
   "id": "2045f42d-819c-4774-aad3-8fcde20e0192",
   "metadata": {},
   "outputs": [],
   "source": [
    "df.columns"
   ]
  },
  {
   "cell_type": "code",
   "execution_count": null,
   "id": "4a5461e5-e41b-4ae7-aaa7-42030aa0283e",
   "metadata": {},
   "outputs": [],
   "source": [
    "df2 = pd.read_json('/gpfs/soma_fs/scratch/src/boeger/PpaPred_eren_35727184/Exp3_octr1_larvae/GGE0248_c_results_175_prediction.json',\n",
    "                  orient='split')"
   ]
  },
  {
   "cell_type": "code",
   "execution_count": null,
   "id": "63db08cc-a47f-4e69-9b0e-1d463087ede0",
   "metadata": {},
   "outputs": [],
   "source": [
    "df2.drop(df2.filter(regex='prediction|proba'), axis=1).columns == df.columns"
   ]
  },
  {
   "cell_type": "code",
   "execution_count": null,
   "id": "f7a8fa3e-6f84-42ca-84c5-b11cb30374ea",
   "metadata": {},
   "outputs": [],
   "source": [
    "df.columns.shape"
   ]
  },
  {
   "cell_type": "code",
   "execution_count": null,
   "id": "20003648-aae6-4b22-9761-b7cf10fd7b61",
   "metadata": {},
   "outputs": [],
   "source": [
    "from sklearn import set_config\n",
    "set_config(transform_output=\"pandas\")\n",
    "\n",
    "model_str = 'XGBBestModel_35727184_20240515' #'XGBBestModel_16465687_20230915'\n",
    "RFpath = os.path.abspath(f\"../PpaPred_builder/ML/{model_str}/{'_'.join(model_str.split('_')[::2])}.pickle\")\n",
    "ASpath = os.path.abspath(f\"../data/builder/new_features/dataset_cluster/20240514_Clustering00_6clusters/Preprocessing.pickle\")\n",
    "\n",
    "model = joblib.load(RFpath)\n",
    "augsel = joblib.load(ASpath)\n",
    "\n",
    "imp = SimpleImputer(missing_values=np.nan, strategy='mean',keep_empty_features=True)"
   ]
  },
  {
   "cell_type": "code",
   "execution_count": null,
   "id": "39bd0670-44ec-4387-897e-c876119c8011",
   "metadata": {},
   "outputs": [],
   "source": [
    "df.shape"
   ]
  },
  {
   "cell_type": "code",
   "execution_count": null,
   "id": "24049136-9a3e-475d-9fc2-b00b8e5ca5a2",
   "metadata": {},
   "outputs": [],
   "source": [
    "X = augsel.transform(df)"
   ]
  },
  {
   "cell_type": "code",
   "execution_count": null,
   "id": "f99d007a-712a-4a00-adf5-72419ec51be3",
   "metadata": {},
   "outputs": [],
   "source": [
    "X.shape[1] == 31"
   ]
  },
  {
   "cell_type": "code",
   "execution_count": null,
   "id": "cdfef209-2b86-4c98-a0a1-75b1a7d9cb27",
   "metadata": {},
   "outputs": [],
   "source": [
    "X = imp.fit_transform(X)"
   ]
  },
  {
   "cell_type": "code",
   "execution_count": null,
   "id": "6dedf6e6-b7a8-437c-9561-e186a828877a",
   "metadata": {},
   "outputs": [],
   "source": [
    "X.shape"
   ]
  },
  {
   "cell_type": "code",
   "execution_count": null,
   "id": "37299248-bf8f-491b-81ee-8f77da39976a",
   "metadata": {},
   "outputs": [],
   "source": [
    "pred = model.predict(X)"
   ]
  },
  {
   "cell_type": "code",
   "execution_count": null,
   "id": "c07b009f-b49f-4ff9-b35a-d08ed8d5e26a",
   "metadata": {},
   "outputs": [],
   "source": [
    "pred.shape"
   ]
  },
  {
   "cell_type": "code",
   "execution_count": null,
   "id": "4554647e-0f18-445b-859b-f867234b9ca4",
   "metadata": {},
   "outputs": [],
   "source": []
  }
 ],
 "metadata": {
  "kernelspec": {
   "display_name": "sklearn-env2",
   "language": "python",
   "name": "sklearn-env2"
  },
  "language_info": {
   "codemirror_mode": {
    "name": "ipython",
    "version": 3
   },
   "file_extension": ".py",
   "mimetype": "text/x-python",
   "name": "python",
   "nbconvert_exporter": "python",
   "pygments_lexer": "ipython3",
   "version": "3.8.15"
  }
 },
 "nbformat": 4,
 "nbformat_minor": 5
}
