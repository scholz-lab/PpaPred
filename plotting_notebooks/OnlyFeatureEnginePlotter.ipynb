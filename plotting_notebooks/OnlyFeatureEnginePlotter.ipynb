{
 "cells": [
  {
   "cell_type": "code",
   "execution_count": 6,
   "id": "59278ebe-f970-43fb-8910-3d49a147daf4",
   "metadata": {},
   "outputs": [],
   "source": [
    "import os\n",
    "import time\n",
    "import tqdm\n",
    "import sys\n",
    "import numpy as np\n",
    "import pandas as pd\n",
    "import matplotlib.pyplot as plt\n",
    "import yaml\n",
    "import json\n",
    "from matplotlib.lines import Line2D\n",
    "\n",
    "#home = os.path.expanduser(\"~\")\n",
    "sys.path.append(os.getcwd())\n",
    "from functions.ioFeatureEngine import setup_logger, makedir\n",
    "from functions import FeatureEngine"
   ]
  },
  {
   "cell_type": "markdown",
   "id": "24f86000-ff2d-43d5-ba6c-69c551b22aa0",
   "metadata": {},
   "source": [
    "Please provide where your files are stored and where you would like your data to be saved in the following section."
   ]
  },
  {
   "cell_type": "code",
   "execution_count": 10,
   "id": "098edf2b-a212-45ab-9dc2-231e536257d9",
   "metadata": {},
   "outputs": [
    {
     "name": "stdout",
     "output_type": "stream",
     "text": [
      "INFO:logger:Analysis PharaGlow data of Pristionchus pacificus\n",
      "INFO:logger:Files analysed stored at /gpfs/soma_fs/scratch/src/boeger/data_gueniz/larvae_data\n"
     ]
    }
   ],
   "source": [
    "datestr = time.strftime(\"%Y%m%d-%H-%M\")\n",
    "home = os.path.expanduser(\"~\")\n",
    "inpath = f\"/gpfs/soma_fs/scratch/src/boeger/data_gueniz/larvae_data\" \n",
    "\n",
    "base_outpath = makedir(os.path.abspath(f\"./example_Euphrasie\"))\n",
    "in_folder = os.path.basename(inpath)\n",
    "outpath = makedir(os.path.abspath(f\"{base_outpath}/{in_folder}\")) # you can also use datestr to specify the outpath folder, like this makedir(os.path.abspath(f\"{datestr}_PpaPrediction\"))\n",
    "out_engine = os.path.join(outpath, in_folder+'_engine')\n",
    "\n",
    "logger_out = os.path.join(outpath,f\"{datestr}_PpaForagingAnalysis.log\")\n",
    "logger = setup_logger('logger',filename=logger_out)\n",
    "logger.info(f\"Analysis PharaGlow data of Pristionchus pacificus\")\n",
    "logger.info(f\"Files analysed stored at {inpath}\")"
   ]
  },
  {
   "cell_type": "markdown",
   "id": "60e41d02-d557-4bb2-9c16-0f6073423320",
   "metadata": {},
   "source": [
    "In the following section, standard model parameters are set. Change those only if necessary."
   ]
  },
  {
   "cell_type": "markdown",
   "id": "3ede27ef-9a43-4d7d-a180-f506b3abbf68",
   "metadata": {
    "tags": []
   },
   "source": [
    "## 1. Feature Engineering\n",
    "In the following section, additional features are calculated.<br>\n",
    "The engineerd data files are saved under the specified outpath/subfolder.<br>\n",
    "(with subfolder being the inpath folder name postfixed by _engine)"
   ]
  },
  {
   "cell_type": "code",
   "execution_count": 11,
   "id": "c161a98a-656d-45fe-9177-c2f633f74d2e",
   "metadata": {
    "scrolled": true,
    "tags": []
   },
   "outputs": [
    {
     "name": "stdout",
     "output_type": "stream",
     "text": [
      "INFO:logger:\n",
      "feature calculation for GGE0136_c_results_34.json_labeldata.csv\n",
      "INFO:logger:Area larger than threshold, collision assumed in [].\n",
      "Calculation of features will be done in splits, ignoring those and adjacent* ranges. *That are less than 1 sec long.\n",
      "INFO:logger:split 0, range: (0, 6732)\n",
      "Following frames seem to be tracked upside down\n",
      "We are going to flip those back:\n",
      "(array([1349, 6184]),)\n"
     ]
    },
    {
     "name": "stderr",
     "output_type": "stream",
     "text": [
      "/gpfs/soma_fs/home/boeger/PpaPred/functions/algebra.py:15: RuntimeWarning: invalid value encountered in divide\n",
      "  unit_vec = np.divide(base,vlen)\n"
     ]
    },
    {
     "name": "stdout",
     "output_type": "stream",
     "text": [
      "INFO:logger:Ffill-Interpolation of nan frames\n",
      "INFO:logger:\n",
      "feature calculation for GGE0136_c_results_143.json_labeldata.csv\n",
      "INFO:logger:Area larger than threshold, collision assumed in [].\n",
      "Calculation of features will be done in splits, ignoring those and adjacent* ranges. *That are less than 1 sec long.\n",
      "INFO:logger:split 0, range: (0, 4972)\n",
      "Following frames seem to be tracked upside down\n",
      "We are going to flip those back:\n",
      "(array([1479, 1689, 1730, 1732, 1892, 1895]),)\n"
     ]
    },
    {
     "name": "stderr",
     "output_type": "stream",
     "text": [
      "/gpfs/soma_fs/home/boeger/PpaPred/functions/algebra.py:15: RuntimeWarning: invalid value encountered in divide\n",
      "  unit_vec = np.divide(base,vlen)\n"
     ]
    },
    {
     "name": "stdout",
     "output_type": "stream",
     "text": [
      "INFO:logger:Ffill-Interpolation of nan frames\n",
      "INFO:logger:\n",
      "feature calculation for GGE0136_c_results_7.json_labeldata.csv\n",
      "INFO:logger:Area larger than threshold, collision assumed in [].\n",
      "Calculation of features will be done in splits, ignoring those and adjacent* ranges. *That are less than 1 sec long.\n",
      "INFO:logger:split 0, range: (0, 7610)\n",
      "Following frames seem to be tracked upside down\n",
      "We are going to flip those back:\n",
      "(array([3391, 3392, 3393]),)\n"
     ]
    },
    {
     "name": "stderr",
     "output_type": "stream",
     "text": [
      "/gpfs/soma_fs/home/boeger/PpaPred/functions/algebra.py:15: RuntimeWarning: invalid value encountered in divide\n",
      "  unit_vec = np.divide(base,vlen)\n"
     ]
    },
    {
     "name": "stdout",
     "output_type": "stream",
     "text": [
      "INFO:logger:Ffill-Interpolation of nan frames\n",
      "INFO:logger:\n",
      "feature calculation for GGE0136_c_results_37.json_labeldata.csv\n",
      "INFO:logger:Area larger than threshold, collision assumed in [].\n",
      "Calculation of features will be done in splits, ignoring those and adjacent* ranges. *That are less than 1 sec long.\n",
      "INFO:logger:split 0, range: (0, 2507)\n",
      "Following frames seem to be tracked upside down\n",
      "We are going to flip those back:\n",
      "(array([   1,   31,   78, ..., 2504, 2505, 2506]),)\n",
      "INFO:logger:Ffill-Interpolation of nan frames\n",
      "INFO:logger:\n",
      "feature calculation for GGE0136_c_results_27.json_labeldata.csv\n",
      "INFO:logger:Area larger than threshold, collision assumed in [range(447, 448), range(449, 457)].\n",
      "Calculation of features will be done in splits, ignoring those and adjacent* ranges. *That are less than 1 sec long.\n",
      "INFO:logger:split 0, range: (0, 447)\n",
      "Following frames seem to be tracked upside down\n",
      "We are going to flip those back:\n",
      "(array([202, 294, 295, 301, 302, 303, 304, 305, 306, 307, 309, 328, 329,\n",
      "       330, 335, 336, 337, 339]),)\n",
      "INFO:logger:split 1, range: (457, 3034)\n",
      "Following frames seem to be tracked upside down\n",
      "We are going to flip those back:\n",
      "(array([ 34,  35,  36,  38,  48,  50,  51,  52,  53,  54,  55,  56,  57,\n",
      "        58,  59,  60,  61,  62,  63,  64,  65,  66,  67,  68,  69,  70,\n",
      "        71,  72,  73,  74,  75,  76,  77,  78,  79,  80,  81,  82, 129,\n",
      "       133]),)\n"
     ]
    },
    {
     "name": "stderr",
     "output_type": "stream",
     "text": [
      "/gpfs/soma_fs/home/boeger/PpaPred/functions/algebra.py:15: RuntimeWarning: invalid value encountered in divide\n",
      "  unit_vec = np.divide(base,vlen)\n"
     ]
    },
    {
     "name": "stdout",
     "output_type": "stream",
     "text": [
      "INFO:logger:split 2, range: (3052, 3549)\n",
      "INFO:logger:split 3, range: (3640, 3870)\n",
      "INFO:logger:Ffill-Interpolation of nan frames\n",
      "INFO:logger:Exempted from interpolation: range(3549, 3640) (over 1 sec long)\n",
      "INFO:logger:\n",
      "feature calculation for GGE0136_c_results_106.json_labeldata.csv\n",
      "INFO:logger:Area larger than threshold, collision assumed in [].\n",
      "Calculation of features will be done in splits, ignoring those and adjacent* ranges. *That are less than 1 sec long.\n",
      "INFO:logger:split 0, range: (10, 2008)\n",
      "Following frames seem to be tracked upside down\n",
      "We are going to flip those back:\n",
      "(array([  21,   24,   25,   44,   45,   46,   47,   48,   49,   50,   51,\n",
      "         52,   53,   57,   67,  524,  525,  526, 1689, 1690, 1691]),)\n",
      "INFO:logger:Ffill-Interpolation of nan frames\n",
      "INFO:logger:\n",
      "feature calculation for GGE0136_c_results_18.json_labeldata.csv\n",
      "INFO:logger:Area larger than threshold, collision assumed in [].\n",
      "Calculation of features will be done in splits, ignoring those and adjacent* ranges. *That are less than 1 sec long.\n",
      "INFO:logger:split 0, range: (0, 16454)\n",
      "Following frames seem to be tracked upside down\n",
      "We are going to flip those back:\n",
      "(array([ 1452,  1462,  1464,  1477,  1504,  1509,  1511,  1512,  1513,\n",
      "        3446,  3447,  5204,  7388,  7390,  7391,  7396,  7399,  7400,\n",
      "        7402, 12399, 12410, 13505, 15966]),)\n"
     ]
    },
    {
     "name": "stderr",
     "output_type": "stream",
     "text": [
      "/gpfs/soma_fs/home/boeger/PpaPred/functions/algebra.py:15: RuntimeWarning: invalid value encountered in divide\n",
      "  unit_vec = np.divide(base,vlen)\n",
      "/gpfs/soma_fs/home/boeger/PpaPred/functions/algebra.py:45: RuntimeWarning: invalid value encountered in arccos\n",
      "  arccos = np.arccos(dotProduct) # mod of Vector is 1, so /mod can be left away  #arccos\n"
     ]
    },
    {
     "name": "stdout",
     "output_type": "stream",
     "text": [
      "INFO:logger:Ffill-Interpolation of nan frames\n",
      "INFO:logger:Exempted from interpolation: range(16454, 16488) (over 1 sec long)\n",
      "INFO:logger:\n",
      "feature calculation for GGE0136_c_results_142.json_labeldata.csv\n",
      "INFO:logger:Area larger than threshold, collision assumed in [].\n",
      "Calculation of features will be done in splits, ignoring those and adjacent* ranges. *That are less than 1 sec long.\n",
      "INFO:logger:split 0, range: (0, 4972)\n",
      "Following frames seem to be tracked upside down\n",
      "We are going to flip those back:\n",
      "(array([2541]),)\n"
     ]
    },
    {
     "name": "stderr",
     "output_type": "stream",
     "text": [
      "/gpfs/soma_fs/home/boeger/PpaPred/functions/algebra.py:15: RuntimeWarning: invalid value encountered in divide\n",
      "  unit_vec = np.divide(base,vlen)\n"
     ]
    },
    {
     "name": "stdout",
     "output_type": "stream",
     "text": [
      "INFO:logger:split 1, range: (4987, 9064)\n",
      "Following frames seem to be tracked upside down\n",
      "We are going to flip those back:\n",
      "(array([3016, 3075, 3076, 3077, 3078]),)\n",
      "Worm seems to travel backwards the majority of time, flipped all centerlines to agree with forward travelling assumption\n"
     ]
    },
    {
     "name": "stderr",
     "output_type": "stream",
     "text": [
      "/gpfs/soma_fs/home/boeger/PpaPred/functions/algebra.py:15: RuntimeWarning: invalid value encountered in divide\n",
      "  unit_vec = np.divide(base,vlen)\n"
     ]
    },
    {
     "name": "stdout",
     "output_type": "stream",
     "text": [
      "INFO:logger:Ffill-Interpolation of nan frames\n",
      "INFO:logger:\n",
      "feature calculation for GGE0136_c_results_20.json_labeldata.csv\n",
      "INFO:logger:Area larger than threshold, collision assumed in [range(0, 104), range(108, 113), range(5902, 6017), range(6018, 6020), range(6021, 6041), range(6059, 6081), range(6082, 6085), range(6091, 6110), range(6114, 6290)].\n",
      "Calculation of features will be done in splits, ignoring those and adjacent* ranges. *That are less than 1 sec long.\n",
      "INFO:logger:split 0, range: (116, 569)\n",
      "Following frames seem to be tracked upside down\n",
      "We are going to flip those back:\n",
      "(array([ 11,  12,  13,  14,  15,  16,  17,  18,  19,  20,  21,  23,  24,\n",
      "        25,  26,  27,  28,  29,  30,  31,  32,  33,  34,  35,  36,  37,\n",
      "        38,  39,  40,  41,  42,  43,  44,  45,  46,  47,  48,  49,  50,\n",
      "        51,  52,  53,  54,  55,  56,  57,  58,  59,  60,  61,  62,  63,\n",
      "        64,  65,  66,  67,  68,  69,  70,  71,  72,  73,  74,  75,  76,\n",
      "        77,  78,  79,  80,  81,  82,  83,  84,  85,  86,  87,  88,  89,\n",
      "        90,  91,  92,  93,  94,  95,  96,  97,  98,  99, 100, 101, 102,\n",
      "       103, 104, 105, 106, 107, 108, 109, 110, 111, 112, 113, 114, 115,\n",
      "       116, 117, 118, 119, 120, 121, 122, 123, 124, 125, 126, 127, 128,\n",
      "       129, 130, 131, 132, 133, 134, 135, 136, 137, 138, 139, 140, 141,\n",
      "       142, 143, 144, 145, 146, 147, 148, 149, 150, 151, 152, 153, 154,\n",
      "       155, 156, 157, 158, 159, 160, 161, 162, 163, 164, 165, 166, 167,\n",
      "       168, 169, 170, 171, 172, 173, 174, 175, 176, 177, 178, 179, 180,\n",
      "       181, 182, 183, 184, 185, 186, 187, 188, 189, 190, 191, 192, 193,\n",
      "       194, 195, 196, 197, 198, 199, 200, 201, 202, 203, 204, 205, 206,\n",
      "       207, 208, 209, 210, 211, 212, 213, 214, 215, 216, 217, 218, 219,\n",
      "       220, 221, 222, 223, 224, 225, 226, 227, 228, 229, 230, 231, 232,\n",
      "       233, 234, 235, 236, 237, 238, 239, 240, 241, 242, 243, 244, 245,\n",
      "       246, 247, 248, 249, 250, 251, 252, 253, 254, 255, 256, 257, 258,\n",
      "       259, 260, 261, 262, 263, 264, 265, 266, 267, 268, 269, 270, 271,\n",
      "       272, 273, 274, 275, 276, 277, 278, 279, 280, 281, 282, 283, 284,\n",
      "       285, 286, 287, 288, 289, 290, 291, 292, 293, 294, 295, 296, 297,\n",
      "       298, 299, 300, 301, 302, 303, 304, 305, 306, 307, 308, 309, 310,\n",
      "       311, 312, 313, 314, 315, 316, 317, 318, 319, 320, 321, 322, 323,\n",
      "       324, 325, 326, 327, 328, 329, 330, 331, 332, 333, 334, 335, 336,\n",
      "       337, 338, 339, 340, 341, 342, 343, 344, 345, 346, 347, 348, 349,\n",
      "       350, 351, 352, 353, 354, 355, 356, 357, 358, 359, 360, 361, 362,\n",
      "       363, 364, 365, 366, 367, 368, 369, 370, 371, 372, 373, 374, 375,\n",
      "       376, 377, 378, 379, 380, 381, 382, 383, 384, 385, 386, 387, 388,\n",
      "       389, 390, 391, 392, 393, 394, 395, 396, 397, 398, 399, 400, 401,\n",
      "       402, 403, 404, 405, 406, 407, 408, 409, 410, 411, 412, 413, 414,\n",
      "       415, 416, 417, 418, 419, 420, 421, 422, 423, 424, 425, 426, 427,\n",
      "       428, 429, 430, 431, 432, 433, 434, 435, 436, 437, 438, 439, 440,\n",
      "       441, 442, 443, 444, 445, 446, 447, 448, 449, 450, 451, 452]),)\n",
      "Worm seems to travel backwards the majority of time, flipped all centerlines to agree with forward travelling assumption\n",
      "INFO:logger:split 1, range: (572, 5871)\n",
      "Following frames seem to be tracked upside down\n",
      "We are going to flip those back:\n",
      "(array([2047, 2048, 2049, 2050, 2051, 2052, 2053, 2054, 2055, 2056, 2057,\n",
      "       2058, 2059, 2060, 2062, 2063, 2065, 2067, 2068, 2069, 2070, 2071,\n",
      "       2072, 2073, 2074, 2075, 2076, 2077, 2078, 2079, 2087, 2090, 2095,\n",
      "       2133, 2136, 2137, 2138, 2139, 2140, 2145, 2148, 2159, 2161, 2162,\n",
      "       2163, 2164, 2165, 2166, 2167, 2168, 2169, 2170, 3344, 4199, 4200,\n",
      "       4650, 4652, 4653, 4654, 4655, 4656, 4657, 4658, 4659, 4660, 4661,\n",
      "       4662, 4663, 4664, 4665, 4666, 4667, 4668, 4669, 4670, 4671, 4672,\n",
      "       4673, 4674, 4675, 4676, 4677, 4683, 4686, 4687, 4688, 4689, 4690,\n",
      "       4691, 4692, 4693, 4694, 4695, 4820, 4821, 4822, 4823, 4866, 4868,\n",
      "       4891, 4892, 5041, 5230, 5234, 5235, 5236, 5237, 5238, 5239, 5240,\n",
      "       5241, 5242, 5244, 5245, 5265]),)\n"
     ]
    },
    {
     "name": "stderr",
     "output_type": "stream",
     "text": [
      "/gpfs/soma_fs/home/boeger/PpaPred/functions/algebra.py:15: RuntimeWarning: invalid value encountered in divide\n",
      "  unit_vec = np.divide(base,vlen)\n"
     ]
    },
    {
     "name": "stdout",
     "output_type": "stream",
     "text": [
      "INFO:logger:Ffill-Interpolation of nan frames\n",
      "INFO:logger:Exempted from interpolation: range(0, 116) (over 1 sec long)\n",
      "INFO:logger:Exempted from interpolation: range(5871, 6290) (over 1 sec long)\n",
      "INFO:logger:\n",
      "feature calculation for GGE0136_c_results_105.json_labeldata.csv\n",
      "INFO:logger:Area larger than threshold, collision assumed in [].\n",
      "Calculation of features will be done in splits, ignoring those and adjacent* ranges. *That are less than 1 sec long.\n",
      "INFO:logger:split 0, range: (0, 2016)\n"
     ]
    },
    {
     "name": "stderr",
     "output_type": "stream",
     "text": [
      "/gpfs/soma_fs/home/boeger/PpaPred/functions/algebra.py:15: RuntimeWarning: invalid value encountered in divide\n",
      "  unit_vec = np.divide(base,vlen)\n"
     ]
    },
    {
     "name": "stdout",
     "output_type": "stream",
     "text": [
      "INFO:logger:Ffill-Interpolation of nan frames\n",
      "INFO:logger:\n",
      "feature calculation for GGE0136_c_results_33.json_labeldata.csv\n",
      "INFO:logger:Area larger than threshold, collision assumed in [].\n",
      "Calculation of features will be done in splits, ignoring those and adjacent* ranges. *That are less than 1 sec long.\n",
      "INFO:logger:split 0, range: (0, 5043)\n",
      "Following frames seem to be tracked upside down\n",
      "We are going to flip those back:\n",
      "(array([1871, 1872, 2294]),)\n"
     ]
    },
    {
     "name": "stderr",
     "output_type": "stream",
     "text": [
      "/gpfs/soma_fs/home/boeger/PpaPred/functions/algebra.py:15: RuntimeWarning: invalid value encountered in divide\n",
      "  unit_vec = np.divide(base,vlen)\n"
     ]
    },
    {
     "name": "stdout",
     "output_type": "stream",
     "text": [
      "INFO:logger:Ffill-Interpolation of nan frames\n",
      "INFO:logger:\n",
      "feature calculation for GGE0136_c_results_11.json_labeldata.csv\n",
      "INFO:logger:Area larger than threshold, collision assumed in [range(14574, 14582), range(14585, 14652), range(14806, 14835)].\n",
      "Calculation of features will be done in splits, ignoring those and adjacent* ranges. *That are less than 1 sec long.\n",
      "INFO:logger:split 0, range: (0, 14574)\n",
      "Following frames seem to be tracked upside down\n",
      "We are going to flip those back:\n",
      "(array([  254,   255,   257,   258,   259,   260,   261,   262,   263,\n",
      "         265,   266,   267,   886,  1028,  1029,  1288,  1303,  1304,\n",
      "        1305,  1306,  1308,  1309,  1310,  2896,  3035,  3063,  4369,\n",
      "        4552,  4594,  4727,  4909,  7894,  7895,  7901,  7902,  7929,\n",
      "       11639, 11641, 12609, 12610, 12611, 12612, 12613, 12614, 13155,\n",
      "       13168, 13169, 13170, 13187, 13189, 13190, 13192, 13193, 13194,\n",
      "       13198, 13570, 13759, 13965, 14134, 14135, 14136, 14137, 14170,\n",
      "       14171, 14172, 14173, 14174, 14175, 14176, 14177, 14178, 14179,\n",
      "       14180, 14181, 14182, 14183, 14184, 14185, 14186, 14187, 14188,\n",
      "       14189, 14190, 14191, 14192, 14193, 14194, 14195, 14196, 14197,\n",
      "       14198, 14199, 14200, 14201, 14202, 14203, 14204, 14205, 14206,\n",
      "       14207, 14208, 14209, 14210, 14211, 14212, 14213, 14214, 14215,\n",
      "       14216, 14217, 14218, 14219, 14220, 14221, 14222, 14223, 14224,\n",
      "       14225, 14226, 14227, 14228, 14229, 14230, 14231, 14232, 14235,\n",
      "       14236, 14237, 14238, 14239, 14240, 14241, 14242, 14243, 14244,\n",
      "       14245, 14246, 14247, 14248, 14249, 14250, 14251, 14252, 14253,\n",
      "       14254, 14255, 14256, 14257, 14258, 14259, 14260, 14261, 14262,\n",
      "       14263, 14264, 14265, 14266, 14267, 14268, 14269, 14270, 14271,\n",
      "       14272, 14273, 14274, 14275, 14276, 14277, 14278, 14279, 14280,\n",
      "       14281, 14282, 14283, 14284, 14285, 14286, 14287, 14288, 14289,\n",
      "       14290, 14291, 14292, 14293, 14294, 14295, 14296, 14297, 14298,\n",
      "       14299, 14300, 14301, 14302, 14303, 14304, 14305, 14306, 14307,\n",
      "       14308, 14309, 14310, 14311, 14312, 14313, 14314, 14315, 14316,\n",
      "       14317, 14318, 14319, 14320, 14321, 14322, 14323, 14324, 14325,\n",
      "       14326, 14327, 14328, 14329, 14330, 14331, 14332, 14333, 14334,\n",
      "       14335, 14336, 14337, 14338, 14339, 14340, 14341, 14342, 14343,\n",
      "       14344, 14345, 14346, 14347, 14348, 14349, 14350, 14351, 14352,\n",
      "       14353, 14354, 14355, 14356, 14357, 14358, 14359, 14360, 14361,\n",
      "       14362, 14363, 14364, 14365, 14366, 14367, 14368, 14369, 14370,\n",
      "       14371, 14372, 14373, 14374, 14375, 14376, 14377, 14378, 14379,\n",
      "       14380, 14381, 14382, 14383, 14384, 14385, 14386, 14387, 14388,\n",
      "       14389, 14390, 14391, 14392, 14393, 14394, 14395, 14396, 14397,\n",
      "       14398, 14399, 14400, 14401, 14402, 14403, 14404, 14405, 14406,\n",
      "       14407, 14408, 14409, 14410, 14411, 14412, 14413, 14414, 14415,\n",
      "       14416, 14417, 14418, 14419, 14420, 14421, 14422, 14423, 14424,\n",
      "       14425, 14426, 14427, 14428, 14429, 14430, 14431, 14432, 14433,\n",
      "       14434, 14435, 14436, 14437, 14438, 14439, 14440, 14441, 14442,\n",
      "       14443, 14444, 14445, 14446, 14447, 14448, 14449, 14450, 14451,\n",
      "       14452, 14453, 14454, 14455, 14456, 14457, 14458, 14459, 14460,\n",
      "       14461, 14462, 14463, 14464, 14465, 14466, 14467, 14468, 14469,\n",
      "       14470, 14471, 14472, 14473, 14474, 14475, 14476, 14477, 14478,\n",
      "       14479, 14480, 14481, 14482, 14483, 14484, 14485, 14486, 14487,\n",
      "       14488, 14489, 14490, 14491, 14492, 14493, 14494, 14495, 14496,\n",
      "       14497, 14498, 14499, 14500, 14501, 14502, 14503, 14504, 14505,\n",
      "       14506, 14507, 14508, 14509, 14510, 14511, 14512, 14513, 14514,\n",
      "       14515, 14516, 14517, 14518, 14519, 14520, 14521, 14522, 14523,\n",
      "       14524, 14525, 14526, 14527, 14528, 14529, 14530, 14531, 14532,\n",
      "       14533, 14534, 14535, 14536, 14537, 14538, 14539, 14540, 14541,\n",
      "       14542, 14543, 14544, 14545, 14547, 14548, 14549, 14550, 14551,\n",
      "       14552, 14556, 14559, 14560, 14561, 14562]),)\n"
     ]
    },
    {
     "name": "stderr",
     "output_type": "stream",
     "text": [
      "/gpfs/soma_fs/home/boeger/PpaPred/functions/algebra.py:15: RuntimeWarning: invalid value encountered in divide\n",
      "  unit_vec = np.divide(base,vlen)\n"
     ]
    },
    {
     "name": "stdout",
     "output_type": "stream",
     "text": [
      "INFO:logger:split 1, range: (14652, 14806)\n",
      "Following frames seem to be tracked upside down\n",
      "We are going to flip those back:\n",
      "(array([ 12,  13,  16,  18,  20,  23,  24,  25,  26,  27,  28,  29,  30,\n",
      "        31,  32,  33,  34,  35,  36,  37,  38,  39,  40,  41,  42,  43,\n",
      "        44,  45,  46,  48,  49,  50,  53,  54,  55,  58,  59,  61,  62,\n",
      "        66,  67,  68,  69,  77, 109, 118, 136, 141, 142, 144]),)\n",
      "Worm seems to travel backwards the majority of time, flipped all centerlines to agree with forward travelling assumption\n",
      "INFO:logger:split 2, range: (14835, 16798)\n",
      "Following frames seem to be tracked upside down\n",
      "We are going to flip those back:\n",
      "(array([  30,   31,   37,   57,   84,   89,  277,  278,  279,  280,  281,\n",
      "        282,  283,  284,  287,  288,  289,  290,  291,  298, 1945]),)\n"
     ]
    },
    {
     "name": "stderr",
     "output_type": "stream",
     "text": [
      "/gpfs/soma_fs/home/boeger/PpaPred/functions/algebra.py:15: RuntimeWarning: invalid value encountered in divide\n",
      "  unit_vec = np.divide(base,vlen)\n"
     ]
    },
    {
     "name": "stdout",
     "output_type": "stream",
     "text": [
      "INFO:logger:Ffill-Interpolation of nan frames\n",
      "INFO:logger:Exempted from interpolation: range(14574, 14652) (over 1 sec long)\n",
      "INFO:logger:Exempted from interpolation: range(16798, 16832) (over 1 sec long)\n",
      "INFO:logger:\n",
      "feature calculation for GGE0136_c_results_0.json_labeldata.csv\n",
      "INFO:logger:Area larger than threshold, collision assumed in [].\n",
      "Calculation of features will be done in splits, ignoring those and adjacent* ranges. *That are less than 1 sec long.\n",
      "INFO:logger:split 0, range: (0, 1915)\n",
      "INFO:logger:Ffill-Interpolation of nan frames\n",
      "INFO:logger:\n",
      "feature calculation for GGE0136_c_results_254.json_labeldata.csv\n",
      "INFO:logger:Area larger than threshold, collision assumed in [].\n",
      "Calculation of features will be done in splits, ignoring those and adjacent* ranges. *That are less than 1 sec long.\n",
      "INFO:logger:split 0, range: (3, 3048)\n",
      "Following frames seem to be tracked upside down\n",
      "We are going to flip those back:\n",
      "(array([  85,   86,   87, ..., 3042, 3043, 3044]),)\n"
     ]
    },
    {
     "name": "stderr",
     "output_type": "stream",
     "text": [
      "/gpfs/soma_fs/home/boeger/PpaPred/functions/algebra.py:15: RuntimeWarning: invalid value encountered in divide\n",
      "  unit_vec = np.divide(base,vlen)\n"
     ]
    },
    {
     "name": "stdout",
     "output_type": "stream",
     "text": [
      "INFO:logger:Ffill-Interpolation of nan frames\n",
      "INFO:logger:\n",
      "feature calculation for GGE0136_c_results_9.json_labeldata.csv\n",
      "INFO:logger:Area larger than threshold, collision assumed in [].\n",
      "Calculation of features will be done in splits, ignoring those and adjacent* ranges. *That are less than 1 sec long.\n",
      "INFO:logger:split 0, range: (0, 18598)\n",
      "Following frames seem to be tracked upside down\n",
      "We are going to flip those back:\n",
      "(array([10234, 10235, 11624, 11627, 11635, 15722, 15735, 15738]),)\n"
     ]
    },
    {
     "name": "stderr",
     "output_type": "stream",
     "text": [
      "/gpfs/soma_fs/home/boeger/PpaPred/functions/algebra.py:15: RuntimeWarning: invalid value encountered in divide\n",
      "  unit_vec = np.divide(base,vlen)\n"
     ]
    },
    {
     "name": "stdout",
     "output_type": "stream",
     "text": [
      "INFO:logger:Ffill-Interpolation of nan frames\n",
      "INFO:logger:\n",
      "feature calculation for GGE0136_c_results_118.json_labeldata.csv\n",
      "INFO:logger:Area larger than threshold, collision assumed in [].\n",
      "Calculation of features will be done in splits, ignoring those and adjacent* ranges. *That are less than 1 sec long.\n",
      "INFO:logger:split 0, range: (0, 34)\n",
      "Following frames seem to be tracked upside down\n",
      "We are going to flip those back:\n",
      "(array([ 6,  7,  8,  9, 23, 32]),)\n",
      "INFO:logger:split 1, range: (45, 6276)\n",
      "Following frames seem to be tracked upside down\n",
      "We are going to flip those back:\n",
      "(array([ 399, 2062]),)\n"
     ]
    },
    {
     "name": "stderr",
     "output_type": "stream",
     "text": [
      "/gpfs/soma_fs/home/boeger/PpaPred/functions/algebra.py:15: RuntimeWarning: invalid value encountered in divide\n",
      "  unit_vec = np.divide(base,vlen)\n"
     ]
    },
    {
     "name": "stdout",
     "output_type": "stream",
     "text": [
      "INFO:logger:Ffill-Interpolation of nan frames\n",
      "INFO:logger:\n",
      "feature calculation for GGE0136_c_results_204.json_labeldata.csv\n",
      "INFO:logger:Area larger than threshold, collision assumed in [].\n",
      "Calculation of features will be done in splits, ignoring those and adjacent* ranges. *That are less than 1 sec long.\n",
      "INFO:logger:split 0, range: (65, 4814)\n",
      "Following frames seem to be tracked upside down\n",
      "We are going to flip those back:\n",
      "(array([ 899,  900,  901,  902,  903,  904,  905,  906,  907,  908,  909,\n",
      "        910,  911,  912,  913,  914,  915,  916,  917,  918,  919,  922,\n",
      "        923,  924,  925,  926,  931,  936,  939,  940,  941,  943,  944,\n",
      "        945,  946,  947,  948,  949,  951,  952,  954,  955,  956,  957,\n",
      "        958,  959,  960,  961,  962,  963,  964,  965,  966,  967,  968,\n",
      "        969,  973,  974,  976,  977,  980,  982,  983,  985,  986,  987,\n",
      "        989,  990,  991,  992,  993,  995,  996,  997,  998,  999, 1000,\n",
      "       1001, 1002, 1003, 1004, 1006, 1007, 1009, 1010, 1022, 1023, 1024,\n",
      "       1025, 1028, 1030, 1040, 1043, 1045, 1046, 1052, 1055, 1056, 1059,\n",
      "       1068, 1071, 1072, 1073, 1074, 1076, 1077, 1078, 1079, 1080, 1081,\n",
      "       1082, 1083, 1084, 1085, 1086, 1087, 1088, 1090, 1092, 1093, 1094,\n",
      "       1095, 1096, 1101, 1102, 1103, 1104, 1105, 1106, 1107, 1112, 1113,\n",
      "       1114, 1115, 1116, 1117, 1118, 1119, 1120, 1121, 1122, 1123, 1124,\n",
      "       1125, 1126, 1128, 1129, 1130, 1131, 1132, 1133, 1134, 1135, 1136,\n",
      "       1138, 1141, 1142, 1143, 1146, 1147, 1148, 1149, 1150, 1151, 1152,\n",
      "       1153, 1154, 1155, 1156, 1157, 1158, 1159, 1160, 1161, 1162, 1163,\n",
      "       1164, 1165, 1166, 1167, 1170, 1171, 1173, 1174, 1175, 1177, 1179,\n",
      "       1180, 1204, 1213, 1215, 1227, 1234, 1235, 1236, 1237, 1238, 1239,\n",
      "       1240, 1242, 1251, 1252, 1253, 1254, 1255, 1256, 1257, 1258, 1259,\n",
      "       1260, 1261, 1262, 1264, 1277, 1280, 1281, 1282, 1283, 1284, 1288,\n",
      "       1289, 1290, 1291, 1292]),)\n"
     ]
    },
    {
     "name": "stderr",
     "output_type": "stream",
     "text": [
      "/gpfs/soma_fs/home/boeger/PpaPred/functions/algebra.py:15: RuntimeWarning: invalid value encountered in divide\n",
      "  unit_vec = np.divide(base,vlen)\n"
     ]
    },
    {
     "name": "stdout",
     "output_type": "stream",
     "text": [
      "INFO:logger:Ffill-Interpolation of nan frames\n",
      "INFO:logger:Exempted from interpolation: range(0, 65) (over 1 sec long)\n",
      "INFO:logger:\n",
      "feature calculation for GGE0136_c_results_168.json_labeldata.csv\n",
      "INFO:logger:Area larger than threshold, collision assumed in [range(0, 9), range(10, 11)].\n",
      "Calculation of features will be done in splits, ignoring those and adjacent* ranges. *That are less than 1 sec long.\n",
      "INFO:logger:split 0, range: (11, 2348)\n",
      "Following frames seem to be tracked upside down\n",
      "We are going to flip those back:\n",
      "(array([1320, 1321, 1322, 1323, 1324, 1326, 1327, 1328, 1330, 1331, 1335,\n",
      "       1336, 1337, 1338, 1339, 1340, 1341, 1342, 1343, 1344, 1345, 1346,\n",
      "       1347, 1348, 1349, 1350, 1351, 1352, 1353, 1354, 1355, 1356, 1361,\n",
      "       1367, 1368, 1369, 1370, 1371, 1372, 1725, 1728, 1729, 1733, 1734,\n",
      "       1758, 1777, 1800, 1802, 1816, 1825, 1867, 2300, 2302, 2304]),)\n"
     ]
    },
    {
     "name": "stderr",
     "output_type": "stream",
     "text": [
      "/gpfs/soma_fs/home/boeger/PpaPred/functions/algebra.py:15: RuntimeWarning: invalid value encountered in divide\n",
      "  unit_vec = np.divide(base,vlen)\n"
     ]
    },
    {
     "name": "stdout",
     "output_type": "stream",
     "text": [
      "INFO:logger:split 1, range: (2423, 2471)\n",
      "Following frames seem to be tracked upside down\n",
      "We are going to flip those back:\n",
      "(array([ 7, 10, 13, 14, 18, 21, 25, 27, 35, 39, 41, 43, 44, 45, 46, 47]),)\n",
      "Worm seems to travel backwards the majority of time, flipped all centerlines to agree with forward travelling assumption\n",
      "INFO:logger:Ffill-Interpolation of nan frames\n",
      "INFO:logger:Exempted from interpolation: range(2348, 2423) (over 1 sec long)\n",
      "INFO:logger:\n",
      "feature calculation for GGE0136_c_results_219.json_labeldata.csv\n",
      "INFO:logger:Area larger than threshold, collision assumed in [range(1391, 1411), range(1422, 1423), range(1424, 1426), range(1469, 1481), range(1482, 1484), range(1488, 1489), range(1490, 1493), range(1495, 1515), range(1520, 1564), range(1659, 1663), range(1667, 1715), range(1716, 1719)].\n",
      "Calculation of features will be done in splits, ignoring those and adjacent* ranges. *That are less than 1 sec long.\n",
      "INFO:logger:split 0, range: (0, 1391)\n",
      "Following frames seem to be tracked upside down\n",
      "We are going to flip those back:\n",
      "(array([1190, 1195, 1200, 1208, 1209, 1210, 1217, 1233, 1242, 1243, 1244,\n",
      "       1245, 1271, 1278, 1290, 1291, 1292, 1293, 1294, 1295, 1296, 1297,\n",
      "       1298, 1299, 1300, 1301, 1302, 1303, 1304, 1305, 1306, 1307, 1308,\n",
      "       1309, 1310, 1311, 1312, 1313, 1314, 1315, 1316, 1317, 1318, 1319,\n",
      "       1320, 1321, 1322, 1323, 1324, 1325, 1326, 1327, 1328, 1329, 1330,\n",
      "       1331, 1332, 1333, 1334, 1336, 1337, 1338, 1339, 1340, 1341, 1342,\n",
      "       1343, 1344, 1345, 1346, 1347, 1348, 1349, 1350, 1351, 1352, 1353,\n",
      "       1354, 1355, 1356, 1357, 1358, 1359, 1360, 1361, 1362, 1363, 1364,\n",
      "       1365, 1366, 1367, 1368, 1369, 1370, 1371, 1372, 1373, 1374, 1375,\n",
      "       1376, 1377, 1378, 1379, 1380, 1381, 1382, 1383, 1384, 1385, 1386,\n",
      "       1387, 1388, 1389, 1390]),)\n"
     ]
    },
    {
     "name": "stderr",
     "output_type": "stream",
     "text": [
      "/gpfs/soma_fs/home/boeger/PpaPred/functions/algebra.py:15: RuntimeWarning: invalid value encountered in divide\n",
      "  unit_vec = np.divide(base,vlen)\n"
     ]
    },
    {
     "name": "stdout",
     "output_type": "stream",
     "text": [
      "INFO:logger:split 1, range: (1426, 1469)\n",
      "Following frames seem to be tracked upside down\n",
      "We are going to flip those back:\n",
      "(array([ 1,  2,  3,  4,  5,  6,  7,  8,  9, 10, 11, 12, 13, 16, 17, 18, 19,\n",
      "       20, 21, 22, 23, 24, 26, 27, 28, 29, 30, 31, 32, 34, 35, 36, 37, 38,\n",
      "       39, 40, 41, 42]),)\n",
      "Worm seems to travel backwards the majority of time, flipped all centerlines to agree with forward travelling assumption\n",
      "INFO:logger:split 2, range: (1564, 1659)\n",
      "Following frames seem to be tracked upside down\n",
      "We are going to flip those back:\n",
      "(array([5]),)\n",
      "INFO:logger:split 3, range: (1719, 1932)\n",
      "Following frames seem to be tracked upside down\n",
      "We are going to flip those back:\n",
      "(array([  1,   6,  14,  17,  19,  20,  22,  27,  29,  30,  31,  45,  47,\n",
      "        48,  49,  55,  56,  60,  61,  62,  63,  64,  65,  66,  67,  68,\n",
      "        69,  70,  71,  72,  74,  75,  76,  79,  80,  81,  82,  83,  84,\n",
      "        85,  86,  87,  88,  89,  90,  91,  92,  93,  94,  95,  96,  97,\n",
      "        98,  99, 100, 101, 102, 103, 104, 105, 106, 108, 109, 111, 118,\n",
      "       122, 123, 124, 125, 126, 127, 128, 129, 130, 131, 134, 135, 136,\n",
      "       137, 138, 139, 140, 141, 142, 143, 144, 145, 175, 179, 197]),)\n",
      "INFO:logger:Ffill-Interpolation of nan frames\n",
      "INFO:logger:Exempted from interpolation: range(1391, 1426) (over 1 sec long)\n",
      "INFO:logger:Exempted from interpolation: range(1469, 1564) (over 1 sec long)\n",
      "INFO:logger:Exempted from interpolation: range(1659, 1719) (over 1 sec long)\n"
     ]
    },
    {
     "name": "stderr",
     "output_type": "stream",
     "text": [
      "/gpfs/soma_fs/home/boeger/PpaPred/functions/algebra.py:15: RuntimeWarning: invalid value encountered in divide\n",
      "  unit_vec = np.divide(base,vlen)\n"
     ]
    },
    {
     "name": "stdout",
     "output_type": "stream",
     "text": [
      "INFO:logger:\n",
      "feature calculation for GGE0136_c_results_8.json_labeldata.csv\n",
      "INFO:logger:Area larger than threshold, collision assumed in [].\n",
      "Calculation of features will be done in splits, ignoring those and adjacent* ranges. *That are less than 1 sec long.\n",
      "INFO:logger:split 0, range: (0, 18598)\n",
      "Following frames seem to be tracked upside down\n",
      "We are going to flip those back:\n",
      "(array([ 3110,  3126, 14638]),)\n"
     ]
    },
    {
     "name": "stderr",
     "output_type": "stream",
     "text": [
      "/gpfs/soma_fs/home/boeger/PpaPred/functions/algebra.py:15: RuntimeWarning: invalid value encountered in divide\n",
      "  unit_vec = np.divide(base,vlen)\n"
     ]
    },
    {
     "name": "stdout",
     "output_type": "stream",
     "text": [
      "INFO:logger:Ffill-Interpolation of nan frames\n",
      "INFO:logger:\n",
      "feature calculation for GGE0136_c_results_72.json_labeldata.csv\n",
      "INFO:logger:Area larger than threshold, collision assumed in [].\n",
      "Calculation of features will be done in splits, ignoring those and adjacent* ranges. *That are less than 1 sec long.\n",
      "INFO:logger:split 0, range: (0, 2514)\n",
      "INFO:logger:split 1, range: (2521, 2742)\n",
      "INFO:logger:Ffill-Interpolation of nan frames\n",
      "INFO:logger:\n",
      "feature calculation for GGE0136_c_results_6.json_labeldata.csv\n",
      "INFO:logger:Area larger than threshold, collision assumed in [].\n",
      "Calculation of features will be done in splits, ignoring those and adjacent* ranges. *That are less than 1 sec long.\n",
      "INFO:logger:split 0, range: (0, 18598)\n",
      "Following frames seem to be tracked upside down\n",
      "We are going to flip those back:\n",
      "(array([ 1734,  2047,  2048,  2050,  2051,  2052,  2053,  2054,  2055,\n",
      "        2056,  2057,  2058,  2059,  2060,  2061,  2063,  2064,  2067,\n",
      "        2069,  2221,  2250,  2311,  2312,  2313,  2314,  2315,  2316,\n",
      "        2317,  2318,  2324,  2325,  2326,  2327,  2345,  2629,  2630,\n",
      "        2631,  2632,  2633,  2634,  2637,  2638,  2639,  4240,  5633,\n",
      "        6089,  6090,  6091,  6092,  6093,  6094,  6095,  7444,  7445,\n",
      "        7446,  7447,  7449,  7450,  7476,  7484,  7504,  7777,  7778,\n",
      "        7779,  7780,  7784,  7789,  7790,  7791,  7792,  7793,  7794,\n",
      "        7795,  7797,  7798,  7799,  7800,  7801,  7802,  7803,  7804,\n",
      "        7806,  7809,  8477,  8478,  8479,  8480,  8481,  8482,  8484,\n",
      "        8485,  8486,  8487,  8488,  8489,  8491,  8508,  8552,  9463,\n",
      "        9466,  9467,  9468,  9469,  9472, 10101, 10557, 13845, 13848,\n",
      "       13850, 13853, 13854, 13855, 13856, 13857, 13858, 13859, 13860,\n",
      "       13861, 14630, 14631, 14632, 14634, 14639, 14660, 14688, 15113,\n",
      "       15114, 15115, 15116, 15118, 15119, 15120, 15123, 15124, 15135,\n",
      "       15136, 15137, 15138, 15139, 15140, 15141, 15142, 15143, 15144,\n",
      "       15145, 15146, 15303]),)\n"
     ]
    },
    {
     "name": "stderr",
     "output_type": "stream",
     "text": [
      "/gpfs/soma_fs/home/boeger/PpaPred/functions/algebra.py:15: RuntimeWarning: invalid value encountered in divide\n",
      "  unit_vec = np.divide(base,vlen)\n"
     ]
    },
    {
     "name": "stdout",
     "output_type": "stream",
     "text": [
      "INFO:logger:Ffill-Interpolation of nan frames\n",
      "INFO:logger:\n",
      "feature calculation for GGE0136_c_results_248.json_labeldata.csv\n",
      "INFO:logger:Area larger than threshold, collision assumed in [].\n",
      "Calculation of features will be done in splits, ignoring those and adjacent* ranges. *That are less than 1 sec long.\n",
      "INFO:logger:split 0, range: (0, 48)\n",
      "Following frames seem to be tracked upside down\n",
      "We are going to flip those back:\n",
      "(array([ 2,  3, 10, 11, 12, 21, 26, 30, 31, 32, 34, 36, 38, 39, 40, 41, 42]),)\n",
      "INFO:logger:split 1, range: (61, 3200)\n",
      "Following frames seem to be tracked upside down\n",
      "We are going to flip those back:\n",
      "(array([   1,    2,    3,    4,    5,    6,    8,  529,  531,  532,  543,\n",
      "        548,  613,  614,  615,  616,  617,  618,  619,  620,  621,  622,\n",
      "        623,  624,  625,  626,  627,  628,  629,  630,  631,  632,  634,\n",
      "        635,  636,  637,  638,  639,  640,  641,  642,  643,  644,  645,\n",
      "        646,  647,  648,  649,  650,  651,  652,  653,  654,  655,  656,\n",
      "        657,  658,  660,  661,  662,  663,  664,  665,  666,  667,  668,\n",
      "        669,  670,  671,  672,  673,  674,  675,  676,  677,  678,  679,\n",
      "        680,  681,  682,  683,  684,  685,  686,  687,  688,  689,  690,\n",
      "        692,  693,  694,  695,  698,  699,  700,  701,  702,  703,  705,\n",
      "        706,  707,  708,  709,  710,  714,  718,  723,  729,  740,  741,\n",
      "        743,  744,  745,  748,  749,  750,  864,  865,  866,  867,  868,\n",
      "        871,  876,  877,  878,  879,  880,  881,  882,  883,  884,  885,\n",
      "        886,  887,  888,  889,  890,  891,  892,  893,  894,  895,  896,\n",
      "        897,  898,  899,  900,  901,  902,  903,  904,  905,  906,  907,\n",
      "        908,  909,  910,  911,  912,  913,  914,  915,  916,  917,  922,\n",
      "        923,  924,  928,  930,  931,  932,  933,  934,  935,  936,  937,\n",
      "        938,  939,  940,  941,  942,  943,  944,  945,  946,  947,  948,\n",
      "        949,  950,  951,  952,  953,  954,  955,  956,  957,  958,  959,\n",
      "        960,  961,  962,  963,  964,  965,  966,  967,  968,  969,  970,\n",
      "        971,  972,  973,  974,  975,  976,  977,  978,  979,  980,  981,\n",
      "        982,  983,  984,  985,  986,  987,  988,  989,  990,  991,  992,\n",
      "        993,  994,  995,  997,  998,  999, 1000, 1001, 1002, 1003, 1004,\n",
      "       1005, 1006, 1007, 1008, 1009, 1010, 1011, 1012, 1013, 1014, 1015,\n",
      "       1016, 1017, 1018, 1019, 1020, 1021, 1022, 1023, 1024, 1025, 1026,\n",
      "       1027, 1028, 1029, 1030, 1031, 1032, 1033, 1034, 1035, 1036, 1037,\n",
      "       1038, 1039, 1040, 1041, 1048, 1050, 1056, 1057, 1060, 1064, 1066,\n",
      "       1067, 1149, 1152, 1154, 1294, 1306, 1307, 1308, 1327, 1328, 1331,\n",
      "       1332]),)\n"
     ]
    },
    {
     "name": "stderr",
     "output_type": "stream",
     "text": [
      "/gpfs/soma_fs/home/boeger/PpaPred/functions/algebra.py:15: RuntimeWarning: invalid value encountered in divide\n",
      "  unit_vec = np.divide(base,vlen)\n"
     ]
    },
    {
     "name": "stdout",
     "output_type": "stream",
     "text": [
      "INFO:logger:Ffill-Interpolation of nan frames\n",
      "INFO:logger:\n",
      "feature calculation for GGE0136_c_results_121.json_labeldata.csv\n",
      "INFO:logger:Area larger than threshold, collision assumed in [range(0, 5), range(13, 67)].\n",
      "Calculation of features will be done in splits, ignoring those and adjacent* ranges. *That are less than 1 sec long.\n",
      "INFO:logger:split 0, range: (67, 1857)\n",
      "Following frames seem to be tracked upside down\n",
      "We are going to flip those back:\n",
      "(array([ 428,  623, 1673, 1674, 1699, 1701, 1702, 1703]),)\n"
     ]
    },
    {
     "name": "stderr",
     "output_type": "stream",
     "text": [
      "/gpfs/soma_fs/home/boeger/PpaPred/functions/algebra.py:15: RuntimeWarning: invalid value encountered in divide\n",
      "  unit_vec = np.divide(base,vlen)\n"
     ]
    },
    {
     "name": "stdout",
     "output_type": "stream",
     "text": [
      "INFO:logger:Ffill-Interpolation of nan frames\n",
      "INFO:logger:Exempted from interpolation: range(0, 67) (over 1 sec long)\n",
      "INFO:logger:\n",
      "feature calculation for GGE0136_c_results_47.json_labeldata.csv\n",
      "INFO:logger:Area larger than threshold, collision assumed in [].\n",
      "Calculation of features will be done in splits, ignoring those and adjacent* ranges. *That are less than 1 sec long.\n",
      "INFO:logger:split 0, range: (0, 2142)\n",
      "Following frames seem to be tracked upside down\n",
      "We are going to flip those back:\n",
      "(array([ 102,  104,  127,  265,  266,  268,  269,  270,  271,  272,  370,\n",
      "        371,  382,  383,  384,  385,  410,  411,  412,  414,  415,  416,\n",
      "        417,  557,  569,  570,  572,  770,  858,  868,  869,  916,  922,\n",
      "        925,  926,  932,  934, 1029, 1102, 1108, 1158, 1231, 1243, 1270,\n",
      "       1328, 1375, 1376, 1378, 1381, 1428, 1433, 1434, 1435, 1436, 1439,\n",
      "       1515, 1516, 1541, 1542, 1543, 1577, 1578, 1579, 1741, 1763, 1766,\n",
      "       1767, 1768, 1769, 1770, 1771, 1773, 1774, 1775, 1779, 1791, 1793,\n",
      "       1896, 1897, 1934, 1937, 1939, 1940, 1943, 1947, 1954, 1961, 1962,\n",
      "       1964, 1966, 1989, 1992, 2063, 2067, 2076, 2077, 2081, 2106, 2107,\n",
      "       2108, 2109, 2110, 2111, 2125, 2126, 2127, 2128]),)\n",
      "INFO:logger:Ffill-Interpolation of nan frames\n",
      "INFO:logger:Exempted from interpolation: range(2142, 2224) (over 1 sec long)\n",
      "INFO:logger:\n",
      "feature calculation for GGE0136_c_results_151.json_labeldata.csv\n",
      "INFO:logger:Area larger than threshold, collision assumed in [].\n",
      "Calculation of features will be done in splits, ignoring those and adjacent* ranges. *That are less than 1 sec long.\n",
      "INFO:logger:split 0, range: (0, 3385)\n",
      "Following frames seem to be tracked upside down\n",
      "We are going to flip those back:\n",
      "(array([ 609,  690,  692,  693,  695,  696,  698,  699,  703,  705,  712,\n",
      "        713,  715,  716,  717,  718,  719,  720,  721,  722,  723,  724,\n",
      "        725,  726,  727,  728,  729,  730,  731,  732,  733,  734,  735,\n",
      "        737,  738, 1689, 1690, 1691, 1692, 1693]),)\n"
     ]
    },
    {
     "name": "stderr",
     "output_type": "stream",
     "text": [
      "/gpfs/soma_fs/home/boeger/PpaPred/functions/algebra.py:15: RuntimeWarning: invalid value encountered in divide\n",
      "  unit_vec = np.divide(base,vlen)\n"
     ]
    },
    {
     "name": "stdout",
     "output_type": "stream",
     "text": [
      "INFO:logger:Ffill-Interpolation of nan frames\n",
      "INFO:logger:\n",
      "feature calculation for GGE0136_c_results_10.json_labeldata.csv\n",
      "INFO:logger:Area larger than threshold, collision assumed in [].\n",
      "Calculation of features will be done in splits, ignoring those and adjacent* ranges. *That are less than 1 sec long.\n",
      "INFO:logger:split 0, range: (0, 10976)\n",
      "Following frames seem to be tracked upside down\n",
      "We are going to flip those back:\n",
      "(array([1789, 4142, 4149]),)\n"
     ]
    },
    {
     "name": "stderr",
     "output_type": "stream",
     "text": [
      "/gpfs/soma_fs/home/boeger/PpaPred/functions/algebra.py:15: RuntimeWarning: invalid value encountered in divide\n",
      "  unit_vec = np.divide(base,vlen)\n"
     ]
    },
    {
     "name": "stdout",
     "output_type": "stream",
     "text": [
      "INFO:logger:Ffill-Interpolation of nan frames\n",
      "INFO:logger:\n",
      "feature calculation for GGE0136_c_results_5.json_labeldata.csv\n",
      "INFO:logger:Area larger than threshold, collision assumed in [].\n",
      "Calculation of features will be done in splits, ignoring those and adjacent* ranges. *That are less than 1 sec long.\n",
      "INFO:logger:split 0, range: (0, 5619)\n",
      "Following frames seem to be tracked upside down\n",
      "We are going to flip those back:\n",
      "(array([3163]),)\n"
     ]
    },
    {
     "name": "stderr",
     "output_type": "stream",
     "text": [
      "/gpfs/soma_fs/home/boeger/PpaPred/functions/algebra.py:15: RuntimeWarning: invalid value encountered in divide\n",
      "  unit_vec = np.divide(base,vlen)\n",
      "/gpfs/soma_fs/home/boeger/PpaPred/functions/algebra.py:45: RuntimeWarning: invalid value encountered in arccos\n",
      "  arccos = np.arccos(dotProduct) # mod of Vector is 1, so /mod can be left away  #arccos\n"
     ]
    },
    {
     "name": "stdout",
     "output_type": "stream",
     "text": [
      "INFO:logger:Ffill-Interpolation of nan frames\n",
      "INFO:logger:Exempted from interpolation: range(5619, 5701) (over 1 sec long)\n",
      "INFO:logger:\n",
      "feature calculation for GGE0136_c_results_98.json_labeldata.csv\n",
      "INFO:logger:Area larger than threshold, collision assumed in [].\n",
      "Calculation of features will be done in splits, ignoring those and adjacent* ranges. *That are less than 1 sec long.\n",
      "INFO:logger:split 0, range: (0, 9863)\n",
      "Following frames seem to be tracked upside down\n",
      "We are going to flip those back:\n",
      "(array([4046, 9561]),)\n"
     ]
    },
    {
     "name": "stderr",
     "output_type": "stream",
     "text": [
      "/gpfs/soma_fs/home/boeger/PpaPred/functions/algebra.py:15: RuntimeWarning: invalid value encountered in divide\n",
      "  unit_vec = np.divide(base,vlen)\n"
     ]
    },
    {
     "name": "stdout",
     "output_type": "stream",
     "text": [
      "INFO:logger:Ffill-Interpolation of nan frames\n",
      "INFO:logger:\n",
      "feature calculation for GGE0136_c_results_17.json_labeldata.csv\n",
      "INFO:logger:Area larger than threshold, collision assumed in [].\n",
      "Calculation of features will be done in splits, ignoring those and adjacent* ranges. *That are less than 1 sec long.\n",
      "INFO:logger:split 0, range: (0, 13698)\n",
      "Following frames seem to be tracked upside down\n",
      "We are going to flip those back:\n",
      "(array([  144,   145,   146,   147,   148,  1252,  1518,  1519,  1522,\n",
      "        1523,  1649,  1681,  1682,  2377,  2378,  2379,  2400,  2852,\n",
      "        2853,  2855,  2856,  2857,  2858,  2859,  2860,  2861,  2862,\n",
      "        2863,  2864,  2865,  2866,  2867,  2868,  2869,  2870,  2871,\n",
      "        2872,  2873,  2874,  2875,  2876,  2877,  2878,  2879,  2880,\n",
      "        2881,  2882,  2883,  2884,  2885,  2886,  2887,  2888,  2889,\n",
      "        2890,  2891,  2892,  2893,  2894,  2895,  2896,  2897,  2898,\n",
      "        2899,  2900,  2901,  2902,  2903,  2904,  2905,  2906,  2907,\n",
      "        2908,  2909,  2910,  2911,  2912,  2913,  3011,  3013,  3081,\n",
      "        3082,  3083,  3086,  3100,  3101,  3103,  3109,  3188,  3202,\n",
      "        3203,  3339,  4268,  7410,  7488,  7489,  7490,  7491,  7492,\n",
      "        7493,  7494,  7495,  7497,  7498,  7499,  7500,  7501,  7502,\n",
      "        7512,  7513,  7525,  7575,  7623,  7634,  7636,  7639,  7641,\n",
      "        7642,  7644,  7652, 12703]),)\n"
     ]
    },
    {
     "name": "stderr",
     "output_type": "stream",
     "text": [
      "/gpfs/soma_fs/home/boeger/PpaPred/functions/algebra.py:15: RuntimeWarning: invalid value encountered in divide\n",
      "  unit_vec = np.divide(base,vlen)\n"
     ]
    },
    {
     "name": "stdout",
     "output_type": "stream",
     "text": [
      "INFO:logger:Ffill-Interpolation of nan frames\n",
      "INFO:logger:\n",
      "feature calculation for GGE0136_c_results_122.json_labeldata.csv\n",
      "INFO:logger:Area larger than threshold, collision assumed in [].\n",
      "Calculation of features will be done in splits, ignoring those and adjacent* ranges. *That are less than 1 sec long.\n",
      "INFO:logger:split 0, range: (0, 2406)\n",
      "INFO:logger:Ffill-Interpolation of nan frames\n",
      "INFO:logger:\n",
      "feature calculation for GGE0136_c_results_253.json_labeldata.csv\n",
      "INFO:logger:Area larger than threshold, collision assumed in [].\n",
      "Calculation of features will be done in splits, ignoring those and adjacent* ranges. *That are less than 1 sec long.\n",
      "INFO:logger:split 0, range: (3, 3046)\n"
     ]
    },
    {
     "name": "stderr",
     "output_type": "stream",
     "text": [
      "/gpfs/soma_fs/home/boeger/PpaPred/functions/algebra.py:15: RuntimeWarning: invalid value encountered in divide\n",
      "  unit_vec = np.divide(base,vlen)\n"
     ]
    },
    {
     "name": "stdout",
     "output_type": "stream",
     "text": [
      "INFO:logger:Ffill-Interpolation of nan frames\n",
      "INFO:logger:\n",
      "feature calculation for GGE0136_c_results_84.json_labeldata.csv\n",
      "INFO:logger:Area larger than threshold, collision assumed in [].\n",
      "Calculation of features will be done in splits, ignoring those and adjacent* ranges. *That are less than 1 sec long.\n",
      "INFO:logger:split 0, range: (6, 5688)\n",
      "Following frames seem to be tracked upside down\n",
      "We are going to flip those back:\n",
      "(array([4655, 4656, 4657]),)\n"
     ]
    },
    {
     "name": "stderr",
     "output_type": "stream",
     "text": [
      "/gpfs/soma_fs/home/boeger/PpaPred/functions/algebra.py:15: RuntimeWarning: invalid value encountered in divide\n",
      "  unit_vec = np.divide(base,vlen)\n"
     ]
    },
    {
     "name": "stdout",
     "output_type": "stream",
     "text": [
      "INFO:logger:Ffill-Interpolation of nan frames\n",
      "INFO:logger:\n",
      "feature calculation for GGE0136_c_results_12.json_labeldata.csv\n",
      "INFO:logger:Area larger than threshold, collision assumed in [].\n",
      "Calculation of features will be done in splits, ignoring those and adjacent* ranges. *That are less than 1 sec long.\n",
      "INFO:logger:split 0, range: (0, 9467)\n",
      "Following frames seem to be tracked upside down\n",
      "We are going to flip those back:\n",
      "(array([4956, 4961, 4971, 4977, 4978, 5097, 5668, 5696, 6335, 6367, 8356,\n",
      "       8387, 8388]),)\n"
     ]
    },
    {
     "name": "stderr",
     "output_type": "stream",
     "text": [
      "/gpfs/soma_fs/home/boeger/PpaPred/functions/algebra.py:15: RuntimeWarning: invalid value encountered in divide\n",
      "  unit_vec = np.divide(base,vlen)\n"
     ]
    },
    {
     "name": "stdout",
     "output_type": "stream",
     "text": [
      "INFO:logger:Ffill-Interpolation of nan frames\n",
      "INFO:logger:\n",
      "feature calculation for GGE0136_c_results_64.json_labeldata.csv\n",
      "INFO:logger:Area larger than threshold, collision assumed in [].\n",
      "Calculation of features will be done in splits, ignoring those and adjacent* ranges. *That are less than 1 sec long.\n",
      "INFO:logger:split 0, range: (0, 172)\n",
      "INFO:logger:split 1, range: (196, 4537)\n",
      "Following frames seem to be tracked upside down\n",
      "We are going to flip those back:\n",
      "(array([ 633,  659,  664,  669, 1087, 1205, 1209, 1210, 1211, 1212, 1213,\n",
      "       1214, 1463, 1486, 1488, 1695, 1696, 1697, 1698, 1744, 1947, 2211,\n",
      "       2214]),)\n"
     ]
    },
    {
     "name": "stderr",
     "output_type": "stream",
     "text": [
      "/gpfs/soma_fs/home/boeger/PpaPred/functions/algebra.py:15: RuntimeWarning: invalid value encountered in divide\n",
      "  unit_vec = np.divide(base,vlen)\n"
     ]
    },
    {
     "name": "stdout",
     "output_type": "stream",
     "text": [
      "INFO:logger:Ffill-Interpolation of nan frames\n",
      "INFO:logger:\n",
      "feature calculation for GGE0136_c_results_44.json_labeldata.csv\n",
      "INFO:logger:Area larger than threshold, collision assumed in [].\n",
      "Calculation of features will be done in splits, ignoring those and adjacent* ranges. *That are less than 1 sec long.\n",
      "INFO:logger:split 0, range: (0, 1837)\n"
     ]
    },
    {
     "name": "stderr",
     "output_type": "stream",
     "text": [
      "/gpfs/soma_fs/home/boeger/PpaPred/functions/algebra.py:15: RuntimeWarning: invalid value encountered in divide\n",
      "  unit_vec = np.divide(base,vlen)\n"
     ]
    },
    {
     "name": "stdout",
     "output_type": "stream",
     "text": [
      "INFO:logger:Ffill-Interpolation of nan frames\n",
      "INFO:logger:\n",
      "feature calculation for GGE0136_c_results_4.json_labeldata.csv\n",
      "INFO:logger:Area larger than threshold, collision assumed in [].\n",
      "Calculation of features will be done in splits, ignoring those and adjacent* ranges. *That are less than 1 sec long.\n",
      "INFO:logger:split 0, range: (0, 6794)\n",
      "Following frames seem to be tracked upside down\n",
      "We are going to flip those back:\n",
      "(array([ 399,  428,  499,  517,  518,  531,  669,  681,  765,  797,  799,\n",
      "        899,  900,  901, 3515, 3516, 3522, 3523, 3524, 3558, 3559, 5525,\n",
      "       6776]),)\n"
     ]
    },
    {
     "name": "stderr",
     "output_type": "stream",
     "text": [
      "/gpfs/soma_fs/home/boeger/PpaPred/functions/algebra.py:15: RuntimeWarning: invalid value encountered in divide\n",
      "  unit_vec = np.divide(base,vlen)\n"
     ]
    },
    {
     "name": "stdout",
     "output_type": "stream",
     "text": [
      "INFO:logger:Ffill-Interpolation of nan frames\n",
      "INFO:logger:Exempted from interpolation: range(6794, 6832) (over 1 sec long)\n",
      "INFO:logger:\n",
      "feature calculation for GGE0136_c_results_3.json_labeldata.csv\n",
      "INFO:logger:Area larger than threshold, collision assumed in [].\n",
      "Calculation of features will be done in splits, ignoring those and adjacent* ranges. *That are less than 1 sec long.\n",
      "INFO:logger:split 0, range: (0, 3477)\n",
      "Following frames seem to be tracked upside down\n",
      "We are going to flip those back:\n",
      "(array([  70,  106,  122,  155,  346,  419,  435,  438,  499,  508,  510,\n",
      "        511,  512,  513,  514,  515,  516,  517,  518,  519,  520,  538,\n",
      "        539,  540,  541,  542,  543,  546,  588,  590,  591,  592,  597,\n",
      "        749,  768,  969,  981, 1123, 1135, 1136, 1137, 1144, 1145, 1169,\n",
      "       1173, 1179, 1185, 1186, 1204, 1209, 1213, 1218, 1222, 1223, 1252,\n",
      "       1253, 1254, 1255, 1256, 1257, 1258, 1259, 1260, 1261, 1262, 1263,\n",
      "       1264, 1265, 1266, 1267, 1268, 1269, 1270, 1271, 1376, 1379, 1382,\n",
      "       1383, 1384, 1394, 1874, 1899, 1917, 2021, 2023, 2083, 2084, 2088,\n",
      "       2090, 2092, 2093, 2094, 2147, 2308, 2310, 2311, 2422, 2423, 2424,\n",
      "       2425, 2426, 2427, 2431, 2433, 2434, 2435, 2436, 2437, 2438, 2439,\n",
      "       2440, 2453, 2475, 2493, 2508, 2521, 2523, 2544, 2547, 2561, 2563,\n",
      "       2581, 2590, 2593, 2594, 2595, 2597, 2598, 2609, 2610, 2611, 2612,\n",
      "       2613, 2624, 2625, 2626, 2627, 2629, 2630, 2638, 2640, 2642, 2645,\n",
      "       2647, 2649, 2652, 2658, 2664, 2679, 2680, 2687, 2699, 2713, 2721,\n",
      "       2726, 2790, 2792, 2795, 2826, 3103, 3104, 3158, 3161, 3335, 3363,\n",
      "       3431, 3433, 3434, 3436, 3441, 3442, 3443, 3445, 3471, 3474, 3475,\n",
      "       3476]),)\n"
     ]
    },
    {
     "name": "stderr",
     "output_type": "stream",
     "text": [
      "/gpfs/soma_fs/home/boeger/PpaPred/functions/algebra.py:15: RuntimeWarning: invalid value encountered in divide\n",
      "  unit_vec = np.divide(base,vlen)\n"
     ]
    },
    {
     "name": "stdout",
     "output_type": "stream",
     "text": [
      "INFO:logger:Ffill-Interpolation of nan frames\n",
      "INFO:logger:\n",
      "feature calculation for GGE0136_c_results_150.json_labeldata.csv\n",
      "INFO:logger:Area larger than threshold, collision assumed in [].\n",
      "Calculation of features will be done in splits, ignoring those and adjacent* ranges. *That are less than 1 sec long.\n",
      "INFO:logger:split 0, range: (0, 3970)\n",
      "Following frames seem to be tracked upside down\n",
      "We are going to flip those back:\n",
      "(array([   1,    2,    3, ..., 3967, 3968, 3969]),)\n",
      "Worm seems to travel backwards the majority of time, flipped all centerlines to agree with forward travelling assumption\n"
     ]
    },
    {
     "name": "stderr",
     "output_type": "stream",
     "text": [
      "/gpfs/soma_fs/home/boeger/PpaPred/functions/algebra.py:15: RuntimeWarning: invalid value encountered in divide\n",
      "  unit_vec = np.divide(base,vlen)\n"
     ]
    },
    {
     "name": "stdout",
     "output_type": "stream",
     "text": [
      "INFO:logger:Ffill-Interpolation of nan frames\n",
      "INFO:logger:\n",
      "feature calculation for GGE0136_c_results_45.json_labeldata.csv\n",
      "INFO:logger:Area larger than threshold, collision assumed in [range(480, 481), range(1209, 1211), range(1214, 1215)].\n",
      "Calculation of features will be done in splits, ignoring those and adjacent* ranges. *That are less than 1 sec long.\n",
      "INFO:logger:split 0, range: (0, 480)\n",
      "Following frames seem to be tracked upside down\n",
      "We are going to flip those back:\n",
      "(array([114, 441, 455, 456, 457, 458, 459, 460, 461, 462, 463, 464, 465,\n",
      "       466, 467, 468, 469, 470, 471, 472, 473, 474, 479]),)\n",
      "INFO:logger:split 1, range: (481, 1209)\n",
      "Following frames seem to be tracked upside down\n",
      "We are going to flip those back:\n",
      "(array([  1,   2,   3,   4,   5,   6,   7,   8,   9,  10,  11,  12,  13,\n",
      "        14,  15,  16,  17,  18,  19,  20,  21,  22,  23,  24,  25,  26,\n",
      "        27,  28,  29,  30,  31,  32,  33,  34,  35,  36,  37,  38,  39,\n",
      "        40,  41,  42,  43,  44,  45,  46,  47,  48,  49,  50,  51,  52,\n",
      "        53,  54,  55,  56,  57,  58,  59,  60,  61,  62,  63,  64,  65,\n",
      "        66,  67,  68,  69,  70,  71,  72,  73,  74,  75,  76,  77,  78,\n",
      "        79,  80,  81,  82,  83,  84,  85,  86,  87,  88,  89,  90,  91,\n",
      "        92,  93,  94,  95,  96,  97,  98,  99, 100, 101, 102, 103, 104,\n",
      "       105, 106, 107, 108, 109, 110, 111, 112, 113, 114, 115, 116, 117,\n",
      "       118, 119, 120, 121, 122, 123, 124, 125, 126, 127, 128, 129, 130,\n",
      "       131, 132, 133, 134, 135, 136, 137, 138, 139, 140, 141, 142, 143,\n",
      "       144, 145, 146, 147, 148, 149, 150, 151, 152, 153, 154, 155, 156,\n",
      "       157, 158, 159, 160, 161, 162, 163, 164, 165, 166, 167, 198, 199,\n",
      "       202, 203, 204, 205, 206, 207, 208, 209, 210, 211, 212, 213, 214,\n",
      "       215, 216, 217, 218, 219, 220, 221, 222, 223, 224, 225, 226, 227,\n",
      "       228, 229, 230, 231, 232, 233, 234, 235, 236, 237, 238, 239, 240,\n",
      "       241, 242, 243, 244, 245, 246, 247, 248, 249, 250, 251, 252, 253,\n",
      "       254, 255, 256, 257, 258, 259, 260, 261, 262, 263, 264, 265, 266,\n",
      "       267, 268, 269, 270, 271, 272, 273, 274, 275, 276, 277, 278, 279,\n",
      "       280, 281, 282, 283, 284, 285, 286, 287, 288, 289, 290, 291, 292,\n",
      "       293, 294, 295, 296, 297, 298, 299, 300, 301, 302, 303, 304, 305,\n",
      "       306, 307, 308, 309, 310, 311, 312, 313, 314, 315, 316, 317, 318,\n",
      "       319, 320, 321, 322, 323, 324, 325, 326, 327, 328, 329, 330, 331,\n",
      "       332, 333, 334, 335, 336, 337, 338, 339, 340, 341, 342, 343, 344,\n",
      "       345, 346, 347, 348, 349, 350, 351, 352, 353, 354, 355, 356, 357,\n",
      "       358, 359, 360, 361, 362, 363, 364, 365, 366, 367, 368, 369, 370,\n",
      "       371, 372, 373, 374, 375, 376, 377, 378, 379, 380, 381, 382, 383,\n",
      "       384, 385, 386, 387, 388, 389, 390, 391, 392, 393, 394, 395, 396,\n",
      "       397, 398, 399, 400, 401, 402, 403, 404, 405, 406, 407, 408, 409,\n",
      "       410, 411, 412, 413, 414, 415, 416, 417, 418, 419, 420, 421, 422,\n",
      "       423, 424, 425, 426, 427, 428, 429, 430, 431, 432, 433, 434, 435,\n",
      "       436, 437, 438, 439, 440, 441, 442, 443, 444, 445, 446, 447, 448,\n",
      "       449, 450, 451, 452, 453, 454, 455, 456, 457, 458, 459, 460, 461,\n",
      "       462, 463, 464, 465, 466, 467, 468, 469, 470, 471, 472, 473, 474,\n",
      "       475, 476, 477, 478, 479, 480, 481, 482, 483, 484, 485, 486, 487,\n",
      "       488, 489, 490, 491, 492, 493, 494, 495, 496, 497, 498, 499, 500,\n",
      "       501, 502, 503, 504, 505, 506, 507, 508, 509, 510, 511, 512, 513,\n",
      "       514, 515, 516, 517, 518, 519, 520, 521, 522, 523, 524, 525, 526,\n",
      "       527, 528, 529, 530, 531, 532, 533, 534, 535, 536, 537, 538, 539,\n",
      "       540, 541, 542, 543, 544, 545, 546, 547, 548, 549, 550, 551, 552,\n",
      "       553, 554, 555, 556, 557, 558, 559, 560, 561, 562, 563, 564, 565,\n",
      "       566, 567, 568, 569, 570, 571, 572, 573, 574, 575, 576, 577, 578,\n",
      "       579, 580, 581, 582, 583, 584, 585, 586, 587, 588, 589, 590, 591,\n",
      "       592, 593, 594, 595, 596, 597, 598, 599, 600, 601, 602, 603, 604,\n",
      "       605, 606, 607, 608, 609, 610, 611, 612, 613, 614, 615, 616, 617,\n",
      "       618, 619, 620, 621, 622, 623, 624, 625, 626, 627, 628, 629, 630,\n",
      "       631, 632, 633, 634, 635, 636, 637, 638, 639, 640, 641, 642, 643,\n",
      "       644, 645, 646, 647, 648, 649, 650, 651, 652, 653, 654, 655, 656,\n",
      "       657, 658, 659, 660, 661, 662, 663, 664, 665, 666, 667, 668, 669,\n",
      "       670, 671, 672, 673, 674, 675, 676, 677, 678, 679, 680, 681, 682,\n",
      "       683, 684, 685, 686, 687, 688, 689, 690, 691, 692, 693, 694, 695,\n",
      "       697, 698, 699, 700, 701, 702, 703, 704, 705, 706, 707, 708, 709,\n",
      "       710, 711, 712, 713, 715, 716, 717]),)\n",
      "Worm seems to travel backwards the majority of time, flipped all centerlines to agree with forward travelling assumption\n",
      "INFO:logger:split 2, range: (1215, 1837)\n",
      "Following frames seem to be tracked upside down\n",
      "We are going to flip those back:\n",
      "(array([ 4,  5,  7, 40, 41, 44, 45, 47, 48, 49, 50, 51, 52, 53, 57, 58, 67,\n",
      "       68, 70, 72, 73, 74]),)\n",
      "INFO:logger:Ffill-Interpolation of nan frames\n"
     ]
    }
   ],
   "source": [
    "XYs, CLines  = FeatureEngine.run(inpath, out_engine, logger, return_XYCLine =True)"
   ]
  },
  {
   "cell_type": "code",
   "execution_count": 60,
   "id": "61b5dbd8-a16a-436b-bd59-d20a137d4d27",
   "metadata": {},
   "outputs": [],
   "source": [
    "def CLtrajectory_plotter(CLine, XY, cluster_color = 'k', figsize=(10,10)):\n",
    "    fig, ax = plt.subplots(figsize=figsize)\n",
    "    adjustCL = (CLine-np.nanmean(CLine))+np.repeat(XY.reshape(XY.shape[0],1,XY.shape[1]), CLine.shape[1], axis=1)-np.nanmean(XY, axis=0)# fits better than subtracting 50\n",
    "    adjustXY = XY-np.nanmean(XY, axis=0)\n",
    "    \n",
    "    ax.plot(*adjustCL.T, c=cluster_color, alpha = 0.1)\n",
    "    ax.set_title(fn)\n",
    "    ax.axis('equal')\n",
    "    return fig"
   ]
  },
  {
   "cell_type": "code",
   "execution_count": 61,
   "id": "0c7e3be7-5f38-4793-93e9-340a6e39f4d0",
   "metadata": {
    "scrolled": true,
    "tags": []
   },
   "outputs": [
    {
     "name": "stderr",
     "output_type": "stream",
     "text": [
      "  0%|          | 0/40 [00:00<?, ?it/s]\n"
     ]
    },
    {
     "data": {
      "image/png": "[encoded data removed]",
      "text/plain": [
       "<Figure size 500x500 with 1 Axes>"
      ]
     },
     "metadata": {},
     "output_type": "display_data"
    }
   ],
   "source": [
    "for fn in tqdm.tqdm(os.listdir(out_engine)):\n",
    "    if 'features.json' in fn:\n",
    "        \n",
    "        XY = XYs['_'.join(fn.split('_')[:4])+'.json_labeldata.csv']\n",
    "        CLine = CLines['_'.join(fn.split('_')[:4])+'.json_labeldata.csv']\n",
    "        \n",
    "        CLtrajectory_plot = CLtrajectory_plotter(CLine, XY, cluster_color = 'k', figsize=(5,5),)\n",
    "        #plt.savefig('CL_test.png')\n",
    "        #plt.savefig(os.path.join(out_predicted, '_'.join(fn.split('_')[:4]+['CLtrajectory.pdf'])))\n",
    "        CLtrajectory_plot.show()\n",
    "        break"
   ]
  },
  {
   "cell_type": "code",
   "execution_count": 87,
   "id": "4a5613ed-d3a8-4f5b-b126-f4e9183cfd46",
   "metadata": {},
   "outputs": [],
   "source": [
    "import plotly.express as px\n",
    "def CLtrajectory_scatter(CLine, XY, cluster_color = 'k', figsize=(10,10), cmap = cm.get_cmap('viridis')):\n",
    "    adjustCL = (CLine-np.nanmean(CLine))+np.repeat(XY.reshape(XY.shape[0],1,XY.shape[1]), CLine.shape[1], axis=1)-np.nanmean(XY, axis=0)# fits better than subtracting 50\n",
    "    adjustXY = XY-np.nanmean(XY, axis=0)\n",
    "    # Create a color map\n",
    "    \n",
    "    if not isinstance(cluster_color, str):\n",
    "        feat = cluster_color.name\n",
    "        cluster_color = np.repeat(cluster_color.values[:,np.newaxis],100, axis=1)\n",
    "    \n",
    "    # Plot\n",
    "    plt.figure(figsize=(10, 6))\n",
    "    \n",
    "    # Use a scatter plot to avoid for loop\n",
    "    plt.scatter(adjustCL[:, :, 0], adjustCL[:, :, 1], c=cluster_color, cmap=cmap, marker='.', s=.2)\n",
    "    plt.colorbar(label=feat) \n",
    "    plt.title(fn)\n",
    "    plt.axis('equal')\n",
    "    return fig"
   ]
  },
  {
   "cell_type": "code",
   "execution_count": 89,
   "id": "41b6e9a6-5a2f-45b5-8db0-2a07cf8c0519",
   "metadata": {},
   "outputs": [
    {
     "name": "stderr",
     "output_type": "stream",
     "text": [
      "  0%|          | 0/41 [00:00<?, ?it/s]\n"
     ]
    },
    {
     "data": {
      "image/png": "[encoded data removed]",
      "text/plain": [
       "<Figure size 1000x600 with 2 Axes>"
      ]
     },
     "metadata": {},
     "output_type": "display_data"
    }
   ],
   "source": [
    "for fn in tqdm.tqdm(os.listdir(out_engine)):\n",
    "    if 'features.json' in fn:\n",
    "        d = pd.read_json(os.path.join(out_engine,fn), orient='split')\n",
    "        XY = XYs['_'.join(fn.split('_')[:4])+'.json_labeldata.csv']\n",
    "        CLine = CLines['_'.join(fn.split('_')[:4])+'.json_labeldata.csv']\n",
    "        \n",
    "        CLtrajectory_plot = CLtrajectory_scatter(CLine, XY, cluster_color = d['velocity'], figsize=(5,5),)\n",
    "        #plt.savefig('CL_test.png')\n",
    "        #plt.savefig(os.path.join(out_predicted, '_'.join(fn.split('_')[:4]+['CLtrajectory.pdf'])))\n",
    "        CLtrajectory_plot.show()\n",
    "        break"
   ]
  },
  {
   "cell_type": "code",
   "execution_count": null,
   "id": "4a71c97f-f82a-45b0-b9ac-ffd99b086c81",
   "metadata": {},
   "outputs": [],
   "source": []
  }
 ],
 "metadata": {
  "kernelspec": {
   "display_name": "sklearn-env2",
   "language": "python",
   "name": "sklearn-env2"
  },
  "language_info": {
   "codemirror_mode": {
    "name": "ipython",
    "version": 3
   },
   "file_extension": ".py",
   "mimetype": "text/x-python",
   "name": "python",
   "nbconvert_exporter": "python",
   "pygments_lexer": "ipython3",
   "version": "3.8.15"
  }
 },
 "nbformat": 4,
 "nbformat_minor": 5
}
