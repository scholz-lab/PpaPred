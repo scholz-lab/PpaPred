{
 "cells": [
  {
   "cell_type": "code",
   "execution_count": 1,
   "id": "14b5538c-c780-4848-9d27-e2079b7f5f5b",
   "metadata": {
    "scrolled": true
   },
   "outputs": [],
   "source": [
    "import os\n",
    "import time\n",
    "import tqdm\n",
    "import numpy as np\n",
    "import pandas as pd\n",
    "import json\n",
    "import itertools\n",
    "import sys\n",
    "\n",
    "sys.path.append(os.path.expanduser('~'))\n",
    "from PpaPy.helper.io import makedir\n",
    "from functions.read_write import NanConverter, load_data_from_keys\n",
    "\n",
    "import warnings\n",
    "warnings.filterwarnings(action='ignore', message='Mean of empty slice')"
   ]
  },
  {
   "cell_type": "markdown",
   "id": "18efb6f1-ab9d-4f9b-a4ec-50a1e27fd49c",
   "metadata": {},
   "source": [
    "Please provide where your files are stored and where you would like your data to be saved in the following section."
   ]
  },
  {
   "cell_type": "code",
   "execution_count": 8,
   "id": "2d0a3bd5-29bf-44e3-bbe5-231912f5022c",
   "metadata": {
    "scrolled": true
   },
   "outputs": [],
   "source": [
    "datestr = time.strftime(\"%Y%m%d-%HH%MM\")\n",
    "inpath = \"/gpfs/soma_fs/scratch/src/boeger/PpaPred_eren_35727184/ErenBoeger_2024\" \n",
    "#inpath = '/gpfs/soma_fs/scratch/src/boeger/PpaPred_roca_35727184'\n",
    "\n",
    "outpath = makedir(f\"/gpfs/soma_fs/home/boeger/PpaPred/{os.path.basename(inpath)}\")\n",
    "\n",
    "# Eren Boeger 2024\n",
    "#inpath_pattern = [\"Exp1_WT_larvae\", \"Exp1_WT_OP50\"]     \n",
    "#inpath_pattern = [\"Exp2_WT_larvae\", \"Exp2_tph1_larvae\", \"Exp2_cat2_larvae\", \"Exp2_tdc1_larvae\", \"Exp2_tbh1_larvae\"]\n",
    "#inpath_pattern = [\"Exp3_tdc1_larvae\", \"Exp3_tyra2_larvae\", \"Exp3_ser2_larvae\", \"Exp3_tyra3_larvae\", \"Exp3_lgc55_larvae\"]\n",
    "#inpath_pattern = [\"Exp3_ser3_larvae\", \"Exp3_ser6_larvae\", \"Exp3_octr1_larvae\"]\n",
    "inpath_pattern = [\"Exp3_WT_larvae\", \"Exp3_tbh1_larvae\",]\n",
    "#inpath_pattern = [\"Supp5_WT_larvae\" \"Supp5_tyramine_larvae\", \"Supp5_octopamine_larvae\", \"Supp4_tbh1tdc1_larvae\", \"Supp7_ser2tyra2tyra3_larvae\"]\n",
    "\n",
    "inpath_with_subfolders = True\n",
    "\n",
    "overwrite = True"
   ]
  },
  {
   "cell_type": "code",
   "execution_count": null,
   "id": "c18cd8a9-11b0-4824-912e-6b8fd8c6c5c0",
   "metadata": {},
   "outputs": [],
   "source": []
  },
  {
   "cell_type": "code",
   "execution_count": 9,
   "id": "85c7a6a7-15ef-4994-a144-8bea8bf99f39",
   "metadata": {
    "scrolled": true
   },
   "outputs": [
    {
     "name": "stdout",
     "output_type": "stream",
     "text": [
      "Exp3_WT_larvae\n"
     ]
    },
    {
     "name": "stderr",
     "output_type": "stream",
     "text": [
      "100%|██████████| 170/170 [02:35<00:00,  1.09it/s]\n"
     ]
    },
    {
     "name": "stdout",
     "output_type": "stream",
     "text": [
      "Exp3_tbh1_larvae\n"
     ]
    },
    {
     "name": "stderr",
     "output_type": "stream",
     "text": [
      "100%|██████████| 197/197 [02:30<00:00,  1.31it/s]\n"
     ]
    }
   ],
   "source": [
    "for data_str in inpath_pattern:\n",
    "    print(data_str)\n",
    "    ### I/O ################################################\n",
    "    pattern_dir = [os.path.join(root, name) for root, dirs, files in os.walk(inpath) for name in dirs if data_str in name][0]\n",
    "    all_files = [os.path.join(root, name) for root, dirs, files in os.walk(pattern_dir) for name in files if name.endswith('json') or name.endswith('csv') ]\n",
    "    loc_all = {os.path.basename(f):f for f in all_files if 'prediction.json' in f}\n",
    "    loc_summ = [f for f in all_files if 'summary.csv' in f]\n",
    "    loc_trans =  [f for f in all_files if 'transitions.csv' in f]\n",
    "    #loc_onoff = [f for f in all_files if 'onoff.json' in f]\n",
    "\n",
    "    if outpath is None:\n",
    "        outpath = os.path.commonpath(loc_all.values())\n",
    "    JsonOut = os.path.join(outpath,f'{data_str}_batch.json')\n",
    "\n",
    "    ### Load and save to batch json ##################################\n",
    "    for fn,fpath in tqdm.tqdm(loc_all.items()):\n",
    "        id = '_'.join(fn.split('_')[:-1])\n",
    "        data = pd.read_json(fpath, orient='split')\n",
    "        y = data['prediction']\n",
    "        if 8 in np.unique(y):\n",
    "            print(f\"Warning: {fn}\")\n",
    "    \n",
    "        proba = data.filter(regex='proba')\n",
    "        idx = proba.columns.str.split('_', expand=True)\n",
    "        proba.columns = idx\n",
    "        mean_probas = {cl:np.nanmean(proba.loc[:,('proba',cl)][y == eval(cl)]) for cl in proba.columns.levels[1]}\n",
    "        \n",
    "        summ_ = pd.read_csv([l for l in loc_summ if id in l][0])\n",
    "        \n",
    "        fr_transition_ = pd.read_csv([l for l in loc_trans if id in l][0], index_col=0)\n",
    "        fr_transition_[fr_transition_==0] = np.nan # for now until processing in FeedingPrediction is fixed\n",
    "        fr_transition_tuple = dict(zip(str(list(itertools.product(fr_transition_.columns.astype(int), fr_transition_.index))).strip('[()]').split('), ('), fr_transition_.values.T.flatten()))\n",
    "\n",
    "        data_mean = data[['velocity', 'rate', 'prediction']].groupby('prediction').mean().reindex(range(-1,8))\n",
    "        \n",
    "        # prep of json file structure\n",
    "        etho = {id:{'count':summ_.duration_count.fillna(0).to_dict(),\n",
    "                    'mean duration':summ_.duration_mean.to_dict(),\n",
    "                    'rel time in': summ_.duration_relative.fillna(0).to_dict(),\n",
    "                    'mean velocity': data_mean.velocity.to_dict(),\n",
    "                    'mean rate': data_mean.rate.to_dict(),\n",
    "                    'mean transitions':fr_transition_tuple,\n",
    "                    'mean prediction probability': mean_probas,\n",
    "                    'ethogram':y.to_list()}}\n",
    "        \n",
    "        # if file exists and overwrite is false\n",
    "        ow_org = overwrite\n",
    "        if os.path.isfile(JsonOut) and not overwrite:\n",
    "            with open(JsonOut, \"r\") as jsonfile:\n",
    "                batch = json.load(jsonfile)\n",
    "        else:\n",
    "            batch = {}\n",
    "            overwrite = False\n",
    "        \n",
    "        batch.update(etho)\n",
    "        jsnF = json.dumps(batch, indent = 4, cls=NanConverter)\n",
    "        with open(JsonOut, \"w\") as outfile:\n",
    "            outfile.write(jsnF)\n",
    "\n",
    "    overwrite = ow_org"
   ]
  },
  {
   "cell_type": "code",
   "execution_count": 6,
   "id": "8fd88a81-9105-4636-8af5-4028aea2a491",
   "metadata": {},
   "outputs": [
    {
     "data": {
      "text/plain": [
       "['/gpfs/soma_fs/scratch/src/boeger/PpaPred_eren_35727184/Exp2_WT_larvae_discarded']"
      ]
     },
     "execution_count": 6,
     "metadata": {},
     "output_type": "execute_result"
    }
   ],
   "source": [
    "[os.path.join(root, name) for root, dirs, files in os.walk(inpath) for name in dirs if data_str in name]"
   ]
  },
  {
   "cell_type": "code",
   "execution_count": 7,
   "id": "37a903ed-7034-45c4-acc2-b2de54027a10",
   "metadata": {},
   "outputs": [
    {
     "data": {
      "text/plain": [
       "('/gpfs/soma_fs/scratch/src/boeger/PpaPred_eren_35727184',\n",
       " ['Exp2_cat2_larvae',\n",
       "  'Exp2_tbh1_larvae',\n",
       "  'Exp2_tph1_larvae',\n",
       "  'Pharma_octopamine_larvae',\n",
       "  'Exp2_WT_larvae_discarded',\n",
       "  'Exp3_ser2_larvae',\n",
       "  'Exp2_tdc1_larvae',\n",
       "  'Exp3_tdc1_larvae',\n",
       "  'Exp3_ser6_larvae',\n",
       "  'Pharma_tyramine_larvae',\n",
       "  'Exp3_tyra2_larvae',\n",
       "  'Exp3_tbh1_larvae',\n",
       "  'Exp1_WT_OP50',\n",
       "  'Exp3_ser3_larvae',\n",
       "  'Exp3_tyra3_larvae',\n",
       "  'Exp3_tbh1tdc1_larvae',\n",
       "  'Exp3_lgc55_larvae',\n",
       "  'Exp1_WT_larvae',\n",
       "  'Exp3_WT_larvae',\n",
       "  'Exp3_octr1_larvae'],\n",
       " ['20240515-16H10M_PpaForagingPrediction.log',\n",
       "  '39952187_20240617-12H22M_PpaForagingPrediction.log',\n",
       "  '36549508_20240523-10H51M_PpaForagingPrediction.log',\n",
       "  '36534869_20240523-09H22M_PpaForagingPrediction.log',\n",
       "  '36553226_20240523-11H06M_PpaForagingPrediction.log',\n",
       "  '36534870_20240523-09H22M_PpaForagingPrediction.log',\n",
       "  '36391051_20240522-11H18M_PpaForagingPrediction.log',\n",
       "  '39952495_20240617-12H44M_PpaForagingPrediction.log',\n",
       "  '36555248_20240523-11H54M_PpaForagingPrediction.log',\n",
       "  '39954747_20240617-14H13M_PpaForagingPrediction.log',\n",
       "  '39954187_20240617-13H29M_PpaForagingPrediction.log',\n",
       "  '36384904_20240522-10H49M_PpaForagingPrediction.log',\n",
       "  '20240521-18H07M_PpaForagingPrediction.log',\n",
       "  '39952494_20240617-12H44M_PpaForagingPrediction.log',\n",
       "  '39952186_20240617-12H22M_PpaForagingPrediction.log',\n",
       "  '36384891_20240522-10H33M_PpaForagingPrediction.log',\n",
       "  '3featureboxplot.pdf',\n",
       "  '20240515-16H15M_PpaForagingPrediction.log',\n",
       "  '36386919_20240522-11H06M_PpaForagingPrediction.log',\n",
       "  '39971126_20240618-16H49M_PpaForagingPrediction.log'])"
      ]
     },
     "execution_count": 7,
     "metadata": {},
     "output_type": "execute_result"
    }
   ],
   "source": [
    "next(os.walk(inpath))"
   ]
  },
  {
   "cell_type": "code",
   "execution_count": null,
   "id": "b55bdede-4c36-43d4-8c33-9d2d40f87a36",
   "metadata": {},
   "outputs": [],
   "source": []
  }
 ],
 "metadata": {
  "kernelspec": {
   "display_name": "sklearn-env2",
   "language": "python",
   "name": "sklearn-env2"
  },
  "language_info": {
   "codemirror_mode": {
    "name": "ipython",
    "version": 3
   },
   "file_extension": ".py",
   "mimetype": "text/x-python",
   "name": "python",
   "nbconvert_exporter": "python",
   "pygments_lexer": "ipython3",
   "version": "3.8.15"
  }
 },
 "nbformat": 4,
 "nbformat_minor": 5
}
