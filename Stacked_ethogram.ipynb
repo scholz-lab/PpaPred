{
 "cells": [
  {
   "cell_type": "code",
   "execution_count": 16,
   "metadata": {},
   "outputs": [],
   "source": [
    "# Using dynamax for model inference"
   ]
  },
  {
   "cell_type": "code",
   "execution_count": 14,
   "metadata": {},
   "outputs": [],
   "source": [
    "from functools import partial\n",
    "import matplotlib as mpl\n",
    "import pandas as pd\n",
    "import numpy as np\n",
    "import os\n",
    "#import jax.numpy as jnp\n",
    "#import jax.random as jr\n",
    "import matplotlib.pyplot as plt\n",
    "#from jax import vmap\n",
    "#from jax.nn import one_hot\n",
    "import yaml\n",
    "\n",
    "#from dynamax.hidden_markov_model import CategoricalHMM\n",
    "from mpl_toolkits.axes_grid1 import make_axes_locatable"
   ]
  },
  {
   "cell_type": "code",
   "execution_count": 3,
   "metadata": {
    "tags": []
   },
   "outputs": [],
   "source": [
    "# setting\n",
    "config_path = \"config.yml\"\n",
    "config = yaml.safe_load(open(config_path, \"r\"))\n",
    "cluster_color = config['cluster_color']\n",
    "cluster_group = config['cluster_group_man']\n",
    "cluster_label = config['cluster_names']"
   ]
  },
  {
   "cell_type": "code",
   "execution_count": 6,
   "metadata": {},
   "outputs": [],
   "source": [
    "# plotting helper dictionaries\n",
    "def ethogram_only_plotter(y, onoff, cluster_color, figsize=(20,2), fps=30,xtick_spread=100):\n",
    "    timeinsec = np.array(range(len(y)))/fps\n",
    "    \n",
    "    fig, ax = plt.subplots(1, figsize=figsize,constrained_layout=True)\n",
    "    \n",
    "    for c in np.unique(y).astype(int):\n",
    "        axs[0].broken_barh(onoff[c],(0,1),facecolors = cluster_color[c])\n",
    "    axs[0].set_xticks(range(len(timeinsec))[::xtick_spread*fps])\n",
    "    axs[0].set_xticklabels(timeinsec[::xtick_spread*fps].astype(int))\n",
    "    axs[0].set_title(f'Cluster preditcion (smoothed {smooth/fps} sec).')\n",
    "\n",
    "    plt.legend(handles=[Patch(facecolor=cluster_color[i]) for i in np.unique(y).astype(int)],\n",
    "          labels=[clu_group_label[k] for k in cluster_label if k in np.unique(y)],\n",
    "          ncol=3, loc='upper left',\n",
    "          bbox_to_anchor=(0, -0.5))\n",
    "    fig.suptitle(f'Ethogram of {fn}',fontsize=16)\n",
    "    return fig\n",
    "\n",
    "def extract_ethograms(df, nsamples, downsample=1):\n",
    "    tmp = []\n",
    "    count = []\n",
    "    for col in df.columns[nsamples]:\n",
    "        etho = df[col]['ethogram']\n",
    "        etho = [e for e in etho if e!=-1]\n",
    "        tmp.append(etho[::downsample])\n",
    "        count.append(len(etho))\n",
    "    # crop to min length\n",
    "    lens =[len(a) for a in tmp]\n",
    "    min_len = int(np.mean(lens))\n",
    "    #tmp = [a[:min_len] for a in tmp]\n",
    "    tmp = [np.pad(a, pad_width=(0, int(np.max([min_len-len(a),0]))),mode='constant', constant_values=-1)[:min_len] for a in tmp]\n",
    "    return np.array(tmp), count\n",
    "\n",
    "\n",
    "def plot_ethograms(ax, data, cluster_color, cluster_label, cbar = False, fps=30):\n",
    "    colors = [c for c in cluster_color.values()]\n",
    "    cmap_cluster = mpl.colors.ListedColormap(colors, name='cluster', N=None)\n",
    "    #\n",
    "    timeinsec = np.arange(data.shape[1]/fps)\n",
    "    xtick_spread = 30\n",
    "    # set limits .5 outside true range\n",
    "    mat = ax.imshow(data, cmap=cmap_cluster, vmin=-1, \n",
    "                      vmax=5, aspect='auto', extent = (min(timeinsec), max(timeinsec),0,data.shape[0]), origin='lower', interpolation='nearest')\n",
    "    #print(range(len(timeinsec))[::xtick_spread*fps])\n",
    "    ax.set_xticks(np.arange(min(timeinsec), np.max(timeinsec), xtick_spread))\n",
    "    if cbar:\n",
    "        divider = make_axes_locatable(ax)\n",
    "        cax = divider.append_axes('right', size='5%', pad=0.25)\n",
    "        # tell the colorbar to tick at integers\n",
    "        n_clusters = len(cluster_label)\n",
    "        offset = (n_clusters-1)/(n_clusters)\n",
    "        tick_locs = np.arange(-0.6,n_clusters-2,offset)#*0.6#*(n_clusters-2)/(n_clusters-1)\n",
    "        cbar = plt.colorbar(mat,cax=cax, ticks=tick_locs)#, norm=norm)#, shrink=0.5)\n",
    "        cbar.ax.set_yticklabels([c for c in cluster_label.values()])\n",
    "    return mat"
   ]
  },
  {
   "cell_type": "markdown",
   "metadata": {
    "partialCollapse": true,
    "tags": []
   },
   "source": [
    "### I/O - read data and visualize"
   ]
  },
  {
   "cell_type": "code",
   "execution_count": 15,
   "metadata": {
    "tags": []
   },
   "outputs": [],
   "source": [
    "# example sequence\n",
    "inpath = '/gpfs/soma_fs/home/boeger/PpaPred/ErenBoeger_2024'\n",
    "dset1 = os.path.join(inpath,'Exp1_WT_larvae_batch.json')\n",
    "dset2 = os.path.join(inpath,'Exp1_WT_OP50_batch.json')\n",
    "df_op50 = pd.read_json(dset2)\n",
    "df_larvae = pd.read_json(dset1)"
   ]
  },
  {
   "cell_type": "code",
   "execution_count": 16,
   "metadata": {},
   "outputs": [],
   "source": [
    "etho_op50, counts = extract_ethograms(df_op50, nsamples=np.arange(len(df_op50.columns)), downsample=15)\n",
    "etho_larvae, counts = extract_ethograms(df_larvae, nsamples=np.arange(len(df_larvae.columns)), downsample=15)"
   ]
  },
  {
   "cell_type": "code",
   "execution_count": 22,
   "metadata": {},
   "outputs": [
    {
     "data": {
      "image/png": "[encoded data removed]",
      "text/plain": [
       "<Figure size 800x500 with 2 Axes>"
      ]
     },
     "metadata": {},
     "output_type": "display_data"
    }
   ],
   "source": [
    "f, ax = plt.subplots(1,2, figsize=(8,5))\n",
    "plot_ethograms(ax[0], etho_larvae, cluster_color,cluster_label, fps=2)\n",
    "plot_ethograms(ax[1], etho_op50, cluster_color,cluster_label, fps=2)\n",
    "ax[0].set_ylabel('Tracks')\n",
    "plt.setp(ax,xlim=(0,60), ylim=(0,131), xlabel= 'Time (s)')\n",
    "ax[0].set_title('On larvae')\n",
    "ax[1].set_title('On bacteria')\n",
    "plt.savefig(os.path.join(inpath, \"Exp1\", 'Ethograms_stacked.pdf'))"
   ]
  },
  {
   "cell_type": "markdown",
   "metadata": {},
   "source": [
    "## Set up the Categorical HMM"
   ]
  },
  {
   "cell_type": "raw",
   "metadata": {},
   "source": [
    "\n",
    "\n",
    "\n",
    "def plot_map_sequence(most_likely_states, states):\n",
    "    plt.imshow(states[None, :], extent=(0, num_timesteps, -0.05, 1.05), \n",
    "               interpolation=\"none\", aspect=\"auto\", cmap=\"Greys\", alpha=0.25)\n",
    "    plt.plot(most_likely_states)\n",
    "    plt.xlabel(\"time\")\n",
    "    plt.ylabel(\"MAP state\")\n",
    "    plt.ylim(-0.05, 1.05)\n",
    "    plt.yticks([0, 1])\n",
    "    plt.title(\"Viterbi estimate\")\n",
    "    \n",
    "def print_params(params):\n",
    "    jnp.set_printoptions(formatter={'float': lambda x: \"{0:0.3f}\".format(x)})\n",
    "    print(\"initial probs:\")\n",
    "    print(params.initial.probs)\n",
    "    print(\"transition matrix:\")\n",
    "    print(params.transitions.transition_matrix)\n",
    "    print(\"emission probs:\")\n",
    "    print(params.emissions.probs[:, 0, :]) # since num_emissions = 1\n",
    "    \n",
    "def plot_sequence(states, emissions):\n",
    "    plt.imshow(one_hot(emissions[:, 0], 6).T, \n",
    "               aspect=\"auto\", interpolation=\"none\", cmap=\"Greys\")\n",
    "    plt.imshow(states[None, :], extent=(0, num_timesteps, num_classes-.5, -.5), \n",
    "               interpolation=\"none\", aspect=\"auto\", cmap=\"Greys\", alpha=0.25)\n",
    "    plt.xlabel(\"time\")\n",
    "    plt.ylabel(\"emission\")\n",
    "    plt.yticks(jnp.arange(6), jnp.arange(6) + 1)    # b/c python is zero indexed!\n",
    "    plt.title(\"sampled sequence (white=fair, gray=loaded)\")\n",
    "    \n",
    "    \n",
    "    # plotting helper dictionaries\n",
    "def ethogram_only_plotter(y, onoff, cluster_color, figsize=(20,2), fps=30,xtick_spread=100):\n",
    "    timeinsec = np.array(range(len(y)))/fps\n",
    "    \n",
    "    fig, ax = plt.subplots(1, figsize=figsize,constrained_layout=True)\n",
    "    \n",
    "    for c in np.unique(y).astype(int):\n",
    "        axs[0].broken_barh(onoff[c],(0,1),facecolors = cluster_color[c])\n",
    "    axs[0].set_xticks(range(len(timeinsec))[::xtick_spread*fps])\n",
    "    axs[0].set_xticklabels(timeinsec[::xtick_spread*fps].astype(int))\n",
    "    axs[0].set_title(f'Cluster preditcion (smoothed {smooth/fps} sec).')\n",
    "\n",
    "    plt.legend(handles=[Patch(facecolor=cluster_color[i]) for i in np.unique(y).astype(int)],\n",
    "          labels=[clu_group_label[k] for k in cluster_label if k in np.unique(y)],\n",
    "          ncol=3, loc='upper left',\n",
    "          bbox_to_anchor=(0, -0.5))\n",
    "    fig.suptitle(f'Ethogram of {fn}',fontsize=16)\n",
    "    return fig\n",
    "\n",
    "def extract_ethograms(df, nsamples, downsample=1):\n",
    "    tmp = []\n",
    "    count = []\n",
    "    for col in df.columns[nsamples]:\n",
    "        etho = df[col]['ethogram']\n",
    "        etho = [e for e in etho if e!=-1]\n",
    "        tmp.append(etho[::downsample])\n",
    "        count.append(len(etho))\n",
    "    # crop to min length\n",
    "    lens =[len(a) for a in tmp]\n",
    "    min_len = int(np.mean(lens))\n",
    "    #tmp = [a[:min_len] for a in tmp]\n",
    "    tmp = [np.pad(a, pad_width=(0, int(np.max([min_len-len(a),0]))),mode='constant', constant_values=-1)[:min_len] for a in tmp]\n",
    "    return np.array(tmp), count\n",
    "\n",
    "\n",
    "def plot_ethograms(ax, data, cluster_color, cluster_label, cbar = False, fps=30):\n",
    "    colors = [c for c in cluster_color.values()]\n",
    "    cmap_cluster = mpl.colors.ListedColormap(colors, name='cluster', N=None)\n",
    "    #\n",
    "    timeinsec = np.arange(data.shape[1]/fps)\n",
    "    xtick_spread = 30\n",
    "    # set limits .5 outside true range\n",
    "    mat = ax.imshow(data, cmap=cmap_cluster, vmin=-1, \n",
    "                      vmax=5, aspect='auto', extent = (min(timeinsec), max(timeinsec),0,data.shape[0]), origin='lower', interpolation='nearest')\n",
    "    #print(range(len(timeinsec))[::xtick_spread*fps])\n",
    "    ax.set_xticks(np.arange(min(timeinsec), np.max(timeinsec), xtick_spread))\n",
    "    if cbar:\n",
    "        divider = make_axes_locatable(ax)\n",
    "        cax = divider.append_axes('right', size='5%', pad=0.25)\n",
    "        # tell the colorbar to tick at integers\n",
    "        n_clusters = len(cluster_label)\n",
    "        offset = (n_clusters-1)/(n_clusters)\n",
    "        tick_locs = np.arange(-0.6,n_clusters-2,offset)#*0.6#*(n_clusters-2)/(n_clusters-1)\n",
    "        cbar = plt.colorbar(mat,cax=cax, ticks=tick_locs)#, norm=norm)#, shrink=0.5)\n",
    "        cbar.ax.set_yticklabels([c for c in cluster_label.values()])\n",
    "    return mat\n"
   ]
  },
  {
   "cell_type": "code",
   "execution_count": 361,
   "metadata": {},
   "outputs": [
    {
     "name": "stdout",
     "output_type": "stream",
     "text": [
      "A.shape: (2, 2)\n",
      "B.shape: (2, 6)\n"
     ]
    }
   ],
   "source": [
    "initial_probs = jnp.array([0.5, 0.5])\n",
    "transition_matrix = jnp.array([[0.995, 0.005], \n",
    "                               [0.010, 0.990]])\n",
    "\n",
    "\n",
    "print(f\"A.shape: {transition_matrix.shape}\")\n",
    "print(f\"B.shape: {emission_probs.shape}\")"
   ]
  },
  {
   "cell_type": "code",
   "execution_count": 382,
   "metadata": {},
   "outputs": [],
   "source": [
    "# let's set the emission probs equal the state probs but we divide it a-priori by the two inferred states\n",
    "total = len(etho_larvae.flatten())\n",
    "\n",
    "emission_probs = jnp.array([[np.sum(etho_larvae==0)/total,  np.sum(etho_larvae==1)/total,  np.sum(etho_larvae==2)/total,  0,0,0],    # predatory\n",
    "                            [0,0,0,np.sum(etho_larvae==3)/total,np.sum(etho_larvae==4)/total,np.sum(etho_larvae==5)/total]])  # docile\n",
    "emission_probs /= np.sum(emission_probs,axis=1)[:,np.newaxis]"
   ]
  },
  {
   "cell_type": "code",
   "execution_count": 383,
   "metadata": {},
   "outputs": [
    {
     "name": "stdout",
     "output_type": "stream",
     "text": [
      "[[0.287 0.192 0.521 0.000 0.000 0.000]\n",
      " [0.000 0.000 0.000 0.303 0.127 0.570]]\n"
     ]
    }
   ],
   "source": [
    "print(emission_probs)"
   ]
  },
  {
   "cell_type": "code",
   "execution_count": 384,
   "metadata": {},
   "outputs": [
    {
     "data": {
      "text/plain": [
       "0.12843696388000186"
      ]
     },
     "execution_count": 384,
     "metadata": {},
     "output_type": "execute_result"
    }
   ],
   "source": [
    "np.sum(etho_larvae==0)/total"
   ]
  },
  {
   "cell_type": "code",
   "execution_count": 385,
   "metadata": {},
   "outputs": [],
   "source": [
    "num_states = 2      # two types of hidden states - predatory or docile\n",
    "num_emissions = 1   # only one behavior is output at a time\n",
    "num_classes = 6     # we have six behavioral states\n",
    "\n",
    "# Construct the HMM\n",
    "hmm = CategoricalHMM(num_states, num_emissions, num_classes)\n",
    "\n",
    "# Initialize the parameters struct with known values\n",
    "params, _ = hmm.initialize(initial_probs=initial_probs,\n",
    "                           transition_matrix=transition_matrix,\n",
    "                           emission_probs=emission_probs.reshape(num_states, num_emissions, num_classes))"
   ]
  },
  {
   "cell_type": "code",
   "execution_count": 386,
   "metadata": {},
   "outputs": [
    {
     "name": "stdout",
     "output_type": "stream",
     "text": [
      "true_states.shape: (3000,)\n",
      "emissions.shape: (3000, 1)\n",
      "\n",
      "First few states:     [1 1 1 1 1]\n",
      "First few emissions:  [5 5 3 5 3]\n"
     ]
    }
   ],
   "source": [
    "num_timesteps = 3000\n",
    "true_states, emissions = hmm.sample(params, jr.PRNGKey(42), num_timesteps)\n",
    "\n",
    "print(f\"true_states.shape: {true_states.shape}\")\n",
    "print(f\"emissions.shape: {emissions.shape}\")\n",
    "print(\"\")\n",
    "print(\"First few states:    \", true_states[:5])\n",
    "print(\"First few emissions: \", emissions[:5, 0])"
   ]
  },
  {
   "cell_type": "code",
   "execution_count": 389,
   "metadata": {},
   "outputs": [
    {
     "name": "stdout",
     "output_type": "stream",
     "text": [
      "batch_states.shape: (50, 3000)\n",
      "batch_emissions.shape: (50, 3000, 1)\n"
     ]
    }
   ],
   "source": [
    "# To sample multiple sequences, just use vmap\n",
    "num_batches = 50\n",
    "\n",
    "batch_states, batch_emissions = \\\n",
    "    vmap(partial(hmm.sample, params, num_timesteps=num_timesteps))(\n",
    "        jr.split(jr.PRNGKey(12), num_batches))\n",
    "\n",
    "print(f\"batch_states.shape: {batch_states.shape}\")\n",
    "print(f\"batch_emissions.shape: {batch_emissions.shape}\")"
   ]
  },
  {
   "cell_type": "code",
   "execution_count": 390,
   "metadata": {},
   "outputs": [
    {
     "data": {
      "text/plain": [
       "Text(0.5, 1.0, 'Model')"
      ]
     },
     "execution_count": 390,
     "metadata": {},
     "output_type": "execute_result"
    },
    {
     "data": {
      "image/png": "[encoded data removed]",
      "text/plain": [
       "<Figure size 800x500 with 3 Axes>"
      ]
     },
     "metadata": {},
     "output_type": "display_data"
    }
   ],
   "source": [
    "f, ax = plt.subplots(1,2, figsize=(8,5))\n",
    "plot_ethograms(ax[0], etho_larvae, cluster_color,cluster_label, fps=2)\n",
    "plot_ethograms(ax[1], batch_emissions, cluster_color,cluster_label, cbar = True, fps=1)\n",
    "ax[0].set_ylabel('Tracks')\n",
    "plt.setp(ax, xlim=(0,90), xlabel= 'Time (s)')\n",
    "ax[0].set_title('On larvae')\n",
    "ax[1].set_title('Model')\n",
    "#plt.savefig('Ethograms_categorical.pdf')"
   ]
  },
  {
   "cell_type": "code",
   "execution_count": 345,
   "metadata": {},
   "outputs": [
    {
     "data": {
      "image/png": "[encoded data removed]",
      "text/plain": [
       "<Figure size 640x480 with 1 Axes>"
      ]
     },
     "metadata": {},
     "output_type": "display_data"
    }
   ],
   "source": [
    "plot_sequence(batch_states[0], batch_emissions[0])"
   ]
  },
  {
   "cell_type": "code",
   "execution_count": null,
   "metadata": {},
   "outputs": [],
   "source": []
  },
  {
   "cell_type": "code",
   "execution_count": 391,
   "metadata": {},
   "outputs": [
    {
     "ename": "AssertionError",
     "evalue": "array does not match expected shape!",
     "output_type": "error",
     "traceback": [
      "\u001b[0;31m---------------------------------------------------------------------------\u001b[0m",
      "\u001b[0;31mAssertionError\u001b[0m                            Traceback (most recent call last)",
      "Cell \u001b[0;32mIn[391], line 3\u001b[0m\n\u001b[1;32m      1\u001b[0m key \u001b[38;5;241m=\u001b[39m jr\u001b[38;5;241m.\u001b[39mPRNGKey(\u001b[38;5;241m0\u001b[39m)\n\u001b[1;32m      2\u001b[0m em_params, em_param_props \u001b[38;5;241m=\u001b[39m hmm\u001b[38;5;241m.\u001b[39minitialize(key)\n\u001b[0;32m----> 3\u001b[0m em_params, log_probs \u001b[38;5;241m=\u001b[39m \u001b[43mhmm\u001b[49m\u001b[38;5;241;43m.\u001b[39;49m\u001b[43mfit_em\u001b[49m\u001b[43m(\u001b[49m\u001b[43mem_params\u001b[49m\u001b[43m,\u001b[49m\u001b[43m \u001b[49m\n\u001b[1;32m      4\u001b[0m \u001b[43m                                  \u001b[49m\u001b[43mem_param_props\u001b[49m\u001b[43m,\u001b[49m\u001b[43m \u001b[49m\n\u001b[1;32m      5\u001b[0m \u001b[43m                                  \u001b[49m\u001b[43metho_larvae\u001b[49m\u001b[43m,\u001b[49m\u001b[43m \u001b[49m\n\u001b[1;32m      6\u001b[0m \u001b[43m                                  \u001b[49m\u001b[43mnum_iters\u001b[49m\u001b[38;5;241;43m=\u001b[39;49m\u001b[38;5;241;43m400\u001b[39;49m\u001b[43m)\u001b[49m\n",
      "File \u001b[0;32m~/usr/miniconda3/envs/pumping2/lib/python3.9/site-packages/dynamax/ssm.py:383\u001b[0m, in \u001b[0;36mSSM.fit_em\u001b[0;34m(self, params, props, emissions, inputs, num_iters, verbose)\u001b[0m\n\u001b[1;32m    359\u001b[0m \u001b[38;5;250m\u001b[39m\u001b[38;5;124mr\u001b[39m\u001b[38;5;124;03m\"\"\"Compute parameter MLE/ MAP estimate using Expectation-Maximization (EM).\u001b[39;00m\n\u001b[1;32m    360\u001b[0m \n\u001b[1;32m    361\u001b[0m \u001b[38;5;124;03mEM aims to find parameters that maximize the marginal log probability,\u001b[39;00m\n\u001b[0;32m   (...)\u001b[0m\n\u001b[1;32m    379\u001b[0m \n\u001b[1;32m    380\u001b[0m \u001b[38;5;124;03m\"\"\"\u001b[39;00m\n\u001b[1;32m    382\u001b[0m \u001b[38;5;66;03m# Make sure the emissions and inputs have batch dimensions\u001b[39;00m\n\u001b[0;32m--> 383\u001b[0m batch_emissions \u001b[38;5;241m=\u001b[39m \u001b[43mensure_array_has_batch_dim\u001b[49m\u001b[43m(\u001b[49m\u001b[43memissions\u001b[49m\u001b[43m,\u001b[49m\u001b[43m \u001b[49m\u001b[38;5;28;43mself\u001b[39;49m\u001b[38;5;241;43m.\u001b[39;49m\u001b[43memission_shape\u001b[49m\u001b[43m)\u001b[49m\n\u001b[1;32m    384\u001b[0m batch_inputs \u001b[38;5;241m=\u001b[39m ensure_array_has_batch_dim(inputs, \u001b[38;5;28mself\u001b[39m\u001b[38;5;241m.\u001b[39minputs_shape)\n\u001b[1;32m    386\u001b[0m \u001b[38;5;129m@jit\u001b[39m\n\u001b[1;32m    387\u001b[0m \u001b[38;5;28;01mdef\u001b[39;00m \u001b[38;5;21mem_step\u001b[39m(params, m_step_state):\n",
      "File \u001b[0;32m~/usr/miniconda3/envs/pumping2/lib/python3.9/site-packages/dynamax/utils/utils.py:147\u001b[0m, in \u001b[0;36mensure_array_has_batch_dim\u001b[0;34m(tree, instance_shapes)\u001b[0m\n\u001b[1;32m    145\u001b[0m     \u001b[38;5;28;01mreturn\u001b[39;00m \u001b[38;5;28;01mNone\u001b[39;00m\n\u001b[1;32m    146\u001b[0m \u001b[38;5;28;01melse\u001b[39;00m:\n\u001b[0;32m--> 147\u001b[0m     \u001b[38;5;28;01mreturn\u001b[39;00m \u001b[43mtree_map\u001b[49m\u001b[43m(\u001b[49m\u001b[43m_expand_dim\u001b[49m\u001b[43m,\u001b[49m\u001b[43m \u001b[49m\u001b[43mtree\u001b[49m\u001b[43m,\u001b[49m\u001b[43m \u001b[49m\u001b[43minstance_shapes\u001b[49m\u001b[43m)\u001b[49m\n",
      "File \u001b[0;32m~/usr/miniconda3/envs/pumping2/lib/python3.9/site-packages/jax/_src/tree_util.py:473\u001b[0m, in \u001b[0;36mtree_map\u001b[0;34m(f, tree, is_leaf, *rest)\u001b[0m\n\u001b[1;32m    471\u001b[0m leaves, treedef \u001b[38;5;241m=\u001b[39m tree_flatten(tree, is_leaf)\n\u001b[1;32m    472\u001b[0m all_leaves \u001b[38;5;241m=\u001b[39m [leaves] \u001b[38;5;241m+\u001b[39m [treedef\u001b[38;5;241m.\u001b[39mflatten_up_to(r) \u001b[38;5;28;01mfor\u001b[39;00m r \u001b[38;5;129;01min\u001b[39;00m rest]\n\u001b[0;32m--> 473\u001b[0m \u001b[38;5;28;01mreturn\u001b[39;00m \u001b[43mtreedef\u001b[49m\u001b[38;5;241;43m.\u001b[39;49m\u001b[43munflatten\u001b[49m\u001b[43m(\u001b[49m\u001b[43mf\u001b[49m\u001b[43m(\u001b[49m\u001b[38;5;241;43m*\u001b[39;49m\u001b[43mxs\u001b[49m\u001b[43m)\u001b[49m\u001b[43m \u001b[49m\u001b[38;5;28;43;01mfor\u001b[39;49;00m\u001b[43m \u001b[49m\u001b[43mxs\u001b[49m\u001b[43m \u001b[49m\u001b[38;5;129;43;01min\u001b[39;49;00m\u001b[43m \u001b[49m\u001b[38;5;28;43mzip\u001b[39;49m\u001b[43m(\u001b[49m\u001b[38;5;241;43m*\u001b[39;49m\u001b[43mall_leaves\u001b[49m\u001b[43m)\u001b[49m\u001b[43m)\u001b[49m\n",
      "File \u001b[0;32m~/usr/miniconda3/envs/pumping2/lib/python3.9/site-packages/jax/_src/tree_util.py:473\u001b[0m, in \u001b[0;36m<genexpr>\u001b[0;34m(.0)\u001b[0m\n\u001b[1;32m    471\u001b[0m leaves, treedef \u001b[38;5;241m=\u001b[39m tree_flatten(tree, is_leaf)\n\u001b[1;32m    472\u001b[0m all_leaves \u001b[38;5;241m=\u001b[39m [leaves] \u001b[38;5;241m+\u001b[39m [treedef\u001b[38;5;241m.\u001b[39mflatten_up_to(r) \u001b[38;5;28;01mfor\u001b[39;00m r \u001b[38;5;129;01min\u001b[39;00m rest]\n\u001b[0;32m--> 473\u001b[0m \u001b[38;5;28;01mreturn\u001b[39;00m treedef\u001b[38;5;241m.\u001b[39munflatten(\u001b[43mf\u001b[49m\u001b[43m(\u001b[49m\u001b[38;5;241;43m*\u001b[39;49m\u001b[43mxs\u001b[49m\u001b[43m)\u001b[49m \u001b[38;5;28;01mfor\u001b[39;00m xs \u001b[38;5;129;01min\u001b[39;00m \u001b[38;5;28mzip\u001b[39m(\u001b[38;5;241m*\u001b[39mall_leaves))\n",
      "File \u001b[0;32m~/usr/miniconda3/envs/pumping2/lib/python3.9/site-packages/dynamax/utils/utils.py:132\u001b[0m, in \u001b[0;36mensure_array_has_batch_dim.<locals>._expand_dim\u001b[0;34m(x, shp)\u001b[0m\n\u001b[1;32m    130\u001b[0m ndim \u001b[38;5;241m=\u001b[39m \u001b[38;5;28mlen\u001b[39m(shp)\n\u001b[1;32m    131\u001b[0m \u001b[38;5;28;01massert\u001b[39;00m x\u001b[38;5;241m.\u001b[39mndim \u001b[38;5;241m>\u001b[39m ndim, \u001b[38;5;124m\"\u001b[39m\u001b[38;5;124marray does not match expected shape!\u001b[39m\u001b[38;5;124m\"\u001b[39m\n\u001b[0;32m--> 132\u001b[0m \u001b[38;5;28;01massert\u001b[39;00m \u001b[38;5;28mall\u001b[39m([(d1 \u001b[38;5;241m==\u001b[39m d2) \u001b[38;5;28;01mfor\u001b[39;00m d1, d2 \u001b[38;5;129;01min\u001b[39;00m \u001b[38;5;28mzip\u001b[39m(x\u001b[38;5;241m.\u001b[39mshape[\u001b[38;5;241m-\u001b[39mndim:], shp)]), \\\n\u001b[1;32m    133\u001b[0m     \u001b[38;5;124m\"\u001b[39m\u001b[38;5;124marray does not match expected shape!\u001b[39m\u001b[38;5;124m\"\u001b[39m\n\u001b[1;32m    135\u001b[0m \u001b[38;5;28;01mif\u001b[39;00m x\u001b[38;5;241m.\u001b[39mndim \u001b[38;5;241m==\u001b[39m ndim \u001b[38;5;241m+\u001b[39m \u001b[38;5;241m2\u001b[39m:\n\u001b[1;32m    136\u001b[0m     \u001b[38;5;66;03m# x already has a batch dim\u001b[39;00m\n\u001b[1;32m    137\u001b[0m     \u001b[38;5;28;01mreturn\u001b[39;00m x\n",
      "\u001b[0;31mAssertionError\u001b[0m: array does not match expected shape!"
     ]
    }
   ],
   "source": [
    "key = jr.PRNGKey(0)\n",
    "em_params, em_param_props = hmm.initialize(key)\n",
    "em_params, log_probs = hmm.fit_em(em_params, \n",
    "                                  em_param_props, \n",
    "                                  etho_larvae, \n",
    "                                  num_iters=400)"
   ]
  },
  {
   "cell_type": "code",
   "execution_count": 15,
   "metadata": {},
   "outputs": [
    {
     "name": "stdout",
     "output_type": "stream",
     "text": [
      "initial probs:\n",
      "[0.044 0.956]\n",
      "transition matrix:\n",
      "[[0.530 0.470]\n",
      " [0.716 0.284]]\n",
      "emission probs:\n",
      "[[0.260 0.090 0.035 0.171 0.208 0.236]\n",
      " [0.008 0.212 0.303 0.100 0.036 0.341]]\n"
     ]
    }
   ],
   "source": [
    "print_params(em_params)"
   ]
  },
  {
   "cell_type": "code",
   "execution_count": null,
   "metadata": {},
   "outputs": [],
   "source": []
  },
  {
   "cell_type": "code",
   "execution_count": 4,
   "metadata": {},
   "outputs": [],
   "source": [
    "def collate_ethograms(df, nsamples):\n",
    "    tmp = []\n",
    "    count = []\n",
    "    for col in df.columns[nsamples]:\n",
    "        etho = df[col]['ethogram']\n",
    "        etho = [e for e in etho if e!=-1]\n",
    "        tmp += etho\n",
    "        count.append(len(etho))\n",
    "    return np.array(tmp).reshape((-1,1)), count"
   ]
  },
  {
   "cell_type": "code",
   "execution_count": 5,
   "metadata": {},
   "outputs": [],
   "source": []
  },
  {
   "cell_type": "code",
   "execution_count": 6,
   "metadata": {},
   "outputs": [],
   "source": [
    "\n"
   ]
  },
  {
   "cell_type": "markdown",
   "metadata": {},
   "source": [
    "# Building HMM for predation state prediction"
   ]
  },
  {
   "cell_type": "code",
   "execution_count": 8,
   "metadata": {},
   "outputs": [],
   "source": []
  },
  {
   "cell_type": "code",
   "execution_count": null,
   "metadata": {},
   "outputs": [],
   "source": []
  },
  {
   "cell_type": "code",
   "execution_count": null,
   "metadata": {},
   "outputs": [],
   "source": [
    "# split our data into training and validation sets (50/50 split)-- use half of the columns we have\n",
    "# get collated ethogram. hmmlearn can deal with this during learning if the lengths of the subsets are also added.\n",
    "n = np.arange(len(df.columns[:]))\n",
    "np.random.shuffle(n)\n",
    "X_train, count_validate = collate_ethograms(df, nsamples = n[:len(n)//2])\n",
    "X_validate, count_validate = collate_ethograms(df, nsamples = n[len(n)//2:])\n",
    "# REMOVE NANS \n",
    "X_train[X_train==-1.0] = 13\n",
    "X_validate[X_validate==-1.0] = 13\n",
    "\n",
    "best_score = best_model = None\n",
    "n_fits = 50\n",
    "np.random.seed(13)\n",
    "for idx in range(n_fits):\n",
    "    model = hmm.CategoricalHMM(\n",
    "        n_components=2, random_state=idx,\n",
    "        init_params='se')  # don't init transition, set it below\n",
    "    # we need to initialize with random transition matrix probabilities\n",
    "    # because the default is an even likelihood transition\n",
    "    # we know transitions are rare (otherwise the casino would get caught!)\n",
    "    # so let's have an Dirichlet random prior with an alpha value of\n",
    "    # (0.1, 0.9) to enforce our assumption transitions happen roughly 10%\n",
    "    # of the time\n",
    "    model.transmat_ = np.array((0.5, 0.5),\n",
    "                                (0.5,0.5))\n",
    "    model.fit(X_train)\n",
    "    score = model.score(X_validate)\n",
    "    print(f'Model #{idx}\\tScore: {score}')\n",
    "    if best_score is None or score > best_score:\n",
    "        best_model = model\n",
    "        best_score = score\n",
    "\n",
    "print(f'\\nBest score:      {best_score}')\n",
    "\n",
    "# use the Viterbi algorithm to predict the most likely sequence of states\n",
    "# given the model\n",
    "states = best_model.predict(X_train)\n",
    "\n",
    "# plot our recovered states compared to generated (aim 1)\n",
    "fig, ax = plt.subplots()\n",
    "ax.plot(null_model, label='null model')\n",
    "ax.plot(states + 1.5, label='estimated')\n",
    "ax.plot(X_train)\n",
    "#ax.set_yticks([])\n",
    "ax.set_title('States compared to generated')\n",
    "ax.set_xlabel('Time ')\n",
    "ax.set_xlabel('State')\n",
    "ax.legend()\n",
    "fig.show()"
   ]
  },
  {
   "cell_type": "code",
   "execution_count": null,
   "metadata": {},
   "outputs": [],
   "source": []
  },
  {
   "cell_type": "code",
   "execution_count": 2,
   "metadata": {},
   "outputs": [
    {
     "data": {
      "image/png": "[encoded data removed]",
      "text/plain": [
       "<Figure size 432x288 with 1 Axes>"
      ]
     },
     "metadata": {
      "needs_background": "light"
     },
     "output_type": "display_data"
    }
   ],
   "source": [
    "from pomegranate import HiddenMarkovModel, State, DiscreteDistribution\n",
    "from matplotlib import pyplot as plt\n",
    "\n",
    "def build_model():\n",
    "\n",
    "    d1 = DiscreteDistribution({'A' : 0.50, 'B' : 0.50})\n",
    "    d2 = DiscreteDistribution({'A' : 0.10, 'B' : 0.90})\n",
    "    d3 = DiscreteDistribution({'A' : 0.90, 'B' : 0.10})\n",
    "\n",
    "    s1 = State(d1, name=\"predatory\")\n",
    "    s2 = State(d2, name=\"docile\")\n",
    "    s3 = State(d3, name=\"predatory feeding\")\n",
    "\n",
    "    model = HiddenMarkovModel(name='my model')\n",
    "    model.add_states(s1, s2, s3)\n",
    "    model.add_transition(model.start, s1, 1.0)\n",
    "    model.add_transition(s1, s1, 0.7)\n",
    "    model.add_transition(s1, s2, 0.3) # s1->s2\n",
    "    model.add_transition(s2, s2, 0.8)\n",
    "    \n",
    "    model.add_transition(s2, s3, 0.0) # no transition from s2 to s3\n",
    "    model.add_transition(s1, s3, 0.1) # indirect from s1 to s3\n",
    "    model.add_transition(s3, s1, 0.1) # indirect from s3 to s1\n",
    "    \n",
    "    model.add_transition(s3, s3, 0.9)\n",
    "    model.add_transition(s3, model.end, 0.1)\n",
    "    model.start.name = 'start'\n",
    "    model.end.name = 'end'\n",
    "    model.bake()\n",
    "\n",
    "    return model\n",
    "\n",
    "model = build_model()\n",
    "fig, ax = plt.subplots(1)\n",
    "model.plot(ax=ax, precision=2)\n",
    "#fig.savefig('model.png')"
   ]
  },
  {
   "cell_type": "code",
   "execution_count": 1,
   "metadata": {},
   "outputs": [
    {
     "ename": "NameError",
     "evalue": "name 'DiscreteDistribution' is not defined",
     "output_type": "error",
     "traceback": [
      "\u001b[0;31m---------------------------------------------------------------------------\u001b[0m",
      "\u001b[0;31mNameError\u001b[0m                                 Traceback (most recent call last)",
      "\u001b[0;32m<ipython-input-1-2206fb2f53e9>\u001b[0m in \u001b[0;36m<module>\u001b[0;34m\u001b[0m\n\u001b[1;32m     28\u001b[0m     \u001b[0;32mreturn\u001b[0m \u001b[0mmodel\u001b[0m\u001b[0;34m\u001b[0m\u001b[0;34m\u001b[0m\u001b[0m\n\u001b[1;32m     29\u001b[0m \u001b[0;34m\u001b[0m\u001b[0m\n\u001b[0;32m---> 30\u001b[0;31m \u001b[0mmodel\u001b[0m \u001b[0;34m=\u001b[0m \u001b[0mbuild_model\u001b[0m\u001b[0;34m(\u001b[0m\u001b[0;34m)\u001b[0m\u001b[0;34m\u001b[0m\u001b[0;34m\u001b[0m\u001b[0m\n\u001b[0m\u001b[1;32m     31\u001b[0m \u001b[0mfig\u001b[0m\u001b[0;34m,\u001b[0m \u001b[0max\u001b[0m \u001b[0;34m=\u001b[0m \u001b[0mplt\u001b[0m\u001b[0;34m.\u001b[0m\u001b[0msubplots\u001b[0m\u001b[0;34m(\u001b[0m\u001b[0;36m1\u001b[0m\u001b[0;34m)\u001b[0m\u001b[0;34m\u001b[0m\u001b[0;34m\u001b[0m\u001b[0m\n\u001b[1;32m     32\u001b[0m \u001b[0mmodel\u001b[0m\u001b[0;34m.\u001b[0m\u001b[0mplot\u001b[0m\u001b[0;34m(\u001b[0m\u001b[0max\u001b[0m\u001b[0;34m=\u001b[0m\u001b[0max\u001b[0m\u001b[0;34m,\u001b[0m \u001b[0mprecision\u001b[0m\u001b[0;34m=\u001b[0m\u001b[0;36m2\u001b[0m\u001b[0;34m)\u001b[0m\u001b[0;34m\u001b[0m\u001b[0;34m\u001b[0m\u001b[0m\n",
      "\u001b[0;32m<ipython-input-1-2206fb2f53e9>\u001b[0m in \u001b[0;36mbuild_model\u001b[0;34m()\u001b[0m\n\u001b[1;32m      1\u001b[0m \u001b[0;32mdef\u001b[0m \u001b[0mbuild_model\u001b[0m\u001b[0;34m(\u001b[0m\u001b[0;34m)\u001b[0m\u001b[0;34m:\u001b[0m\u001b[0;34m\u001b[0m\u001b[0;34m\u001b[0m\u001b[0m\n\u001b[1;32m      2\u001b[0m \u001b[0;34m\u001b[0m\u001b[0m\n\u001b[0;32m----> 3\u001b[0;31m     \u001b[0md1\u001b[0m \u001b[0;34m=\u001b[0m \u001b[0mDiscreteDistribution\u001b[0m\u001b[0;34m(\u001b[0m\u001b[0;34m{\u001b[0m\u001b[0;34m'A'\u001b[0m \u001b[0;34m:\u001b[0m \u001b[0;36m0.50\u001b[0m\u001b[0;34m,\u001b[0m \u001b[0;34m'B'\u001b[0m \u001b[0;34m:\u001b[0m \u001b[0;36m0.50\u001b[0m\u001b[0;34m}\u001b[0m\u001b[0;34m)\u001b[0m\u001b[0;34m\u001b[0m\u001b[0;34m\u001b[0m\u001b[0m\n\u001b[0m\u001b[1;32m      4\u001b[0m     \u001b[0md2\u001b[0m \u001b[0;34m=\u001b[0m \u001b[0mDiscreteDistribution\u001b[0m\u001b[0;34m(\u001b[0m\u001b[0;34m{\u001b[0m\u001b[0;34m'A'\u001b[0m \u001b[0;34m:\u001b[0m \u001b[0;36m0.10\u001b[0m\u001b[0;34m,\u001b[0m \u001b[0;34m'B'\u001b[0m \u001b[0;34m:\u001b[0m \u001b[0;36m0.90\u001b[0m\u001b[0;34m}\u001b[0m\u001b[0;34m)\u001b[0m\u001b[0;34m\u001b[0m\u001b[0;34m\u001b[0m\u001b[0m\n\u001b[1;32m      5\u001b[0m     \u001b[0md3\u001b[0m \u001b[0;34m=\u001b[0m \u001b[0mDiscreteDistribution\u001b[0m\u001b[0;34m(\u001b[0m\u001b[0;34m{\u001b[0m\u001b[0;34m'A'\u001b[0m \u001b[0;34m:\u001b[0m \u001b[0;36m0.90\u001b[0m\u001b[0;34m,\u001b[0m \u001b[0;34m'B'\u001b[0m \u001b[0;34m:\u001b[0m \u001b[0;36m0.10\u001b[0m\u001b[0;34m}\u001b[0m\u001b[0;34m)\u001b[0m\u001b[0;34m\u001b[0m\u001b[0;34m\u001b[0m\u001b[0m\n",
      "\u001b[0;31mNameError\u001b[0m: name 'DiscreteDistribution' is not defined"
     ]
    }
   ],
   "source": [
    "def build_model():\n",
    "\n",
    "    d1 = DiscreteDistribution({'A' : 0.50, 'B' : 0.50})\n",
    "    d2 = DiscreteDistribution({'A' : 0.10, 'B' : 0.90})\n",
    "    d3 = DiscreteDistribution({'A' : 0.90, 'B' : 0.10})\n",
    "\n",
    "    s1 = State(d1, name=\"s1\")\n",
    "    s2 = State(d2, name=\"s2\")\n",
    "    s3 = State(d3, name=\"s3\")\n",
    "\n",
    "    model = HiddenMarkovModel(name='my model')\n",
    "    model.add_states(s1, s2, s3)\n",
    "    model.add_transition(model.start, s1, 1.0)\n",
    "    model.add_transition(s1, s1, 0.7)\n",
    "    model.add_transition(s1, s2, 0.3) # s1->s2\n",
    "    model.add_transition(s2, s2, 0.8)\n",
    "    \n",
    "    model.add_transition(s2, s3, 0.0) # no transition from s2 to s3\n",
    "    model.add_transition(s1, s3, 0.1) # indirect from s1 to s3\n",
    "    model.add_transition(s3, s1, 0.1) # indirect from s3 to s1\n",
    "    \n",
    "    model.add_transition(s3, s3, 0.9)\n",
    "    model.add_transition(s3, model.end, 0.1)\n",
    "    model.start.name = 'start'\n",
    "    model.end.name = 'end'\n",
    "    model.bake()\n",
    "\n",
    "    return model\n",
    "\n",
    "model = build_model()\n",
    "fig, ax = plt.subplots(1)\n",
    "model.plot(ax=ax, precision=2)\n",
    "#fig.savefig('model.png')"
   ]
  },
  {
   "cell_type": "code",
   "execution_count": null,
   "metadata": {},
   "outputs": [],
   "source": []
  },
  {
   "cell_type": "code",
   "execution_count": 3,
   "metadata": {},
   "outputs": [],
   "source": [
    "from hmmlearn import hmm\n",
    "\n",
    "import numpy as np\n",
    "import matplotlib.pyplot as plt\n",
    "import pandas as pd\n",
    "from sklearn.utils import check_random_state\n",
    "\n",
    "from hmmlearn.hmm import CategoricalHMM\n",
    "\n",
    "rs = check_random_state(276)"
   ]
  },
  {
   "cell_type": "code",
   "execution_count": 41,
   "metadata": {},
   "outputs": [],
   "source": []
  },
  {
   "cell_type": "code",
   "execution_count": 46,
   "metadata": {},
   "outputs": [
    {
     "data": {
      "text/plain": [
       "<matplotlib.image.AxesImage at 0x2b8c6256b760>"
      ]
     },
     "execution_count": 46,
     "metadata": {},
     "output_type": "execute_result"
    },
    {
     "data": {
      "image/png": "[encoded data removed]",
      "text/plain": [
       "<Figure size 640x480 with 1 Axes>"
      ]
     },
     "metadata": {},
     "output_type": "display_data"
    }
   ],
   "source": [
    "plt.imshow(np.arange(8)[:,np.newaxis], cmap =cmap_cluster)"
   ]
  },
  {
   "cell_type": "code",
   "execution_count": null,
   "metadata": {},
   "outputs": [],
   "source": []
  }
 ],
 "metadata": {
  "kernelspec": {
   "display_name": "sklearn-env2",
   "language": "python",
   "name": "sklearn-env2"
  },
  "language_info": {
   "codemirror_mode": {
    "name": "ipython",
    "version": 3
   },
   "file_extension": ".py",
   "mimetype": "text/x-python",
   "name": "python",
   "nbconvert_exporter": "python",
   "pygments_lexer": "ipython3",
   "version": "3.8.15"
  }
 },
 "nbformat": 4,
 "nbformat_minor": 4
}
