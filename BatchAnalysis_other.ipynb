{
 "cells": [
  {
   "cell_type": "code",
   "execution_count": null,
   "id": "14b5538c-c780-4848-9d27-e2079b7f5f5b",
   "metadata": {},
   "outputs": [],
   "source": [
    "import os\n",
    "import time\n",
    "import sys\n",
    "import numpy as np\n",
    "import pandas as pd\n",
    "import matplotlib.pyplot as plt\n",
    "from matplotlib import colors\n",
    "import networkx as nx\n",
    "import yaml\n",
    "import json\n",
    "from scipy.stats.contingency import crosstab\n",
    "import scipy\n",
    "from scipy.cluster.hierarchy import linkage, dendrogram\n",
    "from sklearn.cluster import AgglomerativeClustering\n",
    "\n",
    "sys.path.append(os.getcwd())\n",
    "sys.path.append((os.path.expanduser('~')))\n",
    "#import functions.visualise as vis\n",
    "import PpaPy.plot2 as vis\n",
    "import functions.process as proc\n",
    "from functions.io import setup_logger, makedir\n",
    "from functions.read_write import load_data_from_keys\n",
    "\n",
    "from functions.batch_plots import sig_stars\n"
   ]
  },
  {
   "cell_type": "markdown",
   "id": "18efb6f1-ab9d-4f9b-a4ec-50a1e27fd49c",
   "metadata": {},
   "source": [
    "Please provide where your files are stored and where you would like your data to be saved in the following section."
   ]
  },
  {
   "cell_type": "code",
   "execution_count": null,
   "id": "2d0a3bd5-29bf-44e3-bbe5-231912f5022c",
   "metadata": {
    "scrolled": true
   },
   "outputs": [],
   "source": [
    "datestr = time.strftime(\"%Y%m%d-%Hh%Mm\")\n",
    "inpath = \"/gpfs/soma_fs/home/boeger/PpaPred/ErenBoeger_2024\" \n",
    "#inpath = '/gpfs/soma_fs/home/boeger/PpaPred/PpaPred_roca_35727184'\n",
    "\n",
    "outpath = inpath #\"/gpfs/soma_fs/home/boeger/PpaPred/data_eren_26825048\"\n",
    "\n",
    "config_path = \"config.yml\"\n",
    "\n",
    "# Eren Boeger 2024\n",
    "include, fig = [\"Exp1_WT_larvae\", \"Exp1_WT_OP50\"], \"Exp1\"   \n",
    "#include, fig = [\"Exp2_WT_larvae\", \"Exp2_tdc1_larvae\", \"Exp2_tbh1_larvae\"], \"Exp2\"\n",
    "#include, fig = [\"Exp3_ser3_larvae\", \"Exp3_ser6_larvae\", \"Exp3_lgc55_larvae\"], \"Exp3\"\n",
    "#include, fig = [\"Supp5_WT_larvae\", \"Supp5_tyramine_larvae\", \"Supp5_octopamine_larvae\"], \"Supp5\"\n",
    "#include, fig = [\"Exp2_tph1_larvae\", \"Exp2_cat2_larvae\", \"Supp4_tbh1tdc1_larvae\"], \"Supp4\"\n",
    "#include, fig = [ \"Exp3_octr1_larvae\", \"Exp3_tyra2_larvae\", \"Exp3_ser2_larvae\", \"Exp3_tyra3_larvae\", \"Supp7_ser2tyra2tyra3_larvae\"], \"Supp7\"\n",
    "\n",
    "#include, fig = ['Exp2_WT_larvae_0624','Exp2_tph1_larvae', 'Exp2_cat2_larvae', ,\"Exp2_tbh1tdc1_larvae\"], 'Supp4_Pharma' #transitions\n",
    "#include, fig = ['Exp3_WT_larvae',\"Exp3_tyra2_larvae\", \"Exp3_ser2_larvae\", \"Exp3_tyra3_larvae\",\"Exp3_tyra2tyra3ser2_larvae\"], 'Supp7_Pharma' # transitions\n",
    "\n",
    "file_pattern = 'batch.json'\n",
    "inpath_with_subfolders = True\n",
    "\n",
    "WT_ordering = False#[1., 0., 2., 6., 8., 3., 4., 7., 5.]\n",
    "plot = False"
   ]
  },
  {
   "cell_type": "code",
   "execution_count": null,
   "id": "7cfb2869-bbe9-49fa-bee4-a11a39a8e5f7",
   "metadata": {
    "scrolled": true
   },
   "outputs": [],
   "source": [
    "#all_transitions = None\n",
    "#all_durations = None\n",
    "\n",
    "### I/O ################################################\n",
    "all_files = [os.path.join(root, name) for root, dirs, files in os.walk(inpath) for name in files if file_pattern in name and any([c in name for c in include])]\n",
    "all_files.sort(key = lambda i: np.where([c in i for c in include])) # to sort all_files as given in include\n",
    "loc_all = {os.path.basename(f):f for f in all_files}\n",
    "\n",
    "outpath = makedir(os.path.join(inpath,fig))\n",
    "    \n",
    "### Configuration ################################################\n",
    "config = yaml.safe_load(open(config_path, \"r\"))\n",
    "cluster_color = config['cluster_color']\n",
    "cluster_group = config['cluster_group_man']\n",
    "cluster_label = config['cluster_names']\n",
    "clu_group_label = {_:f'{_}, {__}' for _, __ in tuple(zip([c for c in cluster_label.values()],[g for g in cluster_group.values()]))}\n",
    "skip_already = config['settings']['skip_already']\n",
    "fps = 30\n",
    "loc_all"
   ]
  },
  {
   "cell_type": "code",
   "execution_count": null,
   "id": "a355e849-5250-4da5-b2c5-9ecdeb71d905",
   "metadata": {
    "scrolled": true
   },
   "outputs": [],
   "source": [
    "metric = 'ethogram'\n",
    "outmetric = os.path.join(outpath, f\"{datestr}_{''.join(metric.split(' '))}_Utest\")\n",
    "\n",
    "dur_all_sec = {}\n",
    "metric_multi = None\n",
    "for fn, fpath in loc_all.items():\n",
    "    etho_dict = load_data_from_keys(fpath, metric)\n",
    "    dur_batch_sec = 0 \n",
    "    for k in etho_dict:\n",
    "        d = etho_dict[k]\n",
    "        dur_d_sec = len(d)/fps\n",
    "        dur_batch_sec += dur_d_sec\n",
    "    dur_all_sec[fn] = dur_batch_sec"
   ]
  },
  {
   "cell_type": "code",
   "execution_count": null,
   "id": "1d99feef-c88c-4f6a-a718-544d0c0c52bc",
   "metadata": {},
   "outputs": [],
   "source": [
    "for cond in dur_all_sec:\n",
    "    print(f'{cond}: {dur_all_sec[cond]/60/60}')"
   ]
  },
  {
   "cell_type": "code",
   "execution_count": null,
   "id": "3d27ce2a-775a-404c-aa5a-64225133d185",
   "metadata": {},
   "outputs": [],
   "source": [
    "6.447305555555556 + 4.0045370370370375"
   ]
  },
  {
   "cell_type": "code",
   "execution_count": null,
   "id": "4252a5a0-05ea-48b8-9165-2cde7f9be9ef",
   "metadata": {},
   "outputs": [],
   "source": [
    "etho_dict = {(innerKey, outerKey): values for outerKey, innerDict in nested_dict.items() for innerKey, values in innerDict.items()}"
   ]
  },
  {
   "cell_type": "code",
   "execution_count": null,
   "id": "5ebb5bbb-6038-48ad-98dc-22527eeed01c",
   "metadata": {},
   "outputs": [],
   "source": [
    "dur_all_sec = 0 \n",
    "for k in etho_dict:\n",
    "    d = etho_dict[k]\n",
    "    dur_d_sec = len(d)/fps\n",
    "    dur_all_sec += dur_d_sec"
   ]
  },
  {
   "cell_type": "code",
   "execution_count": null,
   "id": "2f4c5f48-8e66-4f17-b124-4ac568cc6cff",
   "metadata": {},
   "outputs": [],
   "source": [
    "dur_all_sec/60/60"
   ]
  },
  {
   "cell_type": "code",
   "execution_count": null,
   "id": "aec6926d-a5ba-47ed-8297-67d001f1113c",
   "metadata": {},
   "outputs": [],
   "source": []
  }
 ],
 "metadata": {
  "kernelspec": {
   "display_name": "sklearn-env2",
   "language": "python",
   "name": "sklearn-env2"
  },
  "language_info": {
   "codemirror_mode": {
    "name": "ipython",
    "version": 3
   },
   "file_extension": ".py",
   "mimetype": "text/x-python",
   "name": "python",
   "nbconvert_exporter": "python",
   "pygments_lexer": "ipython3",
   "version": "3.8.15"
  }
 },
 "nbformat": 4,
 "nbformat_minor": 5
}
